{
 "cells": [
  {
   "cell_type": "markdown",
   "metadata": {},
   "source": [
    "# brain stroke prediction dataset\n",
    "\n",
    "https://www.kaggle.com/datasets/zzettrkalpakbal/full-filled-brain-stroke-dataset\n"
   ]
  },
  {
   "cell_type": "code",
   "execution_count": 65,
   "metadata": {},
   "outputs": [],
   "source": [
    "import pandas as pd\n",
    "from pandas import DataFrame, Series\n",
    "from pathlib import Path\n",
    "import numpy as np\n",
    "\n",
    "from sklearn.ensemble import RandomForestClassifier\n",
    "from sklearn.tree import DecisionTreeClassifier\n",
    "from sklearn import tree\n",
    "from sklearn.metrics import confusion_matrix\n",
    "from sklearn.metrics import classification_report\n",
    "from sklearn.metrics import balanced_accuracy_score\n",
    "from sklearn.utils import resample, shuffle\n",
    "\n",
    "from sklearn.preprocessing import OrdinalEncoder\n"
   ]
  },
  {
   "cell_type": "code",
   "execution_count": 66,
   "metadata": {},
   "outputs": [],
   "source": [
    "def load_data(train_file, test_file, headers):\n",
    "    train_df = pd.read_csv(train_file, names=headers)\n",
    "    test_df = pd.read_csv(test_file, names=headers)\n",
    "\n",
    "    return test_df, train_df\n",
    "\n",
    "\n",
    "def encode_int(data):\n",
    "    return data.replace(\n",
    "        {\n",
    "            \"Male\": 1,\n",
    "            \"Female\": 0,\n",
    "            \"Yes\": 1,\n",
    "            \"No\": 0,\n",
    "            \"Urban\": 1,\n",
    "            \"Rural\": 0,\n",
    "            \"Private\": 0,\n",
    "            \"Self-employed\": 1,\n",
    "            \"Govt_job\": 2,\n",
    "            \"children\": 3,\n",
    "            \"Unknown\": np.nan,\n",
    "            \"never smoked\": 0,\n",
    "            \"formerly smoked\": 1,\n",
    "            \"smokes\": 2,\n",
    "        },\n",
    "    ) \n",
    "\n",
    "def encode_int_ordinal(data):\n",
    "    enc = OrdinalEncoder()\n",
    "    enc.fit(data)\n",
    "    \n",
    "    return DataFrame(enc.transform(data), columns=data.columns)"
   ]
  },
  {
   "cell_type": "code",
   "execution_count": 67,
   "metadata": {},
   "outputs": [],
   "source": [
    "from imblearn.combine import SMOTEENN\n",
    "\n",
    "def resample(data: pd.DataFrame):\n",
    "    \"\"\" oversample positive cases with SMOTE and undersample negative with EEN \"\"\"\n",
    "    #minority_df = data[data['stroke'] == 1]\n",
    "    #majority_df = data[data['stroke'] == 0]\n",
    "\n",
    "    X = data.drop(columns=['stroke'], axis=1)\n",
    "    Y = data['stroke']\n",
    "\n",
    "    smote_een = SMOTEENN(random_state=0, sampling_strategy='auto')\n",
    "\n",
    "    x_resampled, y_resampled = smote_een.fit_resample(X, Y)  # type: ignore\n",
    "    x_resampled['stroke'] = y_resampled\n",
    "\n",
    "    return x_resampled\n"
   ]
  },
  {
   "cell_type": "code",
   "execution_count": 85,
   "metadata": {},
   "outputs": [
    {
     "name": "stdout",
     "output_type": "stream",
     "text": [
      "Using 6625 samples for training and 481 for validation\n"
     ]
    }
   ],
   "source": [
    "CSV_HEADER = [\n",
    "    \"gender\",\n",
    "    \"age\",\n",
    "    \"hypertension\",\n",
    "    \"heart_disease\",\n",
    "    \"ever_married\",\n",
    "    \"work_type\",\n",
    "    \"Residence_type\",\n",
    "    \"avg_glucose_level\",\n",
    "    \"bmi\",\n",
    "    \"smoking_status\",\n",
    "    \"stroke\",\n",
    "]\n",
    "\n",
    "train_data_path = Path().resolve().joinpath(\"dataset/train_data.csv\")\n",
    "test_data_path = Path().resolve().joinpath(\"dataset/test_data.csv\")\n",
    "\n",
    "train_data_file = str(train_data_path.absolute())\n",
    "test_data_file = str(test_data_path.absolute())\n",
    "\n",
    "test_data, train_data = load_data(\n",
    "    train_file=train_data_file, test_file=test_data_file, headers=CSV_HEADER\n",
    ")\n",
    "\n",
    "test_data = encode_int_ordinal(test_data)\n",
    "train_data = encode_int_ordinal(train_data)\n",
    "\n",
    "x = train_data.copy().drop('stroke', axis=1)\n",
    "y = train_data[\"stroke\"]  # labels\n",
    "\n",
    "x_test = test_data.copy().drop('stroke', axis=1)\n",
    "y_test = test_data[\"stroke\"]\n",
    "\n",
    "print(\n",
    "    f\"Using {len(train_data)} samples for training and {len(test_data)} for validation\"\n",
    ")\n"
   ]
  },
  {
   "cell_type": "code",
   "execution_count": 72,
   "metadata": {},
   "outputs": [],
   "source": [
    "# RandomForest\n",
    "rforest_clf = RandomForestClassifier()\n",
    "rforest_clf.fit(x, y)\n",
    "\n",
    "y_pred_rf = rforest_clf.predict(x_test)"
   ]
  },
  {
   "cell_type": "code",
   "execution_count": 90,
   "metadata": {},
   "outputs": [
    {
     "name": "stdout",
     "output_type": "stream",
     "text": [
      "              precision    recall  f1-score   support\n",
      "\n",
      "         0.0       0.95      0.76      0.85       452\n",
      "         1.0       0.09      0.38      0.15        29\n",
      "\n",
      "    accuracy                           0.74       481\n",
      "   macro avg       0.52      0.57      0.50       481\n",
      "weighted avg       0.90      0.74      0.80       481\n",
      "\n",
      "tn: 345 fp:107 fn: 18 tp: 11 \n"
     ]
    }
   ],
   "source": [
    "report = classification_report(y_pred=y_pred_rf, y_true=y_test)\n",
    "tn, fp, fn, tp = confusion_matrix(y_pred=y_pred_rf, y_true=y_test).ravel()\n",
    "\n",
    "print(report)\n",
    "print(f\"tn: {tn} fp:{fp} fn: {fn} tp: {tp} \")"
   ]
  },
  {
   "cell_type": "markdown",
   "metadata": {},
   "source": [
    "#### Before Resampling\n",
    "\n",
    "classification_report:\n",
    "\n",
    "| label        | precision | recall | f-1 score | support |\n",
    "| ------------ | --------- | ------ | --------- | ------- |\n",
    "| 0            | 0.94      | 1.00   | 0.97      | 352     |\n",
    "| 1            | 0.00      | 0.00   | 0.00      | 29      |\n",
    "| accuracy     |           |        | 0.94      | 481     |\n",
    "| macro avg    | 0.47      | 0.50   | 0.48      | 481     |\n",
    "| weighted avg | 0.88      | 0.94   | 0.91      | 481     |\n",
    "\n",
    "tn: 451 fp:1 fn: 29 tp: 0 \n",
    "\n",
    "\n",
    "#### After Resampling\n"
   ]
  },
  {
   "cell_type": "code",
   "execution_count": 112,
   "metadata": {},
   "outputs": [],
   "source": [
    "# DecisionTree\n",
    "dtree_clf = DecisionTreeClassifier()\n",
    "dtree_clf.fit(x, y)\n",
    "\n",
    "y_pred_dt = dtree_clf.predict(x_test)\n"
   ]
  },
  {
   "cell_type": "code",
   "execution_count": 111,
   "metadata": {},
   "outputs": [
    {
     "name": "stdout",
     "output_type": "stream",
     "text": [
      "              precision    recall  f1-score   support\n",
      "\n",
      "         0.0       0.95      0.94      0.94       452\n",
      "         1.0       0.18      0.21      0.19        29\n",
      "\n",
      "    accuracy                           0.89       481\n",
      "   macro avg       0.56      0.57      0.57       481\n",
      "weighted avg       0.90      0.89      0.90       481\n",
      "\n",
      "tn: 424 fp:28 fn: 23 tp: 6 \n"
     ]
    }
   ],
   "source": [
    "report = classification_report(y_pred=y_pred_dt, y_true=y_test)\n",
    "tn, fp, fn, tp = confusion_matrix(y_pred=y_pred_dt, y_true=y_test).ravel()\n",
    "\n",
    "print(report)\n",
    "print(f\"tn: {tn} fp:{fp} fn: {fn} tp: {tp} \")\n"
   ]
  },
  {
   "cell_type": "markdown",
   "metadata": {},
   "source": [
    "#### Before Resampling\n",
    "\n",
    "classification_report:\n",
    "\n",
    "| label        | precision | recall | f-1 score | support |\n",
    "| ------------ | --------- | ------ | --------- | ------- |\n",
    "| 0            | 0.94      | 0.95   | 0.94      | 452     |\n",
    "| 1            | 0.11      | 0.10   | 0.11      | 29      |\n",
    "| accuracy     |           |        | 0.90      | 481     |\n",
    "| macro avg    | 0.47      | 0.50   | 0.53      | 481     |\n",
    "| weighted avg | 0.89      | 0.90   | 0.89      | 481     |\n",
    "\n",
    "tn: 451 fp:1 fn: 29 tp: 0 \n",
    "\n",
    "#### After Resampling\n"
   ]
  },
  {
   "cell_type": "code",
   "execution_count": 113,
   "metadata": {},
   "outputs": [
    {
     "data": {
      "text/plain": [
       "array([9.16132983e-03, 2.56651212e-02, 1.18807200e-02, 1.77822560e-01,\n",
       "       5.38735054e-02, 7.51902023e-03, 1.10525859e-03, 6.17070049e-02,\n",
       "       2.81591237e-01, 1.48238853e-01, 7.40195950e-03, 1.13786412e-02,\n",
       "       7.40195950e-03, 3.03242006e-03, 1.68142300e-02, 5.18289581e-02,\n",
       "       3.45356733e-04, 6.62667394e-01, 6.08515402e-04, 3.03242006e-03,\n",
       "       5.65594256e-01, 8.56928229e-02, 3.54468487e-02, 3.46717285e-03,\n",
       "       4.57183429e-04, 7.40195950e-03, 1.65244564e-02, 2.58539677e-01,\n",
       "       3.60054851e-01, 2.09511623e-01, 5.58384098e-02, 5.35045401e-04,\n",
       "       2.75469050e-02, 5.00949286e-03, 3.89814258e-01, 3.51326287e-01,\n",
       "       6.08515402e-04, 6.54939890e-01, 6.68293312e-02, 2.02352136e-01,\n",
       "       2.51868844e-01, 9.46639979e-04, 3.15161049e-01, 5.13294376e-02,\n",
       "       1.25259132e-04, 1.13786412e-02, 2.23570783e-02, 4.21892703e-01,\n",
       "       7.70949125e-02, 9.46639979e-04, 7.21146446e-03, 1.82904616e-01,\n",
       "       5.57057466e-03, 1.82879776e-01, 8.97963904e-03, 4.52158600e-01,\n",
       "       1.84249561e-02, 4.32031900e-01, 3.05450037e-02, 3.03242006e-03,\n",
       "       1.91445928e-02, 4.63381112e-02, 8.85433853e-02, 5.44426125e-03,\n",
       "       2.98009324e-03, 5.58384098e-02, 1.25978235e-03, 3.12967002e-02,\n",
       "       4.03274037e-03, 1.12676881e-02, 6.03959858e-01, 4.62658286e-01,\n",
       "       2.22593267e-02, 1.94034241e-02, 9.02827024e-01, 9.18722432e-03,\n",
       "       1.95074326e-03, 6.37347698e-02, 4.85741287e-01, 8.91647637e-02,\n",
       "       1.46610173e-03, 5.00949286e-03, 6.65227175e-02, 4.57183429e-04,\n",
       "       1.75953865e-01, 5.77853844e-02, 6.65764790e-03, 1.82816747e-03,\n",
       "       3.80756408e-02, 3.03242006e-03, 8.91647637e-02, 3.81132439e-02,\n",
       "       2.04720616e-01, 4.93296934e-03, 1.05513208e-01, 2.11157709e-01,\n",
       "       3.74667913e-01, 9.16132983e-03, 4.57183429e-04, 3.10629476e-02,\n",
       "       6.49441242e-01, 5.00949286e-03, 1.90633669e-01, 8.32379970e-04,\n",
       "       1.75238773e-02, 5.44426125e-03, 2.43027434e-02, 1.75953865e-01,\n",
       "       3.32560614e-02, 4.57183429e-04, 5.08489832e-02, 8.97963904e-03,\n",
       "       2.89045963e-02, 7.15602655e-03, 8.25372875e-01, 8.13904684e-03,\n",
       "       4.57183429e-04, 6.08515402e-04, 6.08515402e-04, 8.51040557e-02,\n",
       "       3.71017936e-03, 2.18029782e-01, 9.48573172e-01, 3.05450037e-02,\n",
       "       1.94034241e-02, 7.64652679e-04, 3.32560614e-02, 8.25372875e-01,\n",
       "       5.71526471e-04, 3.45356733e-04, 2.76203960e-01, 5.25447607e-01,\n",
       "       1.98167451e-02, 1.08436018e-03, 1.82816747e-03, 1.73639618e-02,\n",
       "       4.31693465e-01, 8.41780841e-01, 7.23380744e-01, 1.25978235e-03,\n",
       "       9.16132983e-03, 9.20898795e-01, 6.09667003e-01, 8.25372875e-01,\n",
       "       1.56596489e-03, 9.55036283e-02, 8.85329791e-04, 9.20898795e-01,\n",
       "       8.29726085e-02, 6.68293312e-02, 1.38227031e-01, 8.97963904e-03,\n",
       "       7.39533678e-02, 6.89766789e-03, 6.08515402e-04, 9.28930566e-02,\n",
       "       1.29600009e-03, 4.44339029e-03, 1.44076382e-03, 9.51747000e-02,\n",
       "       1.04565863e-02, 9.20898795e-01, 4.84971479e-02, 1.18807200e-02,\n",
       "       2.31209770e-02, 8.90133262e-01, 1.75953865e-01, 1.82816747e-03,\n",
       "       4.54453900e-02, 4.42441702e-01, 7.88509130e-01, 8.00575037e-03,\n",
       "       8.60886276e-03, 2.88247243e-02, 8.09959322e-02, 8.91647637e-02,\n",
       "       5.77853844e-02, 1.25978235e-03, 2.18334660e-01, 4.14829403e-01,\n",
       "       1.12960003e-02, 3.12967002e-02, 6.12642104e-03, 2.33782493e-02,\n",
       "       5.57057466e-03, 1.56643167e-02, 4.14710119e-02, 5.00949286e-03,\n",
       "       5.38735054e-02, 1.12616926e-01, 1.00685086e-03, 6.48806989e-03,\n",
       "       4.14710119e-02, 9.46639979e-04, 2.61611372e-01, 4.84788567e-01,\n",
       "       2.81591237e-01, 6.48806989e-03, 6.65764790e-03, 1.53560741e-02,\n",
       "       6.81033283e-02, 1.25978235e-03, 1.49801403e-01, 8.10865015e-02,\n",
       "       4.01977391e-04, 1.84249561e-02, 8.85329791e-04, 1.02113217e-01,\n",
       "       1.13786412e-02, 1.25978235e-03, 1.57290220e-01, 6.68293312e-02,\n",
       "       1.38227031e-01, 3.10382336e-01, 1.00790389e-01, 6.90532895e-03,\n",
       "       1.64436884e-02, 3.28724198e-02, 1.24568924e-01, 2.75967352e-04,\n",
       "       1.75953865e-01, 2.11157709e-01, 8.10865015e-02, 1.37705507e-03,\n",
       "       2.32880954e-02, 1.05513208e-01, 2.61611372e-01, 1.12129329e-02,\n",
       "       5.18289581e-02, 9.33386758e-03, 8.97963904e-03, 2.00261682e-01,\n",
       "       1.10041164e-02, 6.25179382e-03, 6.65764790e-03, 5.60154319e-01,\n",
       "       2.56651212e-02, 5.85594214e-02, 4.57183429e-04, 5.36492586e-01,\n",
       "       8.91647637e-02, 8.71464685e-02, 8.53646547e-03, 8.97963904e-03,\n",
       "       4.93296934e-03, 1.91445928e-02, 7.56531314e-04, 1.76643692e-02,\n",
       "       3.32560614e-02, 1.82816747e-03, 3.36274877e-02, 5.24683475e-01,\n",
       "       2.97852252e-02, 1.00790389e-01, 2.23024219e-01, 1.94034241e-02,\n",
       "       2.42445176e-03, 5.57057466e-03, 1.83231581e-03, 2.75469050e-02,\n",
       "       2.07444169e-02, 3.81132439e-02, 5.57057466e-03, 1.82816747e-03,\n",
       "       2.42445176e-03, 2.61611372e-01, 5.38735054e-02, 1.95074326e-03,\n",
       "       2.56651212e-02, 2.61611372e-01, 7.62367621e-02, 4.03274037e-03,\n",
       "       2.32880954e-02, 2.41588019e-02, 1.21930353e-02, 6.94881976e-01,\n",
       "       4.93296934e-03, 5.52508123e-02, 4.57183429e-04, 5.38735054e-02,\n",
       "       3.54468487e-02, 2.08354974e-03, 4.60687846e-01, 6.65227175e-02,\n",
       "       8.24651569e-02, 5.07214308e-01, 1.49813229e-02, 6.57835722e-01,\n",
       "       5.00949286e-03, 5.18289581e-02, 5.13294376e-02, 4.57183429e-04,\n",
       "       1.12129329e-02, 2.32880954e-02, 6.36424646e-02, 8.30526650e-03,\n",
       "       1.05513208e-01, 1.21930353e-02, 4.14710119e-02, 2.42445176e-03,\n",
       "       1.91445928e-02, 1.04819402e-01, 1.04819402e-01, 1.46610173e-03,\n",
       "       3.71017936e-03, 4.57183429e-04, 6.68293312e-02, 1.13786412e-02,\n",
       "       7.21146446e-03, 1.44471928e-01, 4.54453900e-02, 6.08515402e-04,\n",
       "       3.71017936e-03, 1.10776792e-03, 2.11157709e-01, 5.37563208e-03,\n",
       "       5.52508123e-02, 1.28549591e-01, 3.72366995e-01, 3.43129724e-01,\n",
       "       3.05450037e-02, 7.40195950e-03, 8.53646547e-03, 9.66438185e-03,\n",
       "       3.05450037e-02, 8.88926864e-01, 8.97963904e-03, 1.25978235e-03,\n",
       "       8.32379970e-04, 2.46125475e-01, 6.08515402e-04, 3.46717285e-03,\n",
       "       4.20826524e-02, 4.93296934e-03, 5.10532916e-01, 4.21892703e-01,\n",
       "       6.90532895e-03, 1.53560741e-02, 4.63381112e-02, 8.97963904e-03,\n",
       "       8.13904684e-03, 7.81667009e-02, 1.75029561e-02, 1.24568924e-01,\n",
       "       8.00575037e-03, 7.89828241e-01, 5.13294376e-02, 1.37705507e-03,\n",
       "       1.08436018e-03, 6.65764790e-03, 3.34154884e-03, 8.97963904e-03,\n",
       "       2.51868844e-01, 2.32880954e-02, 2.56651212e-02, 4.14710119e-02,\n",
       "       2.08354974e-03, 4.71558928e-01, 7.51902023e-03, 1.04819402e-01,\n",
       "       4.40486759e-01, 5.57057466e-03, 6.48806989e-03, 5.57057466e-03,\n",
       "       2.42445176e-03, 1.42000467e-02, 9.54790294e-01, 4.03627217e-01,\n",
       "       9.46639979e-04, 7.27112770e-01, 9.77170169e-02, 4.94452387e-01,\n",
       "       3.77983693e-03, 3.03242006e-03, 9.39558208e-01, 3.22486833e-03,\n",
       "       1.11801841e-03, 8.85329791e-04, 6.68293312e-02, 1.41248107e-02,\n",
       "       1.56643167e-02, 5.25447607e-01, 5.85805476e-02, 2.11157709e-01,\n",
       "       4.44339029e-03, 4.31693465e-01, 3.22486833e-03, 7.01779604e-01,\n",
       "       1.00790389e-01, 2.09511623e-01, 1.25978235e-03, 7.36976326e-01,\n",
       "       9.75658655e-01, 9.48573172e-01, 4.93296934e-03, 2.32880954e-02,\n",
       "       4.14710119e-02, 3.03242006e-03, 9.30316269e-01, 3.71428728e-02,\n",
       "       2.89045963e-02, 1.82816747e-03, 6.22817762e-02, 6.02588337e-03,\n",
       "       4.57183429e-04, 2.97852252e-02, 1.21930353e-02, 2.18334660e-01,\n",
       "       1.67870894e-03, 3.27695869e-02, 8.90133262e-01, 6.65227175e-02,\n",
       "       1.44076382e-03, 5.13294376e-02, 6.65227175e-02, 7.56531314e-04,\n",
       "       9.48573172e-01, 1.38227031e-01, 3.98141667e-02, 1.18130092e-02,\n",
       "       2.47411162e-01, 1.05513208e-01, 4.57183429e-04, 3.71017936e-03,\n",
       "       1.94034241e-02, 8.85329791e-04, 1.84249561e-02, 3.32560614e-02,\n",
       "       4.63381112e-02, 3.61263938e-02, 1.80422105e-02, 7.95702636e-01,\n",
       "       6.23687655e-02, 2.27613345e-01, 9.46639979e-04, 8.97963904e-03,\n",
       "       5.79013601e-02, 1.24321274e-01, 3.92975705e-03, 1.32218758e-02,\n",
       "       1.31853506e-01, 1.10776792e-03, 8.15862790e-02, 4.18796949e-02,\n",
       "       1.60525609e-02, 1.22448048e-02, 2.11157709e-01, 2.47556739e-03,\n",
       "       6.68293312e-02, 5.93719840e-01, 1.05513208e-01, 8.86171162e-01,\n",
       "       2.22593267e-02, 6.77582948e-03, 3.71017936e-03, 1.94034241e-02,\n",
       "       1.00790389e-01, 8.09378736e-03, 7.89828241e-01, 8.13904684e-03,\n",
       "       1.90633669e-01, 4.57183429e-04, 1.44471928e-01, 9.80699897e-01,\n",
       "       2.75967352e-04, 8.32379970e-04, 6.89766789e-03, 2.42121946e-02,\n",
       "       3.77983693e-03, 5.33705652e-02, 8.25036131e-03, 5.25447607e-01,\n",
       "       9.46639979e-04, 6.49778843e-02, 4.08555456e-02, 1.18807200e-02,\n",
       "       4.87768315e-02, 2.32880954e-02, 2.66583869e-03, 1.46028409e-02,\n",
       "       4.93296934e-03], dtype=float32)"
      ]
     },
     "execution_count": 113,
     "metadata": {},
     "output_type": "execute_result"
    }
   ],
   "source": [
    "import xgboost as xgb\n",
    "\n",
    "# read in data\n",
    "dtrain = xgb.DMatrix(data=x, label=y)\n",
    "dtest = xgb.DMatrix(data=x_test, label=y_test)\n",
    "\n",
    "xgb.XGBClassifier\n",
    "\n",
    "# specify parameters via map\n",
    "param = {'max_depth':2, 'eta':1, 'objective':'binary:logistic' }\n",
    "num_round = 10\n",
    "bst = xgb.train(param, dtrain, num_round)\n",
    "\n",
    "# make prediction\n",
    "y_pred_xgb = bst.predict(dtest)\n",
    "\n",
    "y_pred_xgb"
   ]
  },
  {
   "cell_type": "code",
   "execution_count": 110,
   "metadata": {},
   "outputs": [
    {
     "name": "stdout",
     "output_type": "stream",
     "text": [
      "              precision    recall  f1-score   support\n",
      "\n",
      "         0.0       0.95      0.92      0.94       452\n",
      "         1.0       0.20      0.31      0.24        29\n",
      "\n",
      "    accuracy                           0.88       481\n",
      "   macro avg       0.58      0.62      0.59       481\n",
      "weighted avg       0.91      0.88      0.90       481\n",
      "\n",
      "tn: 416 fp:36 fn: 20 tp: 9 \n"
     ]
    }
   ],
   "source": [
    "y_pred_xgb = np.round(y_pred_xgb)\n",
    "\n",
    "report = classification_report(y_pred=y_pred_xgb, y_true=y_test)\n",
    "tn, fp, fn, tp = confusion_matrix(y_pred=y_pred_xgb, y_true=y_test).ravel()\n",
    "\n",
    "print(report)\n",
    "print(f\"tn: {tn} fp:{fp} fn: {fn} tp: {tp} \")"
   ]
  }
 ],
 "metadata": {
  "kernelspec": {
   "display_name": "Python 3.10.6 ('base')",
   "language": "python",
   "name": "python3"
  },
  "language_info": {
   "codemirror_mode": {
    "name": "ipython",
    "version": 3
   },
   "file_extension": ".py",
   "mimetype": "text/x-python",
   "name": "python",
   "nbconvert_exporter": "python",
   "pygments_lexer": "ipython3",
   "version": "3.10.6"
  },
  "orig_nbformat": 4,
  "vscode": {
   "interpreter": {
    "hash": "767d51c1340bd893661ea55ea3124f6de3c7a262a8b4abca0554b478b1e2ff90"
   }
  }
 },
 "nbformat": 4,
 "nbformat_minor": 2
}
