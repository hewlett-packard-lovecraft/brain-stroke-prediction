{
 "cells": [
  {
   "cell_type": "markdown",
   "metadata": {},
   "source": [
    "# brain stroke prediction dataset\n",
    "\n",
    "https://www.kaggle.com/datasets/zzettrkalpakbal/full-filled-brain-stroke-dataset\n"
   ]
  },
  {
   "cell_type": "code",
   "execution_count": 129,
   "metadata": {},
   "outputs": [],
   "source": [
    "import pandas as pd\n",
    "from pandas import DataFrame, Series\n",
    "from pathlib import Path\n",
    "import numpy as np\n",
    "\n",
    "from sklearn.ensemble import RandomForestClassifier\n",
    "from sklearn.tree import DecisionTreeClassifier\n",
    "from sklearn import tree\n",
    "from sklearn.metrics import confusion_matrix\n",
    "from sklearn.metrics import classification_report\n",
    "from sklearn.metrics import balanced_accuracy_score\n",
    "from sklearn.utils import resample, shuffle\n",
    "\n",
    "from sklearn.preprocessing import OrdinalEncoder\n"
   ]
  },
  {
   "cell_type": "code",
   "execution_count": 130,
   "metadata": {},
   "outputs": [],
   "source": [
    "def load_data(train_file, validation_file, test_file, headers):\n",
    "    train_df = pd.read_csv(train_file, names=headers)\n",
    "    validation_df = pd.read_csv(validation_file, names=headers)\n",
    "    test_df = pd.read_csv(test_file, names=headers)\n",
    "\n",
    "    return test_df, validation_df, train_df\n",
    "\n",
    "def split_label(data: DataFrame):\n",
    "    x = data.copy().drop('stroke', axis=1)\n",
    "    y = data[\"stroke\"]  # labels\n",
    "\n",
    "    return x, y\n",
    "\n",
    "def encode_int(data):\n",
    "    return data.replace(\n",
    "        {\n",
    "            \"Male\": 1,\n",
    "            \"Female\": 0,\n",
    "            \"Yes\": 1,\n",
    "            \"No\": 0,\n",
    "            \"Urban\": 1,\n",
    "            \"Rural\": 0,\n",
    "            \"Private\": 0,\n",
    "            \"Self-employed\": 1,\n",
    "            \"Govt_job\": 2,\n",
    "            \"children\": 3,\n",
    "            \"Unknown\": np.nan,\n",
    "            \"never smoked\": 0,\n",
    "            \"formerly smoked\": 1,\n",
    "            \"smokes\": 2,\n",
    "        },\n",
    "    ) \n",
    "\n",
    "def encode_int_ordinal(data):\n",
    "    enc = OrdinalEncoder()\n",
    "    enc.fit(data)\n",
    "    \n",
    "    return DataFrame(enc.transform(data), columns=data.columns)"
   ]
  },
  {
   "cell_type": "code",
   "execution_count": 131,
   "metadata": {},
   "outputs": [
    {
     "name": "stdout",
     "output_type": "stream",
     "text": [
      "Using 6470 samples for training, 0 for validation, and 481 for test\n"
     ]
    }
   ],
   "source": [
    "CSV_HEADER = [\n",
    "    \"gender\",\n",
    "    \"age\",\n",
    "    \"hypertension\",\n",
    "    \"heart_disease\",\n",
    "    \"ever_married\",\n",
    "    \"work_type\",\n",
    "    \"Residence_type\",\n",
    "    \"avg_glucose_level\",\n",
    "    \"bmi\",\n",
    "    \"smoking_status\",\n",
    "    \"stroke\",\n",
    "]\n",
    "\n",
    "train_data_path = Path().resolve().joinpath(\"dataset/train_data.csv\")\n",
    "validation_data_path = Path().resolve().joinpath(\"dataset/validation_data.csv\")\n",
    "test_data_path = Path().resolve().joinpath(\"dataset/test_data.csv\")\n",
    "\n",
    "train_data_file = str(train_data_path.absolute())\n",
    "validation_data_file = str(validation_data_path.absolute())\n",
    "test_data_file = str(test_data_path.absolute())\n",
    "\n",
    "test_data, validation_data, train_data = load_data(\n",
    "    train_file=train_data_file, validation_file=validation_data_file, test_file=test_data_file, headers=CSV_HEADER\n",
    ")\n",
    "\n",
    "test_data = encode_int_ordinal(test_data)\n",
    "validation_data = encode_int_ordinal(validation_data)\n",
    "train_data = encode_int_ordinal(train_data)\n",
    "\n",
    "# concat validation and training data for now\n",
    "train_data = pd.concat([train_data, validation_data])\n",
    "validation_data = DataFrame()\n",
    "\n",
    "x, y = split_label(train_data)\n",
    "#x_valid, y_valid = split_label(validation_data)\n",
    "x_test, y_test = split_label(test_data)\n",
    "\n",
    "print(\n",
    "    f\"Using {len(train_data)} samples for training, {len(validation_data)} for validation, and {len(test_data)} for test\"\n",
    ")\n"
   ]
  },
  {
   "cell_type": "code",
   "execution_count": 132,
   "metadata": {},
   "outputs": [],
   "source": [
    "# RandomForest\n",
    "rforest_clf = RandomForestClassifier()\n",
    "rforest_clf.fit(x, y)\n",
    "\n",
    "y_pred_rf = rforest_clf.predict(x_test)"
   ]
  },
  {
   "cell_type": "code",
   "execution_count": 133,
   "metadata": {},
   "outputs": [
    {
     "name": "stdout",
     "output_type": "stream",
     "text": [
      "              precision    recall  f1-score   support\n",
      "\n",
      "         0.0       0.94      0.97      0.96       452\n",
      "         1.0       0.20      0.10      0.14        29\n",
      "\n",
      "    accuracy                           0.92       481\n",
      "   macro avg       0.57      0.54      0.55       481\n",
      "weighted avg       0.90      0.92      0.91       481\n",
      "\n",
      "tn: 440 fp:12 fn: 26 tp: 3 \n"
     ]
    }
   ],
   "source": [
    "report = classification_report(y_pred=y_pred_rf, y_true=y_test)\n",
    "tn, fp, fn, tp = confusion_matrix(y_pred=y_pred_rf, y_true=y_test).ravel()\n",
    "\n",
    "print(report)\n",
    "print(f\"tn: {tn} fp:{fp} fn: {fn} tp: {tp} \")"
   ]
  },
  {
   "cell_type": "markdown",
   "metadata": {},
   "source": [
    "#### Before Resampling\n",
    "\n",
    "classification_report:\n",
    "\n",
    "| label        | precision | recall | f-1 score | support |\n",
    "| ------------ | --------- | ------ | --------- | ------- |\n",
    "| 0            | 0.94      | 1.00   | 0.97      | 352     |\n",
    "| 1            | 0.00      | 0.00   | 0.00      | 29      |\n",
    "| accuracy     |           |        | 0.94      | 481     |\n",
    "| macro avg    | 0.47      | 0.50   | 0.48      | 481     |\n",
    "| weighted avg | 0.88      | 0.94   | 0.91      | 481     |\n",
    "\n",
    "tn: 451 fp:1 fn: 29 tp: 0 \n",
    "\n",
    "\n",
    "#### After Resampling\n"
   ]
  },
  {
   "cell_type": "code",
   "execution_count": 134,
   "metadata": {},
   "outputs": [],
   "source": [
    "# DecisionTree\n",
    "dtree_clf = DecisionTreeClassifier()\n",
    "dtree_clf.fit(x, y)\n",
    "\n",
    "y_pred_dt = dtree_clf.predict(x_test)\n"
   ]
  },
  {
   "cell_type": "code",
   "execution_count": 135,
   "metadata": {},
   "outputs": [
    {
     "name": "stdout",
     "output_type": "stream",
     "text": [
      "              precision    recall  f1-score   support\n",
      "\n",
      "         0.0       0.95      0.93      0.94       452\n",
      "         1.0       0.19      0.24      0.21        29\n",
      "\n",
      "    accuracy                           0.89       481\n",
      "   macro avg       0.57      0.59      0.58       481\n",
      "weighted avg       0.90      0.89      0.90       481\n",
      "\n",
      "tn: 422 fp:30 fn: 22 tp: 7 \n"
     ]
    }
   ],
   "source": [
    "report = classification_report(y_pred=y_pred_dt, y_true=y_test)\n",
    "tn, fp, fn, tp = confusion_matrix(y_pred=y_pred_dt, y_true=y_test).ravel()\n",
    "\n",
    "print(report)\n",
    "print(f\"tn: {tn} fp:{fp} fn: {fn} tp: {tp} \")\n"
   ]
  },
  {
   "cell_type": "markdown",
   "metadata": {},
   "source": [
    "#### Before Resampling\n",
    "\n",
    "classification_report:\n",
    "\n",
    "| label        | precision | recall | f-1 score | support |\n",
    "| ------------ | --------- | ------ | --------- | ------- |\n",
    "| 0            | 0.94      | 0.95   | 0.94      | 452     |\n",
    "| 1            | 0.11      | 0.10   | 0.11      | 29      |\n",
    "| accuracy     |           |        | 0.90      | 481     |\n",
    "| macro avg    | 0.47      | 0.50   | 0.53      | 481     |\n",
    "| weighted avg | 0.89      | 0.90   | 0.89      | 481     |\n",
    "\n",
    "tn: 451 fp:1 fn: 29 tp: 0 \n",
    "\n",
    "#### After Resampling\n"
   ]
  },
  {
   "cell_type": "code",
   "execution_count": 136,
   "metadata": {},
   "outputs": [
    {
     "data": {
      "text/plain": [
       "array([3.24601610e-03, 1.47611015e-02, 4.32655262e-03, 4.60040063e-01,\n",
       "       1.88531149e-02, 5.62408846e-03, 1.26156211e-02, 3.79655510e-02,\n",
       "       7.17055053e-02, 3.84556800e-01, 2.45140679e-03, 1.43669592e-02,\n",
       "       1.18708995e-03, 1.06191123e-03, 3.21757719e-02, 2.45140679e-03,\n",
       "       1.57252373e-03, 2.05225959e-01, 1.24402368e-03, 1.06191123e-03,\n",
       "       4.60634530e-01, 4.72987115e-01, 5.75710125e-02, 1.95654668e-03,\n",
       "       8.39988352e-04, 1.18708995e-03, 8.31278227e-03, 1.13946795e-01,\n",
       "       8.44849288e-01, 9.29742157e-02, 9.52079426e-03, 6.02040789e-04,\n",
       "       2.79951021e-02, 2.47273128e-03, 1.84201360e-01, 5.14716983e-01,\n",
       "       6.02040789e-04, 7.13593423e-01, 7.57074282e-02, 9.52876285e-02,\n",
       "       5.17838076e-02, 1.06191123e-03, 1.81760132e-01, 2.53762245e-01,\n",
       "       4.06424486e-04, 2.89317444e-02, 1.01197608e-01, 5.12269318e-01,\n",
       "       2.01395322e-02, 2.19319831e-03, 3.83825670e-03, 7.99701214e-02,\n",
       "       2.27952772e-03, 8.27586651e-01, 1.76128349e-03, 7.78734922e-01,\n",
       "       4.59186686e-03, 5.32392502e-01, 1.72985867e-02, 1.06191123e-03,\n",
       "       3.94537970e-02, 1.16219027e-02, 3.10567208e-02, 1.50637403e-02,\n",
       "       7.53667299e-03, 1.94877889e-02, 3.24601610e-03, 1.32989427e-02,\n",
       "       1.57252373e-03, 2.15858850e-03, 6.45881176e-01, 9.07917842e-02,\n",
       "       1.23402096e-01, 1.37380166e-02, 8.60897899e-01, 1.08958809e-02,\n",
       "       6.02040789e-04, 2.16020286e-01, 3.94537970e-02, 4.42931801e-02,\n",
       "       8.39988352e-04, 5.09933708e-03, 1.32774279e-01, 8.39988352e-04,\n",
       "       2.89896250e-01, 2.00097747e-02, 7.53667299e-03, 9.03909619e-04,\n",
       "       1.38992872e-02, 2.19319831e-03, 4.42931801e-02, 2.76375818e-03,\n",
       "       4.83170897e-01, 3.09774210e-03, 1.48694381e-01, 4.26429361e-02,\n",
       "       2.89183520e-02, 3.24601610e-03, 4.06424486e-04, 5.62934950e-03,\n",
       "       6.55440763e-02, 2.47273128e-03, 3.21599633e-01, 1.06191123e-03,\n",
       "       1.09477893e-01, 5.53188957e-02, 1.12334229e-02, 4.02372092e-01,\n",
       "       5.53188957e-02, 4.06424486e-04, 2.08999291e-01, 6.26224577e-02,\n",
       "       5.29945083e-03, 5.09933708e-03, 9.40608680e-01, 7.19382195e-03,\n",
       "       8.39988352e-04, 1.24402368e-03, 6.02040789e-04, 1.21299803e-01,\n",
       "       1.22005614e-02, 4.48897555e-02, 5.40786326e-01, 3.51192020e-02,\n",
       "       1.37380166e-02, 7.31659029e-03, 3.96951428e-03, 8.45229864e-01,\n",
       "       3.65924160e-03, 1.53364744e-02, 9.44180973e-03, 1.86834633e-01,\n",
       "       7.39398645e-03, 1.49043673e-03, 3.84823477e-04, 5.69773512e-03,\n",
       "       4.82868791e-01, 6.26993239e-01, 2.80336887e-01, 1.57252373e-03,\n",
       "       3.24601610e-03, 5.41566670e-01, 3.31082702e-01, 3.55771363e-01,\n",
       "       5.09933708e-03, 3.23254727e-02, 1.40275003e-03, 8.44440043e-01,\n",
       "       5.69773512e-03, 1.12657547e-02, 4.39336374e-02, 6.98225619e-03,\n",
       "       2.86964625e-02, 2.19319831e-03, 1.24402368e-03, 9.77055207e-02,\n",
       "       6.68777432e-03, 1.24402368e-03, 2.89609097e-03, 4.60685939e-01,\n",
       "       1.96991824e-02, 3.63600105e-01, 1.79473567e-03, 4.32655262e-03,\n",
       "       1.17416335e-02, 6.06411695e-01, 4.02372092e-01, 9.03909619e-04,\n",
       "       5.80225065e-02, 8.57952833e-01, 7.17592478e-01, 1.24402368e-03,\n",
       "       3.62244272e-03, 3.24601610e-03, 8.90476163e-03, 2.19231695e-02,\n",
       "       9.77847259e-03, 3.24601610e-03, 5.82823902e-02, 4.72987115e-01,\n",
       "       9.30861384e-03, 1.32989427e-02, 1.37380166e-02, 2.45140679e-03,\n",
       "       4.70187422e-03, 6.38400344e-03, 4.86251852e-03, 2.47273128e-03,\n",
       "       1.20144114e-01, 1.32989427e-02, 2.89609097e-03, 2.93217623e-03,\n",
       "       6.69868439e-02, 1.06191123e-03, 2.75729410e-02, 1.86046913e-01,\n",
       "       1.37719959e-01, 1.42025424e-03, 3.65924160e-03, 3.53390239e-02,\n",
       "       2.32678968e-02, 1.57252373e-03, 2.74333376e-02, 1.19593464e-01,\n",
       "       4.06424486e-04, 4.59186686e-03, 2.89609097e-03, 4.03422713e-02,\n",
       "       3.12599540e-03, 1.57252373e-03, 2.89183520e-02, 2.30170432e-02,\n",
       "       3.12444866e-01, 6.21464431e-01, 2.47800965e-02, 1.79473567e-03,\n",
       "       3.24601610e-03, 1.15550227e-01, 2.01433953e-02, 2.89609097e-03,\n",
       "       4.02372092e-01, 3.05788785e-01, 1.23871595e-01, 2.47273128e-03,\n",
       "       3.99509678e-03, 2.37210877e-02, 2.12228343e-01, 3.69969159e-02,\n",
       "       2.45140679e-03, 2.20585265e-03, 1.64873861e-02, 2.37774715e-01,\n",
       "       3.51192020e-02, 1.95654668e-03, 7.53667299e-03, 9.83651057e-02,\n",
       "       1.47611015e-02, 1.54670514e-02, 8.39988352e-04, 1.26504987e-01,\n",
       "       2.19231695e-02, 1.17591895e-01, 4.32234183e-02, 1.76128349e-03,\n",
       "       6.38400344e-03, 3.94537970e-02, 9.47212451e-04, 2.27952772e-03,\n",
       "       5.53188957e-02, 1.43669592e-02, 6.87896414e-03, 1.88873976e-01,\n",
       "       6.77078031e-03, 1.09477893e-01, 3.40463787e-01, 2.79951021e-02,\n",
       "       9.47212451e-04, 4.70187422e-03, 3.65924160e-03, 2.79951021e-02,\n",
       "       1.79473567e-03, 2.76375818e-03, 4.70187422e-03, 1.43669592e-02,\n",
       "       9.47212451e-04, 2.12228343e-01, 1.88531149e-02, 6.02040789e-04,\n",
       "       7.19382195e-03, 2.75729410e-02, 1.80627540e-01, 1.57252373e-03,\n",
       "       3.99509678e-03, 2.33823489e-02, 2.76375818e-03, 5.16293108e-01,\n",
       "       3.09774210e-03, 1.23402096e-01, 4.06424486e-04, 1.88531149e-02,\n",
       "       2.86964625e-02, 3.65924160e-03, 5.38951531e-02, 2.10902896e-02,\n",
       "       1.81760132e-01, 1.07811086e-01, 6.68777432e-03, 2.86921322e-01,\n",
       "       2.47273128e-03, 2.45140679e-03, 4.73229121e-03, 4.06424486e-04,\n",
       "       1.32774279e-01, 5.27348882e-03, 1.08958809e-02, 2.89609097e-03,\n",
       "       4.78359386e-02, 2.76375818e-03, 7.49989739e-03, 1.95654668e-03,\n",
       "       2.78762681e-03, 3.50013763e-01, 1.01197608e-01, 4.06424486e-04,\n",
       "       5.93803404e-03, 4.06424486e-04, 1.43409431e-01, 4.17509302e-03,\n",
       "       3.83825670e-03, 4.78359386e-02, 2.89284624e-02, 1.24402368e-03,\n",
       "       1.22005614e-02, 1.57252373e-03, 8.43321085e-02, 7.53667299e-03,\n",
       "       6.37433901e-02, 4.75029647e-02, 5.54199874e-01, 2.10902896e-02,\n",
       "       3.51192020e-02, 2.45140679e-03, 1.16613945e-02, 2.16020286e-01,\n",
       "       3.51192020e-02, 7.54593790e-01, 1.64873861e-02, 1.57252373e-03,\n",
       "       1.06191123e-03, 5.16293108e-01, 1.24402368e-03, 1.95654668e-03,\n",
       "       4.39336374e-02, 3.09774210e-03, 2.31986508e-01, 2.06219792e-01,\n",
       "       2.03939341e-03, 3.84088675e-03, 4.47619893e-02, 1.76128349e-03,\n",
       "       7.19382195e-03, 7.54422992e-02, 1.95654668e-03, 4.07730602e-02,\n",
       "       1.24402368e-03, 5.66390038e-01, 4.73229121e-03, 5.09933708e-03,\n",
       "       1.49043673e-03, 3.65924160e-03, 8.39988352e-04, 1.64873861e-02,\n",
       "       1.01462305e-01, 1.08428057e-02, 7.19382195e-03, 4.86251852e-03,\n",
       "       7.53667299e-03, 2.01542914e-01, 1.76380008e-01, 2.84884095e-01,\n",
       "       5.42986035e-01, 4.70187422e-03, 1.38699403e-02, 2.27952772e-03,\n",
       "       9.47212451e-04, 2.26832670e-03, 5.46484649e-01, 5.14716983e-01,\n",
       "       2.19319831e-03, 4.91965383e-01, 5.25274336e-01, 1.42379671e-01,\n",
       "       1.00550684e-03, 1.06191123e-03, 8.45207036e-01, 1.40275003e-03,\n",
       "       7.38854054e-04, 2.89609097e-03, 1.43409431e-01, 1.24402368e-03,\n",
       "       6.38400344e-03, 1.86834633e-01, 1.60747562e-02, 2.13272702e-02,\n",
       "       1.24402368e-03, 2.21792042e-01, 2.89609097e-03, 7.78328061e-01,\n",
       "       5.63507676e-02, 9.29742157e-02, 3.24601610e-03, 4.18745071e-01,\n",
       "       7.73507059e-01, 9.70102787e-01, 3.09774210e-03, 3.99509678e-03,\n",
       "       4.86251852e-03, 2.19319831e-03, 5.81867516e-01, 3.35640460e-02,\n",
       "       5.29945083e-03, 3.84823477e-04, 1.64873861e-02, 8.39988352e-04,\n",
       "       8.39988352e-04, 6.08290359e-02, 5.69773512e-03, 3.70285839e-01,\n",
       "       3.85630615e-02, 8.90476163e-03, 6.36520505e-01, 2.10902896e-02,\n",
       "       2.89609097e-03, 2.23299693e-02, 2.10902896e-02, 9.47212451e-04,\n",
       "       7.73507059e-01, 4.39336374e-02, 6.37722492e-01, 5.93803404e-03,\n",
       "       2.18735591e-01, 3.62149291e-02, 8.39988352e-04, 5.93803404e-03,\n",
       "       2.79951021e-02, 1.40275003e-03, 4.19890061e-02, 8.17301869e-03,\n",
       "       4.47619893e-02, 2.56286949e-01, 5.64570017e-02, 7.67538488e-01,\n",
       "       6.37433901e-02, 3.37605402e-02, 1.06191123e-03, 6.26224577e-02,\n",
       "       1.19418185e-02, 8.14325958e-02, 7.11183948e-03, 1.48696071e-02,\n",
       "       1.50553863e-02, 1.57252373e-03, 7.53667299e-03, 2.27936834e-01,\n",
       "       7.57074282e-02, 7.56589044e-03, 8.43321085e-02, 4.73127642e-04,\n",
       "       2.30170432e-02, 7.85553396e-01, 1.80518050e-02, 5.40786326e-01,\n",
       "       4.69441898e-02, 2.29517668e-02, 1.22005614e-02, 2.79951021e-02,\n",
       "       1.94472343e-01, 3.56087275e-02, 3.10544491e-01, 7.19382195e-03,\n",
       "       9.01799649e-02, 8.39988352e-04, 4.78359386e-02, 9.60761666e-01,\n",
       "       2.89609097e-03, 1.04031479e-02, 2.19319831e-03, 1.07154392e-01,\n",
       "       9.47251916e-03, 3.20149176e-02, 4.93893698e-02, 4.48413134e-01,\n",
       "       1.06191123e-03, 4.82303575e-02, 5.43857878e-03, 4.32655262e-03,\n",
       "       2.38409579e-01, 1.66695025e-02, 3.20605328e-03, 2.60054949e-03,\n",
       "       6.38400344e-03], dtype=float32)"
      ]
     },
     "execution_count": 136,
     "metadata": {},
     "output_type": "execute_result"
    }
   ],
   "source": [
    "import xgboost as xgb\n",
    "\n",
    "# read in data\n",
    "dtrain = xgb.DMatrix(data=x, label=y)\n",
    "dtest = xgb.DMatrix(data=x_test, label=y_test)\n",
    "\n",
    "xgb.XGBClassifier\n",
    "\n",
    "# specify parameters via map\n",
    "param = {'max_depth':2, 'eta':1, 'objective':'binary:logistic' }\n",
    "num_round = 10\n",
    "bst = xgb.train(param, dtrain, num_round)\n",
    "\n",
    "# make prediction\n",
    "y_pred_xgb = bst.predict(dtest)\n",
    "\n",
    "y_pred_xgb"
   ]
  },
  {
   "cell_type": "code",
   "execution_count": 137,
   "metadata": {},
   "outputs": [
    {
     "name": "stdout",
     "output_type": "stream",
     "text": [
      "              precision    recall  f1-score   support\n",
      "\n",
      "         0.0       0.95      0.93      0.94       452\n",
      "         1.0       0.23      0.31      0.26        29\n",
      "\n",
      "    accuracy                           0.89       481\n",
      "   macro avg       0.59      0.62      0.60       481\n",
      "weighted avg       0.91      0.89      0.90       481\n",
      "\n",
      "tn: 421 fp:31 fn: 20 tp: 9 \n"
     ]
    }
   ],
   "source": [
    "y_pred_xgb = np.round(y_pred_xgb)\n",
    "\n",
    "report = classification_report(y_pred=y_pred_xgb, y_true=y_test)\n",
    "tn, fp, fn, tp = confusion_matrix(y_pred=y_pred_xgb, y_true=y_test).ravel()\n",
    "\n",
    "print(report)\n",
    "print(f\"tn: {tn} fp:{fp} fn: {fn} tp: {tp} \")"
   ]
  }
 ],
 "metadata": {
  "kernelspec": {
   "display_name": "Python 3.10.6 ('base')",
   "language": "python",
   "name": "python3"
  },
  "language_info": {
   "codemirror_mode": {
    "name": "ipython",
    "version": 3
   },
   "file_extension": ".py",
   "mimetype": "text/x-python",
   "name": "python",
   "nbconvert_exporter": "python",
   "pygments_lexer": "ipython3",
   "version": "3.10.6"
  },
  "orig_nbformat": 4,
  "vscode": {
   "interpreter": {
    "hash": "767d51c1340bd893661ea55ea3124f6de3c7a262a8b4abca0554b478b1e2ff90"
   }
  }
 },
 "nbformat": 4,
 "nbformat_minor": 2
}
