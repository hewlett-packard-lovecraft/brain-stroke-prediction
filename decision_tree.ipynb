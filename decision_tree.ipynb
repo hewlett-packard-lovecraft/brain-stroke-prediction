{
 "cells": [
  {
   "cell_type": "markdown",
   "metadata": {},
   "source": [
    "# brain stroke prediction dataset\n",
    "\n",
    "https://www.kaggle.com/datasets/zzettrkalpakbal/full-filled-brain-stroke-dataset\n"
   ]
  },
  {
   "cell_type": "code",
   "execution_count": 2,
   "metadata": {},
   "outputs": [],
   "source": [
    "import pandas as pd\n",
    "from pathlib import Path\n",
    "\n",
    "def prepare_data():\n",
    "    full_data = pd.read_csv(Path().resolve().joinpath(\"dataset/full_data.csv\"))\n",
    "    full_data[[\"hypertension\", \"heart_disease\", \"ever_married\", \"stroke\"]] = full_data[\n",
    "        [\"hypertension\", \"heart_disease\", \"ever_married\", \"stroke\"]\n",
    "    ].replace(\n",
    "        [1, 0], [\"Yes\", \"No\"]\n",
    "    )  # prevent interfence with StringLookup layer\n",
    "\n",
    "    full_data = full_data.drop_duplicates().dropna()\n",
    "\n",
    "    data_shuffled = full_data.sample(frac=1).reset_index(drop=True)\n",
    "\n",
    "    # create test dataset of 50 positive / 50 negative\n",
    "    pos_rows = data_shuffled.loc[(full_data[\"stroke\"] == \"Yes\")][:25]\n",
    "    neg_rows = data_shuffled.loc[(full_data[\"stroke\"] == \"No\")][:25]\n",
    "    test_data = pd.concat([pos_rows, neg_rows])\n",
    "\n",
    "    train_data = (\n",
    "        pd.merge(data_shuffled, test_data, how=\"outer\", indicator=True)\n",
    "        .query('_merge==\"left_only\"')\n",
    "        .drop(\"_merge\", axis=1)\n",
    "    )  # exclude test data from train dataset\n",
    "\n",
    "    # balance training dataset\n",
    "    train_pos = train_data[train_data[\"stroke\"] == \"Yes\"]\n",
    "    train_neg = train_data[train_data[\"stroke\"] == \"No\"][:len(train_pos)]\n",
    "    train_data = pd.concat([train_pos, train_neg])\n",
    "\n",
    "    test_data.to_csv(Path().resolve().joinpath(\"dataset/test_data.csv\"), index=False, header=False)\n",
    "    train_data.to_csv(Path().resolve().joinpath(\"dataset/train_data.csv\"), index=False, header=False)\n",
    "\n",
    "    return test_data, train_data\n",
    "\n",
    "\n",
    "def cleanup(data):\n",
    "    return data.replace(\n",
    "        {\n",
    "            \"Male\": 1,\n",
    "            \"Female\": 0,\n",
    "            \"Yes\": 1,\n",
    "            \"No\": 0,\n",
    "            \"Urban\": 1,\n",
    "            \"Rural\": 0,\n",
    "            \"Private\": 0,\n",
    "            \"Self-employed\": 1,\n",
    "            \"Govt_job\": 2,\n",
    "            \"children\": 3,\n",
    "            \"Unknown\": 0,\n",
    "            \"never smoked\": 0,\n",
    "            \"formerly smoked\": 1,\n",
    "            \"smokes\": 2,\n",
    "        },\n",
    "    ) "
   ]
  },
  {
   "cell_type": "code",
   "execution_count": 3,
   "metadata": {},
   "outputs": [
    {
     "name": "stdout",
     "output_type": "stream",
     "text": [
      "Using 490 samples for training and 50 for validation\n"
     ]
    }
   ],
   "source": [
    "# preproccess \n",
    "\n",
    "test_data, train_data = prepare_data()\n",
    "data = cleanup(train_data)\n",
    "test_data = cleanup(test_data)\n",
    "\n",
    "x = data.loc[:, data.columns != 'stroke']  # strip labels\n",
    "y = data[\"stroke\"]  # labels\n",
    "\n",
    "x_test = test_data.loc[:, test_data.columns != 'stroke']\n",
    "y_test = test_data['stroke']\n",
    "\n",
    "print(\n",
    "    f\"Using {len(train_data)} samples for training and {len(test_data)} for validation\"\n",
    ")"
   ]
  },
  {
   "cell_type": "code",
   "execution_count": 4,
   "metadata": {},
   "outputs": [],
   "source": [
    "from sklearn.ensemble import RandomForestClassifier\n",
    "from sklearn.tree import DecisionTreeClassifier\n",
    "from sklearn import tree\n",
    "from sklearn.metrics import confusion_matrix\n",
    "from sklearn.metrics import classification_report\n",
    "from sklearn.metrics import balanced_accuracy_score\n"
   ]
  },
  {
   "cell_type": "code",
   "execution_count": 5,
   "metadata": {},
   "outputs": [],
   "source": [
    "# RandomForest\n",
    "rforest_clf = RandomForestClassifier()\n",
    "rforest_clf.fit(x, y)\n",
    "\n",
    "y_pred_rf = rforest_clf.predict(x_test)"
   ]
  },
  {
   "cell_type": "code",
   "execution_count": 6,
   "metadata": {},
   "outputs": [
    {
     "name": "stdout",
     "output_type": "stream",
     "text": [
      "              precision    recall  f1-score   support\n",
      "\n",
      "           0       1.00      0.74      0.85        47\n",
      "           1       0.20      1.00      0.33         3\n",
      "\n",
      "    accuracy                           0.76        50\n",
      "   macro avg       0.60      0.87      0.59        50\n",
      "weighted avg       0.95      0.76      0.82        50\n",
      "\n",
      "0.8723404255319149\n"
     ]
    }
   ],
   "source": [
    "report = classification_report(y_pred=y_pred_rf, y_true=y_test)\n",
    "baccuracy = balanced_accuracy_score(y_pred=y_pred_rf, y_true=y_test)\n",
    "\n",
    "print(report)\n",
    "print(baccuracy)"
   ]
  },
  {
   "cell_type": "code",
   "execution_count": 7,
   "metadata": {},
   "outputs": [],
   "source": [
    "# DecisionTree\n",
    "dtree_clf = DecisionTreeClassifier()\n",
    "dtree_clf.fit(x, y)\n",
    "\n",
    "y_pred_dt = dtree_clf.predict(x_test)\n",
    "#tree.plot_tree(dtree_clf)\n"
   ]
  },
  {
   "cell_type": "code",
   "execution_count": 11,
   "metadata": {},
   "outputs": [
    {
     "name": "stdout",
     "output_type": "stream",
     "text": [
      "              precision    recall  f1-score   support\n",
      "\n",
      "           0       1.00      0.72      0.84        47\n",
      "           1       0.19      1.00      0.32         3\n",
      "\n",
      "    accuracy                           0.74        50\n",
      "   macro avg       0.59      0.86      0.58        50\n",
      "weighted avg       0.95      0.74      0.81        50\n",
      "\n",
      "0.8617021276595744\n"
     ]
    }
   ],
   "source": [
    "report = classification_report(y_pred=y_pred_dt, y_true=y_test)\n",
    "baccuracy = balanced_accuracy_score(y_pred=y_pred_dt, y_true=y_test)\n",
    "\n",
    "print(report)\n",
    "print(baccuracy)"
   ]
  }
 ],
 "metadata": {
  "kernelspec": {
   "display_name": "Python 3.10.5 64-bit",
   "language": "python",
   "name": "python3"
  },
  "language_info": {
   "codemirror_mode": {
    "name": "ipython",
    "version": 3
   },
   "file_extension": ".py",
   "mimetype": "text/x-python",
   "name": "python",
   "nbconvert_exporter": "python",
   "pygments_lexer": "ipython3",
   "version": "3.10.6"
  },
  "orig_nbformat": 4,
  "vscode": {
   "interpreter": {
    "hash": "e7370f93d1d0cde622a1f8e1c04877d8463912d04d973331ad4851f04de6915a"
   }
  }
 },
 "nbformat": 4,
 "nbformat_minor": 2
}
