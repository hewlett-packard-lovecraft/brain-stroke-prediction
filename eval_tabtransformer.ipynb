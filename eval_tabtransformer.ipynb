{
  "cells": [
    {
      "cell_type": "markdown",
      "metadata": {},
      "source": [
        "# evaluation\n",
        "\n",
        "Evaluate both baseline and TabTransformer models with test set\n"
      ]
    },
    {
      "cell_type": "code",
      "execution_count": 21,
      "metadata": {},
      "outputs": [
        {
          "name": "stdout",
          "output_type": "stream",
          "text": [
            "[PhysicalDevice(name='/physical_device:GPU:0', device_type='GPU'), PhysicalDevice(name='/physical_device:GPU:1', device_type='GPU')]\n"
          ]
        }
      ],
      "source": [
        "import keras_preprocessing\n",
        "from keras import layers\n",
        "import tensorflow as tf\n",
        "from tensorflow import keras\n",
        "import tensorflow_addons as tfa\n",
        "\n",
        "from pathlib import Path\n",
        "import pandas as pd\n",
        "import numpy as np\n",
        "import os\n",
        "\n",
        "import pandas as pd\n",
        "import random\n",
        "import sklearn\n",
        "\n",
        "from pathlib import Path\n",
        "from sklearn.metrics import confusion_matrix\n",
        "from sklearn.metrics import roc_auc_score\n",
        "\n",
        "from sklearn.preprocessing import OrdinalEncoder, StandardScaler\n",
        "from sklearn.ensemble import RandomForestClassifier\n",
        "from sklearn.model_selection import StratifiedShuffleSplit\n",
        "\n",
        "from imblearn.combine import SMOTEENN\n",
        "from imblearn.over_sampling import SMOTENC\n",
        "\n",
        "\n",
        "print(tf.config.list_physical_devices(\"GPU\"))\n"
      ]
    },
    {
      "cell_type": "code",
      "execution_count": 22,
      "metadata": {},
      "outputs": [],
      "source": [
        "# preproccessing\n",
        "\n",
        "CSV_HEADER = [\n",
        "    \"gender\",\n",
        "    \"age\",\n",
        "    \"hypertension\",\n",
        "    \"heart_disease\",\n",
        "    \"ever_married\",\n",
        "    \"work_type\",\n",
        "    \"residence_type\",\n",
        "    \"avg_glucose_level\",\n",
        "    \"bmi\",\n",
        "    \"smoking_status\",\n",
        "    \"stroke\",\n",
        "]\n",
        "\n",
        "\n",
        "CATEGORICAL_FEATURE_NAMES = [\n",
        "    \"gender\",\n",
        "    \"hypertension\",\n",
        "    \"heart_disease\",\n",
        "    \"ever_married\",\n",
        "    \"work_type\",\n",
        "    \"residence_type\",\n",
        "    \"smoking_status\",\n",
        "]\n",
        "\n",
        "NUMERIC_FEATURE_NAMES = [\"age\", \"avg_glucose_level\", \"bmi\"]\n",
        "\n",
        "\n",
        "def encode_int(data: pd.DataFrame, categorical_features: list[str]):\n",
        "    return pd.get_dummies(data, columns=categorical_features, drop_first=True)\n",
        "\n",
        "\n",
        "def split_label(data: pd.DataFrame):\n",
        "    x = data.copy().drop(\"stroke\", axis=1)\n",
        "    y = data[\"stroke\"]  # labels\n",
        "\n",
        "    return x, y\n",
        "\n",
        "\n",
        "def resample(data: pd.DataFrame, seed: int, categorical_features: list[str]):\n",
        "    \"\"\"oversample positive cases with SMOTE and undersample negative with EEN\"\"\"\n",
        "    # encode categorical features first\n",
        "    enc = OrdinalEncoder()\n",
        "    data[categorical_features] = enc.fit_transform(data[categorical_features])\n",
        "\n",
        "    X = data.drop(columns=[\"stroke\"], axis=1)\n",
        "    Y = data[\"stroke\"]\n",
        "\n",
        "    cat_features_indices = [\n",
        "        data.columns.get_loc(label) for label in categorical_features\n",
        "    ]\n",
        "\n",
        "    smote_nc = SMOTENC(categorical_features=cat_features_indices, random_state=seed)\n",
        "    smote_een = SMOTEENN(smote=smote_nc, random_state=seed, sampling_strategy=\"auto\")\n",
        "\n",
        "    x_resampled, y_resampled = smote_een.fit_resample(X, Y)\n",
        "    x_resampled[\"stroke\"] = y_resampled\n",
        "\n",
        "    x_resampled[categorical_features] = enc.inverse_transform(\n",
        "        x_resampled[categorical_features]\n",
        "    )\n",
        "\n",
        "    return pd.DataFrame(x_resampled, columns=data.columns)\n",
        "\n",
        "\n",
        "def scale(df):\n",
        "    X_num = df[NUMERIC_FEATURE_NAMES]\n",
        "    X_cat = df[CATEGORICAL_FEATURE_NAMES]\n",
        "\n",
        "    scaler = StandardScaler()\n",
        "    scaler.fit(X_num)\n",
        "\n",
        "    X_scaled = scaler.transform(X_num)\n",
        "    X_scaled = pd.DataFrame(X_scaled, index=X_num.index, columns=X_num.columns)\n",
        "\n",
        "    df_scaled = pd.concat([X_scaled, X_cat, df[\"stroke\"]], axis=1)[df.columns]\n",
        "\n",
        "    return df_scaled\n",
        "\n",
        "\n",
        "def split_train_valid_test(data_df, seed: int, resample_training: bool):\n",
        "    data_df = data_df.sample(frac=1, random_state=seed)\n",
        "\n",
        "    test_set = data_df[round(len(data_df) * 0.85) :]\n",
        "    train_validation_data = data_df[: round(len(data_df) * 0.85)].sample(\n",
        "        frac=1, random_state=seed\n",
        "    )\n",
        "\n",
        "    train_set = train_validation_data[: round(len(data_df) * 0.70)]\n",
        "    validation_set = train_validation_data[round(len(data_df) * 0.70) :]\n",
        "\n",
        "    if resample_training:\n",
        "        train_set = resample(\n",
        "            train_validation_data[: round(len(data_df) * 0.70)],\n",
        "            seed,\n",
        "            categorical_features=CATEGORICAL_FEATURE_NAMES,\n",
        "        )\n",
        "\n",
        "    return train_set, validation_set, test_set\n",
        "\n",
        "\n",
        "def split_train_valid_test_stratified(data_df, seed: int, resample_training: bool):\n",
        "    sss = StratifiedShuffleSplit(n_splits=1, test_size=0.3, random_state=seed)\n",
        "    d_x, d_y = split_label(data_df)\n",
        "\n",
        "    train_index, valid_test_index = list(sss.split(d_x, d_y))[0]\n",
        "\n",
        "    sss = StratifiedShuffleSplit(n_splits=1, test_size=0.5, random_state=seed)\n",
        "\n",
        "    v_t_x, v_t_y = split_label(data_df.iloc[valid_test_index])\n",
        "\n",
        "    validation_index, test_index = list(sss.split(v_t_x, v_t_y))[0]\n",
        "\n",
        "    train_df = data_df.iloc[train_index.tolist()]\n",
        "    validation_df = data_df.iloc[validation_index.tolist()]\n",
        "    test_df = data_df.iloc[test_index.tolist()]\n",
        "\n",
        "    if resample_training:\n",
        "        train_df = resample(\n",
        "            train_df, seed, categorical_features=CATEGORICAL_FEATURE_NAMES\n",
        "        )\n",
        "\n",
        "    return train_df, validation_df, test_df\n",
        "\n",
        "\n",
        "def prepare_data(seed: int, resample_training: bool):\n",
        "    data_df = pd.read_csv(Path().resolve().joinpath(\"dataset/full_data_clean.csv\"))\n",
        "\n",
        "    train_df, validation_df, test_df = split_train_valid_test_stratified(\n",
        "        data_df, seed, resample_training\n",
        "    )\n",
        "\n",
        "    train_df, validation_df, test_df = [\n",
        "        scale(df) for df in [train_df, validation_df, test_df]\n",
        "    ]\n",
        "\n",
        "    return train_df, validation_df, test_df\n"
      ]
    },
    {
      "cell_type": "code",
      "execution_count": 23,
      "metadata": {},
      "outputs": [],
      "source": [
        "# model hyperparameters\n",
        "\n",
        "LEARNING_RATE = 0.001\n",
        "WEIGHT_DECAY = 0.0001\n",
        "DROPOUT_RATE = 0.1\n",
        "BATCH_SIZE = 256\n",
        "NUM_EPOCHS = 100\n",
        "\n",
        "# Max batch size= available GPU memory bytes / 4 / (size of tensors + trainable parameters)\n",
        "# 2147483648 / 4 / ( ???  + 67,917 )\n",
        "\n",
        "MLP_MODEL_PATH = str(Path().resolve().joinpath(\"model/mlp_model\"))\n",
        "TABTRANSFORMER_MODEL_PATH = str(Path().resolve().joinpath(\"model/tabtransformer_model\"))\n",
        "\n",
        "TARGET_FEATURE_NAME = \"stroke\"\n",
        "TARGET_LABELS = [\"1\", \"0\"]\n"
      ]
    },
    {
      "cell_type": "code",
      "execution_count": 24,
      "metadata": {},
      "outputs": [],
      "source": [
        "# data proccessing pipeline\n",
        "\n",
        "# target_label_lookup = layers.StringLookup(\n",
        "#    vocabulary=TARGET_LABELS, mask_token=None, num_oov_indices=0\n",
        "# )\n",
        "\n",
        "\n",
        "def prepare_example(features, target):\n",
        "    # target_index = target_label_lookup(target)\n",
        "    target_index = target\n",
        "    return features, target_index\n",
        "\n",
        "\n",
        "def get_dataset_from_csv(csv_file_path, batch_size=128, shuffle=False):\n",
        "    \"\"\"dataset from, csv\"\"\"\n",
        "    dataset = tf.data.experimental.make_csv_dataset(\n",
        "        csv_file_path,\n",
        "        batch_size=batch_size,\n",
        "        column_names=CSV_HEADER,\n",
        "        label_name=TARGET_FEATURE_NAME,\n",
        "        num_epochs=1,\n",
        "        header=False,\n",
        "        na_value=\"?\",\n",
        "        shuffle=shuffle,\n",
        "    ).map(prepare_example, num_parallel_calls=tf.data.AUTOTUNE, deterministic=False)\n",
        "    return dataset.cache()\n"
      ]
    },
    {
      "cell_type": "code",
      "execution_count": 25,
      "metadata": {},
      "outputs": [],
      "source": [
        "# training and evaluation\n",
        "\n",
        "\n",
        "def train(\n",
        "    model,\n",
        "    train_data_file,\n",
        "    test_data_file,\n",
        "    model_output,\n",
        "    num_epochs,\n",
        "    EPOCHS_TO_WAIT_FOR_IMPROVE,\n",
        "    learning_rate,\n",
        "    batch_size,\n",
        "):\n",
        "    \"\"\"Implement a training and evaluation procedure\"\"\"\n",
        "    optimizer = tfa.optimizers.AdamW(\n",
        "        learning_rate=learning_rate, weight_decay=WEIGHT_DECAY\n",
        "    )\n",
        "\n",
        "    train_dataset = get_dataset_from_csv(train_data_file, batch_size, shuffle=True)\n",
        "    validation_dataset = get_dataset_from_csv(test_data_file, batch_size)\n",
        "\n",
        "    metrics = [\n",
        "        keras.metrics.BinaryAccuracy(name=\"acc\"),\n",
        "        keras.metrics.AUC(name=\"auc\"),\n",
        "    ]\n",
        "\n",
        "    early_stop_callback = keras.callbacks.EarlyStopping(\n",
        "        monitor=\"val_loss\", patience=EPOCHS_TO_WAIT_FOR_IMPROVE\n",
        "    )\n",
        "    # checkpoint_callback = keras.callbacks.ModelCheckpoint(model_output, monitor='val_loss', verbose=1, save_best_only=True, mode='min')\n",
        "\n",
        "    # early_stop_callback = keras.callbacks.EarlyStopping(\n",
        "    #    monitor=\"val_auc\", patience=EPOCHS_TO_WAIT_FOR_IMPROVE\n",
        "    # )\n",
        "\n",
        "    checkpoint_callback = keras.callbacks.ModelCheckpoint(\n",
        "        model_output,\n",
        "        monitor=\"val_loss\",\n",
        "        verbose=1,\n",
        "        save_best_only=True,\n",
        "    )\n",
        "\n",
        "    model.compile(\n",
        "        optimizer=optimizer, loss=keras.losses.BinaryCrossentropy(), metrics=metrics\n",
        "    )\n",
        "\n",
        "    print(\"Start training the model...\")\n",
        "\n",
        "    history = model.fit(\n",
        "        train_dataset,\n",
        "        epochs=num_epochs,\n",
        "        validation_data=validation_dataset,\n",
        "        callbacks=[checkpoint_callback, early_stop_callback],\n",
        "    )\n",
        "\n",
        "    print(\"Model training finished\")\n",
        "\n",
        "    model.save(model_output)\n",
        "\n",
        "    _, accuracy, auc = model.evaluate(validation_dataset, verbose=0)\n",
        "\n",
        "    print(f\"Validation accuracy: {round(accuracy * 100, 2)}% AUC: {auc}\")\n",
        "\n",
        "    return history, model\n"
      ]
    },
    {
      "cell_type": "code",
      "execution_count": 26,
      "metadata": {},
      "outputs": [],
      "source": [
        "RESULT_COLS = [\n",
        "    \"precision\",\n",
        "    \"recall\",\n",
        "    \"fscore\",\n",
        "    \"accuracy\",\n",
        "    \"auc\",\n",
        "    \"miss_rate\",\n",
        "    \"fall_out_rate\",\n",
        "]\n",
        "\n",
        "train_data_path = Path().resolve().joinpath(\"dataset/train_data.csv\")\n",
        "validation_data_path = Path().resolve().joinpath(\"dataset/validation_data.csv\")\n",
        "test_data_path = Path().resolve().joinpath(\"dataset/test_data.csv\")\n",
        "\n",
        "train_data_file = str(train_data_path.absolute())\n",
        "validation_data_file = str(validation_data_path.absolute())\n",
        "test_data_file = str(test_data_path.absolute())\n",
        "\n",
        "NUM_EXPERIMENTS = 10\n",
        "EPOCHS_TO_WAIT_FOR_IMPROVE = 10\n"
      ]
    },
    {
      "cell_type": "code",
      "execution_count": 27,
      "metadata": {},
      "outputs": [],
      "source": [
        "def run_experiment(\n",
        "    experiment,\n",
        "    tabtransformer_model,\n",
        "    seed,\n",
        "    train_data,\n",
        "    validation_data,\n",
        "    test_data,\n",
        "    resampled: bool,\n",
        "):\n",
        "    # split labels\n",
        "    train_data_file = str(\n",
        "        Path().resolve().joinpath(f\"dataset/train_data_tt_exp_{experiment}.csv\")\n",
        "    )\n",
        "    validation_data_file = str(\n",
        "        Path().resolve().joinpath(f\"dataset/validation_data_tt_exp_{experiment}.csv\")\n",
        "    )\n",
        "    test_data_file = str(\n",
        "        Path().resolve().joinpath(f\"dataset/test_data_tt_exp_{experiment}.csv\")\n",
        "    )\n",
        "\n",
        "    train_data.to_csv(train_data_file, header=False, index=False)\n",
        "    validation_data.to_csv(validation_data_file, header=False, index=False)\n",
        "    test_data.to_csv(test_data_file, header=False, index=False)\n",
        "\n",
        "    if resampled:\n",
        "        model_output = str(\n",
        "            Path().resolve().joinpath(f\"model/tt_model_exp_{experiment}_resampled\")\n",
        "        )\n",
        "    else:\n",
        "        model_output = str(\n",
        "            Path().resolve().joinpath(f\"model/tt_model_exp_{experiment}_unsampled\")\n",
        "        )\n",
        "\n",
        "    # train tabtransformer model on training data and evaluate on validation data\n",
        "    history, tt_trained = train(\n",
        "        model=tabtransformer_model,\n",
        "        train_data_file=train_data_file,\n",
        "        test_data_file=validation_data_file,\n",
        "        model_output=model_output,\n",
        "        num_epochs=NUM_EPOCHS,\n",
        "        EPOCHS_TO_WAIT_FOR_IMPROVE=EPOCHS_TO_WAIT_FOR_IMPROVE,\n",
        "        learning_rate=LEARNING_RATE,\n",
        "        batch_size=BATCH_SIZE,\n",
        "    )\n",
        "\n",
        "    train_validation_data_file = str(\n",
        "        Path()\n",
        "        .resolve()\n",
        "        .joinpath(f\"dataset/train_validation_data_tt_exp_{experiment}.csv\")\n",
        "    )\n",
        "\n",
        "    pd.concat(\n",
        "        #\n",
        "        [validation_data,]\n",
        "        #train_data]\n",
        "        ).sample(frac=1, random_state=seed).to_csv(\n",
        "        train_validation_data_file, index=False, header=False\n",
        "    )\n",
        "\n",
        "    # now, train tabtransformer model on validation data and evaluate on test data\n",
        "    history, tt_trained = train(\n",
        "        model=tt_trained,\n",
        "        train_data_file=train_validation_data_file,\n",
        "        test_data_file=test_data_file,\n",
        "        model_output=model_output,\n",
        "        num_epochs=NUM_EPOCHS,\n",
        "        EPOCHS_TO_WAIT_FOR_IMPROVE=EPOCHS_TO_WAIT_FOR_IMPROVE,\n",
        "        learning_rate=LEARNING_RATE,\n",
        "        batch_size=BATCH_SIZE,\n",
        "    )\n",
        "\n",
        "    # cleanup\n",
        "    os.remove(train_data_file)\n",
        "    os.remove(validation_data_file)\n",
        "    os.remove(train_validation_data_file)\n",
        "    # os.remove(test_data_file)\n"
      ]
    },
    {
      "cell_type": "code",
      "execution_count": 28,
      "metadata": {},
      "outputs": [
        {
          "name": "stdout",
          "output_type": "stream",
          "text": [
            "WARNING:tensorflow:No training configuration found in save file, so the model was *not* compiled. Compile it manually.\n",
            "Experiment 6, seed 560\n",
            "Start training the model...\n",
            "Epoch 1/100\n",
            "    118/Unknown - 8s 19ms/step - loss: 0.1356 - acc: 0.9620 - auc: 0.6328\n",
            "Epoch 1: val_loss improved from inf to 0.08346, saving model to /home/haoming/Projects/python/brain-stroke-prediction/model/tt_model_exp_6_unsampled\n"
          ]
        },
        {
          "name": "stderr",
          "output_type": "stream",
          "text": [
            "WARNING:absl:Found untraced functions such as query_layer_call_fn, query_layer_call_and_return_conditional_losses, key_layer_call_fn, key_layer_call_and_return_conditional_losses, value_layer_call_fn while saving (showing 5 of 36). These functions will not be directly callable after loading.\n"
          ]
        },
        {
          "name": "stdout",
          "output_type": "stream",
          "text": [
            "INFO:tensorflow:Assets written to: /home/haoming/Projects/python/brain-stroke-prediction/model/tt_model_exp_6_unsampled/assets\n"
          ]
        },
        {
          "name": "stderr",
          "output_type": "stream",
          "text": [
            "INFO:tensorflow:Assets written to: /home/haoming/Projects/python/brain-stroke-prediction/model/tt_model_exp_6_unsampled/assets\n"
          ]
        },
        {
          "name": "stdout",
          "output_type": "stream",
          "text": [
            "119/119 [==============================] - 18s 108ms/step - loss: 0.1354 - acc: 0.9621 - auc: 0.6323 - val_loss: 0.0835 - val_acc: 0.9836 - val_auc: 0.7220\n",
            "Epoch 2/100\n",
            "118/119 [============================>.] - ETA: 0s - loss: 0.0920 - acc: 0.9814 - auc: 0.6883\n",
            "Epoch 2: val_loss improved from 0.08346 to 0.07704, saving model to /home/haoming/Projects/python/brain-stroke-prediction/model/tt_model_exp_6_unsampled\n"
          ]
        },
        {
          "name": "stderr",
          "output_type": "stream",
          "text": [
            "WARNING:absl:Found untraced functions such as query_layer_call_fn, query_layer_call_and_return_conditional_losses, key_layer_call_fn, key_layer_call_and_return_conditional_losses, value_layer_call_fn while saving (showing 5 of 36). These functions will not be directly callable after loading.\n"
          ]
        },
        {
          "name": "stdout",
          "output_type": "stream",
          "text": [
            "INFO:tensorflow:Assets written to: /home/haoming/Projects/python/brain-stroke-prediction/model/tt_model_exp_6_unsampled/assets\n"
          ]
        },
        {
          "name": "stderr",
          "output_type": "stream",
          "text": [
            "INFO:tensorflow:Assets written to: /home/haoming/Projects/python/brain-stroke-prediction/model/tt_model_exp_6_unsampled/assets\n"
          ]
        },
        {
          "name": "stdout",
          "output_type": "stream",
          "text": [
            "119/119 [==============================] - 11s 91ms/step - loss: 0.0920 - acc: 0.9814 - auc: 0.6885 - val_loss: 0.0770 - val_acc: 0.9836 - val_auc: 0.7743\n",
            "Epoch 3/100\n",
            "117/119 [============================>.] - ETA: 0s - loss: 0.0893 - acc: 0.9815 - auc: 0.7131\n",
            "Epoch 3: val_loss improved from 0.07704 to 0.07498, saving model to /home/haoming/Projects/python/brain-stroke-prediction/model/tt_model_exp_6_unsampled\n"
          ]
        },
        {
          "name": "stderr",
          "output_type": "stream",
          "text": [
            "WARNING:absl:Found untraced functions such as query_layer_call_fn, query_layer_call_and_return_conditional_losses, key_layer_call_fn, key_layer_call_and_return_conditional_losses, value_layer_call_fn while saving (showing 5 of 36). These functions will not be directly callable after loading.\n"
          ]
        },
        {
          "name": "stdout",
          "output_type": "stream",
          "text": [
            "INFO:tensorflow:Assets written to: /home/haoming/Projects/python/brain-stroke-prediction/model/tt_model_exp_6_unsampled/assets\n"
          ]
        },
        {
          "name": "stderr",
          "output_type": "stream",
          "text": [
            "INFO:tensorflow:Assets written to: /home/haoming/Projects/python/brain-stroke-prediction/model/tt_model_exp_6_unsampled/assets\n"
          ]
        },
        {
          "name": "stdout",
          "output_type": "stream",
          "text": [
            "119/119 [==============================] - 11s 94ms/step - loss: 0.0891 - acc: 0.9816 - auc: 0.7113 - val_loss: 0.0750 - val_acc: 0.9836 - val_auc: 0.7656\n",
            "Epoch 4/100\n",
            "117/119 [============================>.] - ETA: 0s - loss: 0.0878 - acc: 0.9816 - auc: 0.7224\n",
            "Epoch 4: val_loss improved from 0.07498 to 0.07449, saving model to /home/haoming/Projects/python/brain-stroke-prediction/model/tt_model_exp_6_unsampled\n"
          ]
        },
        {
          "name": "stderr",
          "output_type": "stream",
          "text": [
            "WARNING:absl:Found untraced functions such as query_layer_call_fn, query_layer_call_and_return_conditional_losses, key_layer_call_fn, key_layer_call_and_return_conditional_losses, value_layer_call_fn while saving (showing 5 of 36). These functions will not be directly callable after loading.\n"
          ]
        },
        {
          "name": "stdout",
          "output_type": "stream",
          "text": [
            "INFO:tensorflow:Assets written to: /home/haoming/Projects/python/brain-stroke-prediction/model/tt_model_exp_6_unsampled/assets\n"
          ]
        },
        {
          "name": "stderr",
          "output_type": "stream",
          "text": [
            "INFO:tensorflow:Assets written to: /home/haoming/Projects/python/brain-stroke-prediction/model/tt_model_exp_6_unsampled/assets\n"
          ]
        },
        {
          "name": "stdout",
          "output_type": "stream",
          "text": [
            "119/119 [==============================] - 11s 94ms/step - loss: 0.0876 - acc: 0.9817 - auc: 0.7212 - val_loss: 0.0745 - val_acc: 0.9836 - val_auc: 0.7773\n",
            "Epoch 5/100\n",
            "117/119 [============================>.] - ETA: 0s - loss: 0.0864 - acc: 0.9817 - auc: 0.7254\n",
            "Epoch 5: val_loss improved from 0.07449 to 0.07396, saving model to /home/haoming/Projects/python/brain-stroke-prediction/model/tt_model_exp_6_unsampled\n"
          ]
        },
        {
          "name": "stderr",
          "output_type": "stream",
          "text": [
            "WARNING:absl:Found untraced functions such as query_layer_call_fn, query_layer_call_and_return_conditional_losses, key_layer_call_fn, key_layer_call_and_return_conditional_losses, value_layer_call_fn while saving (showing 5 of 36). These functions will not be directly callable after loading.\n"
          ]
        },
        {
          "name": "stdout",
          "output_type": "stream",
          "text": [
            "INFO:tensorflow:Assets written to: /home/haoming/Projects/python/brain-stroke-prediction/model/tt_model_exp_6_unsampled/assets\n"
          ]
        },
        {
          "name": "stderr",
          "output_type": "stream",
          "text": [
            "INFO:tensorflow:Assets written to: /home/haoming/Projects/python/brain-stroke-prediction/model/tt_model_exp_6_unsampled/assets\n"
          ]
        },
        {
          "name": "stdout",
          "output_type": "stream",
          "text": [
            "119/119 [==============================] - 11s 96ms/step - loss: 0.0862 - acc: 0.9818 - auc: 0.7249 - val_loss: 0.0740 - val_acc: 0.9836 - val_auc: 0.7840\n",
            "Epoch 6/100\n",
            "117/119 [============================>.] - ETA: 0s - loss: 0.0854 - acc: 0.9817 - auc: 0.7366\n",
            "Epoch 6: val_loss did not improve from 0.07396\n",
            "119/119 [==============================] - 3s 21ms/step - loss: 0.0851 - acc: 0.9818 - auc: 0.7368 - val_loss: 0.0745 - val_acc: 0.9836 - val_auc: 0.7874\n",
            "Epoch 7/100\n",
            "118/119 [============================>.] - ETA: 0s - loss: 0.0841 - acc: 0.9819 - auc: 0.7488\n",
            "Epoch 7: val_loss did not improve from 0.07396\n",
            "119/119 [==============================] - 3s 24ms/step - loss: 0.0841 - acc: 0.9819 - auc: 0.7486 - val_loss: 0.0748 - val_acc: 0.9836 - val_auc: 0.7750\n",
            "Epoch 8/100\n",
            "117/119 [============================>.] - ETA: 0s - loss: 0.0839 - acc: 0.9818 - auc: 0.7475\n",
            "Epoch 8: val_loss did not improve from 0.07396\n",
            "119/119 [==============================] - 3s 22ms/step - loss: 0.0836 - acc: 0.9819 - auc: 0.7469 - val_loss: 0.0745 - val_acc: 0.9837 - val_auc: 0.7764\n",
            "Epoch 9/100\n",
            "118/119 [============================>.] - ETA: 0s - loss: 0.0836 - acc: 0.9819 - auc: 0.7507\n",
            "Epoch 9: val_loss did not improve from 0.07396\n",
            "119/119 [==============================] - 2s 21ms/step - loss: 0.0837 - acc: 0.9819 - auc: 0.7495 - val_loss: 0.0752 - val_acc: 0.9833 - val_auc: 0.7820\n",
            "Epoch 10/100\n",
            "119/119 [==============================] - ETA: 0s - loss: 0.0833 - acc: 0.9820 - auc: 0.7498\n",
            "Epoch 10: val_loss did not improve from 0.07396\n",
            "119/119 [==============================] - 3s 24ms/step - loss: 0.0833 - acc: 0.9820 - auc: 0.7498 - val_loss: 0.0745 - val_acc: 0.9836 - val_auc: 0.7786\n",
            "Epoch 11/100\n",
            "118/119 [============================>.] - ETA: 0s - loss: 0.0835 - acc: 0.9819 - auc: 0.7473\n",
            "Epoch 11: val_loss improved from 0.07396 to 0.07363, saving model to /home/haoming/Projects/python/brain-stroke-prediction/model/tt_model_exp_6_unsampled\n"
          ]
        },
        {
          "name": "stderr",
          "output_type": "stream",
          "text": [
            "WARNING:absl:Found untraced functions such as query_layer_call_fn, query_layer_call_and_return_conditional_losses, key_layer_call_fn, key_layer_call_and_return_conditional_losses, value_layer_call_fn while saving (showing 5 of 36). These functions will not be directly callable after loading.\n"
          ]
        },
        {
          "name": "stdout",
          "output_type": "stream",
          "text": [
            "INFO:tensorflow:Assets written to: /home/haoming/Projects/python/brain-stroke-prediction/model/tt_model_exp_6_unsampled/assets\n"
          ]
        },
        {
          "name": "stderr",
          "output_type": "stream",
          "text": [
            "INFO:tensorflow:Assets written to: /home/haoming/Projects/python/brain-stroke-prediction/model/tt_model_exp_6_unsampled/assets\n"
          ]
        },
        {
          "name": "stdout",
          "output_type": "stream",
          "text": [
            "119/119 [==============================] - 11s 93ms/step - loss: 0.0835 - acc: 0.9819 - auc: 0.7471 - val_loss: 0.0736 - val_acc: 0.9836 - val_auc: 0.7945\n",
            "Epoch 12/100\n",
            "118/119 [============================>.] - ETA: 0s - loss: 0.0820 - acc: 0.9819 - auc: 0.7618\n",
            "Epoch 12: val_loss did not improve from 0.07363\n",
            "119/119 [==============================] - 3s 26ms/step - loss: 0.0821 - acc: 0.9819 - auc: 0.7607 - val_loss: 0.0737 - val_acc: 0.9836 - val_auc: 0.7887\n",
            "Epoch 13/100\n",
            "117/119 [============================>.] - ETA: 0s - loss: 0.0830 - acc: 0.9819 - auc: 0.7505\n",
            "Epoch 13: val_loss improved from 0.07363 to 0.07350, saving model to /home/haoming/Projects/python/brain-stroke-prediction/model/tt_model_exp_6_unsampled\n"
          ]
        },
        {
          "name": "stderr",
          "output_type": "stream",
          "text": [
            "WARNING:absl:Found untraced functions such as query_layer_call_fn, query_layer_call_and_return_conditional_losses, key_layer_call_fn, key_layer_call_and_return_conditional_losses, value_layer_call_fn while saving (showing 5 of 36). These functions will not be directly callable after loading.\n"
          ]
        },
        {
          "name": "stdout",
          "output_type": "stream",
          "text": [
            "INFO:tensorflow:Assets written to: /home/haoming/Projects/python/brain-stroke-prediction/model/tt_model_exp_6_unsampled/assets\n"
          ]
        },
        {
          "name": "stderr",
          "output_type": "stream",
          "text": [
            "INFO:tensorflow:Assets written to: /home/haoming/Projects/python/brain-stroke-prediction/model/tt_model_exp_6_unsampled/assets\n"
          ]
        },
        {
          "name": "stdout",
          "output_type": "stream",
          "text": [
            "119/119 [==============================] - 12s 102ms/step - loss: 0.0827 - acc: 0.9820 - auc: 0.7502 - val_loss: 0.0735 - val_acc: 0.9836 - val_auc: 0.7900\n",
            "Epoch 14/100\n",
            "119/119 [==============================] - ETA: 0s - loss: 0.0814 - acc: 0.9820 - auc: 0.7658\n",
            "Epoch 14: val_loss improved from 0.07350 to 0.07333, saving model to /home/haoming/Projects/python/brain-stroke-prediction/model/tt_model_exp_6_unsampled\n"
          ]
        },
        {
          "name": "stderr",
          "output_type": "stream",
          "text": [
            "WARNING:absl:Found untraced functions such as query_layer_call_fn, query_layer_call_and_return_conditional_losses, key_layer_call_fn, key_layer_call_and_return_conditional_losses, value_layer_call_fn while saving (showing 5 of 36). These functions will not be directly callable after loading.\n"
          ]
        },
        {
          "name": "stdout",
          "output_type": "stream",
          "text": [
            "INFO:tensorflow:Assets written to: /home/haoming/Projects/python/brain-stroke-prediction/model/tt_model_exp_6_unsampled/assets\n"
          ]
        },
        {
          "name": "stderr",
          "output_type": "stream",
          "text": [
            "INFO:tensorflow:Assets written to: /home/haoming/Projects/python/brain-stroke-prediction/model/tt_model_exp_6_unsampled/assets\n"
          ]
        },
        {
          "name": "stdout",
          "output_type": "stream",
          "text": [
            "119/119 [==============================] - 11s 97ms/step - loss: 0.0814 - acc: 0.9820 - auc: 0.7658 - val_loss: 0.0733 - val_acc: 0.9836 - val_auc: 0.7948\n",
            "Epoch 15/100\n",
            "118/119 [============================>.] - ETA: 0s - loss: 0.0814 - acc: 0.9820 - auc: 0.7647\n",
            "Epoch 15: val_loss did not improve from 0.07333\n",
            "119/119 [==============================] - 3s 24ms/step - loss: 0.0814 - acc: 0.9820 - auc: 0.7639 - val_loss: 0.0739 - val_acc: 0.9836 - val_auc: 0.7766\n",
            "Epoch 16/100\n",
            "118/119 [============================>.] - ETA: 0s - loss: 0.0808 - acc: 0.9820 - auc: 0.7729\n",
            "Epoch 16: val_loss did not improve from 0.07333\n",
            "119/119 [==============================] - 3s 21ms/step - loss: 0.0809 - acc: 0.9820 - auc: 0.7722 - val_loss: 0.0735 - val_acc: 0.9836 - val_auc: 0.7828\n",
            "Epoch 17/100\n",
            "118/119 [============================>.] - ETA: 0s - loss: 0.0809 - acc: 0.9820 - auc: 0.7697\n",
            "Epoch 17: val_loss did not improve from 0.07333\n",
            "119/119 [==============================] - 2s 21ms/step - loss: 0.0809 - acc: 0.9820 - auc: 0.7691 - val_loss: 0.0736 - val_acc: 0.9836 - val_auc: 0.7912\n",
            "Epoch 18/100\n",
            "117/119 [============================>.] - ETA: 0s - loss: 0.0805 - acc: 0.9819 - auc: 0.7758\n",
            "Epoch 18: val_loss did not improve from 0.07333\n",
            "119/119 [==============================] - 3s 24ms/step - loss: 0.0803 - acc: 0.9820 - auc: 0.7752 - val_loss: 0.0740 - val_acc: 0.9836 - val_auc: 0.7871\n",
            "Epoch 19/100\n",
            "118/119 [============================>.] - ETA: 0s - loss: 0.0807 - acc: 0.9820 - auc: 0.7704\n",
            "Epoch 19: val_loss did not improve from 0.07333\n",
            "119/119 [==============================] - 3s 21ms/step - loss: 0.0807 - acc: 0.9820 - auc: 0.7695 - val_loss: 0.0739 - val_acc: 0.9836 - val_auc: 0.7811\n",
            "Epoch 20/100\n",
            "117/119 [============================>.] - ETA: 0s - loss: 0.0806 - acc: 0.9819 - auc: 0.7765\n",
            "Epoch 20: val_loss did not improve from 0.07333\n",
            "119/119 [==============================] - 3s 22ms/step - loss: 0.0803 - acc: 0.9820 - auc: 0.7758 - val_loss: 0.0741 - val_acc: 0.9836 - val_auc: 0.7826\n",
            "Epoch 21/100\n",
            "118/119 [============================>.] - ETA: 0s - loss: 0.0799 - acc: 0.9820 - auc: 0.7839\n",
            "Epoch 21: val_loss did not improve from 0.07333\n",
            "119/119 [==============================] - 3s 26ms/step - loss: 0.0800 - acc: 0.9820 - auc: 0.7830 - val_loss: 0.0734 - val_acc: 0.9836 - val_auc: 0.7907\n",
            "Epoch 22/100\n",
            "119/119 [==============================] - ETA: 0s - loss: 0.0799 - acc: 0.9820 - auc: 0.7782\n",
            "Epoch 22: val_loss improved from 0.07333 to 0.07321, saving model to /home/haoming/Projects/python/brain-stroke-prediction/model/tt_model_exp_6_unsampled\n"
          ]
        },
        {
          "name": "stderr",
          "output_type": "stream",
          "text": [
            "WARNING:absl:Found untraced functions such as query_layer_call_fn, query_layer_call_and_return_conditional_losses, key_layer_call_fn, key_layer_call_and_return_conditional_losses, value_layer_call_fn while saving (showing 5 of 36). These functions will not be directly callable after loading.\n"
          ]
        },
        {
          "name": "stdout",
          "output_type": "stream",
          "text": [
            "INFO:tensorflow:Assets written to: /home/haoming/Projects/python/brain-stroke-prediction/model/tt_model_exp_6_unsampled/assets\n"
          ]
        },
        {
          "name": "stderr",
          "output_type": "stream",
          "text": [
            "INFO:tensorflow:Assets written to: /home/haoming/Projects/python/brain-stroke-prediction/model/tt_model_exp_6_unsampled/assets\n"
          ]
        },
        {
          "name": "stdout",
          "output_type": "stream",
          "text": [
            "119/119 [==============================] - 11s 96ms/step - loss: 0.0799 - acc: 0.9820 - auc: 0.7782 - val_loss: 0.0732 - val_acc: 0.9836 - val_auc: 0.7951\n",
            "Epoch 23/100\n",
            "117/119 [============================>.] - ETA: 0s - loss: 0.0801 - acc: 0.9819 - auc: 0.7809\n",
            "Epoch 23: val_loss improved from 0.07321 to 0.07310, saving model to /home/haoming/Projects/python/brain-stroke-prediction/model/tt_model_exp_6_unsampled\n"
          ]
        },
        {
          "name": "stderr",
          "output_type": "stream",
          "text": [
            "WARNING:absl:Found untraced functions such as query_layer_call_fn, query_layer_call_and_return_conditional_losses, key_layer_call_fn, key_layer_call_and_return_conditional_losses, value_layer_call_fn while saving (showing 5 of 36). These functions will not be directly callable after loading.\n"
          ]
        },
        {
          "name": "stdout",
          "output_type": "stream",
          "text": [
            "INFO:tensorflow:Assets written to: /home/haoming/Projects/python/brain-stroke-prediction/model/tt_model_exp_6_unsampled/assets\n"
          ]
        },
        {
          "name": "stderr",
          "output_type": "stream",
          "text": [
            "INFO:tensorflow:Assets written to: /home/haoming/Projects/python/brain-stroke-prediction/model/tt_model_exp_6_unsampled/assets\n"
          ]
        },
        {
          "name": "stdout",
          "output_type": "stream",
          "text": [
            "119/119 [==============================] - 12s 104ms/step - loss: 0.0798 - acc: 0.9820 - auc: 0.7802 - val_loss: 0.0731 - val_acc: 0.9836 - val_auc: 0.7892\n",
            "Epoch 24/100\n",
            "118/119 [============================>.] - ETA: 0s - loss: 0.0795 - acc: 0.9820 - auc: 0.7841\n",
            "Epoch 24: val_loss did not improve from 0.07310\n",
            "119/119 [==============================] - 3s 26ms/step - loss: 0.0796 - acc: 0.9820 - auc: 0.7831 - val_loss: 0.0733 - val_acc: 0.9836 - val_auc: 0.7931\n",
            "Epoch 25/100\n",
            "117/119 [============================>.] - ETA: 0s - loss: 0.0800 - acc: 0.9819 - auc: 0.7829\n",
            "Epoch 25: val_loss did not improve from 0.07310\n",
            "119/119 [==============================] - 3s 26ms/step - loss: 0.0798 - acc: 0.9820 - auc: 0.7815 - val_loss: 0.0731 - val_acc: 0.9836 - val_auc: 0.7941\n",
            "Epoch 26/100\n",
            "119/119 [==============================] - ETA: 0s - loss: 0.0797 - acc: 0.9820 - auc: 0.7834\n",
            "Epoch 26: val_loss did not improve from 0.07310\n",
            "119/119 [==============================] - 3s 22ms/step - loss: 0.0797 - acc: 0.9820 - auc: 0.7834 - val_loss: 0.0732 - val_acc: 0.9836 - val_auc: 0.7936\n",
            "Epoch 27/100\n",
            "118/119 [============================>.] - ETA: 0s - loss: 0.0798 - acc: 0.9820 - auc: 0.7812\n",
            "Epoch 27: val_loss did not improve from 0.07310\n",
            "119/119 [==============================] - 3s 21ms/step - loss: 0.0799 - acc: 0.9820 - auc: 0.7806 - val_loss: 0.0735 - val_acc: 0.9836 - val_auc: 0.7917\n",
            "Epoch 28/100\n",
            "117/119 [============================>.] - ETA: 0s - loss: 0.0796 - acc: 0.9819 - auc: 0.7875\n",
            "Epoch 28: val_loss improved from 0.07310 to 0.07305, saving model to /home/haoming/Projects/python/brain-stroke-prediction/model/tt_model_exp_6_unsampled\n"
          ]
        },
        {
          "name": "stderr",
          "output_type": "stream",
          "text": [
            "WARNING:absl:Found untraced functions such as query_layer_call_fn, query_layer_call_and_return_conditional_losses, key_layer_call_fn, key_layer_call_and_return_conditional_losses, value_layer_call_fn while saving (showing 5 of 36). These functions will not be directly callable after loading.\n"
          ]
        },
        {
          "name": "stdout",
          "output_type": "stream",
          "text": [
            "INFO:tensorflow:Assets written to: /home/haoming/Projects/python/brain-stroke-prediction/model/tt_model_exp_6_unsampled/assets\n"
          ]
        },
        {
          "name": "stderr",
          "output_type": "stream",
          "text": [
            "INFO:tensorflow:Assets written to: /home/haoming/Projects/python/brain-stroke-prediction/model/tt_model_exp_6_unsampled/assets\n"
          ]
        },
        {
          "name": "stdout",
          "output_type": "stream",
          "text": [
            "119/119 [==============================] - 13s 108ms/step - loss: 0.0794 - acc: 0.9820 - auc: 0.7863 - val_loss: 0.0731 - val_acc: 0.9836 - val_auc: 0.7916\n",
            "Epoch 29/100\n",
            "118/119 [============================>.] - ETA: 0s - loss: 0.0795 - acc: 0.9820 - auc: 0.7803\n",
            "Epoch 29: val_loss did not improve from 0.07305\n",
            "119/119 [==============================] - 2s 21ms/step - loss: 0.0795 - acc: 0.9820 - auc: 0.7793 - val_loss: 0.0734 - val_acc: 0.9836 - val_auc: 0.7910\n",
            "Epoch 30/100\n",
            "117/119 [============================>.] - ETA: 0s - loss: 0.0796 - acc: 0.9819 - auc: 0.7855\n",
            "Epoch 30: val_loss improved from 0.07305 to 0.07305, saving model to /home/haoming/Projects/python/brain-stroke-prediction/model/tt_model_exp_6_unsampled\n"
          ]
        },
        {
          "name": "stderr",
          "output_type": "stream",
          "text": [
            "WARNING:absl:Found untraced functions such as query_layer_call_fn, query_layer_call_and_return_conditional_losses, key_layer_call_fn, key_layer_call_and_return_conditional_losses, value_layer_call_fn while saving (showing 5 of 36). These functions will not be directly callable after loading.\n"
          ]
        },
        {
          "name": "stdout",
          "output_type": "stream",
          "text": [
            "INFO:tensorflow:Assets written to: /home/haoming/Projects/python/brain-stroke-prediction/model/tt_model_exp_6_unsampled/assets\n"
          ]
        },
        {
          "name": "stderr",
          "output_type": "stream",
          "text": [
            "INFO:tensorflow:Assets written to: /home/haoming/Projects/python/brain-stroke-prediction/model/tt_model_exp_6_unsampled/assets\n"
          ]
        },
        {
          "name": "stdout",
          "output_type": "stream",
          "text": [
            "119/119 [==============================] - 12s 103ms/step - loss: 0.0794 - acc: 0.9820 - auc: 0.7843 - val_loss: 0.0730 - val_acc: 0.9836 - val_auc: 0.7913\n",
            "Epoch 31/100\n",
            "118/119 [============================>.] - ETA: 0s - loss: 0.0796 - acc: 0.9820 - auc: 0.7868\n",
            "Epoch 31: val_loss improved from 0.07305 to 0.07280, saving model to /home/haoming/Projects/python/brain-stroke-prediction/model/tt_model_exp_6_unsampled\n"
          ]
        },
        {
          "name": "stderr",
          "output_type": "stream",
          "text": [
            "WARNING:absl:Found untraced functions such as query_layer_call_fn, query_layer_call_and_return_conditional_losses, key_layer_call_fn, key_layer_call_and_return_conditional_losses, value_layer_call_fn while saving (showing 5 of 36). These functions will not be directly callable after loading.\n"
          ]
        },
        {
          "name": "stdout",
          "output_type": "stream",
          "text": [
            "INFO:tensorflow:Assets written to: /home/haoming/Projects/python/brain-stroke-prediction/model/tt_model_exp_6_unsampled/assets\n"
          ]
        },
        {
          "name": "stderr",
          "output_type": "stream",
          "text": [
            "INFO:tensorflow:Assets written to: /home/haoming/Projects/python/brain-stroke-prediction/model/tt_model_exp_6_unsampled/assets\n"
          ]
        },
        {
          "name": "stdout",
          "output_type": "stream",
          "text": [
            "119/119 [==============================] - 14s 119ms/step - loss: 0.0796 - acc: 0.9820 - auc: 0.7860 - val_loss: 0.0728 - val_acc: 0.9836 - val_auc: 0.7957\n",
            "Epoch 32/100\n",
            "118/119 [============================>.] - ETA: 0s - loss: 0.0793 - acc: 0.9820 - auc: 0.7844\n",
            "Epoch 32: val_loss did not improve from 0.07280\n",
            "119/119 [==============================] - 3s 24ms/step - loss: 0.0793 - acc: 0.9820 - auc: 0.7844 - val_loss: 0.0730 - val_acc: 0.9836 - val_auc: 0.7969\n",
            "Epoch 33/100\n",
            "119/119 [==============================] - ETA: 0s - loss: 0.0794 - acc: 0.9820 - auc: 0.7847\n",
            "Epoch 33: val_loss did not improve from 0.07280\n",
            "119/119 [==============================] - 3s 25ms/step - loss: 0.0794 - acc: 0.9820 - auc: 0.7847 - val_loss: 0.0730 - val_acc: 0.9836 - val_auc: 0.7929\n",
            "Epoch 34/100\n",
            "118/119 [============================>.] - ETA: 0s - loss: 0.0795 - acc: 0.9819 - auc: 0.7851\n",
            "Epoch 34: val_loss did not improve from 0.07280\n",
            "119/119 [==============================] - 3s 21ms/step - loss: 0.0796 - acc: 0.9819 - auc: 0.7837 - val_loss: 0.0728 - val_acc: 0.9836 - val_auc: 0.7957\n",
            "Epoch 35/100\n",
            "117/119 [============================>.] - ETA: 0s - loss: 0.0795 - acc: 0.9819 - auc: 0.7884\n",
            "Epoch 35: val_loss did not improve from 0.07280\n",
            "119/119 [==============================] - 3s 22ms/step - loss: 0.0793 - acc: 0.9820 - auc: 0.7873 - val_loss: 0.0729 - val_acc: 0.9836 - val_auc: 0.7997\n",
            "Epoch 36/100\n",
            "118/119 [============================>.] - ETA: 0s - loss: 0.0792 - acc: 0.9820 - auc: 0.7883\n",
            "Epoch 36: val_loss did not improve from 0.07280\n",
            "119/119 [==============================] - 3s 21ms/step - loss: 0.0792 - acc: 0.9820 - auc: 0.7880 - val_loss: 0.0729 - val_acc: 0.9836 - val_auc: 0.7946\n",
            "Epoch 37/100\n",
            "117/119 [============================>.] - ETA: 0s - loss: 0.0792 - acc: 0.9818 - auc: 0.7889\n",
            "Epoch 37: val_loss improved from 0.07280 to 0.07253, saving model to /home/haoming/Projects/python/brain-stroke-prediction/model/tt_model_exp_6_unsampled\n"
          ]
        },
        {
          "name": "stderr",
          "output_type": "stream",
          "text": [
            "WARNING:absl:Found untraced functions such as query_layer_call_fn, query_layer_call_and_return_conditional_losses, key_layer_call_fn, key_layer_call_and_return_conditional_losses, value_layer_call_fn while saving (showing 5 of 36). These functions will not be directly callable after loading.\n"
          ]
        },
        {
          "name": "stdout",
          "output_type": "stream",
          "text": [
            "INFO:tensorflow:Assets written to: /home/haoming/Projects/python/brain-stroke-prediction/model/tt_model_exp_6_unsampled/assets\n"
          ]
        },
        {
          "name": "stderr",
          "output_type": "stream",
          "text": [
            "INFO:tensorflow:Assets written to: /home/haoming/Projects/python/brain-stroke-prediction/model/tt_model_exp_6_unsampled/assets\n"
          ]
        },
        {
          "name": "stdout",
          "output_type": "stream",
          "text": [
            "119/119 [==============================] - 12s 98ms/step - loss: 0.0790 - acc: 0.9819 - auc: 0.7874 - val_loss: 0.0725 - val_acc: 0.9836 - val_auc: 0.8003\n",
            "Epoch 38/100\n",
            "117/119 [============================>.] - ETA: 0s - loss: 0.0795 - acc: 0.9819 - auc: 0.7877\n",
            "Epoch 38: val_loss did not improve from 0.07253\n",
            "119/119 [==============================] - 3s 22ms/step - loss: 0.0793 - acc: 0.9820 - auc: 0.7866 - val_loss: 0.0727 - val_acc: 0.9836 - val_auc: 0.7994\n",
            "Epoch 39/100\n",
            "118/119 [============================>.] - ETA: 0s - loss: 0.0789 - acc: 0.9820 - auc: 0.7897\n",
            "Epoch 39: val_loss did not improve from 0.07253\n",
            "119/119 [==============================] - 3s 24ms/step - loss: 0.0789 - acc: 0.9820 - auc: 0.7891 - val_loss: 0.0726 - val_acc: 0.9836 - val_auc: 0.7975\n",
            "Epoch 40/100\n",
            "117/119 [============================>.] - ETA: 0s - loss: 0.0791 - acc: 0.9819 - auc: 0.7903\n",
            "Epoch 40: val_loss did not improve from 0.07253\n",
            "119/119 [==============================] - 3s 23ms/step - loss: 0.0789 - acc: 0.9820 - auc: 0.7889 - val_loss: 0.0727 - val_acc: 0.9836 - val_auc: 0.7985\n",
            "Epoch 41/100\n",
            "119/119 [==============================] - ETA: 0s - loss: 0.0791 - acc: 0.9820 - auc: 0.7905\n",
            "Epoch 41: val_loss did not improve from 0.07253\n",
            "119/119 [==============================] - 3s 22ms/step - loss: 0.0791 - acc: 0.9820 - auc: 0.7905 - val_loss: 0.0726 - val_acc: 0.9837 - val_auc: 0.8024\n",
            "Epoch 42/100\n",
            "118/119 [============================>.] - ETA: 0s - loss: 0.0791 - acc: 0.9819 - auc: 0.7899\n",
            "Epoch 42: val_loss did not improve from 0.07253\n",
            "119/119 [==============================] - 3s 23ms/step - loss: 0.0791 - acc: 0.9819 - auc: 0.7889 - val_loss: 0.0726 - val_acc: 0.9836 - val_auc: 0.7988\n",
            "Epoch 43/100\n",
            "117/119 [============================>.] - ETA: 0s - loss: 0.0793 - acc: 0.9819 - auc: 0.7897\n",
            "Epoch 43: val_loss did not improve from 0.07253\n",
            "119/119 [==============================] - 3s 24ms/step - loss: 0.0791 - acc: 0.9820 - auc: 0.7883 - val_loss: 0.0726 - val_acc: 0.9837 - val_auc: 0.8011\n",
            "Epoch 44/100\n",
            "118/119 [============================>.] - ETA: 0s - loss: 0.0786 - acc: 0.9819 - auc: 0.7943\n",
            "Epoch 44: val_loss did not improve from 0.07253\n",
            "119/119 [==============================] - 3s 22ms/step - loss: 0.0787 - acc: 0.9819 - auc: 0.7934 - val_loss: 0.0726 - val_acc: 0.9837 - val_auc: 0.7989\n",
            "Epoch 45/100\n",
            "118/119 [============================>.] - ETA: 0s - loss: 0.0789 - acc: 0.9820 - auc: 0.7915\n",
            "Epoch 45: val_loss did not improve from 0.07253\n",
            "119/119 [==============================] - 3s 22ms/step - loss: 0.0790 - acc: 0.9820 - auc: 0.7906 - val_loss: 0.0728 - val_acc: 0.9836 - val_auc: 0.7977\n",
            "Epoch 46/100\n",
            "118/119 [============================>.] - ETA: 0s - loss: 0.0791 - acc: 0.9820 - auc: 0.7862\n",
            "Epoch 46: val_loss did not improve from 0.07253\n",
            "119/119 [==============================] - 3s 24ms/step - loss: 0.0791 - acc: 0.9820 - auc: 0.7852 - val_loss: 0.0727 - val_acc: 0.9837 - val_auc: 0.7955\n",
            "Epoch 47/100\n",
            "118/119 [============================>.] - ETA: 0s - loss: 0.0787 - acc: 0.9820 - auc: 0.7904\n",
            "Epoch 47: val_loss did not improve from 0.07253\n",
            "119/119 [==============================] - 3s 22ms/step - loss: 0.0788 - acc: 0.9820 - auc: 0.7896 - val_loss: 0.0726 - val_acc: 0.9837 - val_auc: 0.8003\n",
            "Model training finished\n"
          ]
        },
        {
          "name": "stderr",
          "output_type": "stream",
          "text": [
            "WARNING:absl:Found untraced functions such as query_layer_call_fn, query_layer_call_and_return_conditional_losses, key_layer_call_fn, key_layer_call_and_return_conditional_losses, value_layer_call_fn while saving (showing 5 of 36). These functions will not be directly callable after loading.\n"
          ]
        },
        {
          "name": "stdout",
          "output_type": "stream",
          "text": [
            "INFO:tensorflow:Assets written to: /home/haoming/Projects/python/brain-stroke-prediction/model/tt_model_exp_6_unsampled/assets\n"
          ]
        },
        {
          "name": "stderr",
          "output_type": "stream",
          "text": [
            "INFO:tensorflow:Assets written to: /home/haoming/Projects/python/brain-stroke-prediction/model/tt_model_exp_6_unsampled/assets\n"
          ]
        },
        {
          "name": "stdout",
          "output_type": "stream",
          "text": [
            "Validation accuracy: 98.37% AUC: 0.8003250360488892\n",
            "Start training the model...\n",
            "Epoch 1/100\n",
            "     26/Unknown - 7s 24ms/step - loss: 0.0749 - acc: 0.9836 - auc: 0.7638\n",
            "Epoch 1: val_loss improved from inf to 0.07736, saving model to /home/haoming/Projects/python/brain-stroke-prediction/model/tt_model_exp_6_unsampled\n"
          ]
        },
        {
          "name": "stderr",
          "output_type": "stream",
          "text": [
            "WARNING:absl:Found untraced functions such as query_layer_call_fn, query_layer_call_and_return_conditional_losses, key_layer_call_fn, key_layer_call_and_return_conditional_losses, value_layer_call_fn while saving (showing 5 of 36). These functions will not be directly callable after loading.\n"
          ]
        },
        {
          "name": "stdout",
          "output_type": "stream",
          "text": [
            "INFO:tensorflow:Assets written to: /home/haoming/Projects/python/brain-stroke-prediction/model/tt_model_exp_6_unsampled/assets\n"
          ]
        },
        {
          "name": "stderr",
          "output_type": "stream",
          "text": [
            "INFO:tensorflow:Assets written to: /home/haoming/Projects/python/brain-stroke-prediction/model/tt_model_exp_6_unsampled/assets\n"
          ]
        },
        {
          "name": "stdout",
          "output_type": "stream",
          "text": [
            "26/26 [==============================] - 17s 438ms/step - loss: 0.0749 - acc: 0.9836 - auc: 0.7638 - val_loss: 0.0774 - val_acc: 0.9825 - val_auc: 0.7994\n",
            "Epoch 2/100\n",
            "25/26 [===========================>..] - ETA: 0s - loss: 0.0728 - acc: 0.9834 - auc: 0.7885\n",
            "Epoch 2: val_loss improved from 0.07736 to 0.07713, saving model to /home/haoming/Projects/python/brain-stroke-prediction/model/tt_model_exp_6_unsampled\n"
          ]
        },
        {
          "name": "stderr",
          "output_type": "stream",
          "text": [
            "WARNING:absl:Found untraced functions such as query_layer_call_fn, query_layer_call_and_return_conditional_losses, key_layer_call_fn, key_layer_call_and_return_conditional_losses, value_layer_call_fn while saving (showing 5 of 36). These functions will not be directly callable after loading.\n"
          ]
        },
        {
          "name": "stdout",
          "output_type": "stream",
          "text": [
            "INFO:tensorflow:Assets written to: /home/haoming/Projects/python/brain-stroke-prediction/model/tt_model_exp_6_unsampled/assets\n"
          ]
        },
        {
          "name": "stderr",
          "output_type": "stream",
          "text": [
            "INFO:tensorflow:Assets written to: /home/haoming/Projects/python/brain-stroke-prediction/model/tt_model_exp_6_unsampled/assets\n"
          ]
        },
        {
          "name": "stdout",
          "output_type": "stream",
          "text": [
            "26/26 [==============================] - 10s 419ms/step - loss: 0.0723 - acc: 0.9836 - auc: 0.7898 - val_loss: 0.0771 - val_acc: 0.9825 - val_auc: 0.7990\n",
            "Epoch 3/100\n",
            "25/26 [===========================>..] - ETA: 0s - loss: 0.0728 - acc: 0.9834 - auc: 0.7932\n",
            "Epoch 3: val_loss did not improve from 0.07713\n",
            "26/26 [==============================] - 1s 33ms/step - loss: 0.0722 - acc: 0.9836 - auc: 0.7949 - val_loss: 0.0773 - val_acc: 0.9825 - val_auc: 0.7879\n",
            "Epoch 4/100\n",
            "25/26 [===========================>..] - ETA: 0s - loss: 0.0716 - acc: 0.9834 - auc: 0.8016\n",
            "Epoch 4: val_loss did not improve from 0.07713\n",
            "26/26 [==============================] - 1s 33ms/step - loss: 0.0710 - acc: 0.9836 - auc: 0.8036 - val_loss: 0.0779 - val_acc: 0.9826 - val_auc: 0.7819\n",
            "Epoch 5/100\n",
            "26/26 [==============================] - ETA: 0s - loss: 0.0708 - acc: 0.9837 - auc: 0.8070\n",
            "Epoch 5: val_loss did not improve from 0.07713\n",
            "26/26 [==============================] - 1s 33ms/step - loss: 0.0708 - acc: 0.9837 - auc: 0.8070 - val_loss: 0.0790 - val_acc: 0.9825 - val_auc: 0.7700\n",
            "Epoch 6/100\n",
            "25/26 [===========================>..] - ETA: 0s - loss: 0.0715 - acc: 0.9836 - auc: 0.7929\n",
            "Epoch 6: val_loss did not improve from 0.07713\n",
            "26/26 [==============================] - 1s 33ms/step - loss: 0.0710 - acc: 0.9837 - auc: 0.7944 - val_loss: 0.0792 - val_acc: 0.9823 - val_auc: 0.7674\n",
            "Epoch 7/100\n",
            "26/26 [==============================] - ETA: 0s - loss: 0.0703 - acc: 0.9837 - auc: 0.8060\n",
            "Epoch 7: val_loss did not improve from 0.07713\n",
            "26/26 [==============================] - 1s 35ms/step - loss: 0.0703 - acc: 0.9837 - auc: 0.8060 - val_loss: 0.0798 - val_acc: 0.9825 - val_auc: 0.7669\n",
            "Epoch 8/100\n",
            "25/26 [===========================>..] - ETA: 0s - loss: 0.0702 - acc: 0.9836 - auc: 0.8024\n",
            "Epoch 8: val_loss did not improve from 0.07713\n",
            "26/26 [==============================] - 1s 33ms/step - loss: 0.0696 - acc: 0.9837 - auc: 0.8044 - val_loss: 0.0805 - val_acc: 0.9825 - val_auc: 0.7604\n",
            "Epoch 9/100\n",
            "25/26 [===========================>..] - ETA: 0s - loss: 0.0689 - acc: 0.9833 - auc: 0.8265\n",
            "Epoch 9: val_loss did not improve from 0.07713\n",
            "26/26 [==============================] - 1s 33ms/step - loss: 0.0683 - acc: 0.9834 - auc: 0.8284 - val_loss: 0.0799 - val_acc: 0.9822 - val_auc: 0.7628\n",
            "Epoch 10/100\n",
            "25/26 [===========================>..] - ETA: 0s - loss: 0.0684 - acc: 0.9839 - auc: 0.8255\n",
            "Epoch 10: val_loss did not improve from 0.07713\n",
            "26/26 [==============================] - 1s 33ms/step - loss: 0.0677 - acc: 0.9840 - auc: 0.8274 - val_loss: 0.0810 - val_acc: 0.9823 - val_auc: 0.7591\n",
            "Epoch 11/100\n",
            "25/26 [===========================>..] - ETA: 0s - loss: 0.0695 - acc: 0.9836 - auc: 0.8178\n",
            "Epoch 11: val_loss did not improve from 0.07713\n",
            "26/26 [==============================] - 1s 32ms/step - loss: 0.0689 - acc: 0.9837 - auc: 0.8197 - val_loss: 0.0800 - val_acc: 0.9822 - val_auc: 0.7616\n",
            "Epoch 12/100\n",
            "26/26 [==============================] - ETA: 0s - loss: 0.0677 - acc: 0.9836 - auc: 0.8372\n",
            "Epoch 12: val_loss did not improve from 0.07713\n",
            "26/26 [==============================] - 1s 34ms/step - loss: 0.0677 - acc: 0.9836 - auc: 0.8372 - val_loss: 0.0806 - val_acc: 0.9822 - val_auc: 0.7588\n",
            "Model training finished\n"
          ]
        },
        {
          "name": "stderr",
          "output_type": "stream",
          "text": [
            "WARNING:absl:Found untraced functions such as query_layer_call_fn, query_layer_call_and_return_conditional_losses, key_layer_call_fn, key_layer_call_and_return_conditional_losses, value_layer_call_fn while saving (showing 5 of 36). These functions will not be directly callable after loading.\n"
          ]
        },
        {
          "name": "stdout",
          "output_type": "stream",
          "text": [
            "INFO:tensorflow:Assets written to: /home/haoming/Projects/python/brain-stroke-prediction/model/tt_model_exp_6_unsampled/assets\n"
          ]
        },
        {
          "name": "stderr",
          "output_type": "stream",
          "text": [
            "INFO:tensorflow:Assets written to: /home/haoming/Projects/python/brain-stroke-prediction/model/tt_model_exp_6_unsampled/assets\n"
          ]
        },
        {
          "name": "stdout",
          "output_type": "stream",
          "text": [
            "Validation accuracy: 98.22% AUC: 0.7587588429450989\n"
          ]
        },
        {
          "name": "stderr",
          "output_type": "stream",
          "text": [
            "/tmp/ipykernel_4645/1735405672.py:46: SettingWithCopyWarning: \n",
            "A value is trying to be set on a copy of a slice from a DataFrame.\n",
            "Try using .loc[row_indexer,col_indexer] = value instead\n",
            "\n",
            "See the caveats in the documentation: https://pandas.pydata.org/pandas-docs/stable/user_guide/indexing.html#returning-a-view-versus-a-copy\n",
            "  data[categorical_features] = enc.fit_transform(data[categorical_features])\n"
          ]
        },
        {
          "name": "stdout",
          "output_type": "stream",
          "text": [
            "Start training the model...\n",
            "Epoch 1/100\n",
            "    200/Unknown - 10s 22ms/step - loss: 0.2417 - acc: 0.9157 - auc: 0.9645\n",
            "Epoch 1: val_loss improved from inf to 2.65259, saving model to /home/haoming/Projects/python/brain-stroke-prediction/model/tt_model_exp_6_resampled\n"
          ]
        },
        {
          "name": "stderr",
          "output_type": "stream",
          "text": [
            "WARNING:absl:Found untraced functions such as query_layer_call_fn, query_layer_call_and_return_conditional_losses, key_layer_call_fn, key_layer_call_and_return_conditional_losses, value_layer_call_fn while saving (showing 5 of 36). These functions will not be directly callable after loading.\n"
          ]
        },
        {
          "name": "stdout",
          "output_type": "stream",
          "text": [
            "INFO:tensorflow:Assets written to: /home/haoming/Projects/python/brain-stroke-prediction/model/tt_model_exp_6_resampled/assets\n"
          ]
        },
        {
          "name": "stderr",
          "output_type": "stream",
          "text": [
            "INFO:tensorflow:Assets written to: /home/haoming/Projects/python/brain-stroke-prediction/model/tt_model_exp_6_resampled/assets\n"
          ]
        },
        {
          "name": "stdout",
          "output_type": "stream",
          "text": [
            "201/201 [==============================] - 19s 67ms/step - loss: 0.2413 - acc: 0.9158 - auc: 0.9646 - val_loss: 2.6526 - val_acc: 0.3370 - val_auc: 0.7217\n",
            "Epoch 2/100\n",
            "200/201 [============================>.] - ETA: 0s - loss: 0.2996 - acc: 0.8940 - auc: 0.9414\n",
            "Epoch 2: val_loss did not improve from 2.65259\n",
            "201/201 [==============================] - 4s 21ms/step - loss: 0.2990 - acc: 0.8942 - auc: 0.9415 - val_loss: 2.9716 - val_acc: 0.1805 - val_auc: 0.7379\n",
            "Epoch 3/100\n",
            "199/201 [============================>.] - ETA: 0s - loss: 0.3022 - acc: 0.8922 - auc: 0.9406\n",
            "Epoch 3: val_loss did not improve from 2.65259\n",
            "201/201 [==============================] - 4s 21ms/step - loss: 0.3006 - acc: 0.8928 - auc: 0.9410 - val_loss: 4.5685 - val_acc: 0.2429 - val_auc: 0.6587\n",
            "Epoch 4/100\n",
            "200/201 [============================>.] - ETA: 0s - loss: 0.3256 - acc: 0.8739 - auc: 0.9349\n",
            "Epoch 4: val_loss did not improve from 2.65259\n",
            "201/201 [==============================] - 4s 21ms/step - loss: 0.3250 - acc: 0.8741 - auc: 0.9351 - val_loss: 5.6847 - val_acc: 0.1659 - val_auc: 0.6013\n",
            "Epoch 5/100\n",
            "199/201 [============================>.] - ETA: 0s - loss: 0.3501 - acc: 0.8781 - auc: 0.9252\n",
            "Epoch 5: val_loss did not improve from 2.65259\n",
            "201/201 [==============================] - 4s 21ms/step - loss: 0.3482 - acc: 0.8789 - auc: 0.9258 - val_loss: 3.2228 - val_acc: 0.3309 - val_auc: 0.7176\n",
            "Epoch 6/100\n",
            "201/201 [==============================] - ETA: 0s - loss: 0.3206 - acc: 0.8878 - auc: 0.9320\n",
            "Epoch 6: val_loss did not improve from 2.65259\n",
            "201/201 [==============================] - 4s 22ms/step - loss: 0.3206 - acc: 0.8878 - auc: 0.9320 - val_loss: 3.2396 - val_acc: 0.1957 - val_auc: 0.7283\n",
            "Epoch 7/100\n",
            "201/201 [==============================] - ETA: 0s - loss: 0.3438 - acc: 0.8831 - auc: 0.9236\n",
            "Epoch 7: val_loss improved from 2.65259 to 2.17161, saving model to /home/haoming/Projects/python/brain-stroke-prediction/model/tt_model_exp_6_resampled\n"
          ]
        },
        {
          "name": "stderr",
          "output_type": "stream",
          "text": [
            "WARNING:absl:Found untraced functions such as query_layer_call_fn, query_layer_call_and_return_conditional_losses, key_layer_call_fn, key_layer_call_and_return_conditional_losses, value_layer_call_fn while saving (showing 5 of 36). These functions will not be directly callable after loading.\n"
          ]
        },
        {
          "name": "stdout",
          "output_type": "stream",
          "text": [
            "INFO:tensorflow:Assets written to: /home/haoming/Projects/python/brain-stroke-prediction/model/tt_model_exp_6_resampled/assets\n"
          ]
        },
        {
          "name": "stderr",
          "output_type": "stream",
          "text": [
            "INFO:tensorflow:Assets written to: /home/haoming/Projects/python/brain-stroke-prediction/model/tt_model_exp_6_resampled/assets\n"
          ]
        },
        {
          "name": "stdout",
          "output_type": "stream",
          "text": [
            "201/201 [==============================] - 13s 63ms/step - loss: 0.3438 - acc: 0.8831 - auc: 0.9236 - val_loss: 2.1716 - val_acc: 0.3464 - val_auc: 0.7457\n",
            "Epoch 8/100\n",
            "200/201 [============================>.] - ETA: 0s - loss: 0.3346 - acc: 0.8832 - auc: 0.9290\n",
            "Epoch 8: val_loss did not improve from 2.17161\n",
            "201/201 [==============================] - 4s 21ms/step - loss: 0.3341 - acc: 0.8834 - auc: 0.9291 - val_loss: 3.1072 - val_acc: 0.1922 - val_auc: 0.7187\n",
            "Epoch 9/100\n",
            "199/201 [============================>.] - ETA: 0s - loss: 0.3471 - acc: 0.8741 - auc: 0.9232\n",
            "Epoch 9: val_loss did not improve from 2.17161\n",
            "201/201 [==============================] - 4s 21ms/step - loss: 0.3452 - acc: 0.8749 - auc: 0.9238 - val_loss: 2.3266 - val_acc: 0.3306 - val_auc: 0.7379\n",
            "Epoch 10/100\n",
            "199/201 [============================>.] - ETA: 0s - loss: 0.3764 - acc: 0.8607 - auc: 0.9137\n",
            "Epoch 10: val_loss did not improve from 2.17161\n",
            "201/201 [==============================] - 4s 21ms/step - loss: 0.3744 - acc: 0.8616 - auc: 0.9143 - val_loss: 2.4798 - val_acc: 0.3238 - val_auc: 0.7301\n",
            "Epoch 11/100\n",
            "201/201 [==============================] - ETA: 0s - loss: 0.3285 - acc: 0.8810 - auc: 0.9332\n",
            "Epoch 11: val_loss did not improve from 2.17161\n",
            "201/201 [==============================] - 4s 21ms/step - loss: 0.3285 - acc: 0.8810 - auc: 0.9332 - val_loss: 2.7799 - val_acc: 0.1916 - val_auc: 0.7026\n",
            "Epoch 12/100\n",
            "200/201 [============================>.] - ETA: 0s - loss: 0.3337 - acc: 0.8806 - auc: 0.9307\n",
            "Epoch 12: val_loss did not improve from 2.17161\n",
            "201/201 [==============================] - 4s 21ms/step - loss: 0.3331 - acc: 0.8809 - auc: 0.9308 - val_loss: 4.7835 - val_acc: 0.3573 - val_auc: 0.6524\n",
            "Epoch 13/100\n",
            "199/201 [============================>.] - ETA: 0s - loss: 0.3577 - acc: 0.8777 - auc: 0.9274\n",
            "Epoch 13: val_loss did not improve from 2.17161\n",
            "201/201 [==============================] - 4s 21ms/step - loss: 0.3558 - acc: 0.8784 - auc: 0.9278 - val_loss: 3.1321 - val_acc: 0.0969 - val_auc: 0.7326\n",
            "Epoch 14/100\n",
            "199/201 [============================>.] - ETA: 0s - loss: 0.3466 - acc: 0.8774 - auc: 0.9266\n",
            "Epoch 14: val_loss did not improve from 2.17161\n",
            "201/201 [==============================] - 4s 21ms/step - loss: 0.3448 - acc: 0.8782 - auc: 0.9272 - val_loss: 2.8478 - val_acc: 0.1742 - val_auc: 0.7290\n",
            "Epoch 15/100\n",
            "201/201 [==============================] - ETA: 0s - loss: 0.3598 - acc: 0.8710 - auc: 0.9176\n",
            "Epoch 15: val_loss did not improve from 2.17161\n",
            "201/201 [==============================] - 4s 21ms/step - loss: 0.3598 - acc: 0.8710 - auc: 0.9176 - val_loss: 3.6613 - val_acc: 0.0166 - val_auc: 0.7434\n",
            "Epoch 16/100\n",
            "201/201 [==============================] - ETA: 0s - loss: 0.3425 - acc: 0.8785 - auc: 0.9237\n",
            "Epoch 16: val_loss did not improve from 2.17161\n",
            "201/201 [==============================] - 4s 21ms/step - loss: 0.3425 - acc: 0.8785 - auc: 0.9237 - val_loss: 2.6386 - val_acc: 0.2478 - val_auc: 0.7532\n",
            "Epoch 17/100\n",
            "201/201 [==============================] - ETA: 0s - loss: 0.3426 - acc: 0.8785 - auc: 0.9210\n",
            "Epoch 17: val_loss did not improve from 2.17161\n",
            "201/201 [==============================] - 4s 21ms/step - loss: 0.3426 - acc: 0.8785 - auc: 0.9210 - val_loss: 2.6257 - val_acc: 0.2404 - val_auc: 0.7480\n",
            "Model training finished\n"
          ]
        },
        {
          "name": "stderr",
          "output_type": "stream",
          "text": [
            "WARNING:absl:Found untraced functions such as query_layer_call_fn, query_layer_call_and_return_conditional_losses, key_layer_call_fn, key_layer_call_and_return_conditional_losses, value_layer_call_fn while saving (showing 5 of 36). These functions will not be directly callable after loading.\n"
          ]
        },
        {
          "name": "stdout",
          "output_type": "stream",
          "text": [
            "INFO:tensorflow:Assets written to: /home/haoming/Projects/python/brain-stroke-prediction/model/tt_model_exp_6_resampled/assets\n"
          ]
        },
        {
          "name": "stderr",
          "output_type": "stream",
          "text": [
            "INFO:tensorflow:Assets written to: /home/haoming/Projects/python/brain-stroke-prediction/model/tt_model_exp_6_resampled/assets\n"
          ]
        },
        {
          "name": "stdout",
          "output_type": "stream",
          "text": [
            "Validation accuracy: 24.04% AUC: 0.7479620575904846\n",
            "Start training the model...\n",
            "Epoch 1/100\n",
            "     25/Unknown - 6s 19ms/step - loss: 1.2002 - acc: 0.5158 - auc: 0.7243\n",
            "Epoch 1: val_loss improved from inf to 0.23093, saving model to /home/haoming/Projects/python/brain-stroke-prediction/model/tt_model_exp_6_resampled\n"
          ]
        },
        {
          "name": "stderr",
          "output_type": "stream",
          "text": [
            "WARNING:absl:Found untraced functions such as query_layer_call_fn, query_layer_call_and_return_conditional_losses, key_layer_call_fn, key_layer_call_and_return_conditional_losses, value_layer_call_fn while saving (showing 5 of 36). These functions will not be directly callable after loading.\n"
          ]
        },
        {
          "name": "stdout",
          "output_type": "stream",
          "text": [
            "INFO:tensorflow:Assets written to: /home/haoming/Projects/python/brain-stroke-prediction/model/tt_model_exp_6_resampled/assets\n"
          ]
        },
        {
          "name": "stderr",
          "output_type": "stream",
          "text": [
            "INFO:tensorflow:Assets written to: /home/haoming/Projects/python/brain-stroke-prediction/model/tt_model_exp_6_resampled/assets\n"
          ]
        },
        {
          "name": "stdout",
          "output_type": "stream",
          "text": [
            "26/26 [==============================] - 16s 413ms/step - loss: 1.1830 - acc: 0.5227 - auc: 0.7163 - val_loss: 0.2309 - val_acc: 0.8779 - val_auc: 0.4567\n",
            "Epoch 2/100\n",
            "25/26 [===========================>..] - ETA: 0s - loss: 0.1014 - acc: 0.9811 - auc: 0.6762\n",
            "Epoch 2: val_loss improved from 0.23093 to 0.17472, saving model to /home/haoming/Projects/python/brain-stroke-prediction/model/tt_model_exp_6_resampled\n"
          ]
        },
        {
          "name": "stderr",
          "output_type": "stream",
          "text": [
            "WARNING:absl:Found untraced functions such as query_layer_call_fn, query_layer_call_and_return_conditional_losses, key_layer_call_fn, key_layer_call_and_return_conditional_losses, value_layer_call_fn while saving (showing 5 of 36). These functions will not be directly callable after loading.\n"
          ]
        },
        {
          "name": "stdout",
          "output_type": "stream",
          "text": [
            "INFO:tensorflow:Assets written to: /home/haoming/Projects/python/brain-stroke-prediction/model/tt_model_exp_6_resampled/assets\n"
          ]
        },
        {
          "name": "stderr",
          "output_type": "stream",
          "text": [
            "INFO:tensorflow:Assets written to: /home/haoming/Projects/python/brain-stroke-prediction/model/tt_model_exp_6_resampled/assets\n"
          ]
        },
        {
          "name": "stdout",
          "output_type": "stream",
          "text": [
            "26/26 [==============================] - 8s 338ms/step - loss: 0.1026 - acc: 0.9808 - auc: 0.6724 - val_loss: 0.1747 - val_acc: 0.9825 - val_auc: 0.4340\n",
            "Epoch 3/100\n",
            "25/26 [===========================>..] - ETA: 0s - loss: 0.0851 - acc: 0.9839 - auc: 0.6763\n",
            "Epoch 3: val_loss improved from 0.17472 to 0.08275, saving model to /home/haoming/Projects/python/brain-stroke-prediction/model/tt_model_exp_6_resampled\n"
          ]
        },
        {
          "name": "stderr",
          "output_type": "stream",
          "text": [
            "WARNING:absl:Found untraced functions such as query_layer_call_fn, query_layer_call_and_return_conditional_losses, key_layer_call_fn, key_layer_call_and_return_conditional_losses, value_layer_call_fn while saving (showing 5 of 36). These functions will not be directly callable after loading.\n"
          ]
        },
        {
          "name": "stdout",
          "output_type": "stream",
          "text": [
            "INFO:tensorflow:Assets written to: /home/haoming/Projects/python/brain-stroke-prediction/model/tt_model_exp_6_resampled/assets\n"
          ]
        },
        {
          "name": "stderr",
          "output_type": "stream",
          "text": [
            "INFO:tensorflow:Assets written to: /home/haoming/Projects/python/brain-stroke-prediction/model/tt_model_exp_6_resampled/assets\n"
          ]
        },
        {
          "name": "stdout",
          "output_type": "stream",
          "text": [
            "26/26 [==============================] - 8s 336ms/step - loss: 0.0861 - acc: 0.9836 - auc: 0.6804 - val_loss: 0.0828 - val_acc: 0.9825 - val_auc: 0.7451\n",
            "Epoch 4/100\n",
            "25/26 [===========================>..] - ETA: 0s - loss: 0.0792 - acc: 0.9839 - auc: 0.7219\n",
            "Epoch 4: val_loss improved from 0.08275 to 0.08004, saving model to /home/haoming/Projects/python/brain-stroke-prediction/model/tt_model_exp_6_resampled\n"
          ]
        },
        {
          "name": "stderr",
          "output_type": "stream",
          "text": [
            "WARNING:absl:Found untraced functions such as query_layer_call_fn, query_layer_call_and_return_conditional_losses, key_layer_call_fn, key_layer_call_and_return_conditional_losses, value_layer_call_fn while saving (showing 5 of 36). These functions will not be directly callable after loading.\n"
          ]
        },
        {
          "name": "stdout",
          "output_type": "stream",
          "text": [
            "INFO:tensorflow:Assets written to: /home/haoming/Projects/python/brain-stroke-prediction/model/tt_model_exp_6_resampled/assets\n"
          ]
        },
        {
          "name": "stderr",
          "output_type": "stream",
          "text": [
            "INFO:tensorflow:Assets written to: /home/haoming/Projects/python/brain-stroke-prediction/model/tt_model_exp_6_resampled/assets\n"
          ]
        },
        {
          "name": "stdout",
          "output_type": "stream",
          "text": [
            "26/26 [==============================] - 7s 296ms/step - loss: 0.0803 - acc: 0.9836 - auc: 0.7240 - val_loss: 0.0800 - val_acc: 0.9825 - val_auc: 0.7653\n",
            "Epoch 5/100\n",
            "25/26 [===========================>..] - ETA: 0s - loss: 0.0775 - acc: 0.9839 - auc: 0.7419\n",
            "Epoch 5: val_loss improved from 0.08004 to 0.07933, saving model to /home/haoming/Projects/python/brain-stroke-prediction/model/tt_model_exp_6_resampled\n"
          ]
        },
        {
          "name": "stderr",
          "output_type": "stream",
          "text": [
            "WARNING:absl:Found untraced functions such as query_layer_call_fn, query_layer_call_and_return_conditional_losses, key_layer_call_fn, key_layer_call_and_return_conditional_losses, value_layer_call_fn while saving (showing 5 of 36). These functions will not be directly callable after loading.\n"
          ]
        },
        {
          "name": "stdout",
          "output_type": "stream",
          "text": [
            "INFO:tensorflow:Assets written to: /home/haoming/Projects/python/brain-stroke-prediction/model/tt_model_exp_6_resampled/assets\n"
          ]
        },
        {
          "name": "stderr",
          "output_type": "stream",
          "text": [
            "INFO:tensorflow:Assets written to: /home/haoming/Projects/python/brain-stroke-prediction/model/tt_model_exp_6_resampled/assets\n"
          ]
        },
        {
          "name": "stdout",
          "output_type": "stream",
          "text": [
            "26/26 [==============================] - 8s 336ms/step - loss: 0.0787 - acc: 0.9836 - auc: 0.7432 - val_loss: 0.0793 - val_acc: 0.9825 - val_auc: 0.7748\n",
            "Epoch 6/100\n",
            "25/26 [===========================>..] - ETA: 0s - loss: 0.0772 - acc: 0.9839 - auc: 0.7511\n",
            "Epoch 6: val_loss did not improve from 0.07933\n",
            "26/26 [==============================] - 1s 26ms/step - loss: 0.0784 - acc: 0.9836 - auc: 0.7509 - val_loss: 0.0794 - val_acc: 0.9825 - val_auc: 0.7691\n",
            "Epoch 7/100\n",
            "25/26 [===========================>..] - ETA: 0s - loss: 0.0768 - acc: 0.9839 - auc: 0.7469\n",
            "Epoch 7: val_loss did not improve from 0.07933\n",
            "26/26 [==============================] - 1s 27ms/step - loss: 0.0779 - acc: 0.9836 - auc: 0.7483 - val_loss: 0.0799 - val_acc: 0.9825 - val_auc: 0.7791\n",
            "Epoch 8/100\n",
            "25/26 [===========================>..] - ETA: 0s - loss: 0.0773 - acc: 0.9839 - auc: 0.7462\n",
            "Epoch 8: val_loss improved from 0.07933 to 0.07863, saving model to /home/haoming/Projects/python/brain-stroke-prediction/model/tt_model_exp_6_resampled\n"
          ]
        },
        {
          "name": "stderr",
          "output_type": "stream",
          "text": [
            "WARNING:absl:Found untraced functions such as query_layer_call_fn, query_layer_call_and_return_conditional_losses, key_layer_call_fn, key_layer_call_and_return_conditional_losses, value_layer_call_fn while saving (showing 5 of 36). These functions will not be directly callable after loading.\n"
          ]
        },
        {
          "name": "stdout",
          "output_type": "stream",
          "text": [
            "INFO:tensorflow:Assets written to: /home/haoming/Projects/python/brain-stroke-prediction/model/tt_model_exp_6_resampled/assets\n"
          ]
        },
        {
          "name": "stderr",
          "output_type": "stream",
          "text": [
            "INFO:tensorflow:Assets written to: /home/haoming/Projects/python/brain-stroke-prediction/model/tt_model_exp_6_resampled/assets\n"
          ]
        },
        {
          "name": "stdout",
          "output_type": "stream",
          "text": [
            "26/26 [==============================] - 8s 324ms/step - loss: 0.0785 - acc: 0.9836 - auc: 0.7469 - val_loss: 0.0786 - val_acc: 0.9825 - val_auc: 0.7833\n",
            "Epoch 9/100\n",
            "25/26 [===========================>..] - ETA: 0s - loss: 0.0774 - acc: 0.9839 - auc: 0.7494\n",
            "Epoch 9: val_loss did not improve from 0.07863\n",
            "26/26 [==============================] - 1s 26ms/step - loss: 0.0786 - acc: 0.9836 - auc: 0.7501 - val_loss: 0.0792 - val_acc: 0.9825 - val_auc: 0.7755\n",
            "Epoch 10/100\n",
            "25/26 [===========================>..] - ETA: 0s - loss: 0.0772 - acc: 0.9839 - auc: 0.7478\n",
            "Epoch 10: val_loss improved from 0.07863 to 0.07847, saving model to /home/haoming/Projects/python/brain-stroke-prediction/model/tt_model_exp_6_resampled\n"
          ]
        },
        {
          "name": "stderr",
          "output_type": "stream",
          "text": [
            "WARNING:absl:Found untraced functions such as query_layer_call_fn, query_layer_call_and_return_conditional_losses, key_layer_call_fn, key_layer_call_and_return_conditional_losses, value_layer_call_fn while saving (showing 5 of 36). These functions will not be directly callable after loading.\n"
          ]
        },
        {
          "name": "stdout",
          "output_type": "stream",
          "text": [
            "INFO:tensorflow:Assets written to: /home/haoming/Projects/python/brain-stroke-prediction/model/tt_model_exp_6_resampled/assets\n"
          ]
        },
        {
          "name": "stderr",
          "output_type": "stream",
          "text": [
            "INFO:tensorflow:Assets written to: /home/haoming/Projects/python/brain-stroke-prediction/model/tt_model_exp_6_resampled/assets\n"
          ]
        },
        {
          "name": "stdout",
          "output_type": "stream",
          "text": [
            "26/26 [==============================] - 8s 303ms/step - loss: 0.0781 - acc: 0.9836 - auc: 0.7529 - val_loss: 0.0785 - val_acc: 0.9825 - val_auc: 0.7884\n",
            "Epoch 11/100\n",
            "24/26 [==========================>...] - ETA: 0s - loss: 0.0762 - acc: 0.9840 - auc: 0.7497\n",
            "Epoch 11: val_loss improved from 0.07847 to 0.07832, saving model to /home/haoming/Projects/python/brain-stroke-prediction/model/tt_model_exp_6_resampled\n"
          ]
        },
        {
          "name": "stderr",
          "output_type": "stream",
          "text": [
            "WARNING:absl:Found untraced functions such as query_layer_call_fn, query_layer_call_and_return_conditional_losses, key_layer_call_fn, key_layer_call_and_return_conditional_losses, value_layer_call_fn while saving (showing 5 of 36). These functions will not be directly callable after loading.\n"
          ]
        },
        {
          "name": "stdout",
          "output_type": "stream",
          "text": [
            "INFO:tensorflow:Assets written to: /home/haoming/Projects/python/brain-stroke-prediction/model/tt_model_exp_6_resampled/assets\n"
          ]
        },
        {
          "name": "stderr",
          "output_type": "stream",
          "text": [
            "INFO:tensorflow:Assets written to: /home/haoming/Projects/python/brain-stroke-prediction/model/tt_model_exp_6_resampled/assets\n"
          ]
        },
        {
          "name": "stdout",
          "output_type": "stream",
          "text": [
            "26/26 [==============================] - 8s 335ms/step - loss: 0.0774 - acc: 0.9836 - auc: 0.7570 - val_loss: 0.0783 - val_acc: 0.9825 - val_auc: 0.7904\n",
            "Epoch 12/100\n",
            "25/26 [===========================>..] - ETA: 0s - loss: 0.0762 - acc: 0.9839 - auc: 0.7669\n",
            "Epoch 12: val_loss improved from 0.07832 to 0.07809, saving model to /home/haoming/Projects/python/brain-stroke-prediction/model/tt_model_exp_6_resampled\n"
          ]
        },
        {
          "name": "stderr",
          "output_type": "stream",
          "text": [
            "WARNING:absl:Found untraced functions such as query_layer_call_fn, query_layer_call_and_return_conditional_losses, key_layer_call_fn, key_layer_call_and_return_conditional_losses, value_layer_call_fn while saving (showing 5 of 36). These functions will not be directly callable after loading.\n"
          ]
        },
        {
          "name": "stdout",
          "output_type": "stream",
          "text": [
            "INFO:tensorflow:Assets written to: /home/haoming/Projects/python/brain-stroke-prediction/model/tt_model_exp_6_resampled/assets\n"
          ]
        },
        {
          "name": "stderr",
          "output_type": "stream",
          "text": [
            "INFO:tensorflow:Assets written to: /home/haoming/Projects/python/brain-stroke-prediction/model/tt_model_exp_6_resampled/assets\n"
          ]
        },
        {
          "name": "stdout",
          "output_type": "stream",
          "text": [
            "26/26 [==============================] - 8s 324ms/step - loss: 0.0776 - acc: 0.9836 - auc: 0.7650 - val_loss: 0.0781 - val_acc: 0.9825 - val_auc: 0.7925\n",
            "Epoch 13/100\n",
            "25/26 [===========================>..] - ETA: 0s - loss: 0.0753 - acc: 0.9839 - auc: 0.7623\n",
            "Epoch 13: val_loss did not improve from 0.07809\n",
            "26/26 [==============================] - 1s 26ms/step - loss: 0.0764 - acc: 0.9836 - auc: 0.7654 - val_loss: 0.0785 - val_acc: 0.9825 - val_auc: 0.7829\n",
            "Epoch 14/100\n",
            "25/26 [===========================>..] - ETA: 0s - loss: 0.0757 - acc: 0.9839 - auc: 0.7595\n",
            "Epoch 14: val_loss did not improve from 0.07809\n",
            "26/26 [==============================] - 1s 26ms/step - loss: 0.0772 - acc: 0.9836 - auc: 0.7558 - val_loss: 0.0808 - val_acc: 0.9825 - val_auc: 0.7659\n",
            "Epoch 15/100\n",
            "25/26 [===========================>..] - ETA: 0s - loss: 0.0750 - acc: 0.9839 - auc: 0.7713\n",
            "Epoch 15: val_loss did not improve from 0.07809\n",
            "26/26 [==============================] - 1s 26ms/step - loss: 0.0762 - acc: 0.9836 - auc: 0.7701 - val_loss: 0.0785 - val_acc: 0.9825 - val_auc: 0.7840\n",
            "Epoch 16/100\n",
            "25/26 [===========================>..] - ETA: 0s - loss: 0.0749 - acc: 0.9839 - auc: 0.7673\n",
            "Epoch 16: val_loss did not improve from 0.07809\n",
            "26/26 [==============================] - 1s 26ms/step - loss: 0.0760 - acc: 0.9836 - auc: 0.7688 - val_loss: 0.0801 - val_acc: 0.9825 - val_auc: 0.7724\n",
            "Epoch 17/100\n",
            "25/26 [===========================>..] - ETA: 0s - loss: 0.0750 - acc: 0.9839 - auc: 0.7682\n",
            "Epoch 17: val_loss did not improve from 0.07809\n",
            "26/26 [==============================] - 1s 26ms/step - loss: 0.0762 - acc: 0.9836 - auc: 0.7697 - val_loss: 0.0794 - val_acc: 0.9825 - val_auc: 0.7735\n",
            "Epoch 18/100\n",
            "25/26 [===========================>..] - ETA: 0s - loss: 0.0758 - acc: 0.9839 - auc: 0.7516\n",
            "Epoch 18: val_loss did not improve from 0.07809\n",
            "26/26 [==============================] - 1s 27ms/step - loss: 0.0770 - acc: 0.9836 - auc: 0.7515 - val_loss: 0.0816 - val_acc: 0.9825 - val_auc: 0.7617\n",
            "Epoch 19/100\n",
            "24/26 [==========================>...] - ETA: 0s - loss: 0.0758 - acc: 0.9840 - auc: 0.7480\n",
            "Epoch 19: val_loss did not improve from 0.07809\n",
            "26/26 [==============================] - 1s 27ms/step - loss: 0.0770 - acc: 0.9836 - auc: 0.7551 - val_loss: 0.0792 - val_acc: 0.9825 - val_auc: 0.7795\n",
            "Epoch 20/100\n",
            "25/26 [===========================>..] - ETA: 0s - loss: 0.0751 - acc: 0.9839 - auc: 0.7654\n",
            "Epoch 20: val_loss did not improve from 0.07809\n",
            "26/26 [==============================] - 1s 26ms/step - loss: 0.0761 - acc: 0.9836 - auc: 0.7680 - val_loss: 0.0798 - val_acc: 0.9825 - val_auc: 0.7670\n",
            "Epoch 21/100\n",
            "25/26 [===========================>..] - ETA: 0s - loss: 0.0747 - acc: 0.9839 - auc: 0.7684\n",
            "Epoch 21: val_loss did not improve from 0.07809\n",
            "26/26 [==============================] - 1s 28ms/step - loss: 0.0759 - acc: 0.9836 - auc: 0.7694 - val_loss: 0.0803 - val_acc: 0.9825 - val_auc: 0.7677\n",
            "Epoch 22/100\n",
            "25/26 [===========================>..] - ETA: 0s - loss: 0.0743 - acc: 0.9839 - auc: 0.7724\n",
            "Epoch 22: val_loss did not improve from 0.07809\n",
            "26/26 [==============================] - 1s 26ms/step - loss: 0.0752 - acc: 0.9836 - auc: 0.7752 - val_loss: 0.0818 - val_acc: 0.9825 - val_auc: 0.7539\n",
            "Model training finished\n"
          ]
        },
        {
          "name": "stderr",
          "output_type": "stream",
          "text": [
            "WARNING:absl:Found untraced functions such as query_layer_call_fn, query_layer_call_and_return_conditional_losses, key_layer_call_fn, key_layer_call_and_return_conditional_losses, value_layer_call_fn while saving (showing 5 of 36). These functions will not be directly callable after loading.\n"
          ]
        },
        {
          "name": "stdout",
          "output_type": "stream",
          "text": [
            "INFO:tensorflow:Assets written to: /home/haoming/Projects/python/brain-stroke-prediction/model/tt_model_exp_6_resampled/assets\n"
          ]
        },
        {
          "name": "stderr",
          "output_type": "stream",
          "text": [
            "INFO:tensorflow:Assets written to: /home/haoming/Projects/python/brain-stroke-prediction/model/tt_model_exp_6_resampled/assets\n"
          ]
        },
        {
          "name": "stdout",
          "output_type": "stream",
          "text": [
            "Validation accuracy: 98.25% AUC: 0.7539175748825073\n",
            "Experiment 7, seed 707\n",
            "Start training the model...\n",
            "Epoch 1/100\n",
            "    118/Unknown - 8s 19ms/step - loss: 0.0830 - acc: 0.9819 - auc: 0.7527\n",
            "Epoch 1: val_loss improved from inf to 0.07559, saving model to /home/haoming/Projects/python/brain-stroke-prediction/model/tt_model_exp_7_unsampled\n"
          ]
        },
        {
          "name": "stderr",
          "output_type": "stream",
          "text": [
            "WARNING:absl:Found untraced functions such as query_layer_call_fn, query_layer_call_and_return_conditional_losses, key_layer_call_fn, key_layer_call_and_return_conditional_losses, value_layer_call_fn while saving (showing 5 of 36). These functions will not be directly callable after loading.\n"
          ]
        },
        {
          "name": "stdout",
          "output_type": "stream",
          "text": [
            "INFO:tensorflow:Assets written to: /home/haoming/Projects/python/brain-stroke-prediction/model/tt_model_exp_7_unsampled/assets\n"
          ]
        },
        {
          "name": "stderr",
          "output_type": "stream",
          "text": [
            "INFO:tensorflow:Assets written to: /home/haoming/Projects/python/brain-stroke-prediction/model/tt_model_exp_7_unsampled/assets\n"
          ]
        },
        {
          "name": "stdout",
          "output_type": "stream",
          "text": [
            "119/119 [==============================] - 18s 105ms/step - loss: 0.0829 - acc: 0.9820 - auc: 0.7524 - val_loss: 0.0756 - val_acc: 0.9836 - val_auc: 0.7875\n",
            "Epoch 2/100\n",
            "118/119 [============================>.] - ETA: 0s - loss: 0.0820 - acc: 0.9819 - auc: 0.7614\n",
            "Epoch 2: val_loss improved from 0.07559 to 0.07443, saving model to /home/haoming/Projects/python/brain-stroke-prediction/model/tt_model_exp_7_unsampled\n"
          ]
        },
        {
          "name": "stderr",
          "output_type": "stream",
          "text": [
            "WARNING:absl:Found untraced functions such as query_layer_call_fn, query_layer_call_and_return_conditional_losses, key_layer_call_fn, key_layer_call_and_return_conditional_losses, value_layer_call_fn while saving (showing 5 of 36). These functions will not be directly callable after loading.\n"
          ]
        },
        {
          "name": "stdout",
          "output_type": "stream",
          "text": [
            "INFO:tensorflow:Assets written to: /home/haoming/Projects/python/brain-stroke-prediction/model/tt_model_exp_7_unsampled/assets\n"
          ]
        },
        {
          "name": "stderr",
          "output_type": "stream",
          "text": [
            "INFO:tensorflow:Assets written to: /home/haoming/Projects/python/brain-stroke-prediction/model/tt_model_exp_7_unsampled/assets\n"
          ]
        },
        {
          "name": "stdout",
          "output_type": "stream",
          "text": [
            "119/119 [==============================] - 11s 90ms/step - loss: 0.0818 - acc: 0.9820 - auc: 0.7614 - val_loss: 0.0744 - val_acc: 0.9836 - val_auc: 0.7833\n",
            "Epoch 3/100\n",
            "118/119 [============================>.] - ETA: 0s - loss: 0.0814 - acc: 0.9819 - auc: 0.7710\n",
            "Epoch 3: val_loss improved from 0.07443 to 0.07442, saving model to /home/haoming/Projects/python/brain-stroke-prediction/model/tt_model_exp_7_unsampled\n"
          ]
        },
        {
          "name": "stderr",
          "output_type": "stream",
          "text": [
            "WARNING:absl:Found untraced functions such as query_layer_call_fn, query_layer_call_and_return_conditional_losses, key_layer_call_fn, key_layer_call_and_return_conditional_losses, value_layer_call_fn while saving (showing 5 of 36). These functions will not be directly callable after loading.\n"
          ]
        },
        {
          "name": "stdout",
          "output_type": "stream",
          "text": [
            "INFO:tensorflow:Assets written to: /home/haoming/Projects/python/brain-stroke-prediction/model/tt_model_exp_7_unsampled/assets\n"
          ]
        },
        {
          "name": "stderr",
          "output_type": "stream",
          "text": [
            "INFO:tensorflow:Assets written to: /home/haoming/Projects/python/brain-stroke-prediction/model/tt_model_exp_7_unsampled/assets\n"
          ]
        },
        {
          "name": "stdout",
          "output_type": "stream",
          "text": [
            "119/119 [==============================] - 13s 109ms/step - loss: 0.0813 - acc: 0.9820 - auc: 0.7710 - val_loss: 0.0744 - val_acc: 0.9836 - val_auc: 0.7858\n",
            "Epoch 4/100\n",
            "118/119 [============================>.] - ETA: 0s - loss: 0.0810 - acc: 0.9819 - auc: 0.7739\n",
            "Epoch 4: val_loss improved from 0.07442 to 0.07414, saving model to /home/haoming/Projects/python/brain-stroke-prediction/model/tt_model_exp_7_unsampled\n"
          ]
        },
        {
          "name": "stderr",
          "output_type": "stream",
          "text": [
            "WARNING:absl:Found untraced functions such as query_layer_call_fn, query_layer_call_and_return_conditional_losses, key_layer_call_fn, key_layer_call_and_return_conditional_losses, value_layer_call_fn while saving (showing 5 of 36). These functions will not be directly callable after loading.\n"
          ]
        },
        {
          "name": "stdout",
          "output_type": "stream",
          "text": [
            "INFO:tensorflow:Assets written to: /home/haoming/Projects/python/brain-stroke-prediction/model/tt_model_exp_7_unsampled/assets\n"
          ]
        },
        {
          "name": "stderr",
          "output_type": "stream",
          "text": [
            "INFO:tensorflow:Assets written to: /home/haoming/Projects/python/brain-stroke-prediction/model/tt_model_exp_7_unsampled/assets\n"
          ]
        },
        {
          "name": "stdout",
          "output_type": "stream",
          "text": [
            "119/119 [==============================] - 12s 97ms/step - loss: 0.0808 - acc: 0.9820 - auc: 0.7740 - val_loss: 0.0741 - val_acc: 0.9836 - val_auc: 0.7838\n",
            "Epoch 5/100\n",
            "118/119 [============================>.] - ETA: 0s - loss: 0.0811 - acc: 0.9819 - auc: 0.7759\n",
            "Epoch 5: val_loss did not improve from 0.07414\n",
            "119/119 [==============================] - 3s 22ms/step - loss: 0.0810 - acc: 0.9820 - auc: 0.7759 - val_loss: 0.0746 - val_acc: 0.9836 - val_auc: 0.7838\n",
            "Epoch 6/100\n",
            "117/119 [============================>.] - ETA: 0s - loss: 0.0813 - acc: 0.9818 - auc: 0.7741\n",
            "Epoch 6: val_loss did not improve from 0.07414\n",
            "119/119 [==============================] - 3s 21ms/step - loss: 0.0808 - acc: 0.9820 - auc: 0.7749 - val_loss: 0.0741 - val_acc: 0.9836 - val_auc: 0.7893\n",
            "Epoch 7/100\n",
            "117/119 [============================>.] - ETA: 0s - loss: 0.0808 - acc: 0.9818 - auc: 0.7793\n",
            "Epoch 7: val_loss did not improve from 0.07414\n",
            "119/119 [==============================] - 3s 24ms/step - loss: 0.0803 - acc: 0.9820 - auc: 0.7795 - val_loss: 0.0743 - val_acc: 0.9836 - val_auc: 0.7827\n",
            "Epoch 8/100\n",
            "118/119 [============================>.] - ETA: 0s - loss: 0.0808 - acc: 0.9819 - auc: 0.7746\n",
            "Epoch 8: val_loss improved from 0.07414 to 0.07407, saving model to /home/haoming/Projects/python/brain-stroke-prediction/model/tt_model_exp_7_unsampled\n"
          ]
        },
        {
          "name": "stderr",
          "output_type": "stream",
          "text": [
            "WARNING:absl:Found untraced functions such as query_layer_call_fn, query_layer_call_and_return_conditional_losses, key_layer_call_fn, key_layer_call_and_return_conditional_losses, value_layer_call_fn while saving (showing 5 of 36). These functions will not be directly callable after loading.\n"
          ]
        },
        {
          "name": "stdout",
          "output_type": "stream",
          "text": [
            "INFO:tensorflow:Assets written to: /home/haoming/Projects/python/brain-stroke-prediction/model/tt_model_exp_7_unsampled/assets\n"
          ]
        },
        {
          "name": "stderr",
          "output_type": "stream",
          "text": [
            "INFO:tensorflow:Assets written to: /home/haoming/Projects/python/brain-stroke-prediction/model/tt_model_exp_7_unsampled/assets\n"
          ]
        },
        {
          "name": "stdout",
          "output_type": "stream",
          "text": [
            "119/119 [==============================] - 12s 102ms/step - loss: 0.0807 - acc: 0.9820 - auc: 0.7747 - val_loss: 0.0741 - val_acc: 0.9836 - val_auc: 0.7856\n",
            "Epoch 9/100\n",
            "119/119 [==============================] - ETA: 0s - loss: 0.0803 - acc: 0.9820 - auc: 0.7831\n",
            "Epoch 9: val_loss improved from 0.07407 to 0.07374, saving model to /home/haoming/Projects/python/brain-stroke-prediction/model/tt_model_exp_7_unsampled\n"
          ]
        },
        {
          "name": "stderr",
          "output_type": "stream",
          "text": [
            "WARNING:absl:Found untraced functions such as query_layer_call_fn, query_layer_call_and_return_conditional_losses, key_layer_call_fn, key_layer_call_and_return_conditional_losses, value_layer_call_fn while saving (showing 5 of 36). These functions will not be directly callable after loading.\n"
          ]
        },
        {
          "name": "stdout",
          "output_type": "stream",
          "text": [
            "INFO:tensorflow:Assets written to: /home/haoming/Projects/python/brain-stroke-prediction/model/tt_model_exp_7_unsampled/assets\n"
          ]
        },
        {
          "name": "stderr",
          "output_type": "stream",
          "text": [
            "INFO:tensorflow:Assets written to: /home/haoming/Projects/python/brain-stroke-prediction/model/tt_model_exp_7_unsampled/assets\n"
          ]
        },
        {
          "name": "stdout",
          "output_type": "stream",
          "text": [
            "119/119 [==============================] - 11s 94ms/step - loss: 0.0803 - acc: 0.9820 - auc: 0.7831 - val_loss: 0.0737 - val_acc: 0.9836 - val_auc: 0.7885\n",
            "Epoch 10/100\n",
            "118/119 [============================>.] - ETA: 0s - loss: 0.0803 - acc: 0.9819 - auc: 0.7829\n",
            "Epoch 10: val_loss improved from 0.07374 to 0.07372, saving model to /home/haoming/Projects/python/brain-stroke-prediction/model/tt_model_exp_7_unsampled\n"
          ]
        },
        {
          "name": "stderr",
          "output_type": "stream",
          "text": [
            "WARNING:absl:Found untraced functions such as query_layer_call_fn, query_layer_call_and_return_conditional_losses, key_layer_call_fn, key_layer_call_and_return_conditional_losses, value_layer_call_fn while saving (showing 5 of 36). These functions will not be directly callable after loading.\n"
          ]
        },
        {
          "name": "stdout",
          "output_type": "stream",
          "text": [
            "INFO:tensorflow:Assets written to: /home/haoming/Projects/python/brain-stroke-prediction/model/tt_model_exp_7_unsampled/assets\n"
          ]
        },
        {
          "name": "stderr",
          "output_type": "stream",
          "text": [
            "INFO:tensorflow:Assets written to: /home/haoming/Projects/python/brain-stroke-prediction/model/tt_model_exp_7_unsampled/assets\n"
          ]
        },
        {
          "name": "stdout",
          "output_type": "stream",
          "text": [
            "119/119 [==============================] - 12s 100ms/step - loss: 0.0801 - acc: 0.9820 - auc: 0.7830 - val_loss: 0.0737 - val_acc: 0.9836 - val_auc: 0.7868\n",
            "Epoch 11/100\n",
            "118/119 [============================>.] - ETA: 0s - loss: 0.0804 - acc: 0.9819 - auc: 0.7828\n",
            "Epoch 11: val_loss did not improve from 0.07372\n",
            "119/119 [==============================] - 3s 21ms/step - loss: 0.0803 - acc: 0.9820 - auc: 0.7830 - val_loss: 0.0738 - val_acc: 0.9836 - val_auc: 0.7870\n",
            "Epoch 12/100\n",
            "117/119 [============================>.] - ETA: 0s - loss: 0.0805 - acc: 0.9818 - auc: 0.7830\n",
            "Epoch 12: val_loss did not improve from 0.07372\n",
            "119/119 [==============================] - 3s 24ms/step - loss: 0.0800 - acc: 0.9820 - auc: 0.7836 - val_loss: 0.0739 - val_acc: 0.9836 - val_auc: 0.7836\n",
            "Epoch 13/100\n",
            "117/119 [============================>.] - ETA: 0s - loss: 0.0803 - acc: 0.9818 - auc: 0.7862\n",
            "Epoch 13: val_loss improved from 0.07372 to 0.07370, saving model to /home/haoming/Projects/python/brain-stroke-prediction/model/tt_model_exp_7_unsampled\n"
          ]
        },
        {
          "name": "stderr",
          "output_type": "stream",
          "text": [
            "WARNING:absl:Found untraced functions such as query_layer_call_fn, query_layer_call_and_return_conditional_losses, key_layer_call_fn, key_layer_call_and_return_conditional_losses, value_layer_call_fn while saving (showing 5 of 36). These functions will not be directly callable after loading.\n"
          ]
        },
        {
          "name": "stdout",
          "output_type": "stream",
          "text": [
            "INFO:tensorflow:Assets written to: /home/haoming/Projects/python/brain-stroke-prediction/model/tt_model_exp_7_unsampled/assets\n"
          ]
        },
        {
          "name": "stderr",
          "output_type": "stream",
          "text": [
            "INFO:tensorflow:Assets written to: /home/haoming/Projects/python/brain-stroke-prediction/model/tt_model_exp_7_unsampled/assets\n"
          ]
        },
        {
          "name": "stdout",
          "output_type": "stream",
          "text": [
            "119/119 [==============================] - 11s 97ms/step - loss: 0.0799 - acc: 0.9820 - auc: 0.7861 - val_loss: 0.0737 - val_acc: 0.9836 - val_auc: 0.7803\n",
            "Epoch 14/100\n",
            "117/119 [============================>.] - ETA: 0s - loss: 0.0806 - acc: 0.9818 - auc: 0.7777\n",
            "Epoch 14: val_loss improved from 0.07370 to 0.07360, saving model to /home/haoming/Projects/python/brain-stroke-prediction/model/tt_model_exp_7_unsampled\n"
          ]
        },
        {
          "name": "stderr",
          "output_type": "stream",
          "text": [
            "WARNING:absl:Found untraced functions such as query_layer_call_fn, query_layer_call_and_return_conditional_losses, key_layer_call_fn, key_layer_call_and_return_conditional_losses, value_layer_call_fn while saving (showing 5 of 36). These functions will not be directly callable after loading.\n"
          ]
        },
        {
          "name": "stdout",
          "output_type": "stream",
          "text": [
            "INFO:tensorflow:Assets written to: /home/haoming/Projects/python/brain-stroke-prediction/model/tt_model_exp_7_unsampled/assets\n"
          ]
        },
        {
          "name": "stderr",
          "output_type": "stream",
          "text": [
            "INFO:tensorflow:Assets written to: /home/haoming/Projects/python/brain-stroke-prediction/model/tt_model_exp_7_unsampled/assets\n"
          ]
        },
        {
          "name": "stdout",
          "output_type": "stream",
          "text": [
            "119/119 [==============================] - 12s 104ms/step - loss: 0.0802 - acc: 0.9820 - auc: 0.7778 - val_loss: 0.0736 - val_acc: 0.9836 - val_auc: 0.7833\n",
            "Epoch 15/100\n",
            "119/119 [==============================] - ETA: 0s - loss: 0.0798 - acc: 0.9820 - auc: 0.7867\n",
            "Epoch 15: val_loss did not improve from 0.07360\n",
            "119/119 [==============================] - 3s 22ms/step - loss: 0.0798 - acc: 0.9820 - auc: 0.7867 - val_loss: 0.0739 - val_acc: 0.9836 - val_auc: 0.7854\n",
            "Epoch 16/100\n",
            "118/119 [============================>.] - ETA: 0s - loss: 0.0802 - acc: 0.9819 - auc: 0.7812\n",
            "Epoch 16: val_loss did not improve from 0.07360\n",
            "119/119 [==============================] - 3s 22ms/step - loss: 0.0800 - acc: 0.9820 - auc: 0.7813 - val_loss: 0.0741 - val_acc: 0.9833 - val_auc: 0.7845\n",
            "Epoch 17/100\n",
            "117/119 [============================>.] - ETA: 0s - loss: 0.0803 - acc: 0.9818 - auc: 0.7851\n",
            "Epoch 17: val_loss did not improve from 0.07360\n",
            "119/119 [==============================] - 3s 25ms/step - loss: 0.0799 - acc: 0.9820 - auc: 0.7854 - val_loss: 0.0739 - val_acc: 0.9833 - val_auc: 0.7774\n",
            "Epoch 18/100\n",
            "118/119 [============================>.] - ETA: 0s - loss: 0.0799 - acc: 0.9819 - auc: 0.7845\n",
            "Epoch 18: val_loss did not improve from 0.07360\n",
            "119/119 [==============================] - 3s 25ms/step - loss: 0.0798 - acc: 0.9820 - auc: 0.7845 - val_loss: 0.0736 - val_acc: 0.9836 - val_auc: 0.7797\n",
            "Epoch 19/100\n",
            "117/119 [============================>.] - ETA: 0s - loss: 0.0802 - acc: 0.9818 - auc: 0.7856\n",
            "Epoch 19: val_loss did not improve from 0.07360\n",
            "119/119 [==============================] - 3s 22ms/step - loss: 0.0797 - acc: 0.9820 - auc: 0.7860 - val_loss: 0.0740 - val_acc: 0.9831 - val_auc: 0.7876\n",
            "Epoch 20/100\n",
            "118/119 [============================>.] - ETA: 0s - loss: 0.0798 - acc: 0.9819 - auc: 0.7874\n",
            "Epoch 20: val_loss did not improve from 0.07360\n",
            "119/119 [==============================] - 3s 21ms/step - loss: 0.0797 - acc: 0.9820 - auc: 0.7874 - val_loss: 0.0737 - val_acc: 0.9836 - val_auc: 0.7836\n",
            "Epoch 21/100\n",
            "119/119 [==============================] - ETA: 0s - loss: 0.0795 - acc: 0.9820 - auc: 0.7883\n",
            "Epoch 21: val_loss did not improve from 0.07360\n",
            "119/119 [==============================] - 3s 23ms/step - loss: 0.0795 - acc: 0.9820 - auc: 0.7883 - val_loss: 0.0741 - val_acc: 0.9829 - val_auc: 0.7839\n",
            "Epoch 22/100\n",
            "118/119 [============================>.] - ETA: 0s - loss: 0.0795 - acc: 0.9819 - auc: 0.7902\n",
            "Epoch 22: val_loss did not improve from 0.07360\n",
            "119/119 [==============================] - 3s 27ms/step - loss: 0.0793 - acc: 0.9820 - auc: 0.7904 - val_loss: 0.0738 - val_acc: 0.9833 - val_auc: 0.7791\n",
            "Epoch 23/100\n",
            "118/119 [============================>.] - ETA: 0s - loss: 0.0795 - acc: 0.9819 - auc: 0.7904\n",
            "Epoch 23: val_loss did not improve from 0.07360\n",
            "119/119 [==============================] - 3s 26ms/step - loss: 0.0793 - acc: 0.9820 - auc: 0.7907 - val_loss: 0.0741 - val_acc: 0.9831 - val_auc: 0.7816\n",
            "Epoch 24/100\n",
            "117/119 [============================>.] - ETA: 0s - loss: 0.0798 - acc: 0.9819 - auc: 0.7860\n",
            "Epoch 24: val_loss did not improve from 0.07360\n",
            "119/119 [==============================] - 3s 27ms/step - loss: 0.0795 - acc: 0.9820 - auc: 0.7859 - val_loss: 0.0739 - val_acc: 0.9829 - val_auc: 0.7850\n",
            "Model training finished\n"
          ]
        },
        {
          "name": "stderr",
          "output_type": "stream",
          "text": [
            "WARNING:absl:Found untraced functions such as query_layer_call_fn, query_layer_call_and_return_conditional_losses, key_layer_call_fn, key_layer_call_and_return_conditional_losses, value_layer_call_fn while saving (showing 5 of 36). These functions will not be directly callable after loading.\n"
          ]
        },
        {
          "name": "stdout",
          "output_type": "stream",
          "text": [
            "INFO:tensorflow:Assets written to: /home/haoming/Projects/python/brain-stroke-prediction/model/tt_model_exp_7_unsampled/assets\n"
          ]
        },
        {
          "name": "stderr",
          "output_type": "stream",
          "text": [
            "INFO:tensorflow:Assets written to: /home/haoming/Projects/python/brain-stroke-prediction/model/tt_model_exp_7_unsampled/assets\n"
          ]
        },
        {
          "name": "stdout",
          "output_type": "stream",
          "text": [
            "Validation accuracy: 98.29% AUC: 0.7850160002708435\n",
            "Start training the model...\n",
            "Epoch 1/100\n",
            "     26/Unknown - 8s 27ms/step - loss: 0.0763 - acc: 0.9836 - auc: 0.7540\n",
            "Epoch 1: val_loss improved from inf to 0.07801, saving model to /home/haoming/Projects/python/brain-stroke-prediction/model/tt_model_exp_7_unsampled\n"
          ]
        },
        {
          "name": "stderr",
          "output_type": "stream",
          "text": [
            "WARNING:absl:Found untraced functions such as query_layer_call_fn, query_layer_call_and_return_conditional_losses, key_layer_call_fn, key_layer_call_and_return_conditional_losses, value_layer_call_fn while saving (showing 5 of 36). These functions will not be directly callable after loading.\n"
          ]
        },
        {
          "name": "stdout",
          "output_type": "stream",
          "text": [
            "INFO:tensorflow:Assets written to: /home/haoming/Projects/python/brain-stroke-prediction/model/tt_model_exp_7_unsampled/assets\n"
          ]
        },
        {
          "name": "stderr",
          "output_type": "stream",
          "text": [
            "INFO:tensorflow:Assets written to: /home/haoming/Projects/python/brain-stroke-prediction/model/tt_model_exp_7_unsampled/assets\n"
          ]
        },
        {
          "name": "stdout",
          "output_type": "stream",
          "text": [
            "26/26 [==============================] - 18s 391ms/step - loss: 0.0763 - acc: 0.9836 - auc: 0.7540 - val_loss: 0.0780 - val_acc: 0.9825 - val_auc: 0.7937\n",
            "Epoch 2/100\n",
            "25/26 [===========================>..] - ETA: 0s - loss: 0.0747 - acc: 0.9836 - auc: 0.7708\n",
            "Epoch 2: val_loss improved from 0.07801 to 0.07740, saving model to /home/haoming/Projects/python/brain-stroke-prediction/model/tt_model_exp_7_unsampled\n"
          ]
        },
        {
          "name": "stderr",
          "output_type": "stream",
          "text": [
            "WARNING:absl:Found untraced functions such as query_layer_call_fn, query_layer_call_and_return_conditional_losses, key_layer_call_fn, key_layer_call_and_return_conditional_losses, value_layer_call_fn while saving (showing 5 of 36). These functions will not be directly callable after loading.\n"
          ]
        },
        {
          "name": "stdout",
          "output_type": "stream",
          "text": [
            "INFO:tensorflow:Assets written to: /home/haoming/Projects/python/brain-stroke-prediction/model/tt_model_exp_7_unsampled/assets\n"
          ]
        },
        {
          "name": "stderr",
          "output_type": "stream",
          "text": [
            "INFO:tensorflow:Assets written to: /home/haoming/Projects/python/brain-stroke-prediction/model/tt_model_exp_7_unsampled/assets\n"
          ]
        },
        {
          "name": "stdout",
          "output_type": "stream",
          "text": [
            "26/26 [==============================] - 11s 427ms/step - loss: 0.0746 - acc: 0.9836 - auc: 0.7734 - val_loss: 0.0774 - val_acc: 0.9825 - val_auc: 0.7941\n",
            "Epoch 3/100\n",
            "25/26 [===========================>..] - ETA: 0s - loss: 0.0745 - acc: 0.9836 - auc: 0.7716\n",
            "Epoch 3: val_loss did not improve from 0.07740\n",
            "26/26 [==============================] - 1s 34ms/step - loss: 0.0743 - acc: 0.9836 - auc: 0.7747 - val_loss: 0.0780 - val_acc: 0.9825 - val_auc: 0.7869\n",
            "Epoch 4/100\n",
            "25/26 [===========================>..] - ETA: 0s - loss: 0.0738 - acc: 0.9836 - auc: 0.7795\n",
            "Epoch 4: val_loss did not improve from 0.07740\n",
            "26/26 [==============================] - 1s 36ms/step - loss: 0.0736 - acc: 0.9836 - auc: 0.7824 - val_loss: 0.0778 - val_acc: 0.9825 - val_auc: 0.7858\n",
            "Epoch 5/100\n",
            "25/26 [===========================>..] - ETA: 0s - loss: 0.0737 - acc: 0.9836 - auc: 0.7808\n",
            "Epoch 5: val_loss did not improve from 0.07740\n",
            "26/26 [==============================] - 1s 34ms/step - loss: 0.0735 - acc: 0.9836 - auc: 0.7836 - val_loss: 0.0780 - val_acc: 0.9825 - val_auc: 0.7888\n",
            "Epoch 6/100\n",
            "25/26 [===========================>..] - ETA: 0s - loss: 0.0729 - acc: 0.9836 - auc: 0.8009\n",
            "Epoch 6: val_loss did not improve from 0.07740\n",
            "26/26 [==============================] - 1s 31ms/step - loss: 0.0728 - acc: 0.9836 - auc: 0.8033 - val_loss: 0.0782 - val_acc: 0.9825 - val_auc: 0.7845\n",
            "Epoch 7/100\n",
            "24/26 [==========================>...] - ETA: 0s - loss: 0.0729 - acc: 0.9839 - auc: 0.7896\n",
            "Epoch 7: val_loss did not improve from 0.07740\n",
            "26/26 [==============================] - 1s 31ms/step - loss: 0.0734 - acc: 0.9836 - auc: 0.7961 - val_loss: 0.0785 - val_acc: 0.9825 - val_auc: 0.7826\n",
            "Epoch 8/100\n",
            "25/26 [===========================>..] - ETA: 0s - loss: 0.0736 - acc: 0.9836 - auc: 0.7866\n",
            "Epoch 8: val_loss did not improve from 0.07740\n",
            "26/26 [==============================] - 1s 29ms/step - loss: 0.0733 - acc: 0.9836 - auc: 0.7895 - val_loss: 0.0789 - val_acc: 0.9825 - val_auc: 0.7790\n",
            "Epoch 9/100\n",
            "25/26 [===========================>..] - ETA: 0s - loss: 0.0735 - acc: 0.9836 - auc: 0.7887\n",
            "Epoch 9: val_loss did not improve from 0.07740\n",
            "26/26 [==============================] - 1s 29ms/step - loss: 0.0732 - acc: 0.9836 - auc: 0.7917 - val_loss: 0.0799 - val_acc: 0.9825 - val_auc: 0.7704\n",
            "Epoch 10/100\n",
            "25/26 [===========================>..] - ETA: 0s - loss: 0.0724 - acc: 0.9836 - auc: 0.8078\n",
            "Epoch 10: val_loss did not improve from 0.07740\n",
            "26/26 [==============================] - 1s 32ms/step - loss: 0.0722 - acc: 0.9836 - auc: 0.8103 - val_loss: 0.0799 - val_acc: 0.9825 - val_auc: 0.7738\n",
            "Epoch 11/100\n",
            "26/26 [==============================] - ETA: 0s - loss: 0.0714 - acc: 0.9836 - auc: 0.8123\n",
            "Epoch 11: val_loss did not improve from 0.07740\n",
            "26/26 [==============================] - 1s 39ms/step - loss: 0.0714 - acc: 0.9836 - auc: 0.8123 - val_loss: 0.0802 - val_acc: 0.9825 - val_auc: 0.7717\n",
            "Epoch 12/100\n",
            "25/26 [===========================>..] - ETA: 0s - loss: 0.0722 - acc: 0.9836 - auc: 0.8076\n",
            "Epoch 12: val_loss did not improve from 0.07740\n",
            "26/26 [==============================] - 1s 36ms/step - loss: 0.0720 - acc: 0.9836 - auc: 0.8102 - val_loss: 0.0803 - val_acc: 0.9825 - val_auc: 0.7703\n",
            "Model training finished\n"
          ]
        },
        {
          "name": "stderr",
          "output_type": "stream",
          "text": [
            "WARNING:absl:Found untraced functions such as query_layer_call_fn, query_layer_call_and_return_conditional_losses, key_layer_call_fn, key_layer_call_and_return_conditional_losses, value_layer_call_fn while saving (showing 5 of 36). These functions will not be directly callable after loading.\n"
          ]
        },
        {
          "name": "stdout",
          "output_type": "stream",
          "text": [
            "INFO:tensorflow:Assets written to: /home/haoming/Projects/python/brain-stroke-prediction/model/tt_model_exp_7_unsampled/assets\n"
          ]
        },
        {
          "name": "stderr",
          "output_type": "stream",
          "text": [
            "INFO:tensorflow:Assets written to: /home/haoming/Projects/python/brain-stroke-prediction/model/tt_model_exp_7_unsampled/assets\n"
          ]
        },
        {
          "name": "stdout",
          "output_type": "stream",
          "text": [
            "Validation accuracy: 98.25% AUC: 0.7703032493591309\n"
          ]
        },
        {
          "name": "stderr",
          "output_type": "stream",
          "text": [
            "/tmp/ipykernel_4645/1735405672.py:46: SettingWithCopyWarning: \n",
            "A value is trying to be set on a copy of a slice from a DataFrame.\n",
            "Try using .loc[row_indexer,col_indexer] = value instead\n",
            "\n",
            "See the caveats in the documentation: https://pandas.pydata.org/pandas-docs/stable/user_guide/indexing.html#returning-a-view-versus-a-copy\n",
            "  data[categorical_features] = enc.fit_transform(data[categorical_features])\n"
          ]
        },
        {
          "name": "stdout",
          "output_type": "stream",
          "text": [
            "Start training the model...\n",
            "Epoch 1/100\n",
            "    199/Unknown - 11s 20ms/step - loss: 0.2634 - acc: 0.9123 - auc: 0.9632\n",
            "Epoch 1: val_loss improved from inf to 3.56697, saving model to /home/haoming/Projects/python/brain-stroke-prediction/model/tt_model_exp_7_resampled\n"
          ]
        },
        {
          "name": "stderr",
          "output_type": "stream",
          "text": [
            "WARNING:absl:Found untraced functions such as query_layer_call_fn, query_layer_call_and_return_conditional_losses, key_layer_call_fn, key_layer_call_and_return_conditional_losses, value_layer_call_fn while saving (showing 5 of 36). These functions will not be directly callable after loading.\n"
          ]
        },
        {
          "name": "stdout",
          "output_type": "stream",
          "text": [
            "INFO:tensorflow:Assets written to: /home/haoming/Projects/python/brain-stroke-prediction/model/tt_model_exp_7_resampled/assets\n"
          ]
        },
        {
          "name": "stderr",
          "output_type": "stream",
          "text": [
            "INFO:tensorflow:Assets written to: /home/haoming/Projects/python/brain-stroke-prediction/model/tt_model_exp_7_resampled/assets\n"
          ]
        },
        {
          "name": "stdout",
          "output_type": "stream",
          "text": [
            "200/200 [==============================] - 21s 69ms/step - loss: 0.2631 - acc: 0.9124 - auc: 0.9632 - val_loss: 3.5670 - val_acc: 0.1868 - val_auc: 0.7406\n",
            "Epoch 2/100\n",
            "199/200 [============================>.] - ETA: 0s - loss: 0.3099 - acc: 0.8894 - auc: 0.9368\n",
            "Epoch 2: val_loss did not improve from 3.56697\n",
            "200/200 [==============================] - 5s 24ms/step - loss: 0.3095 - acc: 0.8895 - auc: 0.9369 - val_loss: 4.7763 - val_acc: 0.1591 - val_auc: 0.6856\n",
            "Epoch 3/100\n",
            "199/200 [============================>.] - ETA: 0s - loss: 0.3633 - acc: 0.8728 - auc: 0.9183\n",
            "Epoch 3: val_loss improved from 3.56697 to 2.41081, saving model to /home/haoming/Projects/python/brain-stroke-prediction/model/tt_model_exp_7_resampled\n"
          ]
        },
        {
          "name": "stderr",
          "output_type": "stream",
          "text": [
            "WARNING:absl:Found untraced functions such as query_layer_call_fn, query_layer_call_and_return_conditional_losses, key_layer_call_fn, key_layer_call_and_return_conditional_losses, value_layer_call_fn while saving (showing 5 of 36). These functions will not be directly callable after loading.\n"
          ]
        },
        {
          "name": "stdout",
          "output_type": "stream",
          "text": [
            "INFO:tensorflow:Assets written to: /home/haoming/Projects/python/brain-stroke-prediction/model/tt_model_exp_7_resampled/assets\n"
          ]
        },
        {
          "name": "stderr",
          "output_type": "stream",
          "text": [
            "INFO:tensorflow:Assets written to: /home/haoming/Projects/python/brain-stroke-prediction/model/tt_model_exp_7_resampled/assets\n"
          ]
        },
        {
          "name": "stdout",
          "output_type": "stream",
          "text": [
            "200/200 [==============================] - 17s 83ms/step - loss: 0.3628 - acc: 0.8730 - auc: 0.9184 - val_loss: 2.4108 - val_acc: 0.0350 - val_auc: 0.4607\n",
            "Epoch 4/100\n",
            "198/200 [============================>.] - ETA: 0s - loss: 0.3225 - acc: 0.8861 - auc: 0.9394\n",
            "Epoch 4: val_loss improved from 2.41081 to 2.32925, saving model to /home/haoming/Projects/python/brain-stroke-prediction/model/tt_model_exp_7_resampled\n"
          ]
        },
        {
          "name": "stderr",
          "output_type": "stream",
          "text": [
            "WARNING:absl:Found untraced functions such as query_layer_call_fn, query_layer_call_and_return_conditional_losses, key_layer_call_fn, key_layer_call_and_return_conditional_losses, value_layer_call_fn while saving (showing 5 of 36). These functions will not be directly callable after loading.\n"
          ]
        },
        {
          "name": "stdout",
          "output_type": "stream",
          "text": [
            "INFO:tensorflow:Assets written to: /home/haoming/Projects/python/brain-stroke-prediction/model/tt_model_exp_7_resampled/assets\n"
          ]
        },
        {
          "name": "stderr",
          "output_type": "stream",
          "text": [
            "INFO:tensorflow:Assets written to: /home/haoming/Projects/python/brain-stroke-prediction/model/tt_model_exp_7_resampled/assets\n"
          ]
        },
        {
          "name": "stdout",
          "output_type": "stream",
          "text": [
            "200/200 [==============================] - 14s 71ms/step - loss: 0.3211 - acc: 0.8867 - auc: 0.9397 - val_loss: 2.3292 - val_acc: 0.2594 - val_auc: 0.7668\n",
            "Epoch 5/100\n",
            "198/200 [============================>.] - ETA: 0s - loss: 0.3375 - acc: 0.8735 - auc: 0.9326\n",
            "Epoch 5: val_loss improved from 2.32925 to 2.18753, saving model to /home/haoming/Projects/python/brain-stroke-prediction/model/tt_model_exp_7_resampled\n"
          ]
        },
        {
          "name": "stderr",
          "output_type": "stream",
          "text": [
            "WARNING:absl:Found untraced functions such as query_layer_call_fn, query_layer_call_and_return_conditional_losses, key_layer_call_fn, key_layer_call_and_return_conditional_losses, value_layer_call_fn while saving (showing 5 of 36). These functions will not be directly callable after loading.\n"
          ]
        },
        {
          "name": "stdout",
          "output_type": "stream",
          "text": [
            "INFO:tensorflow:Assets written to: /home/haoming/Projects/python/brain-stroke-prediction/model/tt_model_exp_7_resampled/assets\n"
          ]
        },
        {
          "name": "stderr",
          "output_type": "stream",
          "text": [
            "INFO:tensorflow:Assets written to: /home/haoming/Projects/python/brain-stroke-prediction/model/tt_model_exp_7_resampled/assets\n"
          ]
        },
        {
          "name": "stdout",
          "output_type": "stream",
          "text": [
            "200/200 [==============================] - 17s 85ms/step - loss: 0.3360 - acc: 0.8742 - auc: 0.9329 - val_loss: 2.1875 - val_acc: 0.3332 - val_auc: 0.7542\n",
            "Epoch 6/100\n",
            "200/200 [==============================] - ETA: 0s - loss: 0.2992 - acc: 0.8925 - auc: 0.9423\n",
            "Epoch 6: val_loss did not improve from 2.18753\n",
            "200/200 [==============================] - 5s 25ms/step - loss: 0.2992 - acc: 0.8925 - auc: 0.9423 - val_loss: 3.0637 - val_acc: 0.2335 - val_auc: 0.7387\n",
            "Epoch 7/100\n",
            "199/200 [============================>.] - ETA: 0s - loss: 0.2983 - acc: 0.8892 - auc: 0.9417\n",
            "Epoch 7: val_loss did not improve from 2.18753\n",
            "200/200 [==============================] - 5s 24ms/step - loss: 0.2980 - acc: 0.8893 - auc: 0.9417 - val_loss: 4.7533 - val_acc: 0.2810 - val_auc: 0.6432\n",
            "Epoch 8/100\n",
            "198/200 [============================>.] - ETA: 0s - loss: 0.3491 - acc: 0.8843 - auc: 0.9274\n",
            "Epoch 8: val_loss improved from 2.18753 to 1.95085, saving model to /home/haoming/Projects/python/brain-stroke-prediction/model/tt_model_exp_7_resampled\n"
          ]
        },
        {
          "name": "stderr",
          "output_type": "stream",
          "text": [
            "WARNING:absl:Found untraced functions such as query_layer_call_fn, query_layer_call_and_return_conditional_losses, key_layer_call_fn, key_layer_call_and_return_conditional_losses, value_layer_call_fn while saving (showing 5 of 36). These functions will not be directly callable after loading.\n"
          ]
        },
        {
          "name": "stdout",
          "output_type": "stream",
          "text": [
            "INFO:tensorflow:Assets written to: /home/haoming/Projects/python/brain-stroke-prediction/model/tt_model_exp_7_resampled/assets\n"
          ]
        },
        {
          "name": "stderr",
          "output_type": "stream",
          "text": [
            "INFO:tensorflow:Assets written to: /home/haoming/Projects/python/brain-stroke-prediction/model/tt_model_exp_7_resampled/assets\n"
          ]
        },
        {
          "name": "stdout",
          "output_type": "stream",
          "text": [
            "200/200 [==============================] - 13s 67ms/step - loss: 0.3474 - acc: 0.8849 - auc: 0.9277 - val_loss: 1.9508 - val_acc: 0.3370 - val_auc: 0.7170\n",
            "Epoch 9/100\n",
            "199/200 [============================>.] - ETA: 0s - loss: 0.3105 - acc: 0.8897 - auc: 0.9364\n",
            "Epoch 9: val_loss did not improve from 1.95085\n",
            "200/200 [==============================] - 5s 23ms/step - loss: 0.3104 - acc: 0.8898 - auc: 0.9363 - val_loss: 3.3755 - val_acc: 0.3355 - val_auc: 0.6547\n",
            "Epoch 10/100\n",
            "198/200 [============================>.] - ETA: 0s - loss: 0.3526 - acc: 0.8773 - auc: 0.9197\n",
            "Epoch 10: val_loss did not improve from 1.95085\n",
            "200/200 [==============================] - 4s 21ms/step - loss: 0.3509 - acc: 0.8779 - auc: 0.9200 - val_loss: 3.0134 - val_acc: 0.3355 - val_auc: 0.7154\n",
            "Epoch 11/100\n",
            "199/200 [============================>.] - ETA: 0s - loss: 0.3536 - acc: 0.8859 - auc: 0.9246\n",
            "Epoch 11: val_loss did not improve from 1.95085\n",
            "200/200 [==============================] - 4s 21ms/step - loss: 0.3532 - acc: 0.8861 - auc: 0.9247 - val_loss: 2.3214 - val_acc: 0.3355 - val_auc: 0.7564\n",
            "Epoch 12/100\n",
            "198/200 [============================>.] - ETA: 0s - loss: 0.3221 - acc: 0.8951 - auc: 0.9337\n",
            "Epoch 12: val_loss did not improve from 1.95085\n",
            "200/200 [==============================] - 5s 25ms/step - loss: 0.3207 - acc: 0.8956 - auc: 0.9341 - val_loss: 2.9301 - val_acc: 0.0164 - val_auc: 0.7270\n",
            "Epoch 13/100\n",
            "198/200 [============================>.] - ETA: 0s - loss: 0.3739 - acc: 0.8643 - auc: 0.9074\n",
            "Epoch 13: val_loss did not improve from 1.95085\n",
            "200/200 [==============================] - 4s 22ms/step - loss: 0.3721 - acc: 0.8651 - auc: 0.9081 - val_loss: 2.9092 - val_acc: 0.3355 - val_auc: 0.6926\n",
            "Epoch 14/100\n",
            "198/200 [============================>.] - ETA: 0s - loss: 0.3448 - acc: 0.8813 - auc: 0.9231\n",
            "Epoch 14: val_loss did not improve from 1.95085\n",
            "200/200 [==============================] - 4s 22ms/step - loss: 0.3431 - acc: 0.8819 - auc: 0.9235 - val_loss: 2.7475 - val_acc: 0.3355 - val_auc: 0.7319\n",
            "Epoch 15/100\n",
            "199/200 [============================>.] - ETA: 0s - loss: 0.3209 - acc: 0.8883 - auc: 0.9297\n",
            "Epoch 15: val_loss did not improve from 1.95085\n",
            "200/200 [==============================] - 4s 21ms/step - loss: 0.3206 - acc: 0.8885 - auc: 0.9298 - val_loss: 2.3348 - val_acc: 0.3356 - val_auc: 0.7384\n",
            "Epoch 16/100\n",
            "199/200 [============================>.] - ETA: 0s - loss: 0.3295 - acc: 0.8867 - auc: 0.9278\n",
            "Epoch 16: val_loss did not improve from 1.95085\n",
            "200/200 [==============================] - 6s 28ms/step - loss: 0.3291 - acc: 0.8868 - auc: 0.9279 - val_loss: 2.4479 - val_acc: 0.3355 - val_auc: 0.7476\n",
            "Epoch 17/100\n",
            "200/200 [==============================] - ETA: 0s - loss: 0.3407 - acc: 0.8861 - auc: 0.9252\n",
            "Epoch 17: val_loss did not improve from 1.95085\n",
            "200/200 [==============================] - 5s 23ms/step - loss: 0.3407 - acc: 0.8861 - auc: 0.9252 - val_loss: 2.1972 - val_acc: 0.3355 - val_auc: 0.7484\n",
            "Epoch 18/100\n",
            "198/200 [============================>.] - ETA: 0s - loss: 0.3404 - acc: 0.8816 - auc: 0.9231\n",
            "Epoch 18: val_loss did not improve from 1.95085\n",
            "200/200 [==============================] - 4s 22ms/step - loss: 0.3388 - acc: 0.8822 - auc: 0.9236 - val_loss: 2.4495 - val_acc: 0.3355 - val_auc: 0.7461\n",
            "Model training finished\n"
          ]
        },
        {
          "name": "stderr",
          "output_type": "stream",
          "text": [
            "WARNING:absl:Found untraced functions such as query_layer_call_fn, query_layer_call_and_return_conditional_losses, key_layer_call_fn, key_layer_call_and_return_conditional_losses, value_layer_call_fn while saving (showing 5 of 36). These functions will not be directly callable after loading.\n"
          ]
        },
        {
          "name": "stdout",
          "output_type": "stream",
          "text": [
            "INFO:tensorflow:Assets written to: /home/haoming/Projects/python/brain-stroke-prediction/model/tt_model_exp_7_resampled/assets\n"
          ]
        },
        {
          "name": "stderr",
          "output_type": "stream",
          "text": [
            "INFO:tensorflow:Assets written to: /home/haoming/Projects/python/brain-stroke-prediction/model/tt_model_exp_7_resampled/assets\n"
          ]
        },
        {
          "name": "stdout",
          "output_type": "stream",
          "text": [
            "Validation accuracy: 33.55% AUC: 0.7460594773292542\n",
            "Start training the model...\n",
            "Epoch 1/100\n",
            "     25/Unknown - 7s 21ms/step - loss: 1.0921 - acc: 0.5770 - auc: 0.6556\n",
            "Epoch 1: val_loss improved from inf to 0.13189, saving model to /home/haoming/Projects/python/brain-stroke-prediction/model/tt_model_exp_7_resampled\n"
          ]
        },
        {
          "name": "stderr",
          "output_type": "stream",
          "text": [
            "WARNING:absl:Found untraced functions such as query_layer_call_fn, query_layer_call_and_return_conditional_losses, key_layer_call_fn, key_layer_call_and_return_conditional_losses, value_layer_call_fn while saving (showing 5 of 36). These functions will not be directly callable after loading.\n"
          ]
        },
        {
          "name": "stdout",
          "output_type": "stream",
          "text": [
            "INFO:tensorflow:Assets written to: /home/haoming/Projects/python/brain-stroke-prediction/model/tt_model_exp_7_resampled/assets\n"
          ]
        },
        {
          "name": "stderr",
          "output_type": "stream",
          "text": [
            "INFO:tensorflow:Assets written to: /home/haoming/Projects/python/brain-stroke-prediction/model/tt_model_exp_7_resampled/assets\n"
          ]
        },
        {
          "name": "stdout",
          "output_type": "stream",
          "text": [
            "26/26 [==============================] - 18s 457ms/step - loss: 1.0761 - acc: 0.5836 - auc: 0.6516 - val_loss: 0.1319 - val_acc: 0.9819 - val_auc: 0.7067\n",
            "Epoch 2/100\n",
            "26/26 [==============================] - ETA: 0s - loss: 0.0952 - acc: 0.9828 - auc: 0.6083\n",
            "Epoch 2: val_loss improved from 0.13189 to 0.09058, saving model to /home/haoming/Projects/python/brain-stroke-prediction/model/tt_model_exp_7_resampled\n"
          ]
        },
        {
          "name": "stderr",
          "output_type": "stream",
          "text": [
            "WARNING:absl:Found untraced functions such as query_layer_call_fn, query_layer_call_and_return_conditional_losses, key_layer_call_fn, key_layer_call_and_return_conditional_losses, value_layer_call_fn while saving (showing 5 of 36). These functions will not be directly callable after loading.\n"
          ]
        },
        {
          "name": "stdout",
          "output_type": "stream",
          "text": [
            "INFO:tensorflow:Assets written to: /home/haoming/Projects/python/brain-stroke-prediction/model/tt_model_exp_7_resampled/assets\n"
          ]
        },
        {
          "name": "stderr",
          "output_type": "stream",
          "text": [
            "INFO:tensorflow:Assets written to: /home/haoming/Projects/python/brain-stroke-prediction/model/tt_model_exp_7_resampled/assets\n"
          ]
        },
        {
          "name": "stdout",
          "output_type": "stream",
          "text": [
            "26/26 [==============================] - 13s 507ms/step - loss: 0.0952 - acc: 0.9828 - auc: 0.6083 - val_loss: 0.0906 - val_acc: 0.9825 - val_auc: 0.6958\n",
            "Epoch 3/100\n",
            "26/26 [==============================] - ETA: 0s - loss: 0.0842 - acc: 0.9836 - auc: 0.6987\n",
            "Epoch 3: val_loss improved from 0.09058 to 0.08675, saving model to /home/haoming/Projects/python/brain-stroke-prediction/model/tt_model_exp_7_resampled\n"
          ]
        },
        {
          "name": "stderr",
          "output_type": "stream",
          "text": [
            "WARNING:absl:Found untraced functions such as query_layer_call_fn, query_layer_call_and_return_conditional_losses, key_layer_call_fn, key_layer_call_and_return_conditional_losses, value_layer_call_fn while saving (showing 5 of 36). These functions will not be directly callable after loading.\n"
          ]
        },
        {
          "name": "stdout",
          "output_type": "stream",
          "text": [
            "INFO:tensorflow:Assets written to: /home/haoming/Projects/python/brain-stroke-prediction/model/tt_model_exp_7_resampled/assets\n"
          ]
        },
        {
          "name": "stderr",
          "output_type": "stream",
          "text": [
            "INFO:tensorflow:Assets written to: /home/haoming/Projects/python/brain-stroke-prediction/model/tt_model_exp_7_resampled/assets\n"
          ]
        },
        {
          "name": "stdout",
          "output_type": "stream",
          "text": [
            "26/26 [==============================] - 10s 397ms/step - loss: 0.0842 - acc: 0.9836 - auc: 0.6987 - val_loss: 0.0868 - val_acc: 0.9825 - val_auc: 0.7105\n",
            "Epoch 4/100\n",
            "25/26 [===========================>..] - ETA: 0s - loss: 0.0812 - acc: 0.9839 - auc: 0.7096\n",
            "Epoch 4: val_loss improved from 0.08675 to 0.08617, saving model to /home/haoming/Projects/python/brain-stroke-prediction/model/tt_model_exp_7_resampled\n"
          ]
        },
        {
          "name": "stderr",
          "output_type": "stream",
          "text": [
            "WARNING:absl:Found untraced functions such as query_layer_call_fn, query_layer_call_and_return_conditional_losses, key_layer_call_fn, key_layer_call_and_return_conditional_losses, value_layer_call_fn while saving (showing 5 of 36). These functions will not be directly callable after loading.\n"
          ]
        },
        {
          "name": "stdout",
          "output_type": "stream",
          "text": [
            "INFO:tensorflow:Assets written to: /home/haoming/Projects/python/brain-stroke-prediction/model/tt_model_exp_7_resampled/assets\n"
          ]
        },
        {
          "name": "stderr",
          "output_type": "stream",
          "text": [
            "INFO:tensorflow:Assets written to: /home/haoming/Projects/python/brain-stroke-prediction/model/tt_model_exp_7_resampled/assets\n"
          ]
        },
        {
          "name": "stdout",
          "output_type": "stream",
          "text": [
            "26/26 [==============================] - 8s 336ms/step - loss: 0.0822 - acc: 0.9836 - auc: 0.7125 - val_loss: 0.0862 - val_acc: 0.9825 - val_auc: 0.7198\n",
            "Epoch 5/100\n",
            "25/26 [===========================>..] - ETA: 0s - loss: 0.0790 - acc: 0.9839 - auc: 0.7229\n",
            "Epoch 5: val_loss improved from 0.08617 to 0.08469, saving model to /home/haoming/Projects/python/brain-stroke-prediction/model/tt_model_exp_7_resampled\n"
          ]
        },
        {
          "name": "stderr",
          "output_type": "stream",
          "text": [
            "WARNING:absl:Found untraced functions such as query_layer_call_fn, query_layer_call_and_return_conditional_losses, key_layer_call_fn, key_layer_call_and_return_conditional_losses, value_layer_call_fn while saving (showing 5 of 36). These functions will not be directly callable after loading.\n"
          ]
        },
        {
          "name": "stdout",
          "output_type": "stream",
          "text": [
            "INFO:tensorflow:Assets written to: /home/haoming/Projects/python/brain-stroke-prediction/model/tt_model_exp_7_resampled/assets\n"
          ]
        },
        {
          "name": "stderr",
          "output_type": "stream",
          "text": [
            "INFO:tensorflow:Assets written to: /home/haoming/Projects/python/brain-stroke-prediction/model/tt_model_exp_7_resampled/assets\n"
          ]
        },
        {
          "name": "stdout",
          "output_type": "stream",
          "text": [
            "26/26 [==============================] - 11s 442ms/step - loss: 0.0799 - acc: 0.9836 - auc: 0.7272 - val_loss: 0.0847 - val_acc: 0.9825 - val_auc: 0.7229\n",
            "Epoch 6/100\n",
            "25/26 [===========================>..] - ETA: 0s - loss: 0.0797 - acc: 0.9837 - auc: 0.7152\n",
            "Epoch 6: val_loss improved from 0.08469 to 0.08392, saving model to /home/haoming/Projects/python/brain-stroke-prediction/model/tt_model_exp_7_resampled\n"
          ]
        },
        {
          "name": "stderr",
          "output_type": "stream",
          "text": [
            "WARNING:absl:Found untraced functions such as query_layer_call_fn, query_layer_call_and_return_conditional_losses, key_layer_call_fn, key_layer_call_and_return_conditional_losses, value_layer_call_fn while saving (showing 5 of 36). These functions will not be directly callable after loading.\n"
          ]
        },
        {
          "name": "stdout",
          "output_type": "stream",
          "text": [
            "INFO:tensorflow:Assets written to: /home/haoming/Projects/python/brain-stroke-prediction/model/tt_model_exp_7_resampled/assets\n"
          ]
        },
        {
          "name": "stderr",
          "output_type": "stream",
          "text": [
            "INFO:tensorflow:Assets written to: /home/haoming/Projects/python/brain-stroke-prediction/model/tt_model_exp_7_resampled/assets\n"
          ]
        },
        {
          "name": "stdout",
          "output_type": "stream",
          "text": [
            "26/26 [==============================] - 9s 356ms/step - loss: 0.0806 - acc: 0.9834 - auc: 0.7189 - val_loss: 0.0839 - val_acc: 0.9825 - val_auc: 0.7274\n",
            "Epoch 7/100\n",
            "25/26 [===========================>..] - ETA: 0s - loss: 0.0780 - acc: 0.9839 - auc: 0.7287\n",
            "Epoch 7: val_loss improved from 0.08392 to 0.08345, saving model to /home/haoming/Projects/python/brain-stroke-prediction/model/tt_model_exp_7_resampled\n"
          ]
        },
        {
          "name": "stderr",
          "output_type": "stream",
          "text": [
            "WARNING:absl:Found untraced functions such as query_layer_call_fn, query_layer_call_and_return_conditional_losses, key_layer_call_fn, key_layer_call_and_return_conditional_losses, value_layer_call_fn while saving (showing 5 of 36). These functions will not be directly callable after loading.\n"
          ]
        },
        {
          "name": "stdout",
          "output_type": "stream",
          "text": [
            "INFO:tensorflow:Assets written to: /home/haoming/Projects/python/brain-stroke-prediction/model/tt_model_exp_7_resampled/assets\n"
          ]
        },
        {
          "name": "stderr",
          "output_type": "stream",
          "text": [
            "INFO:tensorflow:Assets written to: /home/haoming/Projects/python/brain-stroke-prediction/model/tt_model_exp_7_resampled/assets\n"
          ]
        },
        {
          "name": "stdout",
          "output_type": "stream",
          "text": [
            "26/26 [==============================] - 11s 423ms/step - loss: 0.0789 - acc: 0.9836 - auc: 0.7330 - val_loss: 0.0834 - val_acc: 0.9825 - val_auc: 0.7335\n",
            "Epoch 8/100\n",
            "25/26 [===========================>..] - ETA: 0s - loss: 0.0778 - acc: 0.9839 - auc: 0.7239\n",
            "Epoch 8: val_loss improved from 0.08345 to 0.08264, saving model to /home/haoming/Projects/python/brain-stroke-prediction/model/tt_model_exp_7_resampled\n"
          ]
        },
        {
          "name": "stderr",
          "output_type": "stream",
          "text": [
            "WARNING:absl:Found untraced functions such as query_layer_call_fn, query_layer_call_and_return_conditional_losses, key_layer_call_fn, key_layer_call_and_return_conditional_losses, value_layer_call_fn while saving (showing 5 of 36). These functions will not be directly callable after loading.\n"
          ]
        },
        {
          "name": "stdout",
          "output_type": "stream",
          "text": [
            "INFO:tensorflow:Assets written to: /home/haoming/Projects/python/brain-stroke-prediction/model/tt_model_exp_7_resampled/assets\n"
          ]
        },
        {
          "name": "stderr",
          "output_type": "stream",
          "text": [
            "INFO:tensorflow:Assets written to: /home/haoming/Projects/python/brain-stroke-prediction/model/tt_model_exp_7_resampled/assets\n"
          ]
        },
        {
          "name": "stdout",
          "output_type": "stream",
          "text": [
            "26/26 [==============================] - 10s 388ms/step - loss: 0.0787 - acc: 0.9836 - auc: 0.7287 - val_loss: 0.0826 - val_acc: 0.9825 - val_auc: 0.7378\n",
            "Epoch 9/100\n",
            "25/26 [===========================>..] - ETA: 0s - loss: 0.0787 - acc: 0.9837 - auc: 0.7150\n",
            "Epoch 9: val_loss improved from 0.08264 to 0.08255, saving model to /home/haoming/Projects/python/brain-stroke-prediction/model/tt_model_exp_7_resampled\n"
          ]
        },
        {
          "name": "stderr",
          "output_type": "stream",
          "text": [
            "WARNING:absl:Found untraced functions such as query_layer_call_fn, query_layer_call_and_return_conditional_losses, key_layer_call_fn, key_layer_call_and_return_conditional_losses, value_layer_call_fn while saving (showing 5 of 36). These functions will not be directly callable after loading.\n"
          ]
        },
        {
          "name": "stdout",
          "output_type": "stream",
          "text": [
            "INFO:tensorflow:Assets written to: /home/haoming/Projects/python/brain-stroke-prediction/model/tt_model_exp_7_resampled/assets\n"
          ]
        },
        {
          "name": "stderr",
          "output_type": "stream",
          "text": [
            "INFO:tensorflow:Assets written to: /home/haoming/Projects/python/brain-stroke-prediction/model/tt_model_exp_7_resampled/assets\n"
          ]
        },
        {
          "name": "stdout",
          "output_type": "stream",
          "text": [
            "26/26 [==============================] - 12s 484ms/step - loss: 0.0797 - acc: 0.9834 - auc: 0.7197 - val_loss: 0.0826 - val_acc: 0.9825 - val_auc: 0.7392\n",
            "Epoch 10/100\n",
            "25/26 [===========================>..] - ETA: 0s - loss: 0.0774 - acc: 0.9839 - auc: 0.7316\n",
            "Epoch 10: val_loss improved from 0.08255 to 0.08206, saving model to /home/haoming/Projects/python/brain-stroke-prediction/model/tt_model_exp_7_resampled\n"
          ]
        },
        {
          "name": "stderr",
          "output_type": "stream",
          "text": [
            "WARNING:absl:Found untraced functions such as query_layer_call_fn, query_layer_call_and_return_conditional_losses, key_layer_call_fn, key_layer_call_and_return_conditional_losses, value_layer_call_fn while saving (showing 5 of 36). These functions will not be directly callable after loading.\n"
          ]
        },
        {
          "name": "stdout",
          "output_type": "stream",
          "text": [
            "INFO:tensorflow:Assets written to: /home/haoming/Projects/python/brain-stroke-prediction/model/tt_model_exp_7_resampled/assets\n"
          ]
        },
        {
          "name": "stderr",
          "output_type": "stream",
          "text": [
            "INFO:tensorflow:Assets written to: /home/haoming/Projects/python/brain-stroke-prediction/model/tt_model_exp_7_resampled/assets\n"
          ]
        },
        {
          "name": "stdout",
          "output_type": "stream",
          "text": [
            "26/26 [==============================] - 10s 395ms/step - loss: 0.0784 - acc: 0.9836 - auc: 0.7352 - val_loss: 0.0821 - val_acc: 0.9825 - val_auc: 0.7443\n",
            "Epoch 11/100\n",
            "24/26 [==========================>...] - ETA: 0s - loss: 0.0782 - acc: 0.9839 - auc: 0.7259\n",
            "Epoch 11: val_loss improved from 0.08206 to 0.08184, saving model to /home/haoming/Projects/python/brain-stroke-prediction/model/tt_model_exp_7_resampled\n"
          ]
        },
        {
          "name": "stderr",
          "output_type": "stream",
          "text": [
            "WARNING:absl:Found untraced functions such as query_layer_call_fn, query_layer_call_and_return_conditional_losses, key_layer_call_fn, key_layer_call_and_return_conditional_losses, value_layer_call_fn while saving (showing 5 of 36). These functions will not be directly callable after loading.\n"
          ]
        },
        {
          "name": "stdout",
          "output_type": "stream",
          "text": [
            "INFO:tensorflow:Assets written to: /home/haoming/Projects/python/brain-stroke-prediction/model/tt_model_exp_7_resampled/assets\n"
          ]
        },
        {
          "name": "stderr",
          "output_type": "stream",
          "text": [
            "INFO:tensorflow:Assets written to: /home/haoming/Projects/python/brain-stroke-prediction/model/tt_model_exp_7_resampled/assets\n"
          ]
        },
        {
          "name": "stdout",
          "output_type": "stream",
          "text": [
            "26/26 [==============================] - 12s 465ms/step - loss: 0.0786 - acc: 0.9836 - auc: 0.7349 - val_loss: 0.0818 - val_acc: 0.9825 - val_auc: 0.7502\n",
            "Epoch 12/100\n",
            "25/26 [===========================>..] - ETA: 0s - loss: 0.0767 - acc: 0.9839 - auc: 0.7325\n",
            "Epoch 12: val_loss improved from 0.08184 to 0.08154, saving model to /home/haoming/Projects/python/brain-stroke-prediction/model/tt_model_exp_7_resampled\n"
          ]
        },
        {
          "name": "stderr",
          "output_type": "stream",
          "text": [
            "WARNING:absl:Found untraced functions such as query_layer_call_fn, query_layer_call_and_return_conditional_losses, key_layer_call_fn, key_layer_call_and_return_conditional_losses, value_layer_call_fn while saving (showing 5 of 36). These functions will not be directly callable after loading.\n"
          ]
        },
        {
          "name": "stdout",
          "output_type": "stream",
          "text": [
            "INFO:tensorflow:Assets written to: /home/haoming/Projects/python/brain-stroke-prediction/model/tt_model_exp_7_resampled/assets\n"
          ]
        },
        {
          "name": "stderr",
          "output_type": "stream",
          "text": [
            "INFO:tensorflow:Assets written to: /home/haoming/Projects/python/brain-stroke-prediction/model/tt_model_exp_7_resampled/assets\n"
          ]
        },
        {
          "name": "stdout",
          "output_type": "stream",
          "text": [
            "26/26 [==============================] - 11s 438ms/step - loss: 0.0777 - acc: 0.9836 - auc: 0.7362 - val_loss: 0.0815 - val_acc: 0.9825 - val_auc: 0.7535\n",
            "Epoch 13/100\n",
            "25/26 [===========================>..] - ETA: 0s - loss: 0.0771 - acc: 0.9839 - auc: 0.7272\n",
            "Epoch 13: val_loss improved from 0.08154 to 0.08127, saving model to /home/haoming/Projects/python/brain-stroke-prediction/model/tt_model_exp_7_resampled\n"
          ]
        },
        {
          "name": "stderr",
          "output_type": "stream",
          "text": [
            "WARNING:absl:Found untraced functions such as query_layer_call_fn, query_layer_call_and_return_conditional_losses, key_layer_call_fn, key_layer_call_and_return_conditional_losses, value_layer_call_fn while saving (showing 5 of 36). These functions will not be directly callable after loading.\n"
          ]
        },
        {
          "name": "stdout",
          "output_type": "stream",
          "text": [
            "INFO:tensorflow:Assets written to: /home/haoming/Projects/python/brain-stroke-prediction/model/tt_model_exp_7_resampled/assets\n"
          ]
        },
        {
          "name": "stderr",
          "output_type": "stream",
          "text": [
            "INFO:tensorflow:Assets written to: /home/haoming/Projects/python/brain-stroke-prediction/model/tt_model_exp_7_resampled/assets\n"
          ]
        },
        {
          "name": "stdout",
          "output_type": "stream",
          "text": [
            "26/26 [==============================] - 11s 455ms/step - loss: 0.0781 - acc: 0.9836 - auc: 0.7311 - val_loss: 0.0813 - val_acc: 0.9825 - val_auc: 0.7600\n",
            "Epoch 14/100\n",
            "25/26 [===========================>..] - ETA: 0s - loss: 0.0768 - acc: 0.9839 - auc: 0.7412\n",
            "Epoch 14: val_loss did not improve from 0.08127\n",
            "26/26 [==============================] - 1s 35ms/step - loss: 0.0779 - acc: 0.9836 - auc: 0.7425 - val_loss: 0.0814 - val_acc: 0.9825 - val_auc: 0.7533\n",
            "Epoch 15/100\n",
            "24/26 [==========================>...] - ETA: 0s - loss: 0.0777 - acc: 0.9839 - auc: 0.7187\n",
            "Epoch 15: val_loss improved from 0.08127 to 0.08043, saving model to /home/haoming/Projects/python/brain-stroke-prediction/model/tt_model_exp_7_resampled\n"
          ]
        },
        {
          "name": "stderr",
          "output_type": "stream",
          "text": [
            "WARNING:absl:Found untraced functions such as query_layer_call_fn, query_layer_call_and_return_conditional_losses, key_layer_call_fn, key_layer_call_and_return_conditional_losses, value_layer_call_fn while saving (showing 5 of 36). These functions will not be directly callable after loading.\n"
          ]
        },
        {
          "name": "stdout",
          "output_type": "stream",
          "text": [
            "INFO:tensorflow:Assets written to: /home/haoming/Projects/python/brain-stroke-prediction/model/tt_model_exp_7_resampled/assets\n"
          ]
        },
        {
          "name": "stderr",
          "output_type": "stream",
          "text": [
            "INFO:tensorflow:Assets written to: /home/haoming/Projects/python/brain-stroke-prediction/model/tt_model_exp_7_resampled/assets\n"
          ]
        },
        {
          "name": "stdout",
          "output_type": "stream",
          "text": [
            "26/26 [==============================] - 10s 393ms/step - loss: 0.0783 - acc: 0.9836 - auc: 0.7263 - val_loss: 0.0804 - val_acc: 0.9825 - val_auc: 0.7631\n",
            "Epoch 16/100\n",
            "26/26 [==============================] - ETA: 0s - loss: 0.0777 - acc: 0.9836 - auc: 0.7368\n",
            "Epoch 16: val_loss improved from 0.08043 to 0.08032, saving model to /home/haoming/Projects/python/brain-stroke-prediction/model/tt_model_exp_7_resampled\n"
          ]
        },
        {
          "name": "stderr",
          "output_type": "stream",
          "text": [
            "WARNING:absl:Found untraced functions such as query_layer_call_fn, query_layer_call_and_return_conditional_losses, key_layer_call_fn, key_layer_call_and_return_conditional_losses, value_layer_call_fn while saving (showing 5 of 36). These functions will not be directly callable after loading.\n"
          ]
        },
        {
          "name": "stdout",
          "output_type": "stream",
          "text": [
            "INFO:tensorflow:Assets written to: /home/haoming/Projects/python/brain-stroke-prediction/model/tt_model_exp_7_resampled/assets\n"
          ]
        },
        {
          "name": "stderr",
          "output_type": "stream",
          "text": [
            "INFO:tensorflow:Assets written to: /home/haoming/Projects/python/brain-stroke-prediction/model/tt_model_exp_7_resampled/assets\n"
          ]
        },
        {
          "name": "stdout",
          "output_type": "stream",
          "text": [
            "26/26 [==============================] - 12s 476ms/step - loss: 0.0777 - acc: 0.9836 - auc: 0.7368 - val_loss: 0.0803 - val_acc: 0.9825 - val_auc: 0.7659\n",
            "Epoch 17/100\n",
            "24/26 [==========================>...] - ETA: 0s - loss: 0.0762 - acc: 0.9839 - auc: 0.7491\n",
            "Epoch 17: val_loss did not improve from 0.08032\n",
            "26/26 [==============================] - 1s 37ms/step - loss: 0.0771 - acc: 0.9836 - auc: 0.7533 - val_loss: 0.0806 - val_acc: 0.9825 - val_auc: 0.7675\n",
            "Epoch 18/100\n",
            "25/26 [===========================>..] - ETA: 0s - loss: 0.0772 - acc: 0.9839 - auc: 0.7317\n",
            "Epoch 18: val_loss improved from 0.08032 to 0.07988, saving model to /home/haoming/Projects/python/brain-stroke-prediction/model/tt_model_exp_7_resampled\n"
          ]
        },
        {
          "name": "stderr",
          "output_type": "stream",
          "text": [
            "WARNING:absl:Found untraced functions such as query_layer_call_fn, query_layer_call_and_return_conditional_losses, key_layer_call_fn, key_layer_call_and_return_conditional_losses, value_layer_call_fn while saving (showing 5 of 36). These functions will not be directly callable after loading.\n"
          ]
        },
        {
          "name": "stdout",
          "output_type": "stream",
          "text": [
            "INFO:tensorflow:Assets written to: /home/haoming/Projects/python/brain-stroke-prediction/model/tt_model_exp_7_resampled/assets\n"
          ]
        },
        {
          "name": "stderr",
          "output_type": "stream",
          "text": [
            "INFO:tensorflow:Assets written to: /home/haoming/Projects/python/brain-stroke-prediction/model/tt_model_exp_7_resampled/assets\n"
          ]
        },
        {
          "name": "stdout",
          "output_type": "stream",
          "text": [
            "26/26 [==============================] - 12s 484ms/step - loss: 0.0783 - acc: 0.9836 - auc: 0.7361 - val_loss: 0.0799 - val_acc: 0.9825 - val_auc: 0.7701\n",
            "Epoch 19/100\n",
            "25/26 [===========================>..] - ETA: 0s - loss: 0.0774 - acc: 0.9839 - auc: 0.7387\n",
            "Epoch 19: val_loss did not improve from 0.07988\n",
            "26/26 [==============================] - 1s 28ms/step - loss: 0.0784 - acc: 0.9836 - auc: 0.7414 - val_loss: 0.0803 - val_acc: 0.9825 - val_auc: 0.7738\n",
            "Epoch 20/100\n",
            "26/26 [==============================] - ETA: 0s - loss: 0.0770 - acc: 0.9834 - auc: 0.7477\n",
            "Epoch 20: val_loss did not improve from 0.07988\n",
            "26/26 [==============================] - 1s 36ms/step - loss: 0.0770 - acc: 0.9834 - auc: 0.7477 - val_loss: 0.0802 - val_acc: 0.9825 - val_auc: 0.7750\n",
            "Epoch 21/100\n",
            "25/26 [===========================>..] - ETA: 0s - loss: 0.0754 - acc: 0.9839 - auc: 0.7632\n",
            "Epoch 21: val_loss did not improve from 0.07988\n",
            "26/26 [==============================] - 1s 37ms/step - loss: 0.0764 - acc: 0.9836 - auc: 0.7667 - val_loss: 0.0803 - val_acc: 0.9825 - val_auc: 0.7757\n",
            "Epoch 22/100\n",
            "25/26 [===========================>..] - ETA: 0s - loss: 0.0762 - acc: 0.9839 - auc: 0.7479\n",
            "Epoch 22: val_loss did not improve from 0.07988\n",
            "26/26 [==============================] - 1s 36ms/step - loss: 0.0769 - acc: 0.9836 - auc: 0.7541 - val_loss: 0.0813 - val_acc: 0.9825 - val_auc: 0.7760\n",
            "Epoch 23/100\n",
            "26/26 [==============================] - ETA: 0s - loss: 0.0768 - acc: 0.9836 - auc: 0.7492\n",
            "Epoch 23: val_loss did not improve from 0.07988\n",
            "26/26 [==============================] - 1s 38ms/step - loss: 0.0768 - acc: 0.9836 - auc: 0.7492 - val_loss: 0.0836 - val_acc: 0.9825 - val_auc: 0.7832\n",
            "Epoch 24/100\n",
            "25/26 [===========================>..] - ETA: 0s - loss: 0.0755 - acc: 0.9839 - auc: 0.7567\n",
            "Epoch 24: val_loss did not improve from 0.07988\n",
            "26/26 [==============================] - 1s 38ms/step - loss: 0.0764 - acc: 0.9836 - auc: 0.7603 - val_loss: 0.0818 - val_acc: 0.9825 - val_auc: 0.7811\n",
            "Epoch 25/100\n",
            "25/26 [===========================>..] - ETA: 0s - loss: 0.0754 - acc: 0.9839 - auc: 0.7631\n",
            "Epoch 25: val_loss improved from 0.07988 to 0.07939, saving model to /home/haoming/Projects/python/brain-stroke-prediction/model/tt_model_exp_7_resampled\n"
          ]
        },
        {
          "name": "stderr",
          "output_type": "stream",
          "text": [
            "WARNING:absl:Found untraced functions such as query_layer_call_fn, query_layer_call_and_return_conditional_losses, key_layer_call_fn, key_layer_call_and_return_conditional_losses, value_layer_call_fn while saving (showing 5 of 36). These functions will not be directly callable after loading.\n"
          ]
        },
        {
          "name": "stdout",
          "output_type": "stream",
          "text": [
            "INFO:tensorflow:Assets written to: /home/haoming/Projects/python/brain-stroke-prediction/model/tt_model_exp_7_resampled/assets\n"
          ]
        },
        {
          "name": "stderr",
          "output_type": "stream",
          "text": [
            "INFO:tensorflow:Assets written to: /home/haoming/Projects/python/brain-stroke-prediction/model/tt_model_exp_7_resampled/assets\n"
          ]
        },
        {
          "name": "stdout",
          "output_type": "stream",
          "text": [
            "26/26 [==============================] - 11s 426ms/step - loss: 0.0762 - acc: 0.9836 - auc: 0.7673 - val_loss: 0.0794 - val_acc: 0.9825 - val_auc: 0.7833\n",
            "Epoch 26/100\n",
            "26/26 [==============================] - ETA: 0s - loss: 0.0770 - acc: 0.9836 - auc: 0.7482\n",
            "Epoch 26: val_loss did not improve from 0.07939\n",
            "26/26 [==============================] - 1s 36ms/step - loss: 0.0770 - acc: 0.9836 - auc: 0.7482 - val_loss: 0.0796 - val_acc: 0.9825 - val_auc: 0.7842\n",
            "Epoch 27/100\n",
            "26/26 [==============================] - ETA: 0s - loss: 0.0763 - acc: 0.9836 - auc: 0.7665\n",
            "Epoch 27: val_loss improved from 0.07939 to 0.07855, saving model to /home/haoming/Projects/python/brain-stroke-prediction/model/tt_model_exp_7_resampled\n"
          ]
        },
        {
          "name": "stderr",
          "output_type": "stream",
          "text": [
            "WARNING:absl:Found untraced functions such as query_layer_call_fn, query_layer_call_and_return_conditional_losses, key_layer_call_fn, key_layer_call_and_return_conditional_losses, value_layer_call_fn while saving (showing 5 of 36). These functions will not be directly callable after loading.\n"
          ]
        },
        {
          "name": "stdout",
          "output_type": "stream",
          "text": [
            "INFO:tensorflow:Assets written to: /home/haoming/Projects/python/brain-stroke-prediction/model/tt_model_exp_7_resampled/assets\n"
          ]
        },
        {
          "name": "stderr",
          "output_type": "stream",
          "text": [
            "INFO:tensorflow:Assets written to: /home/haoming/Projects/python/brain-stroke-prediction/model/tt_model_exp_7_resampled/assets\n"
          ]
        },
        {
          "name": "stdout",
          "output_type": "stream",
          "text": [
            "26/26 [==============================] - 11s 450ms/step - loss: 0.0763 - acc: 0.9836 - auc: 0.7665 - val_loss: 0.0786 - val_acc: 0.9825 - val_auc: 0.7829\n",
            "Epoch 28/100\n",
            "25/26 [===========================>..] - ETA: 0s - loss: 0.0758 - acc: 0.9839 - auc: 0.7544\n",
            "Epoch 28: val_loss did not improve from 0.07855\n",
            "26/26 [==============================] - 1s 36ms/step - loss: 0.0767 - acc: 0.9836 - auc: 0.7578 - val_loss: 0.0791 - val_acc: 0.9825 - val_auc: 0.7842\n",
            "Epoch 29/100\n",
            "24/26 [==========================>...] - ETA: 0s - loss: 0.0747 - acc: 0.9839 - auc: 0.7645\n",
            "Epoch 29: val_loss did not improve from 0.07855\n",
            "26/26 [==============================] - 1s 33ms/step - loss: 0.0755 - acc: 0.9836 - auc: 0.7714 - val_loss: 0.0815 - val_acc: 0.9825 - val_auc: 0.7877\n",
            "Epoch 30/100\n",
            "24/26 [==========================>...] - ETA: 0s - loss: 0.0759 - acc: 0.9839 - auc: 0.7475\n",
            "Epoch 30: val_loss did not improve from 0.07855\n",
            "26/26 [==============================] - 1s 33ms/step - loss: 0.0764 - acc: 0.9836 - auc: 0.7545 - val_loss: 0.0806 - val_acc: 0.9825 - val_auc: 0.7873\n",
            "Epoch 31/100\n",
            "25/26 [===========================>..] - ETA: 0s - loss: 0.0750 - acc: 0.9839 - auc: 0.7583\n",
            "Epoch 31: val_loss did not improve from 0.07855\n",
            "26/26 [==============================] - 1s 33ms/step - loss: 0.0759 - acc: 0.9836 - auc: 0.7627 - val_loss: 0.0803 - val_acc: 0.9825 - val_auc: 0.7860\n",
            "Epoch 32/100\n",
            "25/26 [===========================>..] - ETA: 0s - loss: 0.0758 - acc: 0.9839 - auc: 0.7518\n",
            "Epoch 32: val_loss did not improve from 0.07855\n",
            "26/26 [==============================] - 1s 33ms/step - loss: 0.0768 - acc: 0.9836 - auc: 0.7539 - val_loss: 0.0800 - val_acc: 0.9825 - val_auc: 0.7872\n",
            "Epoch 33/100\n",
            "24/26 [==========================>...] - ETA: 0s - loss: 0.0763 - acc: 0.9839 - auc: 0.7453\n",
            "Epoch 33: val_loss improved from 0.07855 to 0.07849, saving model to /home/haoming/Projects/python/brain-stroke-prediction/model/tt_model_exp_7_resampled\n"
          ]
        },
        {
          "name": "stderr",
          "output_type": "stream",
          "text": [
            "WARNING:absl:Found untraced functions such as query_layer_call_fn, query_layer_call_and_return_conditional_losses, key_layer_call_fn, key_layer_call_and_return_conditional_losses, value_layer_call_fn while saving (showing 5 of 36). These functions will not be directly callable after loading.\n"
          ]
        },
        {
          "name": "stdout",
          "output_type": "stream",
          "text": [
            "INFO:tensorflow:Assets written to: /home/haoming/Projects/python/brain-stroke-prediction/model/tt_model_exp_7_resampled/assets\n"
          ]
        },
        {
          "name": "stderr",
          "output_type": "stream",
          "text": [
            "INFO:tensorflow:Assets written to: /home/haoming/Projects/python/brain-stroke-prediction/model/tt_model_exp_7_resampled/assets\n"
          ]
        },
        {
          "name": "stdout",
          "output_type": "stream",
          "text": [
            "26/26 [==============================] - 12s 469ms/step - loss: 0.0769 - acc: 0.9836 - auc: 0.7513 - val_loss: 0.0785 - val_acc: 0.9825 - val_auc: 0.7810\n",
            "Epoch 34/100\n",
            "25/26 [===========================>..] - ETA: 0s - loss: 0.0752 - acc: 0.9839 - auc: 0.7591\n",
            "Epoch 34: val_loss did not improve from 0.07849\n",
            "26/26 [==============================] - 1s 35ms/step - loss: 0.0761 - acc: 0.9836 - auc: 0.7646 - val_loss: 0.0809 - val_acc: 0.9825 - val_auc: 0.7884\n",
            "Epoch 35/100\n",
            "25/26 [===========================>..] - ETA: 0s - loss: 0.0751 - acc: 0.9839 - auc: 0.7489\n",
            "Epoch 35: val_loss did not improve from 0.07849\n",
            "26/26 [==============================] - 1s 26ms/step - loss: 0.0761 - acc: 0.9836 - auc: 0.7511 - val_loss: 0.0789 - val_acc: 0.9825 - val_auc: 0.7900\n",
            "Epoch 36/100\n",
            "25/26 [===========================>..] - ETA: 0s - loss: 0.0750 - acc: 0.9839 - auc: 0.7583\n",
            "Epoch 36: val_loss did not improve from 0.07849\n",
            "26/26 [==============================] - 1s 28ms/step - loss: 0.0762 - acc: 0.9836 - auc: 0.7592 - val_loss: 0.0786 - val_acc: 0.9825 - val_auc: 0.7889\n",
            "Epoch 37/100\n",
            "25/26 [===========================>..] - ETA: 0s - loss: 0.0751 - acc: 0.9839 - auc: 0.7578\n",
            "Epoch 37: val_loss did not improve from 0.07849\n",
            "26/26 [==============================] - 1s 27ms/step - loss: 0.0761 - acc: 0.9836 - auc: 0.7608 - val_loss: 0.0800 - val_acc: 0.9825 - val_auc: 0.7863\n",
            "Epoch 38/100\n",
            "25/26 [===========================>..] - ETA: 0s - loss: 0.0755 - acc: 0.9839 - auc: 0.7532\n",
            "Epoch 38: val_loss did not improve from 0.07849\n",
            "26/26 [==============================] - 1s 38ms/step - loss: 0.0764 - acc: 0.9836 - auc: 0.7580 - val_loss: 0.0800 - val_acc: 0.9825 - val_auc: 0.7864\n",
            "Epoch 39/100\n",
            "25/26 [===========================>..] - ETA: 0s - loss: 0.0741 - acc: 0.9839 - auc: 0.7714\n",
            "Epoch 39: val_loss did not improve from 0.07849\n",
            "26/26 [==============================] - 1s 41ms/step - loss: 0.0751 - acc: 0.9836 - auc: 0.7735 - val_loss: 0.0797 - val_acc: 0.9825 - val_auc: 0.7884\n",
            "Epoch 40/100\n",
            "25/26 [===========================>..] - ETA: 0s - loss: 0.0749 - acc: 0.9839 - auc: 0.7555\n",
            "Epoch 40: val_loss did not improve from 0.07849\n",
            "26/26 [==============================] - 1s 37ms/step - loss: 0.0758 - acc: 0.9836 - auc: 0.7596 - val_loss: 0.0792 - val_acc: 0.9825 - val_auc: 0.7859\n",
            "Epoch 41/100\n",
            "25/26 [===========================>..] - ETA: 0s - loss: 0.0739 - acc: 0.9839 - auc: 0.7724\n",
            "Epoch 41: val_loss did not improve from 0.07849\n",
            "26/26 [==============================] - 1s 32ms/step - loss: 0.0749 - acc: 0.9836 - auc: 0.7742 - val_loss: 0.0800 - val_acc: 0.9825 - val_auc: 0.7860\n",
            "Epoch 42/100\n",
            "25/26 [===========================>..] - ETA: 0s - loss: 0.0744 - acc: 0.9839 - auc: 0.7584\n",
            "Epoch 42: val_loss did not improve from 0.07849\n",
            "26/26 [==============================] - 1s 29ms/step - loss: 0.0753 - acc: 0.9836 - auc: 0.7623 - val_loss: 0.0786 - val_acc: 0.9825 - val_auc: 0.7867\n",
            "Epoch 43/100\n",
            "24/26 [==========================>...] - ETA: 0s - loss: 0.0752 - acc: 0.9839 - auc: 0.7581\n",
            "Epoch 43: val_loss did not improve from 0.07849\n",
            "26/26 [==============================] - 1s 29ms/step - loss: 0.0758 - acc: 0.9836 - auc: 0.7647 - val_loss: 0.0800 - val_acc: 0.9825 - val_auc: 0.7874\n",
            "Model training finished\n"
          ]
        },
        {
          "name": "stderr",
          "output_type": "stream",
          "text": [
            "WARNING:absl:Found untraced functions such as query_layer_call_fn, query_layer_call_and_return_conditional_losses, key_layer_call_fn, key_layer_call_and_return_conditional_losses, value_layer_call_fn while saving (showing 5 of 36). These functions will not be directly callable after loading.\n"
          ]
        },
        {
          "name": "stdout",
          "output_type": "stream",
          "text": [
            "INFO:tensorflow:Assets written to: /home/haoming/Projects/python/brain-stroke-prediction/model/tt_model_exp_7_resampled/assets\n"
          ]
        },
        {
          "name": "stderr",
          "output_type": "stream",
          "text": [
            "INFO:tensorflow:Assets written to: /home/haoming/Projects/python/brain-stroke-prediction/model/tt_model_exp_7_resampled/assets\n"
          ]
        },
        {
          "name": "stdout",
          "output_type": "stream",
          "text": [
            "Validation accuracy: 98.25% AUC: 0.7873520255088806\n",
            "Experiment 8, seed 675\n",
            "Start training the model...\n",
            "Epoch 1/100\n",
            "    118/Unknown - 8s 23ms/step - loss: 0.0839 - acc: 0.9819 - auc: 0.7424\n",
            "Epoch 1: val_loss improved from inf to 0.07952, saving model to /home/haoming/Projects/python/brain-stroke-prediction/model/tt_model_exp_8_unsampled\n"
          ]
        },
        {
          "name": "stderr",
          "output_type": "stream",
          "text": [
            "WARNING:absl:Found untraced functions such as query_layer_call_fn, query_layer_call_and_return_conditional_losses, key_layer_call_fn, key_layer_call_and_return_conditional_losses, value_layer_call_fn while saving (showing 5 of 36). These functions will not be directly callable after loading.\n"
          ]
        },
        {
          "name": "stdout",
          "output_type": "stream",
          "text": [
            "INFO:tensorflow:Assets written to: /home/haoming/Projects/python/brain-stroke-prediction/model/tt_model_exp_8_unsampled/assets\n"
          ]
        },
        {
          "name": "stderr",
          "output_type": "stream",
          "text": [
            "INFO:tensorflow:Assets written to: /home/haoming/Projects/python/brain-stroke-prediction/model/tt_model_exp_8_unsampled/assets\n"
          ]
        },
        {
          "name": "stdout",
          "output_type": "stream",
          "text": [
            "119/119 [==============================] - 18s 99ms/step - loss: 0.0837 - acc: 0.9820 - auc: 0.7424 - val_loss: 0.0795 - val_acc: 0.9820 - val_auc: 0.7866\n",
            "Epoch 2/100\n",
            "118/119 [============================>.] - ETA: 0s - loss: 0.0826 - acc: 0.9819 - auc: 0.7549\n",
            "Epoch 2: val_loss improved from 0.07952 to 0.07884, saving model to /home/haoming/Projects/python/brain-stroke-prediction/model/tt_model_exp_8_unsampled\n"
          ]
        },
        {
          "name": "stderr",
          "output_type": "stream",
          "text": [
            "WARNING:absl:Found untraced functions such as query_layer_call_fn, query_layer_call_and_return_conditional_losses, key_layer_call_fn, key_layer_call_and_return_conditional_losses, value_layer_call_fn while saving (showing 5 of 36). These functions will not be directly callable after loading.\n"
          ]
        },
        {
          "name": "stdout",
          "output_type": "stream",
          "text": [
            "INFO:tensorflow:Assets written to: /home/haoming/Projects/python/brain-stroke-prediction/model/tt_model_exp_8_unsampled/assets\n"
          ]
        },
        {
          "name": "stderr",
          "output_type": "stream",
          "text": [
            "INFO:tensorflow:Assets written to: /home/haoming/Projects/python/brain-stroke-prediction/model/tt_model_exp_8_unsampled/assets\n"
          ]
        },
        {
          "name": "stdout",
          "output_type": "stream",
          "text": [
            "119/119 [==============================] - 12s 103ms/step - loss: 0.0824 - acc: 0.9820 - auc: 0.7551 - val_loss: 0.0788 - val_acc: 0.9820 - val_auc: 0.7928\n",
            "Epoch 3/100\n",
            "118/119 [============================>.] - ETA: 0s - loss: 0.0821 - acc: 0.9819 - auc: 0.7564\n",
            "Epoch 3: val_loss improved from 0.07884 to 0.07850, saving model to /home/haoming/Projects/python/brain-stroke-prediction/model/tt_model_exp_8_unsampled\n"
          ]
        },
        {
          "name": "stderr",
          "output_type": "stream",
          "text": [
            "WARNING:absl:Found untraced functions such as query_layer_call_fn, query_layer_call_and_return_conditional_losses, key_layer_call_fn, key_layer_call_and_return_conditional_losses, value_layer_call_fn while saving (showing 5 of 36). These functions will not be directly callable after loading.\n"
          ]
        },
        {
          "name": "stdout",
          "output_type": "stream",
          "text": [
            "INFO:tensorflow:Assets written to: /home/haoming/Projects/python/brain-stroke-prediction/model/tt_model_exp_8_unsampled/assets\n"
          ]
        },
        {
          "name": "stderr",
          "output_type": "stream",
          "text": [
            "INFO:tensorflow:Assets written to: /home/haoming/Projects/python/brain-stroke-prediction/model/tt_model_exp_8_unsampled/assets\n"
          ]
        },
        {
          "name": "stdout",
          "output_type": "stream",
          "text": [
            "119/119 [==============================] - 11s 91ms/step - loss: 0.0820 - acc: 0.9820 - auc: 0.7570 - val_loss: 0.0785 - val_acc: 0.9820 - val_auc: 0.7929\n",
            "Epoch 4/100\n",
            "119/119 [==============================] - ETA: 0s - loss: 0.0818 - acc: 0.9820 - auc: 0.7630\n",
            "Epoch 4: val_loss did not improve from 0.07850\n",
            "119/119 [==============================] - 3s 27ms/step - loss: 0.0818 - acc: 0.9820 - auc: 0.7630 - val_loss: 0.0787 - val_acc: 0.9820 - val_auc: 0.7923\n",
            "Epoch 5/100\n",
            "118/119 [============================>.] - ETA: 0s - loss: 0.0818 - acc: 0.9819 - auc: 0.7616\n",
            "Epoch 5: val_loss improved from 0.07850 to 0.07844, saving model to /home/haoming/Projects/python/brain-stroke-prediction/model/tt_model_exp_8_unsampled\n"
          ]
        },
        {
          "name": "stderr",
          "output_type": "stream",
          "text": [
            "WARNING:absl:Found untraced functions such as query_layer_call_fn, query_layer_call_and_return_conditional_losses, key_layer_call_fn, key_layer_call_and_return_conditional_losses, value_layer_call_fn while saving (showing 5 of 36). These functions will not be directly callable after loading.\n"
          ]
        },
        {
          "name": "stdout",
          "output_type": "stream",
          "text": [
            "INFO:tensorflow:Assets written to: /home/haoming/Projects/python/brain-stroke-prediction/model/tt_model_exp_8_unsampled/assets\n"
          ]
        },
        {
          "name": "stderr",
          "output_type": "stream",
          "text": [
            "INFO:tensorflow:Assets written to: /home/haoming/Projects/python/brain-stroke-prediction/model/tt_model_exp_8_unsampled/assets\n"
          ]
        },
        {
          "name": "stdout",
          "output_type": "stream",
          "text": [
            "119/119 [==============================] - 12s 102ms/step - loss: 0.0817 - acc: 0.9820 - auc: 0.7622 - val_loss: 0.0784 - val_acc: 0.9820 - val_auc: 0.7964\n",
            "Epoch 6/100\n",
            "118/119 [============================>.] - ETA: 0s - loss: 0.0812 - acc: 0.9819 - auc: 0.7681\n",
            "Epoch 6: val_loss did not improve from 0.07844\n",
            "119/119 [==============================] - 3s 24ms/step - loss: 0.0811 - acc: 0.9820 - auc: 0.7681 - val_loss: 0.0787 - val_acc: 0.9820 - val_auc: 0.7927\n",
            "Epoch 7/100\n",
            "117/119 [============================>.] - ETA: 0s - loss: 0.0811 - acc: 0.9820 - auc: 0.7652\n",
            "Epoch 7: val_loss did not improve from 0.07844\n",
            "119/119 [==============================] - 3s 28ms/step - loss: 0.0814 - acc: 0.9820 - auc: 0.7650 - val_loss: 0.0788 - val_acc: 0.9820 - val_auc: 0.7968\n",
            "Epoch 8/100\n",
            "117/119 [============================>.] - ETA: 0s - loss: 0.0805 - acc: 0.9820 - auc: 0.7713\n",
            "Epoch 8: val_loss improved from 0.07844 to 0.07817, saving model to /home/haoming/Projects/python/brain-stroke-prediction/model/tt_model_exp_8_unsampled\n"
          ]
        },
        {
          "name": "stderr",
          "output_type": "stream",
          "text": [
            "WARNING:absl:Found untraced functions such as query_layer_call_fn, query_layer_call_and_return_conditional_losses, key_layer_call_fn, key_layer_call_and_return_conditional_losses, value_layer_call_fn while saving (showing 5 of 36). These functions will not be directly callable after loading.\n"
          ]
        },
        {
          "name": "stdout",
          "output_type": "stream",
          "text": [
            "INFO:tensorflow:Assets written to: /home/haoming/Projects/python/brain-stroke-prediction/model/tt_model_exp_8_unsampled/assets\n"
          ]
        },
        {
          "name": "stderr",
          "output_type": "stream",
          "text": [
            "INFO:tensorflow:Assets written to: /home/haoming/Projects/python/brain-stroke-prediction/model/tt_model_exp_8_unsampled/assets\n"
          ]
        },
        {
          "name": "stdout",
          "output_type": "stream",
          "text": [
            "119/119 [==============================] - 15s 130ms/step - loss: 0.0808 - acc: 0.9820 - auc: 0.7711 - val_loss: 0.0782 - val_acc: 0.9820 - val_auc: 0.7980\n",
            "Epoch 9/100\n",
            "117/119 [============================>.] - ETA: 0s - loss: 0.0806 - acc: 0.9820 - auc: 0.7697\n",
            "Epoch 9: val_loss did not improve from 0.07817\n",
            "119/119 [==============================] - 3s 23ms/step - loss: 0.0809 - acc: 0.9820 - auc: 0.7690 - val_loss: 0.0783 - val_acc: 0.9820 - val_auc: 0.7965\n",
            "Epoch 10/100\n",
            "118/119 [============================>.] - ETA: 0s - loss: 0.0816 - acc: 0.9819 - auc: 0.7633\n",
            "Epoch 10: val_loss did not improve from 0.07817\n",
            "119/119 [==============================] - 3s 22ms/step - loss: 0.0815 - acc: 0.9820 - auc: 0.7636 - val_loss: 0.0786 - val_acc: 0.9820 - val_auc: 0.7962\n",
            "Epoch 11/100\n",
            "119/119 [==============================] - ETA: 0s - loss: 0.0812 - acc: 0.9820 - auc: 0.7648\n",
            "Epoch 11: val_loss did not improve from 0.07817\n",
            "119/119 [==============================] - 3s 25ms/step - loss: 0.0812 - acc: 0.9820 - auc: 0.7648 - val_loss: 0.0786 - val_acc: 0.9820 - val_auc: 0.7934\n",
            "Epoch 12/100\n",
            "119/119 [==============================] - ETA: 0s - loss: 0.0807 - acc: 0.9820 - auc: 0.7752\n",
            "Epoch 12: val_loss did not improve from 0.07817\n",
            "119/119 [==============================] - 3s 25ms/step - loss: 0.0807 - acc: 0.9820 - auc: 0.7752 - val_loss: 0.0785 - val_acc: 0.9820 - val_auc: 0.7949\n",
            "Epoch 13/100\n",
            "118/119 [============================>.] - ETA: 0s - loss: 0.0807 - acc: 0.9819 - auc: 0.7715\n",
            "Epoch 13: val_loss did not improve from 0.07817\n",
            "119/119 [==============================] - 3s 21ms/step - loss: 0.0806 - acc: 0.9820 - auc: 0.7719 - val_loss: 0.0786 - val_acc: 0.9820 - val_auc: 0.7948\n",
            "Epoch 14/100\n",
            "118/119 [============================>.] - ETA: 0s - loss: 0.0809 - acc: 0.9819 - auc: 0.7732\n",
            "Epoch 14: val_loss did not improve from 0.07817\n",
            "119/119 [==============================] - 2s 21ms/step - loss: 0.0808 - acc: 0.9820 - auc: 0.7732 - val_loss: 0.0784 - val_acc: 0.9820 - val_auc: 0.7968\n",
            "Epoch 15/100\n",
            "118/119 [============================>.] - ETA: 0s - loss: 0.0805 - acc: 0.9819 - auc: 0.7774\n",
            "Epoch 15: val_loss did not improve from 0.07817\n",
            "119/119 [==============================] - 3s 21ms/step - loss: 0.0804 - acc: 0.9820 - auc: 0.7777 - val_loss: 0.0786 - val_acc: 0.9820 - val_auc: 0.7943\n",
            "Epoch 16/100\n",
            "119/119 [==============================] - ETA: 0s - loss: 0.0807 - acc: 0.9820 - auc: 0.7722\n",
            "Epoch 16: val_loss did not improve from 0.07817\n",
            "119/119 [==============================] - 3s 22ms/step - loss: 0.0807 - acc: 0.9820 - auc: 0.7722 - val_loss: 0.0785 - val_acc: 0.9820 - val_auc: 0.7954\n",
            "Epoch 17/100\n",
            "117/119 [============================>.] - ETA: 0s - loss: 0.0803 - acc: 0.9820 - auc: 0.7736\n",
            "Epoch 17: val_loss did not improve from 0.07817\n",
            "119/119 [==============================] - 3s 24ms/step - loss: 0.0806 - acc: 0.9820 - auc: 0.7734 - val_loss: 0.0785 - val_acc: 0.9820 - val_auc: 0.7941\n",
            "Epoch 18/100\n",
            "118/119 [============================>.] - ETA: 0s - loss: 0.0811 - acc: 0.9819 - auc: 0.7695\n",
            "Epoch 18: val_loss did not improve from 0.07817\n",
            "119/119 [==============================] - 3s 21ms/step - loss: 0.0809 - acc: 0.9820 - auc: 0.7697 - val_loss: 0.0786 - val_acc: 0.9820 - val_auc: 0.7960\n",
            "Model training finished\n"
          ]
        },
        {
          "name": "stderr",
          "output_type": "stream",
          "text": [
            "WARNING:absl:Found untraced functions such as query_layer_call_fn, query_layer_call_and_return_conditional_losses, key_layer_call_fn, key_layer_call_and_return_conditional_losses, value_layer_call_fn while saving (showing 5 of 36). These functions will not be directly callable after loading.\n"
          ]
        },
        {
          "name": "stdout",
          "output_type": "stream",
          "text": [
            "INFO:tensorflow:Assets written to: /home/haoming/Projects/python/brain-stroke-prediction/model/tt_model_exp_8_unsampled/assets\n"
          ]
        },
        {
          "name": "stderr",
          "output_type": "stream",
          "text": [
            "INFO:tensorflow:Assets written to: /home/haoming/Projects/python/brain-stroke-prediction/model/tt_model_exp_8_unsampled/assets\n"
          ]
        },
        {
          "name": "stdout",
          "output_type": "stream",
          "text": [
            "Validation accuracy: 98.2% AUC: 0.7959847450256348\n",
            "Start training the model...\n",
            "Epoch 1/100\n",
            "     26/Unknown - 7s 25ms/step - loss: 0.0807 - acc: 0.9820 - auc: 0.7766\n",
            "Epoch 1: val_loss improved from inf to 0.07252, saving model to /home/haoming/Projects/python/brain-stroke-prediction/model/tt_model_exp_8_unsampled\n"
          ]
        },
        {
          "name": "stderr",
          "output_type": "stream",
          "text": [
            "WARNING:absl:Found untraced functions such as query_layer_call_fn, query_layer_call_and_return_conditional_losses, key_layer_call_fn, key_layer_call_and_return_conditional_losses, value_layer_call_fn while saving (showing 5 of 36). These functions will not be directly callable after loading.\n"
          ]
        },
        {
          "name": "stdout",
          "output_type": "stream",
          "text": [
            "INFO:tensorflow:Assets written to: /home/haoming/Projects/python/brain-stroke-prediction/model/tt_model_exp_8_unsampled/assets\n"
          ]
        },
        {
          "name": "stderr",
          "output_type": "stream",
          "text": [
            "INFO:tensorflow:Assets written to: /home/haoming/Projects/python/brain-stroke-prediction/model/tt_model_exp_8_unsampled/assets\n"
          ]
        },
        {
          "name": "stdout",
          "output_type": "stream",
          "text": [
            "26/26 [==============================] - 18s 453ms/step - loss: 0.0807 - acc: 0.9820 - auc: 0.7766 - val_loss: 0.0725 - val_acc: 0.9840 - val_auc: 0.7728\n",
            "Epoch 2/100\n",
            "24/26 [==========================>...] - ETA: 0s - loss: 0.0772 - acc: 0.9818 - auc: 0.8155\n",
            "Epoch 2: val_loss did not improve from 0.07252\n",
            "26/26 [==============================] - 1s 34ms/step - loss: 0.0772 - acc: 0.9820 - auc: 0.8103 - val_loss: 0.0727 - val_acc: 0.9840 - val_auc: 0.7743\n",
            "Epoch 3/100\n",
            "26/26 [==============================] - ETA: 0s - loss: 0.0788 - acc: 0.9820 - auc: 0.7821\n",
            "Epoch 3: val_loss did not improve from 0.07252\n",
            "26/26 [==============================] - 1s 33ms/step - loss: 0.0788 - acc: 0.9820 - auc: 0.7821 - val_loss: 0.0726 - val_acc: 0.9840 - val_auc: 0.7730\n",
            "Epoch 4/100\n",
            "25/26 [===========================>..] - ETA: 0s - loss: 0.0792 - acc: 0.9817 - auc: 0.7983\n",
            "Epoch 4: val_loss did not improve from 0.07252\n",
            "26/26 [==============================] - 1s 28ms/step - loss: 0.0781 - acc: 0.9820 - auc: 0.7985 - val_loss: 0.0727 - val_acc: 0.9840 - val_auc: 0.7750\n",
            "Epoch 5/100\n",
            "25/26 [===========================>..] - ETA: 0s - loss: 0.0786 - acc: 0.9817 - auc: 0.7995\n",
            "Epoch 5: val_loss did not improve from 0.07252\n",
            "26/26 [==============================] - 1s 28ms/step - loss: 0.0775 - acc: 0.9820 - auc: 0.8000 - val_loss: 0.0728 - val_acc: 0.9840 - val_auc: 0.7759\n",
            "Epoch 6/100\n",
            "25/26 [===========================>..] - ETA: 0s - loss: 0.0786 - acc: 0.9817 - auc: 0.8024\n",
            "Epoch 6: val_loss did not improve from 0.07252\n",
            "26/26 [==============================] - 1s 28ms/step - loss: 0.0775 - acc: 0.9820 - auc: 0.8026 - val_loss: 0.0732 - val_acc: 0.9840 - val_auc: 0.7788\n",
            "Epoch 7/100\n",
            "25/26 [===========================>..] - ETA: 0s - loss: 0.0792 - acc: 0.9817 - auc: 0.7991\n",
            "Epoch 7: val_loss did not improve from 0.07252\n",
            "26/26 [==============================] - 1s 28ms/step - loss: 0.0782 - acc: 0.9820 - auc: 0.7995 - val_loss: 0.0733 - val_acc: 0.9840 - val_auc: 0.7657\n",
            "Epoch 8/100\n",
            "26/26 [==============================] - ETA: 0s - loss: 0.0779 - acc: 0.9820 - auc: 0.8042\n",
            "Epoch 8: val_loss did not improve from 0.07252\n",
            "26/26 [==============================] - 1s 30ms/step - loss: 0.0779 - acc: 0.9820 - auc: 0.8042 - val_loss: 0.0731 - val_acc: 0.9840 - val_auc: 0.7712\n",
            "Epoch 9/100\n",
            "25/26 [===========================>..] - ETA: 0s - loss: 0.0789 - acc: 0.9817 - auc: 0.8008\n",
            "Epoch 9: val_loss did not improve from 0.07252\n",
            "26/26 [==============================] - 1s 27ms/step - loss: 0.0778 - acc: 0.9820 - auc: 0.8011 - val_loss: 0.0736 - val_acc: 0.9840 - val_auc: 0.7691\n",
            "Epoch 10/100\n",
            "25/26 [===========================>..] - ETA: 0s - loss: 0.0783 - acc: 0.9817 - auc: 0.8033\n",
            "Epoch 10: val_loss did not improve from 0.07252\n",
            "26/26 [==============================] - 1s 31ms/step - loss: 0.0772 - acc: 0.9820 - auc: 0.8035 - val_loss: 0.0735 - val_acc: 0.9840 - val_auc: 0.7617\n",
            "Epoch 11/100\n",
            "24/26 [==========================>...] - ETA: 0s - loss: 0.0766 - acc: 0.9818 - auc: 0.8219\n",
            "Epoch 11: val_loss did not improve from 0.07252\n",
            "26/26 [==============================] - 1s 33ms/step - loss: 0.0768 - acc: 0.9820 - auc: 0.8139 - val_loss: 0.0736 - val_acc: 0.9840 - val_auc: 0.7741\n",
            "Model training finished\n"
          ]
        },
        {
          "name": "stderr",
          "output_type": "stream",
          "text": [
            "WARNING:absl:Found untraced functions such as query_layer_call_fn, query_layer_call_and_return_conditional_losses, key_layer_call_fn, key_layer_call_and_return_conditional_losses, value_layer_call_fn while saving (showing 5 of 36). These functions will not be directly callable after loading.\n"
          ]
        },
        {
          "name": "stdout",
          "output_type": "stream",
          "text": [
            "INFO:tensorflow:Assets written to: /home/haoming/Projects/python/brain-stroke-prediction/model/tt_model_exp_8_unsampled/assets\n"
          ]
        },
        {
          "name": "stderr",
          "output_type": "stream",
          "text": [
            "INFO:tensorflow:Assets written to: /home/haoming/Projects/python/brain-stroke-prediction/model/tt_model_exp_8_unsampled/assets\n"
          ]
        },
        {
          "name": "stdout",
          "output_type": "stream",
          "text": [
            "Validation accuracy: 98.4% AUC: 0.7740625143051147\n"
          ]
        },
        {
          "name": "stderr",
          "output_type": "stream",
          "text": [
            "/tmp/ipykernel_4645/1735405672.py:46: SettingWithCopyWarning: \n",
            "A value is trying to be set on a copy of a slice from a DataFrame.\n",
            "Try using .loc[row_indexer,col_indexer] = value instead\n",
            "\n",
            "See the caveats in the documentation: https://pandas.pydata.org/pandas-docs/stable/user_guide/indexing.html#returning-a-view-versus-a-copy\n",
            "  data[categorical_features] = enc.fit_transform(data[categorical_features])\n"
          ]
        },
        {
          "name": "stdout",
          "output_type": "stream",
          "text": [
            "Start training the model...\n",
            "Epoch 1/100\n",
            "    196/Unknown - 14s 25ms/step - loss: 0.2648 - acc: 0.9096 - auc: 0.9606\n",
            "Epoch 1: val_loss improved from inf to 2.61292, saving model to /home/haoming/Projects/python/brain-stroke-prediction/model/tt_model_exp_8_resampled\n"
          ]
        },
        {
          "name": "stderr",
          "output_type": "stream",
          "text": [
            "WARNING:absl:Found untraced functions such as query_layer_call_fn, query_layer_call_and_return_conditional_losses, key_layer_call_fn, key_layer_call_and_return_conditional_losses, value_layer_call_fn while saving (showing 5 of 36). These functions will not be directly callable after loading.\n"
          ]
        },
        {
          "name": "stdout",
          "output_type": "stream",
          "text": [
            "INFO:tensorflow:Assets written to: /home/haoming/Projects/python/brain-stroke-prediction/model/tt_model_exp_8_resampled/assets\n"
          ]
        },
        {
          "name": "stderr",
          "output_type": "stream",
          "text": [
            "INFO:tensorflow:Assets written to: /home/haoming/Projects/python/brain-stroke-prediction/model/tt_model_exp_8_resampled/assets\n"
          ]
        },
        {
          "name": "stdout",
          "output_type": "stream",
          "text": [
            "198/198 [==============================] - 25s 84ms/step - loss: 0.2633 - acc: 0.9101 - auc: 0.9609 - val_loss: 2.6129 - val_acc: 0.3002 - val_auc: 0.7571\n",
            "Epoch 2/100\n",
            "198/198 [==============================] - ETA: 0s - loss: 0.3607 - acc: 0.8651 - auc: 0.9242\n",
            "Epoch 2: val_loss improved from 2.61292 to 2.44054, saving model to /home/haoming/Projects/python/brain-stroke-prediction/model/tt_model_exp_8_resampled\n"
          ]
        },
        {
          "name": "stderr",
          "output_type": "stream",
          "text": [
            "WARNING:absl:Found untraced functions such as query_layer_call_fn, query_layer_call_and_return_conditional_losses, key_layer_call_fn, key_layer_call_and_return_conditional_losses, value_layer_call_fn while saving (showing 5 of 36). These functions will not be directly callable after loading.\n"
          ]
        },
        {
          "name": "stdout",
          "output_type": "stream",
          "text": [
            "INFO:tensorflow:Assets written to: /home/haoming/Projects/python/brain-stroke-prediction/model/tt_model_exp_8_resampled/assets\n"
          ]
        },
        {
          "name": "stderr",
          "output_type": "stream",
          "text": [
            "INFO:tensorflow:Assets written to: /home/haoming/Projects/python/brain-stroke-prediction/model/tt_model_exp_8_resampled/assets\n"
          ]
        },
        {
          "name": "stdout",
          "output_type": "stream",
          "text": [
            "198/198 [==============================] - 15s 78ms/step - loss: 0.3607 - acc: 0.8651 - auc: 0.9242 - val_loss: 2.4405 - val_acc: 0.2524 - val_auc: 0.7678\n",
            "Epoch 3/100\n",
            "196/198 [============================>.] - ETA: 0s - loss: 0.3300 - acc: 0.8806 - auc: 0.9288\n",
            "Epoch 3: val_loss did not improve from 2.44054\n",
            "198/198 [==============================] - 4s 21ms/step - loss: 0.3278 - acc: 0.8815 - auc: 0.9294 - val_loss: 3.2605 - val_acc: 0.0183 - val_auc: 0.7506\n",
            "Epoch 4/100\n",
            "197/198 [============================>.] - ETA: 0s - loss: 0.3313 - acc: 0.8806 - auc: 0.9295\n",
            "Epoch 4: val_loss improved from 2.44054 to 1.85643, saving model to /home/haoming/Projects/python/brain-stroke-prediction/model/tt_model_exp_8_resampled\n"
          ]
        },
        {
          "name": "stderr",
          "output_type": "stream",
          "text": [
            "WARNING:absl:Found untraced functions such as query_layer_call_fn, query_layer_call_and_return_conditional_losses, key_layer_call_fn, key_layer_call_and_return_conditional_losses, value_layer_call_fn while saving (showing 5 of 36). These functions will not be directly callable after loading.\n"
          ]
        },
        {
          "name": "stdout",
          "output_type": "stream",
          "text": [
            "INFO:tensorflow:Assets written to: /home/haoming/Projects/python/brain-stroke-prediction/model/tt_model_exp_8_resampled/assets\n"
          ]
        },
        {
          "name": "stderr",
          "output_type": "stream",
          "text": [
            "INFO:tensorflow:Assets written to: /home/haoming/Projects/python/brain-stroke-prediction/model/tt_model_exp_8_resampled/assets\n"
          ]
        },
        {
          "name": "stdout",
          "output_type": "stream",
          "text": [
            "198/198 [==============================] - 14s 69ms/step - loss: 0.3302 - acc: 0.8810 - auc: 0.9298 - val_loss: 1.8564 - val_acc: 0.2931 - val_auc: 0.7536\n",
            "Epoch 5/100\n",
            "198/198 [==============================] - ETA: 0s - loss: 0.3600 - acc: 0.8748 - auc: 0.9243\n",
            "Epoch 5: val_loss did not improve from 1.85643\n",
            "198/198 [==============================] - 5s 25ms/step - loss: 0.3600 - acc: 0.8748 - auc: 0.9243 - val_loss: 2.6744 - val_acc: 0.3585 - val_auc: 0.6191\n",
            "Epoch 6/100\n",
            "196/198 [============================>.] - ETA: 0s - loss: 0.3294 - acc: 0.8922 - auc: 0.9373\n",
            "Epoch 6: val_loss improved from 1.85643 to 1.02837, saving model to /home/haoming/Projects/python/brain-stroke-prediction/model/tt_model_exp_8_resampled\n"
          ]
        },
        {
          "name": "stderr",
          "output_type": "stream",
          "text": [
            "WARNING:absl:Found untraced functions such as query_layer_call_fn, query_layer_call_and_return_conditional_losses, key_layer_call_fn, key_layer_call_and_return_conditional_losses, value_layer_call_fn while saving (showing 5 of 36). These functions will not be directly callable after loading.\n"
          ]
        },
        {
          "name": "stdout",
          "output_type": "stream",
          "text": [
            "INFO:tensorflow:Assets written to: /home/haoming/Projects/python/brain-stroke-prediction/model/tt_model_exp_8_resampled/assets\n"
          ]
        },
        {
          "name": "stderr",
          "output_type": "stream",
          "text": [
            "INFO:tensorflow:Assets written to: /home/haoming/Projects/python/brain-stroke-prediction/model/tt_model_exp_8_resampled/assets\n"
          ]
        },
        {
          "name": "stdout",
          "output_type": "stream",
          "text": [
            "198/198 [==============================] - 15s 75ms/step - loss: 0.3275 - acc: 0.8929 - auc: 0.9377 - val_loss: 1.0284 - val_acc: 0.4771 - val_auc: 0.7276\n",
            "Epoch 7/100\n",
            "196/198 [============================>.] - ETA: 0s - loss: 0.3360 - acc: 0.8784 - auc: 0.9304\n",
            "Epoch 7: val_loss did not improve from 1.02837\n",
            "198/198 [==============================] - 5s 25ms/step - loss: 0.3341 - acc: 0.8792 - auc: 0.9308 - val_loss: 2.5912 - val_acc: 0.3593 - val_auc: 0.7344\n",
            "Epoch 8/100\n",
            "196/198 [============================>.] - ETA: 0s - loss: 0.3697 - acc: 0.8700 - auc: 0.9268\n",
            "Epoch 8: val_loss did not improve from 1.02837\n",
            "198/198 [==============================] - 5s 23ms/step - loss: 0.3678 - acc: 0.8709 - auc: 0.9272 - val_loss: 3.5799 - val_acc: 0.3575 - val_auc: 0.7063\n",
            "Epoch 9/100\n",
            "197/198 [============================>.] - ETA: 0s - loss: 0.3979 - acc: 0.8849 - auc: 0.9195\n",
            "Epoch 9: val_loss did not improve from 1.02837\n",
            "198/198 [==============================] - 4s 21ms/step - loss: 0.3971 - acc: 0.8853 - auc: 0.9196 - val_loss: 1.9763 - val_acc: 0.3522 - val_auc: 0.7227\n",
            "Epoch 10/100\n",
            "197/198 [============================>.] - ETA: 0s - loss: 0.3723 - acc: 0.8804 - auc: 0.9208\n",
            "Epoch 10: val_loss did not improve from 1.02837\n",
            "198/198 [==============================] - 5s 25ms/step - loss: 0.3718 - acc: 0.8807 - auc: 0.9210 - val_loss: 2.4821 - val_acc: 0.3573 - val_auc: 0.7364\n",
            "Epoch 11/100\n",
            "197/198 [============================>.] - ETA: 0s - loss: 0.3643 - acc: 0.8866 - auc: 0.9220\n",
            "Epoch 11: val_loss did not improve from 1.02837\n",
            "198/198 [==============================] - 5s 26ms/step - loss: 0.3637 - acc: 0.8869 - auc: 0.9221 - val_loss: 2.4657 - val_acc: 0.3575 - val_auc: 0.7505\n",
            "Epoch 12/100\n",
            "196/198 [============================>.] - ETA: 0s - loss: 0.3673 - acc: 0.8836 - auc: 0.9189\n",
            "Epoch 12: val_loss improved from 1.02837 to 1.00980, saving model to /home/haoming/Projects/python/brain-stroke-prediction/model/tt_model_exp_8_resampled\n"
          ]
        },
        {
          "name": "stderr",
          "output_type": "stream",
          "text": [
            "WARNING:absl:Found untraced functions such as query_layer_call_fn, query_layer_call_and_return_conditional_losses, key_layer_call_fn, key_layer_call_and_return_conditional_losses, value_layer_call_fn while saving (showing 5 of 36). These functions will not be directly callable after loading.\n"
          ]
        },
        {
          "name": "stdout",
          "output_type": "stream",
          "text": [
            "INFO:tensorflow:Assets written to: /home/haoming/Projects/python/brain-stroke-prediction/model/tt_model_exp_8_resampled/assets\n"
          ]
        },
        {
          "name": "stderr",
          "output_type": "stream",
          "text": [
            "INFO:tensorflow:Assets written to: /home/haoming/Projects/python/brain-stroke-prediction/model/tt_model_exp_8_resampled/assets\n"
          ]
        },
        {
          "name": "stdout",
          "output_type": "stream",
          "text": [
            "198/198 [==============================] - 18s 91ms/step - loss: 0.3649 - acc: 0.8844 - auc: 0.9194 - val_loss: 1.0098 - val_acc: 0.3533 - val_auc: 0.7192\n",
            "Epoch 13/100\n",
            "198/198 [==============================] - ETA: 0s - loss: 0.4224 - acc: 0.8441 - auc: 0.8942\n",
            "Epoch 13: val_loss did not improve from 1.00980\n",
            "198/198 [==============================] - 4s 22ms/step - loss: 0.4224 - acc: 0.8441 - auc: 0.8942 - val_loss: 3.0122 - val_acc: 0.2436 - val_auc: 0.7333\n",
            "Epoch 14/100\n",
            "196/198 [============================>.] - ETA: 0s - loss: 0.3900 - acc: 0.8692 - auc: 0.9088\n",
            "Epoch 14: val_loss did not improve from 1.00980\n",
            "198/198 [==============================] - 4s 21ms/step - loss: 0.3883 - acc: 0.8701 - auc: 0.9093 - val_loss: 2.3109 - val_acc: 0.3541 - val_auc: 0.7224\n",
            "Epoch 15/100\n",
            "197/198 [============================>.] - ETA: 0s - loss: 0.3842 - acc: 0.8746 - auc: 0.9104\n",
            "Epoch 15: val_loss did not improve from 1.00980\n",
            "198/198 [==============================] - 4s 22ms/step - loss: 0.3829 - acc: 0.8750 - auc: 0.9107 - val_loss: 3.1603 - val_acc: 0.0180 - val_auc: 0.6676\n",
            "Epoch 16/100\n",
            "198/198 [==============================] - ETA: 0s - loss: 0.3748 - acc: 0.8700 - auc: 0.9162\n",
            "Epoch 16: val_loss did not improve from 1.00980\n",
            "198/198 [==============================] - 4s 22ms/step - loss: 0.3748 - acc: 0.8700 - auc: 0.9162 - val_loss: 2.5097 - val_acc: 0.3513 - val_auc: 0.6631\n",
            "Epoch 17/100\n",
            "196/198 [============================>.] - ETA: 0s - loss: 0.3746 - acc: 0.8830 - auc: 0.9172\n",
            "Epoch 17: val_loss did not improve from 1.00980\n",
            "198/198 [==============================] - 4s 21ms/step - loss: 0.3725 - acc: 0.8838 - auc: 0.9177 - val_loss: 2.3642 - val_acc: 0.0197 - val_auc: 0.7235\n",
            "Epoch 18/100\n",
            "196/198 [============================>.] - ETA: 0s - loss: 0.3622 - acc: 0.8737 - auc: 0.9216\n",
            "Epoch 18: val_loss did not improve from 1.00980\n",
            "198/198 [==============================] - 4s 22ms/step - loss: 0.3597 - acc: 0.8746 - auc: 0.9224 - val_loss: 3.2604 - val_acc: 0.1922 - val_auc: 0.7370\n",
            "Epoch 19/100\n",
            "196/198 [============================>.] - ETA: 0s - loss: 0.4353 - acc: 0.8579 - auc: 0.8969\n",
            "Epoch 19: val_loss did not improve from 1.00980\n",
            "198/198 [==============================] - 4s 22ms/step - loss: 0.4337 - acc: 0.8589 - auc: 0.8975 - val_loss: 2.1991 - val_acc: 0.3528 - val_auc: 0.6991\n",
            "Epoch 20/100\n",
            "197/198 [============================>.] - ETA: 0s - loss: 0.3852 - acc: 0.8700 - auc: 0.9151\n",
            "Epoch 20: val_loss did not improve from 1.00980\n",
            "198/198 [==============================] - 4s 22ms/step - loss: 0.3844 - acc: 0.8704 - auc: 0.9153 - val_loss: 2.4038 - val_acc: 0.3525 - val_auc: 0.7581\n",
            "Epoch 21/100\n",
            "197/198 [============================>.] - ETA: 0s - loss: 0.3512 - acc: 0.8838 - auc: 0.9245\n",
            "Epoch 21: val_loss improved from 1.00980 to 0.63371, saving model to /home/haoming/Projects/python/brain-stroke-prediction/model/tt_model_exp_8_resampled\n"
          ]
        },
        {
          "name": "stderr",
          "output_type": "stream",
          "text": [
            "WARNING:absl:Found untraced functions such as query_layer_call_fn, query_layer_call_and_return_conditional_losses, key_layer_call_fn, key_layer_call_and_return_conditional_losses, value_layer_call_fn while saving (showing 5 of 36). These functions will not be directly callable after loading.\n"
          ]
        },
        {
          "name": "stdout",
          "output_type": "stream",
          "text": [
            "INFO:tensorflow:Assets written to: /home/haoming/Projects/python/brain-stroke-prediction/model/tt_model_exp_8_resampled/assets\n"
          ]
        },
        {
          "name": "stderr",
          "output_type": "stream",
          "text": [
            "INFO:tensorflow:Assets written to: /home/haoming/Projects/python/brain-stroke-prediction/model/tt_model_exp_8_resampled/assets\n"
          ]
        },
        {
          "name": "stdout",
          "output_type": "stream",
          "text": [
            "198/198 [==============================] - 14s 70ms/step - loss: 0.3501 - acc: 0.8842 - auc: 0.9247 - val_loss: 0.6337 - val_acc: 0.6137 - val_auc: 0.7211\n",
            "Epoch 22/100\n",
            "196/198 [============================>.] - ETA: 0s - loss: 0.3595 - acc: 0.8741 - auc: 0.9255\n",
            "Epoch 22: val_loss did not improve from 0.63371\n",
            "198/198 [==============================] - 4s 22ms/step - loss: 0.3576 - acc: 0.8750 - auc: 0.9261 - val_loss: 2.4554 - val_acc: 0.3499 - val_auc: 0.7560\n",
            "Epoch 23/100\n",
            "198/198 [==============================] - ETA: 0s - loss: 0.3460 - acc: 0.8889 - auc: 0.9263\n",
            "Epoch 23: val_loss did not improve from 0.63371\n",
            "198/198 [==============================] - 5s 23ms/step - loss: 0.3460 - acc: 0.8889 - auc: 0.9263 - val_loss: 2.0665 - val_acc: 0.3573 - val_auc: 0.7373\n",
            "Epoch 24/100\n",
            "196/198 [============================>.] - ETA: 0s - loss: 0.3392 - acc: 0.8883 - auc: 0.9263\n",
            "Epoch 24: val_loss did not improve from 0.63371\n",
            "198/198 [==============================] - 4s 21ms/step - loss: 0.3372 - acc: 0.8890 - auc: 0.9268 - val_loss: 0.7117 - val_acc: 0.3879 - val_auc: 0.6745\n",
            "Epoch 25/100\n",
            "197/198 [============================>.] - ETA: 0s - loss: 0.3116 - acc: 0.8887 - auc: 0.9409\n",
            "Epoch 25: val_loss did not improve from 0.63371\n",
            "198/198 [==============================] - 5s 25ms/step - loss: 0.3107 - acc: 0.8891 - auc: 0.9411 - val_loss: 1.5500 - val_acc: 0.3829 - val_auc: 0.7543\n",
            "Epoch 26/100\n",
            "197/198 [============================>.] - ETA: 0s - loss: 0.3095 - acc: 0.8908 - auc: 0.9373\n",
            "Epoch 26: val_loss did not improve from 0.63371\n",
            "198/198 [==============================] - 5s 24ms/step - loss: 0.3086 - acc: 0.8911 - auc: 0.9375 - val_loss: 2.7303 - val_acc: 0.0180 - val_auc: 0.7566\n",
            "Epoch 27/100\n",
            "196/198 [============================>.] - ETA: 0s - loss: 0.3058 - acc: 0.8926 - auc: 0.9454\n",
            "Epoch 27: val_loss did not improve from 0.63371\n",
            "198/198 [==============================] - 4s 21ms/step - loss: 0.3040 - acc: 0.8933 - auc: 0.9458 - val_loss: 2.2980 - val_acc: 0.3605 - val_auc: 0.7424\n",
            "Epoch 28/100\n",
            "197/198 [============================>.] - ETA: 0s - loss: 0.2974 - acc: 0.8943 - auc: 0.9440\n",
            "Epoch 28: val_loss did not improve from 0.63371\n",
            "198/198 [==============================] - 5s 24ms/step - loss: 0.2965 - acc: 0.8946 - auc: 0.9442 - val_loss: 2.9258 - val_acc: 0.3548 - val_auc: 0.7389\n",
            "Epoch 29/100\n",
            "197/198 [============================>.] - ETA: 0s - loss: 0.3386 - acc: 0.8897 - auc: 0.9274\n",
            "Epoch 29: val_loss did not improve from 0.63371\n",
            "198/198 [==============================] - 4s 22ms/step - loss: 0.3375 - acc: 0.8900 - auc: 0.9276 - val_loss: 2.1170 - val_acc: 0.3594 - val_auc: 0.7707\n",
            "Epoch 30/100\n",
            "198/198 [==============================] - ETA: 0s - loss: 0.3049 - acc: 0.8917 - auc: 0.9381\n",
            "Epoch 30: val_loss did not improve from 0.63371\n",
            "198/198 [==============================] - 5s 25ms/step - loss: 0.3049 - acc: 0.8917 - auc: 0.9381 - val_loss: 2.2595 - val_acc: 0.3578 - val_auc: 0.7588\n",
            "Epoch 31/100\n",
            "196/198 [============================>.] - ETA: 0s - loss: 0.3084 - acc: 0.8862 - auc: 0.9355\n",
            "Epoch 31: val_loss did not improve from 0.63371\n",
            "198/198 [==============================] - 5s 24ms/step - loss: 0.3066 - acc: 0.8870 - auc: 0.9360 - val_loss: 2.1191 - val_acc: 0.3472 - val_auc: 0.7597\n",
            "Model training finished\n"
          ]
        },
        {
          "name": "stderr",
          "output_type": "stream",
          "text": [
            "WARNING:absl:Found untraced functions such as query_layer_call_fn, query_layer_call_and_return_conditional_losses, key_layer_call_fn, key_layer_call_and_return_conditional_losses, value_layer_call_fn while saving (showing 5 of 36). These functions will not be directly callable after loading.\n"
          ]
        },
        {
          "name": "stdout",
          "output_type": "stream",
          "text": [
            "INFO:tensorflow:Assets written to: /home/haoming/Projects/python/brain-stroke-prediction/model/tt_model_exp_8_resampled/assets\n"
          ]
        },
        {
          "name": "stderr",
          "output_type": "stream",
          "text": [
            "INFO:tensorflow:Assets written to: /home/haoming/Projects/python/brain-stroke-prediction/model/tt_model_exp_8_resampled/assets\n"
          ]
        },
        {
          "name": "stdout",
          "output_type": "stream",
          "text": [
            "Validation accuracy: 34.72% AUC: 0.7596977949142456\n",
            "Start training the model...\n",
            "Epoch 1/100\n",
            "     26/Unknown - 9s 26ms/step - loss: 0.6910 - acc: 0.6869 - auc: 0.6269\n",
            "Epoch 1: val_loss improved from inf to 0.26583, saving model to /home/haoming/Projects/python/brain-stroke-prediction/model/tt_model_exp_8_resampled\n"
          ]
        },
        {
          "name": "stderr",
          "output_type": "stream",
          "text": [
            "WARNING:absl:Found untraced functions such as query_layer_call_fn, query_layer_call_and_return_conditional_losses, key_layer_call_fn, key_layer_call_and_return_conditional_losses, value_layer_call_fn while saving (showing 5 of 36). These functions will not be directly callable after loading.\n"
          ]
        },
        {
          "name": "stdout",
          "output_type": "stream",
          "text": [
            "INFO:tensorflow:Assets written to: /home/haoming/Projects/python/brain-stroke-prediction/model/tt_model_exp_8_resampled/assets\n"
          ]
        },
        {
          "name": "stderr",
          "output_type": "stream",
          "text": [
            "INFO:tensorflow:Assets written to: /home/haoming/Projects/python/brain-stroke-prediction/model/tt_model_exp_8_resampled/assets\n"
          ]
        },
        {
          "name": "stdout",
          "output_type": "stream",
          "text": [
            "26/26 [==============================] - 21s 521ms/step - loss: 0.6910 - acc: 0.6869 - auc: 0.6269 - val_loss: 0.2658 - val_acc: 0.8598 - val_auc: 0.5081\n",
            "Epoch 2/100\n",
            "25/26 [===========================>..] - ETA: 0s - loss: 0.1108 - acc: 0.9795 - auc: 0.5767\n",
            "Epoch 2: val_loss improved from 0.26583 to 0.10300, saving model to /home/haoming/Projects/python/brain-stroke-prediction/model/tt_model_exp_8_resampled\n"
          ]
        },
        {
          "name": "stderr",
          "output_type": "stream",
          "text": [
            "WARNING:absl:Found untraced functions such as query_layer_call_fn, query_layer_call_and_return_conditional_losses, key_layer_call_fn, key_layer_call_and_return_conditional_losses, value_layer_call_fn while saving (showing 5 of 36). These functions will not be directly callable after loading.\n"
          ]
        },
        {
          "name": "stdout",
          "output_type": "stream",
          "text": [
            "INFO:tensorflow:Assets written to: /home/haoming/Projects/python/brain-stroke-prediction/model/tt_model_exp_8_resampled/assets\n"
          ]
        },
        {
          "name": "stderr",
          "output_type": "stream",
          "text": [
            "INFO:tensorflow:Assets written to: /home/haoming/Projects/python/brain-stroke-prediction/model/tt_model_exp_8_resampled/assets\n"
          ]
        },
        {
          "name": "stdout",
          "output_type": "stream",
          "text": [
            "26/26 [==============================] - 11s 453ms/step - loss: 0.1111 - acc: 0.9794 - auc: 0.5755 - val_loss: 0.1030 - val_acc: 0.9840 - val_auc: 0.5373\n",
            "Epoch 3/100\n",
            "26/26 [==============================] - ETA: 0s - loss: 0.1057 - acc: 0.9788 - auc: 0.5839\n",
            "Epoch 3: val_loss improved from 0.10300 to 0.10127, saving model to /home/haoming/Projects/python/brain-stroke-prediction/model/tt_model_exp_8_resampled\n"
          ]
        },
        {
          "name": "stderr",
          "output_type": "stream",
          "text": [
            "WARNING:absl:Found untraced functions such as query_layer_call_fn, query_layer_call_and_return_conditional_losses, key_layer_call_fn, key_layer_call_and_return_conditional_losses, value_layer_call_fn while saving (showing 5 of 36). These functions will not be directly callable after loading.\n"
          ]
        },
        {
          "name": "stdout",
          "output_type": "stream",
          "text": [
            "INFO:tensorflow:Assets written to: /home/haoming/Projects/python/brain-stroke-prediction/model/tt_model_exp_8_resampled/assets\n"
          ]
        },
        {
          "name": "stderr",
          "output_type": "stream",
          "text": [
            "INFO:tensorflow:Assets written to: /home/haoming/Projects/python/brain-stroke-prediction/model/tt_model_exp_8_resampled/assets\n"
          ]
        },
        {
          "name": "stdout",
          "output_type": "stream",
          "text": [
            "26/26 [==============================] - 12s 489ms/step - loss: 0.1057 - acc: 0.9788 - auc: 0.5839 - val_loss: 0.1013 - val_acc: 0.9828 - val_auc: 0.5703\n",
            "Epoch 4/100\n",
            "25/26 [===========================>..] - ETA: 0s - loss: 0.1008 - acc: 0.9791 - auc: 0.6128\n",
            "Epoch 4: val_loss improved from 0.10127 to 0.09340, saving model to /home/haoming/Projects/python/brain-stroke-prediction/model/tt_model_exp_8_resampled\n"
          ]
        },
        {
          "name": "stderr",
          "output_type": "stream",
          "text": [
            "WARNING:absl:Found untraced functions such as query_layer_call_fn, query_layer_call_and_return_conditional_losses, key_layer_call_fn, key_layer_call_and_return_conditional_losses, value_layer_call_fn while saving (showing 5 of 36). These functions will not be directly callable after loading.\n"
          ]
        },
        {
          "name": "stdout",
          "output_type": "stream",
          "text": [
            "INFO:tensorflow:Assets written to: /home/haoming/Projects/python/brain-stroke-prediction/model/tt_model_exp_8_resampled/assets\n"
          ]
        },
        {
          "name": "stderr",
          "output_type": "stream",
          "text": [
            "INFO:tensorflow:Assets written to: /home/haoming/Projects/python/brain-stroke-prediction/model/tt_model_exp_8_resampled/assets\n"
          ]
        },
        {
          "name": "stdout",
          "output_type": "stream",
          "text": [
            "26/26 [==============================] - 12s 463ms/step - loss: 0.1013 - acc: 0.9790 - auc: 0.6092 - val_loss: 0.0934 - val_acc: 0.9840 - val_auc: 0.5628\n",
            "Epoch 5/100\n",
            "25/26 [===========================>..] - ETA: 0s - loss: 0.0975 - acc: 0.9809 - auc: 0.5896\n",
            "Epoch 5: val_loss improved from 0.09340 to 0.08828, saving model to /home/haoming/Projects/python/brain-stroke-prediction/model/tt_model_exp_8_resampled\n"
          ]
        },
        {
          "name": "stderr",
          "output_type": "stream",
          "text": [
            "WARNING:absl:Found untraced functions such as query_layer_call_fn, query_layer_call_and_return_conditional_losses, key_layer_call_fn, key_layer_call_and_return_conditional_losses, value_layer_call_fn while saving (showing 5 of 36). These functions will not be directly callable after loading.\n"
          ]
        },
        {
          "name": "stdout",
          "output_type": "stream",
          "text": [
            "INFO:tensorflow:Assets written to: /home/haoming/Projects/python/brain-stroke-prediction/model/tt_model_exp_8_resampled/assets\n"
          ]
        },
        {
          "name": "stderr",
          "output_type": "stream",
          "text": [
            "INFO:tensorflow:Assets written to: /home/haoming/Projects/python/brain-stroke-prediction/model/tt_model_exp_8_resampled/assets\n"
          ]
        },
        {
          "name": "stdout",
          "output_type": "stream",
          "text": [
            "26/26 [==============================] - 10s 386ms/step - loss: 0.0978 - acc: 0.9810 - auc: 0.5877 - val_loss: 0.0883 - val_acc: 0.9840 - val_auc: 0.5641\n",
            "Epoch 6/100\n",
            "26/26 [==============================] - ETA: 0s - loss: 0.0967 - acc: 0.9811 - auc: 0.5973\n",
            "Epoch 6: val_loss improved from 0.08828 to 0.08460, saving model to /home/haoming/Projects/python/brain-stroke-prediction/model/tt_model_exp_8_resampled\n"
          ]
        },
        {
          "name": "stderr",
          "output_type": "stream",
          "text": [
            "WARNING:absl:Found untraced functions such as query_layer_call_fn, query_layer_call_and_return_conditional_losses, key_layer_call_fn, key_layer_call_and_return_conditional_losses, value_layer_call_fn while saving (showing 5 of 36). These functions will not be directly callable after loading.\n"
          ]
        },
        {
          "name": "stdout",
          "output_type": "stream",
          "text": [
            "INFO:tensorflow:Assets written to: /home/haoming/Projects/python/brain-stroke-prediction/model/tt_model_exp_8_resampled/assets\n"
          ]
        },
        {
          "name": "stderr",
          "output_type": "stream",
          "text": [
            "INFO:tensorflow:Assets written to: /home/haoming/Projects/python/brain-stroke-prediction/model/tt_model_exp_8_resampled/assets\n"
          ]
        },
        {
          "name": "stdout",
          "output_type": "stream",
          "text": [
            "26/26 [==============================] - 11s 431ms/step - loss: 0.0967 - acc: 0.9811 - auc: 0.5973 - val_loss: 0.0846 - val_acc: 0.9840 - val_auc: 0.5924\n",
            "Epoch 7/100\n",
            "26/26 [==============================] - ETA: 0s - loss: 0.0948 - acc: 0.9814 - auc: 0.6064\n",
            "Epoch 7: val_loss improved from 0.08460 to 0.08008, saving model to /home/haoming/Projects/python/brain-stroke-prediction/model/tt_model_exp_8_resampled\n"
          ]
        },
        {
          "name": "stderr",
          "output_type": "stream",
          "text": [
            "WARNING:absl:Found untraced functions such as query_layer_call_fn, query_layer_call_and_return_conditional_losses, key_layer_call_fn, key_layer_call_and_return_conditional_losses, value_layer_call_fn while saving (showing 5 of 36). These functions will not be directly callable after loading.\n"
          ]
        },
        {
          "name": "stdout",
          "output_type": "stream",
          "text": [
            "INFO:tensorflow:Assets written to: /home/haoming/Projects/python/brain-stroke-prediction/model/tt_model_exp_8_resampled/assets\n"
          ]
        },
        {
          "name": "stderr",
          "output_type": "stream",
          "text": [
            "INFO:tensorflow:Assets written to: /home/haoming/Projects/python/brain-stroke-prediction/model/tt_model_exp_8_resampled/assets\n"
          ]
        },
        {
          "name": "stdout",
          "output_type": "stream",
          "text": [
            "26/26 [==============================] - 9s 371ms/step - loss: 0.0948 - acc: 0.9814 - auc: 0.6064 - val_loss: 0.0801 - val_acc: 0.9837 - val_auc: 0.6835\n",
            "Epoch 8/100\n",
            "25/26 [===========================>..] - ETA: 0s - loss: 0.0913 - acc: 0.9814 - auc: 0.6573\n",
            "Epoch 8: val_loss improved from 0.08008 to 0.07790, saving model to /home/haoming/Projects/python/brain-stroke-prediction/model/tt_model_exp_8_resampled\n"
          ]
        },
        {
          "name": "stderr",
          "output_type": "stream",
          "text": [
            "WARNING:absl:Found untraced functions such as query_layer_call_fn, query_layer_call_and_return_conditional_losses, key_layer_call_fn, key_layer_call_and_return_conditional_losses, value_layer_call_fn while saving (showing 5 of 36). These functions will not be directly callable after loading.\n"
          ]
        },
        {
          "name": "stdout",
          "output_type": "stream",
          "text": [
            "INFO:tensorflow:Assets written to: /home/haoming/Projects/python/brain-stroke-prediction/model/tt_model_exp_8_resampled/assets\n"
          ]
        },
        {
          "name": "stderr",
          "output_type": "stream",
          "text": [
            "INFO:tensorflow:Assets written to: /home/haoming/Projects/python/brain-stroke-prediction/model/tt_model_exp_8_resampled/assets\n"
          ]
        },
        {
          "name": "stdout",
          "output_type": "stream",
          "text": [
            "26/26 [==============================] - 9s 354ms/step - loss: 0.0915 - acc: 0.9813 - auc: 0.6550 - val_loss: 0.0779 - val_acc: 0.9839 - val_auc: 0.7121\n",
            "Epoch 9/100\n",
            "25/26 [===========================>..] - ETA: 0s - loss: 0.0912 - acc: 0.9820 - auc: 0.6451\n",
            "Epoch 9: val_loss did not improve from 0.07790\n",
            "26/26 [==============================] - 1s 28ms/step - loss: 0.0911 - acc: 0.9820 - auc: 0.6429 - val_loss: 0.0782 - val_acc: 0.9840 - val_auc: 0.7076\n",
            "Epoch 10/100\n",
            "25/26 [===========================>..] - ETA: 0s - loss: 0.0935 - acc: 0.9816 - auc: 0.6255\n",
            "Epoch 10: val_loss improved from 0.07790 to 0.07781, saving model to /home/haoming/Projects/python/brain-stroke-prediction/model/tt_model_exp_8_resampled\n"
          ]
        },
        {
          "name": "stderr",
          "output_type": "stream",
          "text": [
            "WARNING:absl:Found untraced functions such as query_layer_call_fn, query_layer_call_and_return_conditional_losses, key_layer_call_fn, key_layer_call_and_return_conditional_losses, value_layer_call_fn while saving (showing 5 of 36). These functions will not be directly callable after loading.\n"
          ]
        },
        {
          "name": "stdout",
          "output_type": "stream",
          "text": [
            "INFO:tensorflow:Assets written to: /home/haoming/Projects/python/brain-stroke-prediction/model/tt_model_exp_8_resampled/assets\n"
          ]
        },
        {
          "name": "stderr",
          "output_type": "stream",
          "text": [
            "INFO:tensorflow:Assets written to: /home/haoming/Projects/python/brain-stroke-prediction/model/tt_model_exp_8_resampled/assets\n"
          ]
        },
        {
          "name": "stdout",
          "output_type": "stream",
          "text": [
            "26/26 [==============================] - 11s 436ms/step - loss: 0.0937 - acc: 0.9816 - auc: 0.6243 - val_loss: 0.0778 - val_acc: 0.9840 - val_auc: 0.7298\n",
            "Epoch 11/100\n",
            "25/26 [===========================>..] - ETA: 0s - loss: 0.0881 - acc: 0.9820 - auc: 0.6905\n",
            "Epoch 11: val_loss improved from 0.07781 to 0.07693, saving model to /home/haoming/Projects/python/brain-stroke-prediction/model/tt_model_exp_8_resampled\n"
          ]
        },
        {
          "name": "stderr",
          "output_type": "stream",
          "text": [
            "WARNING:absl:Found untraced functions such as query_layer_call_fn, query_layer_call_and_return_conditional_losses, key_layer_call_fn, key_layer_call_and_return_conditional_losses, value_layer_call_fn while saving (showing 5 of 36). These functions will not be directly callable after loading.\n"
          ]
        },
        {
          "name": "stdout",
          "output_type": "stream",
          "text": [
            "INFO:tensorflow:Assets written to: /home/haoming/Projects/python/brain-stroke-prediction/model/tt_model_exp_8_resampled/assets\n"
          ]
        },
        {
          "name": "stderr",
          "output_type": "stream",
          "text": [
            "INFO:tensorflow:Assets written to: /home/haoming/Projects/python/brain-stroke-prediction/model/tt_model_exp_8_resampled/assets\n"
          ]
        },
        {
          "name": "stdout",
          "output_type": "stream",
          "text": [
            "26/26 [==============================] - 10s 394ms/step - loss: 0.0888 - acc: 0.9820 - auc: 0.6864 - val_loss: 0.0769 - val_acc: 0.9840 - val_auc: 0.7261\n",
            "Epoch 12/100\n",
            "25/26 [===========================>..] - ETA: 0s - loss: 0.0902 - acc: 0.9820 - auc: 0.6659\n",
            "Epoch 12: val_loss did not improve from 0.07693\n",
            "26/26 [==============================] - 1s 34ms/step - loss: 0.0903 - acc: 0.9820 - auc: 0.6672 - val_loss: 0.0778 - val_acc: 0.9840 - val_auc: 0.7108\n",
            "Epoch 13/100\n",
            "25/26 [===========================>..] - ETA: 0s - loss: 0.0900 - acc: 0.9820 - auc: 0.6762\n",
            "Epoch 13: val_loss did not improve from 0.07693\n",
            "26/26 [==============================] - 1s 34ms/step - loss: 0.0904 - acc: 0.9820 - auc: 0.6747 - val_loss: 0.0772 - val_acc: 0.9840 - val_auc: 0.7224\n",
            "Epoch 14/100\n",
            "26/26 [==============================] - ETA: 0s - loss: 0.0900 - acc: 0.9820 - auc: 0.6581\n",
            "Epoch 14: val_loss improved from 0.07693 to 0.07650, saving model to /home/haoming/Projects/python/brain-stroke-prediction/model/tt_model_exp_8_resampled\n"
          ]
        },
        {
          "name": "stderr",
          "output_type": "stream",
          "text": [
            "WARNING:absl:Found untraced functions such as query_layer_call_fn, query_layer_call_and_return_conditional_losses, key_layer_call_fn, key_layer_call_and_return_conditional_losses, value_layer_call_fn while saving (showing 5 of 36). These functions will not be directly callable after loading.\n"
          ]
        },
        {
          "name": "stdout",
          "output_type": "stream",
          "text": [
            "INFO:tensorflow:Assets written to: /home/haoming/Projects/python/brain-stroke-prediction/model/tt_model_exp_8_resampled/assets\n"
          ]
        },
        {
          "name": "stderr",
          "output_type": "stream",
          "text": [
            "INFO:tensorflow:Assets written to: /home/haoming/Projects/python/brain-stroke-prediction/model/tt_model_exp_8_resampled/assets\n"
          ]
        },
        {
          "name": "stdout",
          "output_type": "stream",
          "text": [
            "26/26 [==============================] - 10s 403ms/step - loss: 0.0900 - acc: 0.9820 - auc: 0.6581 - val_loss: 0.0765 - val_acc: 0.9840 - val_auc: 0.7351\n",
            "Epoch 15/100\n",
            "24/26 [==========================>...] - ETA: 0s - loss: 0.0880 - acc: 0.9819 - auc: 0.7019\n",
            "Epoch 15: val_loss did not improve from 0.07650\n",
            "26/26 [==============================] - 1s 37ms/step - loss: 0.0877 - acc: 0.9820 - auc: 0.7009 - val_loss: 0.0769 - val_acc: 0.9840 - val_auc: 0.7278\n",
            "Epoch 16/100\n",
            "24/26 [==========================>...] - ETA: 0s - loss: 0.0895 - acc: 0.9819 - auc: 0.6760\n",
            "Epoch 16: val_loss improved from 0.07650 to 0.07576, saving model to /home/haoming/Projects/python/brain-stroke-prediction/model/tt_model_exp_8_resampled\n"
          ]
        },
        {
          "name": "stderr",
          "output_type": "stream",
          "text": [
            "WARNING:absl:Found untraced functions such as query_layer_call_fn, query_layer_call_and_return_conditional_losses, key_layer_call_fn, key_layer_call_and_return_conditional_losses, value_layer_call_fn while saving (showing 5 of 36). These functions will not be directly callable after loading.\n"
          ]
        },
        {
          "name": "stdout",
          "output_type": "stream",
          "text": [
            "INFO:tensorflow:Assets written to: /home/haoming/Projects/python/brain-stroke-prediction/model/tt_model_exp_8_resampled/assets\n"
          ]
        },
        {
          "name": "stderr",
          "output_type": "stream",
          "text": [
            "INFO:tensorflow:Assets written to: /home/haoming/Projects/python/brain-stroke-prediction/model/tt_model_exp_8_resampled/assets\n"
          ]
        },
        {
          "name": "stdout",
          "output_type": "stream",
          "text": [
            "26/26 [==============================] - 13s 505ms/step - loss: 0.0895 - acc: 0.9820 - auc: 0.6723 - val_loss: 0.0758 - val_acc: 0.9840 - val_auc: 0.7451\n",
            "Epoch 17/100\n",
            "26/26 [==============================] - ETA: 0s - loss: 0.0864 - acc: 0.9820 - auc: 0.7116\n",
            "Epoch 17: val_loss improved from 0.07576 to 0.07559, saving model to /home/haoming/Projects/python/brain-stroke-prediction/model/tt_model_exp_8_resampled\n"
          ]
        },
        {
          "name": "stderr",
          "output_type": "stream",
          "text": [
            "WARNING:absl:Found untraced functions such as query_layer_call_fn, query_layer_call_and_return_conditional_losses, key_layer_call_fn, key_layer_call_and_return_conditional_losses, value_layer_call_fn while saving (showing 5 of 36). These functions will not be directly callable after loading.\n"
          ]
        },
        {
          "name": "stdout",
          "output_type": "stream",
          "text": [
            "INFO:tensorflow:Assets written to: /home/haoming/Projects/python/brain-stroke-prediction/model/tt_model_exp_8_resampled/assets\n"
          ]
        },
        {
          "name": "stderr",
          "output_type": "stream",
          "text": [
            "INFO:tensorflow:Assets written to: /home/haoming/Projects/python/brain-stroke-prediction/model/tt_model_exp_8_resampled/assets\n"
          ]
        },
        {
          "name": "stdout",
          "output_type": "stream",
          "text": [
            "26/26 [==============================] - 10s 396ms/step - loss: 0.0864 - acc: 0.9820 - auc: 0.7116 - val_loss: 0.0756 - val_acc: 0.9840 - val_auc: 0.7429\n",
            "Epoch 18/100\n",
            "25/26 [===========================>..] - ETA: 0s - loss: 0.0850 - acc: 0.9820 - auc: 0.7218\n",
            "Epoch 18: val_loss did not improve from 0.07559\n",
            "26/26 [==============================] - 1s 29ms/step - loss: 0.0852 - acc: 0.9820 - auc: 0.7199 - val_loss: 0.0760 - val_acc: 0.9840 - val_auc: 0.7352\n",
            "Epoch 19/100\n",
            "26/26 [==============================] - ETA: 0s - loss: 0.0866 - acc: 0.9820 - auc: 0.7116\n",
            "Epoch 19: val_loss did not improve from 0.07559\n",
            "26/26 [==============================] - 1s 34ms/step - loss: 0.0866 - acc: 0.9820 - auc: 0.7116 - val_loss: 0.0761 - val_acc: 0.9840 - val_auc: 0.7384\n",
            "Epoch 20/100\n",
            "24/26 [==========================>...] - ETA: 0s - loss: 0.0891 - acc: 0.9819 - auc: 0.6848\n",
            "Epoch 20: val_loss did not improve from 0.07559\n",
            "26/26 [==============================] - 1s 34ms/step - loss: 0.0892 - acc: 0.9820 - auc: 0.6806 - val_loss: 0.0765 - val_acc: 0.9840 - val_auc: 0.7332\n",
            "Epoch 21/100\n",
            "26/26 [==============================] - ETA: 0s - loss: 0.0864 - acc: 0.9820 - auc: 0.7051\n",
            "Epoch 21: val_loss did not improve from 0.07559\n",
            "26/26 [==============================] - 1s 35ms/step - loss: 0.0864 - acc: 0.9820 - auc: 0.7051 - val_loss: 0.0761 - val_acc: 0.9840 - val_auc: 0.7327\n",
            "Epoch 22/100\n",
            "25/26 [===========================>..] - ETA: 0s - loss: 0.0835 - acc: 0.9820 - auc: 0.7400\n",
            "Epoch 22: val_loss did not improve from 0.07559\n",
            "26/26 [==============================] - 1s 27ms/step - loss: 0.0839 - acc: 0.9820 - auc: 0.7356 - val_loss: 0.0763 - val_acc: 0.9840 - val_auc: 0.7385\n",
            "Epoch 23/100\n",
            "25/26 [===========================>..] - ETA: 0s - loss: 0.0858 - acc: 0.9820 - auc: 0.7187\n",
            "Epoch 23: val_loss did not improve from 0.07559\n",
            "26/26 [==============================] - 1s 26ms/step - loss: 0.0861 - acc: 0.9820 - auc: 0.7145 - val_loss: 0.0759 - val_acc: 0.9840 - val_auc: 0.7390\n",
            "Epoch 24/100\n",
            "25/26 [===========================>..] - ETA: 0s - loss: 0.0829 - acc: 0.9820 - auc: 0.7480\n",
            "Epoch 24: val_loss did not improve from 0.07559\n",
            "26/26 [==============================] - 1s 26ms/step - loss: 0.0833 - acc: 0.9820 - auc: 0.7451 - val_loss: 0.0761 - val_acc: 0.9840 - val_auc: 0.7411\n",
            "Epoch 25/100\n",
            "25/26 [===========================>..] - ETA: 0s - loss: 0.0843 - acc: 0.9820 - auc: 0.7347\n",
            "Epoch 25: val_loss did not improve from 0.07559\n",
            "26/26 [==============================] - 1s 31ms/step - loss: 0.0845 - acc: 0.9820 - auc: 0.7326 - val_loss: 0.0774 - val_acc: 0.9840 - val_auc: 0.7388\n",
            "Epoch 26/100\n",
            "25/26 [===========================>..] - ETA: 0s - loss: 0.0856 - acc: 0.9820 - auc: 0.7066\n",
            "Epoch 26: val_loss did not improve from 0.07559\n",
            "26/26 [==============================] - 1s 34ms/step - loss: 0.0859 - acc: 0.9820 - auc: 0.7051 - val_loss: 0.0766 - val_acc: 0.9840 - val_auc: 0.7417\n",
            "Epoch 27/100\n",
            "26/26 [==============================] - ETA: 0s - loss: 0.0845 - acc: 0.9820 - auc: 0.7375\n",
            "Epoch 27: val_loss did not improve from 0.07559\n",
            "26/26 [==============================] - 1s 34ms/step - loss: 0.0845 - acc: 0.9820 - auc: 0.7375 - val_loss: 0.0777 - val_acc: 0.9840 - val_auc: 0.7419\n",
            "Model training finished\n"
          ]
        },
        {
          "name": "stderr",
          "output_type": "stream",
          "text": [
            "WARNING:absl:Found untraced functions such as query_layer_call_fn, query_layer_call_and_return_conditional_losses, key_layer_call_fn, key_layer_call_and_return_conditional_losses, value_layer_call_fn while saving (showing 5 of 36). These functions will not be directly callable after loading.\n"
          ]
        },
        {
          "name": "stdout",
          "output_type": "stream",
          "text": [
            "INFO:tensorflow:Assets written to: /home/haoming/Projects/python/brain-stroke-prediction/model/tt_model_exp_8_resampled/assets\n"
          ]
        },
        {
          "name": "stderr",
          "output_type": "stream",
          "text": [
            "INFO:tensorflow:Assets written to: /home/haoming/Projects/python/brain-stroke-prediction/model/tt_model_exp_8_resampled/assets\n"
          ]
        },
        {
          "name": "stdout",
          "output_type": "stream",
          "text": [
            "Validation accuracy: 98.4% AUC: 0.7419373989105225\n",
            "Experiment 9, seed 629\n",
            "Start training the model...\n",
            "Epoch 1/100\n",
            "    117/Unknown - 11s 21ms/step - loss: 0.0862 - acc: 0.9820 - auc: 0.7060\n",
            "Epoch 1: val_loss improved from inf to 0.07905, saving model to /home/haoming/Projects/python/brain-stroke-prediction/model/tt_model_exp_9_unsampled\n"
          ]
        },
        {
          "name": "stderr",
          "output_type": "stream",
          "text": [
            "WARNING:absl:Found untraced functions such as query_layer_call_fn, query_layer_call_and_return_conditional_losses, key_layer_call_fn, key_layer_call_and_return_conditional_losses, value_layer_call_fn while saving (showing 5 of 36). These functions will not be directly callable after loading.\n"
          ]
        },
        {
          "name": "stdout",
          "output_type": "stream",
          "text": [
            "INFO:tensorflow:Assets written to: /home/haoming/Projects/python/brain-stroke-prediction/model/tt_model_exp_9_unsampled/assets\n"
          ]
        },
        {
          "name": "stderr",
          "output_type": "stream",
          "text": [
            "INFO:tensorflow:Assets written to: /home/haoming/Projects/python/brain-stroke-prediction/model/tt_model_exp_9_unsampled/assets\n"
          ]
        },
        {
          "name": "stdout",
          "output_type": "stream",
          "text": [
            "119/119 [==============================] - 21s 106ms/step - loss: 0.0862 - acc: 0.9820 - auc: 0.7072 - val_loss: 0.0791 - val_acc: 0.9828 - val_auc: 0.7581\n",
            "Epoch 2/100\n",
            "118/119 [============================>.] - ETA: 0s - loss: 0.0836 - acc: 0.9820 - auc: 0.7422\n",
            "Epoch 2: val_loss improved from 0.07905 to 0.07831, saving model to /home/haoming/Projects/python/brain-stroke-prediction/model/tt_model_exp_9_unsampled\n"
          ]
        },
        {
          "name": "stderr",
          "output_type": "stream",
          "text": [
            "WARNING:absl:Found untraced functions such as query_layer_call_fn, query_layer_call_and_return_conditional_losses, key_layer_call_fn, key_layer_call_and_return_conditional_losses, value_layer_call_fn while saving (showing 5 of 36). These functions will not be directly callable after loading.\n"
          ]
        },
        {
          "name": "stdout",
          "output_type": "stream",
          "text": [
            "INFO:tensorflow:Assets written to: /home/haoming/Projects/python/brain-stroke-prediction/model/tt_model_exp_9_unsampled/assets\n"
          ]
        },
        {
          "name": "stderr",
          "output_type": "stream",
          "text": [
            "INFO:tensorflow:Assets written to: /home/haoming/Projects/python/brain-stroke-prediction/model/tt_model_exp_9_unsampled/assets\n"
          ]
        },
        {
          "name": "stdout",
          "output_type": "stream",
          "text": [
            "119/119 [==============================] - 14s 119ms/step - loss: 0.0836 - acc: 0.9820 - auc: 0.7431 - val_loss: 0.0783 - val_acc: 0.9828 - val_auc: 0.7811\n",
            "Epoch 3/100\n",
            "119/119 [==============================] - ETA: 0s - loss: 0.0830 - acc: 0.9820 - auc: 0.7516\n",
            "Epoch 3: val_loss improved from 0.07831 to 0.07783, saving model to /home/haoming/Projects/python/brain-stroke-prediction/model/tt_model_exp_9_unsampled\n"
          ]
        },
        {
          "name": "stderr",
          "output_type": "stream",
          "text": [
            "WARNING:absl:Found untraced functions such as query_layer_call_fn, query_layer_call_and_return_conditional_losses, key_layer_call_fn, key_layer_call_and_return_conditional_losses, value_layer_call_fn while saving (showing 5 of 36). These functions will not be directly callable after loading.\n"
          ]
        },
        {
          "name": "stdout",
          "output_type": "stream",
          "text": [
            "INFO:tensorflow:Assets written to: /home/haoming/Projects/python/brain-stroke-prediction/model/tt_model_exp_9_unsampled/assets\n"
          ]
        },
        {
          "name": "stderr",
          "output_type": "stream",
          "text": [
            "INFO:tensorflow:Assets written to: /home/haoming/Projects/python/brain-stroke-prediction/model/tt_model_exp_9_unsampled/assets\n"
          ]
        },
        {
          "name": "stdout",
          "output_type": "stream",
          "text": [
            "119/119 [==============================] - 14s 115ms/step - loss: 0.0830 - acc: 0.9820 - auc: 0.7516 - val_loss: 0.0778 - val_acc: 0.9828 - val_auc: 0.7863\n",
            "Epoch 4/100\n",
            "119/119 [==============================] - ETA: 0s - loss: 0.0820 - acc: 0.9820 - auc: 0.7673\n",
            "Epoch 4: val_loss improved from 0.07783 to 0.07754, saving model to /home/haoming/Projects/python/brain-stroke-prediction/model/tt_model_exp_9_unsampled\n"
          ]
        },
        {
          "name": "stderr",
          "output_type": "stream",
          "text": [
            "WARNING:absl:Found untraced functions such as query_layer_call_fn, query_layer_call_and_return_conditional_losses, key_layer_call_fn, key_layer_call_and_return_conditional_losses, value_layer_call_fn while saving (showing 5 of 36). These functions will not be directly callable after loading.\n"
          ]
        },
        {
          "name": "stdout",
          "output_type": "stream",
          "text": [
            "INFO:tensorflow:Assets written to: /home/haoming/Projects/python/brain-stroke-prediction/model/tt_model_exp_9_unsampled/assets\n"
          ]
        },
        {
          "name": "stderr",
          "output_type": "stream",
          "text": [
            "INFO:tensorflow:Assets written to: /home/haoming/Projects/python/brain-stroke-prediction/model/tt_model_exp_9_unsampled/assets\n"
          ]
        },
        {
          "name": "stdout",
          "output_type": "stream",
          "text": [
            "119/119 [==============================] - 11s 96ms/step - loss: 0.0820 - acc: 0.9820 - auc: 0.7673 - val_loss: 0.0775 - val_acc: 0.9828 - val_auc: 0.7914\n",
            "Epoch 5/100\n",
            "118/119 [============================>.] - ETA: 0s - loss: 0.0812 - acc: 0.9820 - auc: 0.7733\n",
            "Epoch 5: val_loss improved from 0.07754 to 0.07640, saving model to /home/haoming/Projects/python/brain-stroke-prediction/model/tt_model_exp_9_unsampled\n"
          ]
        },
        {
          "name": "stderr",
          "output_type": "stream",
          "text": [
            "WARNING:absl:Found untraced functions such as query_layer_call_fn, query_layer_call_and_return_conditional_losses, key_layer_call_fn, key_layer_call_and_return_conditional_losses, value_layer_call_fn while saving (showing 5 of 36). These functions will not be directly callable after loading.\n"
          ]
        },
        {
          "name": "stdout",
          "output_type": "stream",
          "text": [
            "INFO:tensorflow:Assets written to: /home/haoming/Projects/python/brain-stroke-prediction/model/tt_model_exp_9_unsampled/assets\n"
          ]
        },
        {
          "name": "stderr",
          "output_type": "stream",
          "text": [
            "INFO:tensorflow:Assets written to: /home/haoming/Projects/python/brain-stroke-prediction/model/tt_model_exp_9_unsampled/assets\n"
          ]
        },
        {
          "name": "stdout",
          "output_type": "stream",
          "text": [
            "119/119 [==============================] - 11s 94ms/step - loss: 0.0811 - acc: 0.9820 - auc: 0.7738 - val_loss: 0.0764 - val_acc: 0.9828 - val_auc: 0.7941\n",
            "Epoch 6/100\n",
            "118/119 [============================>.] - ETA: 0s - loss: 0.0808 - acc: 0.9820 - auc: 0.7746\n",
            "Epoch 6: val_loss improved from 0.07640 to 0.07573, saving model to /home/haoming/Projects/python/brain-stroke-prediction/model/tt_model_exp_9_unsampled\n"
          ]
        },
        {
          "name": "stderr",
          "output_type": "stream",
          "text": [
            "WARNING:absl:Found untraced functions such as query_layer_call_fn, query_layer_call_and_return_conditional_losses, key_layer_call_fn, key_layer_call_and_return_conditional_losses, value_layer_call_fn while saving (showing 5 of 36). These functions will not be directly callable after loading.\n"
          ]
        },
        {
          "name": "stdout",
          "output_type": "stream",
          "text": [
            "INFO:tensorflow:Assets written to: /home/haoming/Projects/python/brain-stroke-prediction/model/tt_model_exp_9_unsampled/assets\n"
          ]
        },
        {
          "name": "stderr",
          "output_type": "stream",
          "text": [
            "INFO:tensorflow:Assets written to: /home/haoming/Projects/python/brain-stroke-prediction/model/tt_model_exp_9_unsampled/assets\n"
          ]
        },
        {
          "name": "stdout",
          "output_type": "stream",
          "text": [
            "119/119 [==============================] - 15s 123ms/step - loss: 0.0808 - acc: 0.9820 - auc: 0.7748 - val_loss: 0.0757 - val_acc: 0.9828 - val_auc: 0.8049\n",
            "Epoch 7/100\n",
            "117/119 [============================>.] - ETA: 0s - loss: 0.0810 - acc: 0.9820 - auc: 0.7702\n",
            "Epoch 7: val_loss improved from 0.07573 to 0.07570, saving model to /home/haoming/Projects/python/brain-stroke-prediction/model/tt_model_exp_9_unsampled\n"
          ]
        },
        {
          "name": "stderr",
          "output_type": "stream",
          "text": [
            "WARNING:absl:Found untraced functions such as query_layer_call_fn, query_layer_call_and_return_conditional_losses, key_layer_call_fn, key_layer_call_and_return_conditional_losses, value_layer_call_fn while saving (showing 5 of 36). These functions will not be directly callable after loading.\n"
          ]
        },
        {
          "name": "stdout",
          "output_type": "stream",
          "text": [
            "INFO:tensorflow:Assets written to: /home/haoming/Projects/python/brain-stroke-prediction/model/tt_model_exp_9_unsampled/assets\n"
          ]
        },
        {
          "name": "stderr",
          "output_type": "stream",
          "text": [
            "INFO:tensorflow:Assets written to: /home/haoming/Projects/python/brain-stroke-prediction/model/tt_model_exp_9_unsampled/assets\n"
          ]
        },
        {
          "name": "stdout",
          "output_type": "stream",
          "text": [
            "119/119 [==============================] - 12s 103ms/step - loss: 0.0810 - acc: 0.9820 - auc: 0.7709 - val_loss: 0.0757 - val_acc: 0.9828 - val_auc: 0.8039\n",
            "Epoch 8/100\n",
            "119/119 [==============================] - ETA: 0s - loss: 0.0807 - acc: 0.9820 - auc: 0.7757\n",
            "Epoch 8: val_loss improved from 0.07570 to 0.07488, saving model to /home/haoming/Projects/python/brain-stroke-prediction/model/tt_model_exp_9_unsampled\n"
          ]
        },
        {
          "name": "stderr",
          "output_type": "stream",
          "text": [
            "WARNING:absl:Found untraced functions such as query_layer_call_fn, query_layer_call_and_return_conditional_losses, key_layer_call_fn, key_layer_call_and_return_conditional_losses, value_layer_call_fn while saving (showing 5 of 36). These functions will not be directly callable after loading.\n"
          ]
        },
        {
          "name": "stdout",
          "output_type": "stream",
          "text": [
            "INFO:tensorflow:Assets written to: /home/haoming/Projects/python/brain-stroke-prediction/model/tt_model_exp_9_unsampled/assets\n"
          ]
        },
        {
          "name": "stderr",
          "output_type": "stream",
          "text": [
            "INFO:tensorflow:Assets written to: /home/haoming/Projects/python/brain-stroke-prediction/model/tt_model_exp_9_unsampled/assets\n"
          ]
        },
        {
          "name": "stdout",
          "output_type": "stream",
          "text": [
            "119/119 [==============================] - 12s 102ms/step - loss: 0.0807 - acc: 0.9820 - auc: 0.7757 - val_loss: 0.0749 - val_acc: 0.9828 - val_auc: 0.8055\n",
            "Epoch 9/100\n",
            "119/119 [==============================] - ETA: 0s - loss: 0.0805 - acc: 0.9820 - auc: 0.7812\n",
            "Epoch 9: val_loss improved from 0.07488 to 0.07465, saving model to /home/haoming/Projects/python/brain-stroke-prediction/model/tt_model_exp_9_unsampled\n"
          ]
        },
        {
          "name": "stderr",
          "output_type": "stream",
          "text": [
            "WARNING:absl:Found untraced functions such as query_layer_call_fn, query_layer_call_and_return_conditional_losses, key_layer_call_fn, key_layer_call_and_return_conditional_losses, value_layer_call_fn while saving (showing 5 of 36). These functions will not be directly callable after loading.\n"
          ]
        },
        {
          "name": "stdout",
          "output_type": "stream",
          "text": [
            "INFO:tensorflow:Assets written to: /home/haoming/Projects/python/brain-stroke-prediction/model/tt_model_exp_9_unsampled/assets\n"
          ]
        },
        {
          "name": "stderr",
          "output_type": "stream",
          "text": [
            "INFO:tensorflow:Assets written to: /home/haoming/Projects/python/brain-stroke-prediction/model/tt_model_exp_9_unsampled/assets\n"
          ]
        },
        {
          "name": "stdout",
          "output_type": "stream",
          "text": [
            "119/119 [==============================] - 13s 110ms/step - loss: 0.0805 - acc: 0.9820 - auc: 0.7812 - val_loss: 0.0747 - val_acc: 0.9828 - val_auc: 0.8090\n",
            "Epoch 10/100\n",
            "118/119 [============================>.] - ETA: 0s - loss: 0.0808 - acc: 0.9820 - auc: 0.7755\n",
            "Epoch 10: val_loss did not improve from 0.07465\n",
            "119/119 [==============================] - 3s 25ms/step - loss: 0.0808 - acc: 0.9820 - auc: 0.7755 - val_loss: 0.0747 - val_acc: 0.9828 - val_auc: 0.8106\n",
            "Epoch 11/100\n",
            "119/119 [==============================] - ETA: 0s - loss: 0.0807 - acc: 0.9820 - auc: 0.7753\n",
            "Epoch 11: val_loss did not improve from 0.07465\n",
            "119/119 [==============================] - 3s 24ms/step - loss: 0.0807 - acc: 0.9820 - auc: 0.7753 - val_loss: 0.0748 - val_acc: 0.9828 - val_auc: 0.8091\n",
            "Epoch 12/100\n",
            "118/119 [============================>.] - ETA: 0s - loss: 0.0809 - acc: 0.9820 - auc: 0.7722\n",
            "Epoch 12: val_loss did not improve from 0.07465\n",
            "119/119 [==============================] - 3s 27ms/step - loss: 0.0809 - acc: 0.9820 - auc: 0.7724 - val_loss: 0.0755 - val_acc: 0.9828 - val_auc: 0.8064\n",
            "Epoch 13/100\n",
            "119/119 [==============================] - ETA: 0s - loss: 0.0805 - acc: 0.9820 - auc: 0.7792\n",
            "Epoch 13: val_loss did not improve from 0.07465\n",
            "119/119 [==============================] - 3s 28ms/step - loss: 0.0805 - acc: 0.9820 - auc: 0.7792 - val_loss: 0.0747 - val_acc: 0.9828 - val_auc: 0.8094\n",
            "Epoch 14/100\n",
            "118/119 [============================>.] - ETA: 0s - loss: 0.0805 - acc: 0.9820 - auc: 0.7760\n",
            "Epoch 14: val_loss improved from 0.07465 to 0.07459, saving model to /home/haoming/Projects/python/brain-stroke-prediction/model/tt_model_exp_9_unsampled\n"
          ]
        },
        {
          "name": "stderr",
          "output_type": "stream",
          "text": [
            "WARNING:absl:Found untraced functions such as query_layer_call_fn, query_layer_call_and_return_conditional_losses, key_layer_call_fn, key_layer_call_and_return_conditional_losses, value_layer_call_fn while saving (showing 5 of 36). These functions will not be directly callable after loading.\n"
          ]
        },
        {
          "name": "stdout",
          "output_type": "stream",
          "text": [
            "INFO:tensorflow:Assets written to: /home/haoming/Projects/python/brain-stroke-prediction/model/tt_model_exp_9_unsampled/assets\n"
          ]
        },
        {
          "name": "stderr",
          "output_type": "stream",
          "text": [
            "INFO:tensorflow:Assets written to: /home/haoming/Projects/python/brain-stroke-prediction/model/tt_model_exp_9_unsampled/assets\n"
          ]
        },
        {
          "name": "stdout",
          "output_type": "stream",
          "text": [
            "119/119 [==============================] - 12s 103ms/step - loss: 0.0805 - acc: 0.9820 - auc: 0.7762 - val_loss: 0.0746 - val_acc: 0.9828 - val_auc: 0.8110\n",
            "Epoch 15/100\n",
            "117/119 [============================>.] - ETA: 0s - loss: 0.0805 - acc: 0.9820 - auc: 0.7768\n",
            "Epoch 15: val_loss improved from 0.07459 to 0.07440, saving model to /home/haoming/Projects/python/brain-stroke-prediction/model/tt_model_exp_9_unsampled\n"
          ]
        },
        {
          "name": "stderr",
          "output_type": "stream",
          "text": [
            "WARNING:absl:Found untraced functions such as query_layer_call_fn, query_layer_call_and_return_conditional_losses, key_layer_call_fn, key_layer_call_and_return_conditional_losses, value_layer_call_fn while saving (showing 5 of 36). These functions will not be directly callable after loading.\n"
          ]
        },
        {
          "name": "stdout",
          "output_type": "stream",
          "text": [
            "INFO:tensorflow:Assets written to: /home/haoming/Projects/python/brain-stroke-prediction/model/tt_model_exp_9_unsampled/assets\n"
          ]
        },
        {
          "name": "stderr",
          "output_type": "stream",
          "text": [
            "INFO:tensorflow:Assets written to: /home/haoming/Projects/python/brain-stroke-prediction/model/tt_model_exp_9_unsampled/assets\n"
          ]
        },
        {
          "name": "stdout",
          "output_type": "stream",
          "text": [
            "119/119 [==============================] - 15s 126ms/step - loss: 0.0806 - acc: 0.9820 - auc: 0.7775 - val_loss: 0.0744 - val_acc: 0.9828 - val_auc: 0.8117\n",
            "Epoch 16/100\n",
            "119/119 [==============================] - ETA: 0s - loss: 0.0803 - acc: 0.9820 - auc: 0.7792\n",
            "Epoch 16: val_loss improved from 0.07440 to 0.07398, saving model to /home/haoming/Projects/python/brain-stroke-prediction/model/tt_model_exp_9_unsampled\n"
          ]
        },
        {
          "name": "stderr",
          "output_type": "stream",
          "text": [
            "WARNING:absl:Found untraced functions such as query_layer_call_fn, query_layer_call_and_return_conditional_losses, key_layer_call_fn, key_layer_call_and_return_conditional_losses, value_layer_call_fn while saving (showing 5 of 36). These functions will not be directly callable after loading.\n"
          ]
        },
        {
          "name": "stdout",
          "output_type": "stream",
          "text": [
            "INFO:tensorflow:Assets written to: /home/haoming/Projects/python/brain-stroke-prediction/model/tt_model_exp_9_unsampled/assets\n"
          ]
        },
        {
          "name": "stderr",
          "output_type": "stream",
          "text": [
            "INFO:tensorflow:Assets written to: /home/haoming/Projects/python/brain-stroke-prediction/model/tt_model_exp_9_unsampled/assets\n"
          ]
        },
        {
          "name": "stdout",
          "output_type": "stream",
          "text": [
            "119/119 [==============================] - 14s 119ms/step - loss: 0.0803 - acc: 0.9820 - auc: 0.7792 - val_loss: 0.0740 - val_acc: 0.9828 - val_auc: 0.8126\n",
            "Epoch 17/100\n",
            "117/119 [============================>.] - ETA: 0s - loss: 0.0803 - acc: 0.9820 - auc: 0.7818\n",
            "Epoch 17: val_loss improved from 0.07398 to 0.07387, saving model to /home/haoming/Projects/python/brain-stroke-prediction/model/tt_model_exp_9_unsampled\n"
          ]
        },
        {
          "name": "stderr",
          "output_type": "stream",
          "text": [
            "WARNING:absl:Found untraced functions such as query_layer_call_fn, query_layer_call_and_return_conditional_losses, key_layer_call_fn, key_layer_call_and_return_conditional_losses, value_layer_call_fn while saving (showing 5 of 36). These functions will not be directly callable after loading.\n"
          ]
        },
        {
          "name": "stdout",
          "output_type": "stream",
          "text": [
            "INFO:tensorflow:Assets written to: /home/haoming/Projects/python/brain-stroke-prediction/model/tt_model_exp_9_unsampled/assets\n"
          ]
        },
        {
          "name": "stderr",
          "output_type": "stream",
          "text": [
            "INFO:tensorflow:Assets written to: /home/haoming/Projects/python/brain-stroke-prediction/model/tt_model_exp_9_unsampled/assets\n"
          ]
        },
        {
          "name": "stdout",
          "output_type": "stream",
          "text": [
            "119/119 [==============================] - 11s 96ms/step - loss: 0.0803 - acc: 0.9820 - auc: 0.7828 - val_loss: 0.0739 - val_acc: 0.9828 - val_auc: 0.8112\n",
            "Epoch 18/100\n",
            "119/119 [==============================] - ETA: 0s - loss: 0.0807 - acc: 0.9820 - auc: 0.7754\n",
            "Epoch 18: val_loss did not improve from 0.07387\n",
            "119/119 [==============================] - 3s 26ms/step - loss: 0.0807 - acc: 0.9820 - auc: 0.7754 - val_loss: 0.0739 - val_acc: 0.9828 - val_auc: 0.8141\n",
            "Epoch 19/100\n",
            "117/119 [============================>.] - ETA: 0s - loss: 0.0797 - acc: 0.9820 - auc: 0.7843\n",
            "Epoch 19: val_loss improved from 0.07387 to 0.07364, saving model to /home/haoming/Projects/python/brain-stroke-prediction/model/tt_model_exp_9_unsampled\n"
          ]
        },
        {
          "name": "stderr",
          "output_type": "stream",
          "text": [
            "WARNING:absl:Found untraced functions such as query_layer_call_fn, query_layer_call_and_return_conditional_losses, key_layer_call_fn, key_layer_call_and_return_conditional_losses, value_layer_call_fn while saving (showing 5 of 36). These functions will not be directly callable after loading.\n"
          ]
        },
        {
          "name": "stdout",
          "output_type": "stream",
          "text": [
            "INFO:tensorflow:Assets written to: /home/haoming/Projects/python/brain-stroke-prediction/model/tt_model_exp_9_unsampled/assets\n"
          ]
        },
        {
          "name": "stderr",
          "output_type": "stream",
          "text": [
            "INFO:tensorflow:Assets written to: /home/haoming/Projects/python/brain-stroke-prediction/model/tt_model_exp_9_unsampled/assets\n"
          ]
        },
        {
          "name": "stdout",
          "output_type": "stream",
          "text": [
            "119/119 [==============================] - 13s 107ms/step - loss: 0.0798 - acc: 0.9820 - auc: 0.7845 - val_loss: 0.0736 - val_acc: 0.9828 - val_auc: 0.8181\n",
            "Epoch 20/100\n",
            "117/119 [============================>.] - ETA: 0s - loss: 0.0801 - acc: 0.9820 - auc: 0.7807\n",
            "Epoch 20: val_loss improved from 0.07364 to 0.07354, saving model to /home/haoming/Projects/python/brain-stroke-prediction/model/tt_model_exp_9_unsampled\n"
          ]
        },
        {
          "name": "stderr",
          "output_type": "stream",
          "text": [
            "WARNING:absl:Found untraced functions such as query_layer_call_fn, query_layer_call_and_return_conditional_losses, key_layer_call_fn, key_layer_call_and_return_conditional_losses, value_layer_call_fn while saving (showing 5 of 36). These functions will not be directly callable after loading.\n"
          ]
        },
        {
          "name": "stdout",
          "output_type": "stream",
          "text": [
            "INFO:tensorflow:Assets written to: /home/haoming/Projects/python/brain-stroke-prediction/model/tt_model_exp_9_unsampled/assets\n"
          ]
        },
        {
          "name": "stderr",
          "output_type": "stream",
          "text": [
            "INFO:tensorflow:Assets written to: /home/haoming/Projects/python/brain-stroke-prediction/model/tt_model_exp_9_unsampled/assets\n"
          ]
        },
        {
          "name": "stdout",
          "output_type": "stream",
          "text": [
            "119/119 [==============================] - 12s 98ms/step - loss: 0.0802 - acc: 0.9820 - auc: 0.7811 - val_loss: 0.0735 - val_acc: 0.9828 - val_auc: 0.8164\n",
            "Epoch 21/100\n",
            "117/119 [============================>.] - ETA: 0s - loss: 0.0803 - acc: 0.9820 - auc: 0.7783\n",
            "Epoch 21: val_loss did not improve from 0.07354\n",
            "119/119 [==============================] - 3s 22ms/step - loss: 0.0804 - acc: 0.9820 - auc: 0.7785 - val_loss: 0.0740 - val_acc: 0.9828 - val_auc: 0.8143\n",
            "Epoch 22/100\n",
            "117/119 [============================>.] - ETA: 0s - loss: 0.0801 - acc: 0.9820 - auc: 0.7803\n",
            "Epoch 22: val_loss did not improve from 0.07354\n",
            "119/119 [==============================] - 3s 26ms/step - loss: 0.0802 - acc: 0.9820 - auc: 0.7807 - val_loss: 0.0737 - val_acc: 0.9828 - val_auc: 0.8173\n",
            "Epoch 23/100\n",
            "117/119 [============================>.] - ETA: 0s - loss: 0.0800 - acc: 0.9820 - auc: 0.7819\n",
            "Epoch 23: val_loss did not improve from 0.07354\n",
            "119/119 [==============================] - 3s 22ms/step - loss: 0.0800 - acc: 0.9820 - auc: 0.7824 - val_loss: 0.0739 - val_acc: 0.9828 - val_auc: 0.8164\n",
            "Epoch 24/100\n",
            "117/119 [============================>.] - ETA: 0s - loss: 0.0802 - acc: 0.9820 - auc: 0.7795\n",
            "Epoch 24: val_loss did not improve from 0.07354\n",
            "119/119 [==============================] - 3s 25ms/step - loss: 0.0802 - acc: 0.9820 - auc: 0.7801 - val_loss: 0.0738 - val_acc: 0.9828 - val_auc: 0.8159\n",
            "Epoch 25/100\n",
            "118/119 [============================>.] - ETA: 0s - loss: 0.0797 - acc: 0.9820 - auc: 0.7887\n",
            "Epoch 25: val_loss did not improve from 0.07354\n",
            "119/119 [==============================] - 3s 27ms/step - loss: 0.0797 - acc: 0.9820 - auc: 0.7887 - val_loss: 0.0739 - val_acc: 0.9828 - val_auc: 0.8181\n",
            "Epoch 26/100\n",
            "117/119 [============================>.] - ETA: 0s - loss: 0.0801 - acc: 0.9820 - auc: 0.7797\n",
            "Epoch 26: val_loss did not improve from 0.07354\n",
            "119/119 [==============================] - 3s 23ms/step - loss: 0.0801 - acc: 0.9820 - auc: 0.7802 - val_loss: 0.0740 - val_acc: 0.9828 - val_auc: 0.8150\n",
            "Epoch 27/100\n",
            "118/119 [============================>.] - ETA: 0s - loss: 0.0800 - acc: 0.9820 - auc: 0.7853\n",
            "Epoch 27: val_loss did not improve from 0.07354\n",
            "119/119 [==============================] - 3s 23ms/step - loss: 0.0800 - acc: 0.9820 - auc: 0.7855 - val_loss: 0.0741 - val_acc: 0.9828 - val_auc: 0.8206\n",
            "Epoch 28/100\n",
            "118/119 [============================>.] - ETA: 0s - loss: 0.0798 - acc: 0.9820 - auc: 0.7876\n",
            "Epoch 28: val_loss did not improve from 0.07354\n",
            "119/119 [==============================] - 3s 27ms/step - loss: 0.0797 - acc: 0.9820 - auc: 0.7878 - val_loss: 0.0740 - val_acc: 0.9828 - val_auc: 0.8180\n",
            "Epoch 29/100\n",
            "118/119 [============================>.] - ETA: 0s - loss: 0.0798 - acc: 0.9820 - auc: 0.7857\n",
            "Epoch 29: val_loss improved from 0.07354 to 0.07341, saving model to /home/haoming/Projects/python/brain-stroke-prediction/model/tt_model_exp_9_unsampled\n"
          ]
        },
        {
          "name": "stderr",
          "output_type": "stream",
          "text": [
            "WARNING:absl:Found untraced functions such as query_layer_call_fn, query_layer_call_and_return_conditional_losses, key_layer_call_fn, key_layer_call_and_return_conditional_losses, value_layer_call_fn while saving (showing 5 of 36). These functions will not be directly callable after loading.\n"
          ]
        },
        {
          "name": "stdout",
          "output_type": "stream",
          "text": [
            "INFO:tensorflow:Assets written to: /home/haoming/Projects/python/brain-stroke-prediction/model/tt_model_exp_9_unsampled/assets\n"
          ]
        },
        {
          "name": "stderr",
          "output_type": "stream",
          "text": [
            "INFO:tensorflow:Assets written to: /home/haoming/Projects/python/brain-stroke-prediction/model/tt_model_exp_9_unsampled/assets\n"
          ]
        },
        {
          "name": "stdout",
          "output_type": "stream",
          "text": [
            "119/119 [==============================] - 13s 109ms/step - loss: 0.0798 - acc: 0.9820 - auc: 0.7857 - val_loss: 0.0734 - val_acc: 0.9828 - val_auc: 0.8233\n",
            "Epoch 30/100\n",
            "118/119 [============================>.] - ETA: 0s - loss: 0.0799 - acc: 0.9820 - auc: 0.7863\n",
            "Epoch 30: val_loss did not improve from 0.07341\n",
            "119/119 [==============================] - 3s 27ms/step - loss: 0.0799 - acc: 0.9820 - auc: 0.7863 - val_loss: 0.0736 - val_acc: 0.9828 - val_auc: 0.8204\n",
            "Epoch 31/100\n",
            "119/119 [==============================] - ETA: 0s - loss: 0.0796 - acc: 0.9820 - auc: 0.7888\n",
            "Epoch 31: val_loss did not improve from 0.07341\n",
            "119/119 [==============================] - 3s 26ms/step - loss: 0.0796 - acc: 0.9820 - auc: 0.7888 - val_loss: 0.0736 - val_acc: 0.9828 - val_auc: 0.8226\n",
            "Epoch 32/100\n",
            "119/119 [==============================] - ETA: 0s - loss: 0.0800 - acc: 0.9820 - auc: 0.7835\n",
            "Epoch 32: val_loss did not improve from 0.07341\n",
            "119/119 [==============================] - 3s 25ms/step - loss: 0.0800 - acc: 0.9820 - auc: 0.7835 - val_loss: 0.0746 - val_acc: 0.9828 - val_auc: 0.8231\n",
            "Epoch 33/100\n",
            "118/119 [============================>.] - ETA: 0s - loss: 0.0800 - acc: 0.9820 - auc: 0.7848\n",
            "Epoch 33: val_loss did not improve from 0.07341\n",
            "119/119 [==============================] - 3s 26ms/step - loss: 0.0799 - acc: 0.9820 - auc: 0.7848 - val_loss: 0.0745 - val_acc: 0.9828 - val_auc: 0.8190\n",
            "Epoch 34/100\n",
            "117/119 [============================>.] - ETA: 0s - loss: 0.0802 - acc: 0.9820 - auc: 0.7799\n",
            "Epoch 34: val_loss did not improve from 0.07341\n",
            "119/119 [==============================] - 3s 22ms/step - loss: 0.0802 - acc: 0.9820 - auc: 0.7807 - val_loss: 0.0735 - val_acc: 0.9828 - val_auc: 0.8236\n",
            "Epoch 35/100\n",
            "118/119 [============================>.] - ETA: 0s - loss: 0.0797 - acc: 0.9820 - auc: 0.7864\n",
            "Epoch 35: val_loss improved from 0.07341 to 0.07326, saving model to /home/haoming/Projects/python/brain-stroke-prediction/model/tt_model_exp_9_unsampled\n"
          ]
        },
        {
          "name": "stderr",
          "output_type": "stream",
          "text": [
            "WARNING:absl:Found untraced functions such as query_layer_call_fn, query_layer_call_and_return_conditional_losses, key_layer_call_fn, key_layer_call_and_return_conditional_losses, value_layer_call_fn while saving (showing 5 of 36). These functions will not be directly callable after loading.\n"
          ]
        },
        {
          "name": "stdout",
          "output_type": "stream",
          "text": [
            "INFO:tensorflow:Assets written to: /home/haoming/Projects/python/brain-stroke-prediction/model/tt_model_exp_9_unsampled/assets\n"
          ]
        },
        {
          "name": "stderr",
          "output_type": "stream",
          "text": [
            "INFO:tensorflow:Assets written to: /home/haoming/Projects/python/brain-stroke-prediction/model/tt_model_exp_9_unsampled/assets\n"
          ]
        },
        {
          "name": "stdout",
          "output_type": "stream",
          "text": [
            "119/119 [==============================] - 14s 119ms/step - loss: 0.0796 - acc: 0.9820 - auc: 0.7867 - val_loss: 0.0733 - val_acc: 0.9828 - val_auc: 0.8238\n",
            "Epoch 36/100\n",
            "119/119 [==============================] - ETA: 0s - loss: 0.0796 - acc: 0.9820 - auc: 0.7846\n",
            "Epoch 36: val_loss did not improve from 0.07326\n",
            "119/119 [==============================] - 3s 26ms/step - loss: 0.0796 - acc: 0.9820 - auc: 0.7846 - val_loss: 0.0737 - val_acc: 0.9828 - val_auc: 0.8200\n",
            "Epoch 37/100\n",
            "119/119 [==============================] - ETA: 0s - loss: 0.0794 - acc: 0.9820 - auc: 0.7892\n",
            "Epoch 37: val_loss did not improve from 0.07326\n",
            "119/119 [==============================] - 3s 28ms/step - loss: 0.0794 - acc: 0.9820 - auc: 0.7892 - val_loss: 0.0735 - val_acc: 0.9828 - val_auc: 0.8257\n",
            "Epoch 38/100\n",
            "118/119 [============================>.] - ETA: 0s - loss: 0.0797 - acc: 0.9820 - auc: 0.7851\n",
            "Epoch 38: val_loss did not improve from 0.07326\n",
            "119/119 [==============================] - 3s 29ms/step - loss: 0.0797 - acc: 0.9820 - auc: 0.7852 - val_loss: 0.0738 - val_acc: 0.9828 - val_auc: 0.8231\n",
            "Epoch 39/100\n",
            "118/119 [============================>.] - ETA: 0s - loss: 0.0798 - acc: 0.9820 - auc: 0.7866\n",
            "Epoch 39: val_loss did not improve from 0.07326\n",
            "119/119 [==============================] - 3s 28ms/step - loss: 0.0797 - acc: 0.9820 - auc: 0.7870 - val_loss: 0.0735 - val_acc: 0.9828 - val_auc: 0.8254\n",
            "Epoch 40/100\n",
            "118/119 [============================>.] - ETA: 0s - loss: 0.0797 - acc: 0.9820 - auc: 0.7855\n",
            "Epoch 40: val_loss did not improve from 0.07326\n",
            "119/119 [==============================] - 3s 28ms/step - loss: 0.0796 - acc: 0.9820 - auc: 0.7858 - val_loss: 0.0739 - val_acc: 0.9828 - val_auc: 0.8232\n",
            "Epoch 41/100\n",
            "118/119 [============================>.] - ETA: 0s - loss: 0.0802 - acc: 0.9820 - auc: 0.7806\n",
            "Epoch 41: val_loss did not improve from 0.07326\n",
            "119/119 [==============================] - 3s 27ms/step - loss: 0.0801 - acc: 0.9820 - auc: 0.7806 - val_loss: 0.0738 - val_acc: 0.9828 - val_auc: 0.8238\n",
            "Epoch 42/100\n",
            "118/119 [============================>.] - ETA: 0s - loss: 0.0799 - acc: 0.9820 - auc: 0.7830\n",
            "Epoch 42: val_loss did not improve from 0.07326\n",
            "119/119 [==============================] - 3s 27ms/step - loss: 0.0799 - acc: 0.9820 - auc: 0.7836 - val_loss: 0.0738 - val_acc: 0.9828 - val_auc: 0.8189\n",
            "Epoch 43/100\n",
            "118/119 [============================>.] - ETA: 0s - loss: 0.0795 - acc: 0.9820 - auc: 0.7879\n",
            "Epoch 43: val_loss did not improve from 0.07326\n",
            "119/119 [==============================] - 3s 27ms/step - loss: 0.0795 - acc: 0.9820 - auc: 0.7881 - val_loss: 0.0746 - val_acc: 0.9828 - val_auc: 0.8248\n",
            "Epoch 44/100\n",
            "118/119 [============================>.] - ETA: 0s - loss: 0.0795 - acc: 0.9820 - auc: 0.7892\n",
            "Epoch 44: val_loss did not improve from 0.07326\n",
            "119/119 [==============================] - 3s 27ms/step - loss: 0.0794 - acc: 0.9820 - auc: 0.7893 - val_loss: 0.0741 - val_acc: 0.9828 - val_auc: 0.8225\n",
            "Epoch 45/100\n",
            "118/119 [============================>.] - ETA: 0s - loss: 0.0792 - acc: 0.9820 - auc: 0.7924\n",
            "Epoch 45: val_loss did not improve from 0.07326\n",
            "119/119 [==============================] - 3s 24ms/step - loss: 0.0791 - acc: 0.9820 - auc: 0.7924 - val_loss: 0.0744 - val_acc: 0.9828 - val_auc: 0.8233\n",
            "Model training finished\n"
          ]
        },
        {
          "name": "stderr",
          "output_type": "stream",
          "text": [
            "WARNING:absl:Found untraced functions such as query_layer_call_fn, query_layer_call_and_return_conditional_losses, key_layer_call_fn, key_layer_call_and_return_conditional_losses, value_layer_call_fn while saving (showing 5 of 36). These functions will not be directly callable after loading.\n"
          ]
        },
        {
          "name": "stdout",
          "output_type": "stream",
          "text": [
            "INFO:tensorflow:Assets written to: /home/haoming/Projects/python/brain-stroke-prediction/model/tt_model_exp_9_unsampled/assets\n"
          ]
        },
        {
          "name": "stderr",
          "output_type": "stream",
          "text": [
            "INFO:tensorflow:Assets written to: /home/haoming/Projects/python/brain-stroke-prediction/model/tt_model_exp_9_unsampled/assets\n"
          ]
        },
        {
          "name": "stdout",
          "output_type": "stream",
          "text": [
            "Validation accuracy: 98.28% AUC: 0.8232644200325012\n",
            "Start training the model...\n",
            "Epoch 1/100\n",
            "     25/Unknown - 6s 22ms/step - loss: 0.0759 - acc: 0.9828 - auc: 0.7846\n",
            "Epoch 1: val_loss improved from inf to 0.07732, saving model to /home/haoming/Projects/python/brain-stroke-prediction/model/tt_model_exp_9_unsampled\n"
          ]
        },
        {
          "name": "stderr",
          "output_type": "stream",
          "text": [
            "WARNING:absl:Found untraced functions such as query_layer_call_fn, query_layer_call_and_return_conditional_losses, key_layer_call_fn, key_layer_call_and_return_conditional_losses, value_layer_call_fn while saving (showing 5 of 36). These functions will not be directly callable after loading.\n"
          ]
        },
        {
          "name": "stdout",
          "output_type": "stream",
          "text": [
            "INFO:tensorflow:Assets written to: /home/haoming/Projects/python/brain-stroke-prediction/model/tt_model_exp_9_unsampled/assets\n"
          ]
        },
        {
          "name": "stderr",
          "output_type": "stream",
          "text": [
            "INFO:tensorflow:Assets written to: /home/haoming/Projects/python/brain-stroke-prediction/model/tt_model_exp_9_unsampled/assets\n"
          ]
        },
        {
          "name": "stdout",
          "output_type": "stream",
          "text": [
            "26/26 [==============================] - 15s 353ms/step - loss: 0.0756 - acc: 0.9828 - auc: 0.7873 - val_loss: 0.0773 - val_acc: 0.9833 - val_auc: 0.7605\n",
            "Epoch 2/100\n",
            "25/26 [===========================>..] - ETA: 0s - loss: 0.0725 - acc: 0.9828 - auc: 0.8282\n",
            "Epoch 2: val_loss did not improve from 0.07732\n",
            "26/26 [==============================] - 1s 29ms/step - loss: 0.0723 - acc: 0.9828 - auc: 0.8295 - val_loss: 0.0777 - val_acc: 0.9833 - val_auc: 0.7595\n",
            "Epoch 3/100\n",
            "25/26 [===========================>..] - ETA: 0s - loss: 0.0736 - acc: 0.9828 - auc: 0.8144\n",
            "Epoch 3: val_loss did not improve from 0.07732\n",
            "26/26 [==============================] - 1s 29ms/step - loss: 0.0733 - acc: 0.9828 - auc: 0.8175 - val_loss: 0.0779 - val_acc: 0.9833 - val_auc: 0.7549\n",
            "Epoch 4/100\n",
            "26/26 [==============================] - ETA: 0s - loss: 0.0721 - acc: 0.9828 - auc: 0.8255\n",
            "Epoch 4: val_loss did not improve from 0.07732\n",
            "26/26 [==============================] - 1s 30ms/step - loss: 0.0721 - acc: 0.9828 - auc: 0.8255 - val_loss: 0.0781 - val_acc: 0.9833 - val_auc: 0.7535\n",
            "Epoch 5/100\n",
            "25/26 [===========================>..] - ETA: 0s - loss: 0.0729 - acc: 0.9828 - auc: 0.8213\n",
            "Epoch 5: val_loss did not improve from 0.07732\n",
            "26/26 [==============================] - 1s 33ms/step - loss: 0.0726 - acc: 0.9828 - auc: 0.8232 - val_loss: 0.0783 - val_acc: 0.9833 - val_auc: 0.7543\n",
            "Epoch 6/100\n",
            "26/26 [==============================] - ETA: 0s - loss: 0.0720 - acc: 0.9828 - auc: 0.8275\n",
            "Epoch 6: val_loss did not improve from 0.07732\n",
            "26/26 [==============================] - 1s 32ms/step - loss: 0.0720 - acc: 0.9828 - auc: 0.8275 - val_loss: 0.0782 - val_acc: 0.9833 - val_auc: 0.7547\n",
            "Epoch 7/100\n",
            "25/26 [===========================>..] - ETA: 0s - loss: 0.0720 - acc: 0.9828 - auc: 0.8340\n",
            "Epoch 7: val_loss did not improve from 0.07732\n",
            "26/26 [==============================] - 1s 30ms/step - loss: 0.0717 - acc: 0.9828 - auc: 0.8361 - val_loss: 0.0785 - val_acc: 0.9833 - val_auc: 0.7507\n",
            "Epoch 8/100\n",
            "25/26 [===========================>..] - ETA: 0s - loss: 0.0719 - acc: 0.9828 - auc: 0.8337\n",
            "Epoch 8: val_loss did not improve from 0.07732\n",
            "26/26 [==============================] - 1s 31ms/step - loss: 0.0715 - acc: 0.9828 - auc: 0.8365 - val_loss: 0.0783 - val_acc: 0.9833 - val_auc: 0.7494\n",
            "Epoch 9/100\n",
            "25/26 [===========================>..] - ETA: 0s - loss: 0.0726 - acc: 0.9828 - auc: 0.8283\n",
            "Epoch 9: val_loss did not improve from 0.07732\n",
            "26/26 [==============================] - 1s 31ms/step - loss: 0.0723 - acc: 0.9828 - auc: 0.8306 - val_loss: 0.0782 - val_acc: 0.9833 - val_auc: 0.7543\n",
            "Epoch 10/100\n",
            "25/26 [===========================>..] - ETA: 0s - loss: 0.0716 - acc: 0.9828 - auc: 0.8328\n",
            "Epoch 10: val_loss did not improve from 0.07732\n",
            "26/26 [==============================] - 1s 30ms/step - loss: 0.0713 - acc: 0.9828 - auc: 0.8348 - val_loss: 0.0787 - val_acc: 0.9833 - val_auc: 0.7440\n",
            "Epoch 11/100\n",
            "25/26 [===========================>..] - ETA: 0s - loss: 0.0720 - acc: 0.9828 - auc: 0.8255\n",
            "Epoch 11: val_loss did not improve from 0.07732\n",
            "26/26 [==============================] - 1s 32ms/step - loss: 0.0716 - acc: 0.9828 - auc: 0.8281 - val_loss: 0.0789 - val_acc: 0.9833 - val_auc: 0.7427\n",
            "Model training finished\n"
          ]
        },
        {
          "name": "stderr",
          "output_type": "stream",
          "text": [
            "WARNING:absl:Found untraced functions such as query_layer_call_fn, query_layer_call_and_return_conditional_losses, key_layer_call_fn, key_layer_call_and_return_conditional_losses, value_layer_call_fn while saving (showing 5 of 36). These functions will not be directly callable after loading.\n"
          ]
        },
        {
          "name": "stdout",
          "output_type": "stream",
          "text": [
            "INFO:tensorflow:Assets written to: /home/haoming/Projects/python/brain-stroke-prediction/model/tt_model_exp_9_unsampled/assets\n"
          ]
        },
        {
          "name": "stderr",
          "output_type": "stream",
          "text": [
            "INFO:tensorflow:Assets written to: /home/haoming/Projects/python/brain-stroke-prediction/model/tt_model_exp_9_unsampled/assets\n"
          ]
        },
        {
          "name": "stdout",
          "output_type": "stream",
          "text": [
            "Validation accuracy: 98.33% AUC: 0.7427287101745605\n"
          ]
        },
        {
          "name": "stderr",
          "output_type": "stream",
          "text": [
            "/tmp/ipykernel_4645/1735405672.py:46: SettingWithCopyWarning: \n",
            "A value is trying to be set on a copy of a slice from a DataFrame.\n",
            "Try using .loc[row_indexer,col_indexer] = value instead\n",
            "\n",
            "See the caveats in the documentation: https://pandas.pydata.org/pandas-docs/stable/user_guide/indexing.html#returning-a-view-versus-a-copy\n",
            "  data[categorical_features] = enc.fit_transform(data[categorical_features])\n"
          ]
        },
        {
          "name": "stdout",
          "output_type": "stream",
          "text": [
            "Start training the model...\n",
            "Epoch 1/100\n",
            "    199/Unknown - 12s 26ms/step - loss: 0.2617 - acc: 0.9166 - auc: 0.9642\n",
            "Epoch 1: val_loss improved from inf to 3.63220, saving model to /home/haoming/Projects/python/brain-stroke-prediction/model/tt_model_exp_9_resampled\n"
          ]
        },
        {
          "name": "stderr",
          "output_type": "stream",
          "text": [
            "WARNING:absl:Found untraced functions such as query_layer_call_fn, query_layer_call_and_return_conditional_losses, key_layer_call_fn, key_layer_call_and_return_conditional_losses, value_layer_call_fn while saving (showing 5 of 36). These functions will not be directly callable after loading.\n"
          ]
        },
        {
          "name": "stdout",
          "output_type": "stream",
          "text": [
            "INFO:tensorflow:Assets written to: /home/haoming/Projects/python/brain-stroke-prediction/model/tt_model_exp_9_resampled/assets\n"
          ]
        },
        {
          "name": "stderr",
          "output_type": "stream",
          "text": [
            "INFO:tensorflow:Assets written to: /home/haoming/Projects/python/brain-stroke-prediction/model/tt_model_exp_9_resampled/assets\n"
          ]
        },
        {
          "name": "stdout",
          "output_type": "stream",
          "text": [
            "199/199 [==============================] - 25s 92ms/step - loss: 0.2617 - acc: 0.9166 - auc: 0.9642 - val_loss: 3.6322 - val_acc: 0.2389 - val_auc: 0.7355\n",
            "Epoch 2/100\n",
            "198/199 [============================>.] - ETA: 0s - loss: 0.3261 - acc: 0.8909 - auc: 0.9313\n",
            "Epoch 2: val_loss did not improve from 3.63220\n",
            "199/199 [==============================] - 4s 22ms/step - loss: 0.3254 - acc: 0.8912 - auc: 0.9314 - val_loss: 3.9913 - val_acc: 0.1579 - val_auc: 0.7582\n",
            "Epoch 3/100\n",
            "197/199 [============================>.] - ETA: 0s - loss: 0.3311 - acc: 0.8831 - auc: 0.9294\n",
            "Epoch 3: val_loss improved from 3.63220 to 3.44651, saving model to /home/haoming/Projects/python/brain-stroke-prediction/model/tt_model_exp_9_resampled\n"
          ]
        },
        {
          "name": "stderr",
          "output_type": "stream",
          "text": [
            "WARNING:absl:Found untraced functions such as query_layer_call_fn, query_layer_call_and_return_conditional_losses, key_layer_call_fn, key_layer_call_and_return_conditional_losses, value_layer_call_fn while saving (showing 5 of 36). These functions will not be directly callable after loading.\n"
          ]
        },
        {
          "name": "stdout",
          "output_type": "stream",
          "text": [
            "INFO:tensorflow:Assets written to: /home/haoming/Projects/python/brain-stroke-prediction/model/tt_model_exp_9_resampled/assets\n"
          ]
        },
        {
          "name": "stderr",
          "output_type": "stream",
          "text": [
            "INFO:tensorflow:Assets written to: /home/haoming/Projects/python/brain-stroke-prediction/model/tt_model_exp_9_resampled/assets\n"
          ]
        },
        {
          "name": "stdout",
          "output_type": "stream",
          "text": [
            "199/199 [==============================] - 13s 67ms/step - loss: 0.3292 - acc: 0.8840 - auc: 0.9298 - val_loss: 3.4465 - val_acc: 0.2108 - val_auc: 0.7590\n",
            "Epoch 4/100\n",
            "199/199 [==============================] - ETA: 0s - loss: 0.3218 - acc: 0.8857 - auc: 0.9305\n",
            "Epoch 4: val_loss improved from 3.44651 to 3.38704, saving model to /home/haoming/Projects/python/brain-stroke-prediction/model/tt_model_exp_9_resampled\n"
          ]
        },
        {
          "name": "stderr",
          "output_type": "stream",
          "text": [
            "WARNING:absl:Found untraced functions such as query_layer_call_fn, query_layer_call_and_return_conditional_losses, key_layer_call_fn, key_layer_call_and_return_conditional_losses, value_layer_call_fn while saving (showing 5 of 36). These functions will not be directly callable after loading.\n"
          ]
        },
        {
          "name": "stdout",
          "output_type": "stream",
          "text": [
            "INFO:tensorflow:Assets written to: /home/haoming/Projects/python/brain-stroke-prediction/model/tt_model_exp_9_resampled/assets\n"
          ]
        },
        {
          "name": "stderr",
          "output_type": "stream",
          "text": [
            "INFO:tensorflow:Assets written to: /home/haoming/Projects/python/brain-stroke-prediction/model/tt_model_exp_9_resampled/assets\n"
          ]
        },
        {
          "name": "stdout",
          "output_type": "stream",
          "text": [
            "199/199 [==============================] - 15s 75ms/step - loss: 0.3218 - acc: 0.8857 - auc: 0.9305 - val_loss: 3.3870 - val_acc: 0.2078 - val_auc: 0.7417\n",
            "Epoch 5/100\n",
            "197/199 [============================>.] - ETA: 0s - loss: 0.3143 - acc: 0.8887 - auc: 0.9343\n",
            "Epoch 5: val_loss did not improve from 3.38704\n",
            "199/199 [==============================] - 5s 23ms/step - loss: 0.3126 - acc: 0.8894 - auc: 0.9346 - val_loss: 4.4805 - val_acc: 0.0576 - val_auc: 0.7269\n",
            "Epoch 6/100\n",
            "197/199 [============================>.] - ETA: 0s - loss: 0.3121 - acc: 0.8822 - auc: 0.9346\n",
            "Epoch 6: val_loss improved from 3.38704 to 2.06924, saving model to /home/haoming/Projects/python/brain-stroke-prediction/model/tt_model_exp_9_resampled\n"
          ]
        },
        {
          "name": "stderr",
          "output_type": "stream",
          "text": [
            "WARNING:absl:Found untraced functions such as query_layer_call_fn, query_layer_call_and_return_conditional_losses, key_layer_call_fn, key_layer_call_and_return_conditional_losses, value_layer_call_fn while saving (showing 5 of 36). These functions will not be directly callable after loading.\n"
          ]
        },
        {
          "name": "stdout",
          "output_type": "stream",
          "text": [
            "INFO:tensorflow:Assets written to: /home/haoming/Projects/python/brain-stroke-prediction/model/tt_model_exp_9_resampled/assets\n"
          ]
        },
        {
          "name": "stderr",
          "output_type": "stream",
          "text": [
            "INFO:tensorflow:Assets written to: /home/haoming/Projects/python/brain-stroke-prediction/model/tt_model_exp_9_resampled/assets\n"
          ]
        },
        {
          "name": "stdout",
          "output_type": "stream",
          "text": [
            "199/199 [==============================] - 13s 68ms/step - loss: 0.3105 - acc: 0.8830 - auc: 0.9349 - val_loss: 2.0692 - val_acc: 0.3627 - val_auc: 0.7743\n",
            "Epoch 7/100\n",
            "199/199 [==============================] - ETA: 0s - loss: 0.2741 - acc: 0.9009 - auc: 0.9479\n",
            "Epoch 7: val_loss did not improve from 2.06924\n",
            "199/199 [==============================] - 4s 22ms/step - loss: 0.2741 - acc: 0.9009 - auc: 0.9479 - val_loss: 2.9188 - val_acc: 0.0232 - val_auc: 0.7596\n",
            "Epoch 8/100\n",
            "197/199 [============================>.] - ETA: 0s - loss: 0.3592 - acc: 0.8705 - auc: 0.9166\n",
            "Epoch 8: val_loss did not improve from 2.06924\n",
            "199/199 [==============================] - 4s 22ms/step - loss: 0.3571 - acc: 0.8714 - auc: 0.9171 - val_loss: 2.9442 - val_acc: 0.2169 - val_auc: 0.7716\n",
            "Epoch 9/100\n",
            "197/199 [============================>.] - ETA: 0s - loss: 0.3809 - acc: 0.8611 - auc: 0.9134\n",
            "Epoch 9: val_loss improved from 2.06924 to 0.20207, saving model to /home/haoming/Projects/python/brain-stroke-prediction/model/tt_model_exp_9_resampled\n"
          ]
        },
        {
          "name": "stderr",
          "output_type": "stream",
          "text": [
            "WARNING:absl:Found untraced functions such as query_layer_call_fn, query_layer_call_and_return_conditional_losses, key_layer_call_fn, key_layer_call_and_return_conditional_losses, value_layer_call_fn while saving (showing 5 of 36). These functions will not be directly callable after loading.\n"
          ]
        },
        {
          "name": "stdout",
          "output_type": "stream",
          "text": [
            "INFO:tensorflow:Assets written to: /home/haoming/Projects/python/brain-stroke-prediction/model/tt_model_exp_9_resampled/assets\n"
          ]
        },
        {
          "name": "stderr",
          "output_type": "stream",
          "text": [
            "INFO:tensorflow:Assets written to: /home/haoming/Projects/python/brain-stroke-prediction/model/tt_model_exp_9_resampled/assets\n"
          ]
        },
        {
          "name": "stdout",
          "output_type": "stream",
          "text": [
            "199/199 [==============================] - 14s 69ms/step - loss: 0.3790 - acc: 0.8620 - auc: 0.9138 - val_loss: 0.2021 - val_acc: 0.9826 - val_auc: 0.7577\n",
            "Epoch 10/100\n",
            "199/199 [==============================] - ETA: 0s - loss: 0.3510 - acc: 0.8779 - auc: 0.9240\n",
            "Epoch 10: val_loss did not improve from 0.20207\n",
            "199/199 [==============================] - 4s 21ms/step - loss: 0.3510 - acc: 0.8779 - auc: 0.9240 - val_loss: 3.8113 - val_acc: 0.1690 - val_auc: 0.7644\n",
            "Epoch 11/100\n",
            "199/199 [==============================] - ETA: 0s - loss: 0.3474 - acc: 0.8766 - auc: 0.9225\n",
            "Epoch 11: val_loss did not improve from 0.20207\n",
            "199/199 [==============================] - 5s 24ms/step - loss: 0.3474 - acc: 0.8766 - auc: 0.9225 - val_loss: 5.9479 - val_acc: 0.1705 - val_auc: 0.5806\n",
            "Epoch 12/100\n",
            "199/199 [==============================] - ETA: 0s - loss: 0.3601 - acc: 0.8800 - auc: 0.9162\n",
            "Epoch 12: val_loss did not improve from 0.20207\n",
            "199/199 [==============================] - 5s 24ms/step - loss: 0.3601 - acc: 0.8800 - auc: 0.9162 - val_loss: 2.7661 - val_acc: 0.2201 - val_auc: 0.7522\n",
            "Epoch 13/100\n",
            "198/199 [============================>.] - ETA: 0s - loss: 0.3757 - acc: 0.8748 - auc: 0.9110\n",
            "Epoch 13: val_loss did not improve from 0.20207\n",
            "199/199 [==============================] - 5s 23ms/step - loss: 0.3747 - acc: 0.8752 - auc: 0.9112 - val_loss: 2.9682 - val_acc: 0.1911 - val_auc: 0.7450\n",
            "Epoch 14/100\n",
            "199/199 [==============================] - ETA: 0s - loss: 0.4101 - acc: 0.8497 - auc: 0.9000\n",
            "Epoch 14: val_loss did not improve from 0.20207\n",
            "199/199 [==============================] - 5s 23ms/step - loss: 0.4101 - acc: 0.8497 - auc: 0.9000 - val_loss: 2.0972 - val_acc: 0.3527 - val_auc: 0.7459\n",
            "Epoch 15/100\n",
            "198/199 [============================>.] - ETA: 0s - loss: 0.3310 - acc: 0.8815 - auc: 0.9306\n",
            "Epoch 15: val_loss did not improve from 0.20207\n",
            "199/199 [==============================] - 5s 24ms/step - loss: 0.3302 - acc: 0.8819 - auc: 0.9308 - val_loss: 3.1807 - val_acc: 0.1897 - val_auc: 0.7435\n",
            "Epoch 16/100\n",
            "199/199 [==============================] - ETA: 0s - loss: 0.3957 - acc: 0.8611 - auc: 0.9110\n",
            "Epoch 16: val_loss did not improve from 0.20207\n",
            "199/199 [==============================] - 5s 26ms/step - loss: 0.3957 - acc: 0.8611 - auc: 0.9110 - val_loss: 10.5121 - val_acc: 0.2382 - val_auc: 0.5990\n",
            "Epoch 17/100\n",
            "199/199 [==============================] - ETA: 0s - loss: 0.3483 - acc: 0.8819 - auc: 0.9246\n",
            "Epoch 17: val_loss did not improve from 0.20207\n",
            "199/199 [==============================] - 4s 22ms/step - loss: 0.3483 - acc: 0.8819 - auc: 0.9246 - val_loss: 2.7979 - val_acc: 0.2187 - val_auc: 0.7448\n",
            "Epoch 18/100\n",
            "198/199 [============================>.] - ETA: 0s - loss: 0.3482 - acc: 0.8814 - auc: 0.9212\n",
            "Epoch 18: val_loss did not improve from 0.20207\n",
            "199/199 [==============================] - 5s 24ms/step - loss: 0.3474 - acc: 0.8817 - auc: 0.9213 - val_loss: 3.0490 - val_acc: 0.2134 - val_auc: 0.7332\n",
            "Epoch 19/100\n",
            "198/199 [============================>.] - ETA: 0s - loss: 0.3612 - acc: 0.8783 - auc: 0.9149\n",
            "Epoch 19: val_loss did not improve from 0.20207\n",
            "199/199 [==============================] - 5s 23ms/step - loss: 0.3603 - acc: 0.8787 - auc: 0.9150 - val_loss: 3.2798 - val_acc: 0.2100 - val_auc: 0.7218\n",
            "Model training finished\n"
          ]
        },
        {
          "name": "stderr",
          "output_type": "stream",
          "text": [
            "WARNING:absl:Found untraced functions such as query_layer_call_fn, query_layer_call_and_return_conditional_losses, key_layer_call_fn, key_layer_call_and_return_conditional_losses, value_layer_call_fn while saving (showing 5 of 36). These functions will not be directly callable after loading.\n"
          ]
        },
        {
          "name": "stdout",
          "output_type": "stream",
          "text": [
            "INFO:tensorflow:Assets written to: /home/haoming/Projects/python/brain-stroke-prediction/model/tt_model_exp_9_resampled/assets\n"
          ]
        },
        {
          "name": "stderr",
          "output_type": "stream",
          "text": [
            "INFO:tensorflow:Assets written to: /home/haoming/Projects/python/brain-stroke-prediction/model/tt_model_exp_9_resampled/assets\n"
          ]
        },
        {
          "name": "stdout",
          "output_type": "stream",
          "text": [
            "Validation accuracy: 21.0% AUC: 0.721826434135437\n",
            "Start training the model...\n",
            "Epoch 1/100\n",
            "     24/Unknown - 6s 23ms/step - loss: 1.5125 - acc: 0.3805 - auc: 0.6372\n",
            "Epoch 1: val_loss improved from inf to 0.38887, saving model to /home/haoming/Projects/python/brain-stroke-prediction/model/tt_model_exp_9_resampled\n"
          ]
        },
        {
          "name": "stderr",
          "output_type": "stream",
          "text": [
            "WARNING:absl:Found untraced functions such as query_layer_call_fn, query_layer_call_and_return_conditional_losses, key_layer_call_fn, key_layer_call_and_return_conditional_losses, value_layer_call_fn while saving (showing 5 of 36). These functions will not be directly callable after loading.\n"
          ]
        },
        {
          "name": "stdout",
          "output_type": "stream",
          "text": [
            "INFO:tensorflow:Assets written to: /home/haoming/Projects/python/brain-stroke-prediction/model/tt_model_exp_9_resampled/assets\n"
          ]
        },
        {
          "name": "stderr",
          "output_type": "stream",
          "text": [
            "INFO:tensorflow:Assets written to: /home/haoming/Projects/python/brain-stroke-prediction/model/tt_model_exp_9_resampled/assets\n"
          ]
        },
        {
          "name": "stdout",
          "output_type": "stream",
          "text": [
            "26/26 [==============================] - 17s 464ms/step - loss: 1.4449 - acc: 0.4121 - auc: 0.6411 - val_loss: 0.3889 - val_acc: 0.9773 - val_auc: 0.6406\n",
            "Epoch 2/100\n",
            "24/26 [==========================>...] - ETA: 0s - loss: 0.1448 - acc: 0.9824 - auc: 0.5253\n",
            "Epoch 2: val_loss improved from 0.38887 to 0.08546, saving model to /home/haoming/Projects/python/brain-stroke-prediction/model/tt_model_exp_9_resampled\n"
          ]
        },
        {
          "name": "stderr",
          "output_type": "stream",
          "text": [
            "WARNING:absl:Found untraced functions such as query_layer_call_fn, query_layer_call_and_return_conditional_losses, key_layer_call_fn, key_layer_call_and_return_conditional_losses, value_layer_call_fn while saving (showing 5 of 36). These functions will not be directly callable after loading.\n"
          ]
        },
        {
          "name": "stdout",
          "output_type": "stream",
          "text": [
            "INFO:tensorflow:Assets written to: /home/haoming/Projects/python/brain-stroke-prediction/model/tt_model_exp_9_resampled/assets\n"
          ]
        },
        {
          "name": "stderr",
          "output_type": "stream",
          "text": [
            "INFO:tensorflow:Assets written to: /home/haoming/Projects/python/brain-stroke-prediction/model/tt_model_exp_9_resampled/assets\n"
          ]
        },
        {
          "name": "stdout",
          "output_type": "stream",
          "text": [
            "26/26 [==============================] - 14s 541ms/step - loss: 0.1413 - acc: 0.9826 - auc: 0.5296 - val_loss: 0.0855 - val_acc: 0.9833 - val_auc: 0.6278\n",
            "Epoch 3/100\n",
            "25/26 [===========================>..] - ETA: 0s - loss: 0.0916 - acc: 0.9827 - auc: 0.5349\n",
            "Epoch 3: val_loss improved from 0.08546 to 0.08099, saving model to /home/haoming/Projects/python/brain-stroke-prediction/model/tt_model_exp_9_resampled\n"
          ]
        },
        {
          "name": "stderr",
          "output_type": "stream",
          "text": [
            "WARNING:absl:Found untraced functions such as query_layer_call_fn, query_layer_call_and_return_conditional_losses, key_layer_call_fn, key_layer_call_and_return_conditional_losses, value_layer_call_fn while saving (showing 5 of 36). These functions will not be directly callable after loading.\n"
          ]
        },
        {
          "name": "stdout",
          "output_type": "stream",
          "text": [
            "INFO:tensorflow:Assets written to: /home/haoming/Projects/python/brain-stroke-prediction/model/tt_model_exp_9_resampled/assets\n"
          ]
        },
        {
          "name": "stderr",
          "output_type": "stream",
          "text": [
            "INFO:tensorflow:Assets written to: /home/haoming/Projects/python/brain-stroke-prediction/model/tt_model_exp_9_resampled/assets\n"
          ]
        },
        {
          "name": "stdout",
          "output_type": "stream",
          "text": [
            "26/26 [==============================] - 9s 375ms/step - loss: 0.0911 - acc: 0.9828 - auc: 0.5351 - val_loss: 0.0810 - val_acc: 0.9833 - val_auc: 0.7091\n",
            "Epoch 4/100\n",
            "25/26 [===========================>..] - ETA: 0s - loss: 0.0863 - acc: 0.9827 - auc: 0.6535\n",
            "Epoch 4: val_loss did not improve from 0.08099\n",
            "26/26 [==============================] - 1s 28ms/step - loss: 0.0857 - acc: 0.9828 - auc: 0.6553 - val_loss: 0.0823 - val_acc: 0.9833 - val_auc: 0.7297\n",
            "Epoch 5/100\n",
            "25/26 [===========================>..] - ETA: 0s - loss: 0.0840 - acc: 0.9827 - auc: 0.6957\n",
            "Epoch 5: val_loss improved from 0.08099 to 0.08092, saving model to /home/haoming/Projects/python/brain-stroke-prediction/model/tt_model_exp_9_resampled\n"
          ]
        },
        {
          "name": "stderr",
          "output_type": "stream",
          "text": [
            "WARNING:absl:Found untraced functions such as query_layer_call_fn, query_layer_call_and_return_conditional_losses, key_layer_call_fn, key_layer_call_and_return_conditional_losses, value_layer_call_fn while saving (showing 5 of 36). These functions will not be directly callable after loading.\n"
          ]
        },
        {
          "name": "stdout",
          "output_type": "stream",
          "text": [
            "INFO:tensorflow:Assets written to: /home/haoming/Projects/python/brain-stroke-prediction/model/tt_model_exp_9_resampled/assets\n"
          ]
        },
        {
          "name": "stderr",
          "output_type": "stream",
          "text": [
            "INFO:tensorflow:Assets written to: /home/haoming/Projects/python/brain-stroke-prediction/model/tt_model_exp_9_resampled/assets\n"
          ]
        },
        {
          "name": "stdout",
          "output_type": "stream",
          "text": [
            "26/26 [==============================] - 8s 327ms/step - loss: 0.0833 - acc: 0.9828 - auc: 0.6981 - val_loss: 0.0809 - val_acc: 0.9833 - val_auc: 0.7364\n",
            "Epoch 6/100\n",
            "25/26 [===========================>..] - ETA: 0s - loss: 0.0854 - acc: 0.9827 - auc: 0.6720\n",
            "Epoch 6: val_loss did not improve from 0.08092\n",
            "26/26 [==============================] - 1s 27ms/step - loss: 0.0849 - acc: 0.9828 - auc: 0.6721 - val_loss: 0.0811 - val_acc: 0.9833 - val_auc: 0.7329\n",
            "Epoch 7/100\n",
            "25/26 [===========================>..] - ETA: 0s - loss: 0.0825 - acc: 0.9827 - auc: 0.7160\n",
            "Epoch 7: val_loss improved from 0.08092 to 0.08058, saving model to /home/haoming/Projects/python/brain-stroke-prediction/model/tt_model_exp_9_resampled\n"
          ]
        },
        {
          "name": "stderr",
          "output_type": "stream",
          "text": [
            "WARNING:absl:Found untraced functions such as query_layer_call_fn, query_layer_call_and_return_conditional_losses, key_layer_call_fn, key_layer_call_and_return_conditional_losses, value_layer_call_fn while saving (showing 5 of 36). These functions will not be directly callable after loading.\n"
          ]
        },
        {
          "name": "stdout",
          "output_type": "stream",
          "text": [
            "INFO:tensorflow:Assets written to: /home/haoming/Projects/python/brain-stroke-prediction/model/tt_model_exp_9_resampled/assets\n"
          ]
        },
        {
          "name": "stderr",
          "output_type": "stream",
          "text": [
            "INFO:tensorflow:Assets written to: /home/haoming/Projects/python/brain-stroke-prediction/model/tt_model_exp_9_resampled/assets\n"
          ]
        },
        {
          "name": "stdout",
          "output_type": "stream",
          "text": [
            "26/26 [==============================] - 9s 348ms/step - loss: 0.0820 - acc: 0.9828 - auc: 0.7175 - val_loss: 0.0806 - val_acc: 0.9833 - val_auc: 0.7303\n",
            "Epoch 8/100\n",
            "25/26 [===========================>..] - ETA: 0s - loss: 0.0819 - acc: 0.9827 - auc: 0.7286\n",
            "Epoch 8: val_loss did not improve from 0.08058\n",
            "26/26 [==============================] - 1s 28ms/step - loss: 0.0813 - acc: 0.9828 - auc: 0.7302 - val_loss: 0.0814 - val_acc: 0.9833 - val_auc: 0.7282\n",
            "Epoch 9/100\n",
            "25/26 [===========================>..] - ETA: 0s - loss: 0.0820 - acc: 0.9827 - auc: 0.7290\n",
            "Epoch 9: val_loss did not improve from 0.08058\n",
            "26/26 [==============================] - 1s 27ms/step - loss: 0.0815 - acc: 0.9828 - auc: 0.7294 - val_loss: 0.0847 - val_acc: 0.9833 - val_auc: 0.7247\n",
            "Epoch 10/100\n",
            "25/26 [===========================>..] - ETA: 0s - loss: 0.0789 - acc: 0.9827 - auc: 0.7675\n",
            "Epoch 10: val_loss did not improve from 0.08058\n",
            "26/26 [==============================] - 1s 27ms/step - loss: 0.0782 - acc: 0.9828 - auc: 0.7698 - val_loss: 0.1023 - val_acc: 0.9833 - val_auc: 0.5671\n",
            "Epoch 11/100\n",
            "25/26 [===========================>..] - ETA: 0s - loss: 0.0782 - acc: 0.9827 - auc: 0.7810\n",
            "Epoch 11: val_loss did not improve from 0.08058\n",
            "26/26 [==============================] - 1s 26ms/step - loss: 0.0776 - acc: 0.9828 - auc: 0.7825 - val_loss: 0.0927 - val_acc: 0.9833 - val_auc: 0.6791\n",
            "Epoch 12/100\n",
            "25/26 [===========================>..] - ETA: 0s - loss: 0.0784 - acc: 0.9827 - auc: 0.7746\n",
            "Epoch 12: val_loss did not improve from 0.08058\n",
            "26/26 [==============================] - 1s 28ms/step - loss: 0.0777 - acc: 0.9828 - auc: 0.7766 - val_loss: 0.0926 - val_acc: 0.9833 - val_auc: 0.6565\n",
            "Epoch 13/100\n",
            "25/26 [===========================>..] - ETA: 0s - loss: 0.0775 - acc: 0.9827 - auc: 0.7826\n",
            "Epoch 13: val_loss did not improve from 0.08058\n",
            "26/26 [==============================] - 1s 34ms/step - loss: 0.0769 - acc: 0.9828 - auc: 0.7846 - val_loss: 0.0820 - val_acc: 0.9833 - val_auc: 0.7228\n",
            "Epoch 14/100\n",
            "24/26 [==========================>...] - ETA: 0s - loss: 0.0784 - acc: 0.9826 - auc: 0.7776\n",
            "Epoch 14: val_loss did not improve from 0.08058\n",
            "26/26 [==============================] - 1s 33ms/step - loss: 0.0777 - acc: 0.9828 - auc: 0.7781 - val_loss: 0.0846 - val_acc: 0.9833 - val_auc: 0.6926\n",
            "Epoch 15/100\n",
            "25/26 [===========================>..] - ETA: 0s - loss: 0.0772 - acc: 0.9827 - auc: 0.7879\n",
            "Epoch 15: val_loss improved from 0.08058 to 0.07849, saving model to /home/haoming/Projects/python/brain-stroke-prediction/model/tt_model_exp_9_resampled\n"
          ]
        },
        {
          "name": "stderr",
          "output_type": "stream",
          "text": [
            "WARNING:absl:Found untraced functions such as query_layer_call_fn, query_layer_call_and_return_conditional_losses, key_layer_call_fn, key_layer_call_and_return_conditional_losses, value_layer_call_fn while saving (showing 5 of 36). These functions will not be directly callable after loading.\n"
          ]
        },
        {
          "name": "stdout",
          "output_type": "stream",
          "text": [
            "INFO:tensorflow:Assets written to: /home/haoming/Projects/python/brain-stroke-prediction/model/tt_model_exp_9_resampled/assets\n"
          ]
        },
        {
          "name": "stderr",
          "output_type": "stream",
          "text": [
            "INFO:tensorflow:Assets written to: /home/haoming/Projects/python/brain-stroke-prediction/model/tt_model_exp_9_resampled/assets\n"
          ]
        },
        {
          "name": "stdout",
          "output_type": "stream",
          "text": [
            "26/26 [==============================] - 12s 468ms/step - loss: 0.0766 - acc: 0.9828 - auc: 0.7891 - val_loss: 0.0785 - val_acc: 0.9833 - val_auc: 0.7380\n",
            "Epoch 16/100\n",
            "24/26 [==========================>...] - ETA: 0s - loss: 0.0769 - acc: 0.9826 - auc: 0.7947\n",
            "Epoch 16: val_loss did not improve from 0.07849\n",
            "26/26 [==============================] - 1s 28ms/step - loss: 0.0763 - acc: 0.9828 - auc: 0.7952 - val_loss: 0.0840 - val_acc: 0.9833 - val_auc: 0.6967\n",
            "Epoch 17/100\n",
            "25/26 [===========================>..] - ETA: 0s - loss: 0.0761 - acc: 0.9827 - auc: 0.8010\n",
            "Epoch 17: val_loss improved from 0.07849 to 0.07768, saving model to /home/haoming/Projects/python/brain-stroke-prediction/model/tt_model_exp_9_resampled\n"
          ]
        },
        {
          "name": "stderr",
          "output_type": "stream",
          "text": [
            "WARNING:absl:Found untraced functions such as query_layer_call_fn, query_layer_call_and_return_conditional_losses, key_layer_call_fn, key_layer_call_and_return_conditional_losses, value_layer_call_fn while saving (showing 5 of 36). These functions will not be directly callable after loading.\n"
          ]
        },
        {
          "name": "stdout",
          "output_type": "stream",
          "text": [
            "INFO:tensorflow:Assets written to: /home/haoming/Projects/python/brain-stroke-prediction/model/tt_model_exp_9_resampled/assets\n"
          ]
        },
        {
          "name": "stderr",
          "output_type": "stream",
          "text": [
            "INFO:tensorflow:Assets written to: /home/haoming/Projects/python/brain-stroke-prediction/model/tt_model_exp_9_resampled/assets\n"
          ]
        },
        {
          "name": "stdout",
          "output_type": "stream",
          "text": [
            "26/26 [==============================] - 9s 372ms/step - loss: 0.0756 - acc: 0.9828 - auc: 0.8021 - val_loss: 0.0777 - val_acc: 0.9833 - val_auc: 0.7549\n",
            "Epoch 18/100\n",
            "24/26 [==========================>...] - ETA: 0s - loss: 0.0757 - acc: 0.9826 - auc: 0.8060\n",
            "Epoch 18: val_loss did not improve from 0.07768\n",
            "26/26 [==============================] - 1s 29ms/step - loss: 0.0750 - acc: 0.9828 - auc: 0.8075 - val_loss: 0.0849 - val_acc: 0.9833 - val_auc: 0.6953\n",
            "Epoch 19/100\n",
            "25/26 [===========================>..] - ETA: 0s - loss: 0.0770 - acc: 0.9827 - auc: 0.7863\n",
            "Epoch 19: val_loss did not improve from 0.07768\n",
            "26/26 [==============================] - 1s 27ms/step - loss: 0.0764 - acc: 0.9828 - auc: 0.7878 - val_loss: 0.0778 - val_acc: 0.9833 - val_auc: 0.7506\n",
            "Epoch 20/100\n",
            "25/26 [===========================>..] - ETA: 0s - loss: 0.0752 - acc: 0.9827 - auc: 0.7969\n",
            "Epoch 20: val_loss did not improve from 0.07768\n",
            "26/26 [==============================] - 1s 27ms/step - loss: 0.0747 - acc: 0.9828 - auc: 0.7979 - val_loss: 0.0813 - val_acc: 0.9833 - val_auc: 0.7283\n",
            "Epoch 21/100\n",
            "25/26 [===========================>..] - ETA: 0s - loss: 0.0760 - acc: 0.9827 - auc: 0.7997\n",
            "Epoch 21: val_loss did not improve from 0.07768\n",
            "26/26 [==============================] - 1s 28ms/step - loss: 0.0754 - acc: 0.9828 - auc: 0.8010 - val_loss: 0.0781 - val_acc: 0.9833 - val_auc: 0.7466\n",
            "Epoch 22/100\n",
            "25/26 [===========================>..] - ETA: 0s - loss: 0.0759 - acc: 0.9827 - auc: 0.7978\n",
            "Epoch 22: val_loss did not improve from 0.07768\n",
            "26/26 [==============================] - 1s 27ms/step - loss: 0.0754 - acc: 0.9828 - auc: 0.7984 - val_loss: 0.0783 - val_acc: 0.9833 - val_auc: 0.7494\n",
            "Epoch 23/100\n",
            "25/26 [===========================>..] - ETA: 0s - loss: 0.0758 - acc: 0.9827 - auc: 0.8021\n",
            "Epoch 23: val_loss did not improve from 0.07768\n",
            "26/26 [==============================] - 1s 31ms/step - loss: 0.0753 - acc: 0.9828 - auc: 0.8035 - val_loss: 0.0779 - val_acc: 0.9833 - val_auc: 0.7547\n",
            "Epoch 24/100\n",
            "26/26 [==============================] - ETA: 0s - loss: 0.0747 - acc: 0.9829 - auc: 0.8091\n",
            "Epoch 24: val_loss did not improve from 0.07768\n",
            "26/26 [==============================] - 1s 35ms/step - loss: 0.0747 - acc: 0.9829 - auc: 0.8091 - val_loss: 0.0784 - val_acc: 0.9833 - val_auc: 0.7462\n",
            "Epoch 25/100\n",
            "25/26 [===========================>..] - ETA: 0s - loss: 0.0763 - acc: 0.9827 - auc: 0.7924\n",
            "Epoch 25: val_loss did not improve from 0.07768\n",
            "26/26 [==============================] - 1s 32ms/step - loss: 0.0757 - acc: 0.9828 - auc: 0.7941 - val_loss: 0.0779 - val_acc: 0.9833 - val_auc: 0.7513\n",
            "Epoch 26/100\n",
            "25/26 [===========================>..] - ETA: 0s - loss: 0.0756 - acc: 0.9827 - auc: 0.8044\n",
            "Epoch 26: val_loss did not improve from 0.07768\n",
            "26/26 [==============================] - 1s 27ms/step - loss: 0.0751 - acc: 0.9828 - auc: 0.8057 - val_loss: 0.0796 - val_acc: 0.9833 - val_auc: 0.7341\n",
            "Epoch 27/100\n",
            "25/26 [===========================>..] - ETA: 0s - loss: 0.0752 - acc: 0.9827 - auc: 0.8103\n",
            "Epoch 27: val_loss did not improve from 0.07768\n",
            "26/26 [==============================] - 1s 28ms/step - loss: 0.0746 - acc: 0.9828 - auc: 0.8118 - val_loss: 0.0790 - val_acc: 0.9833 - val_auc: 0.7381\n",
            "Model training finished\n"
          ]
        },
        {
          "name": "stderr",
          "output_type": "stream",
          "text": [
            "WARNING:absl:Found untraced functions such as query_layer_call_fn, query_layer_call_and_return_conditional_losses, key_layer_call_fn, key_layer_call_and_return_conditional_losses, value_layer_call_fn while saving (showing 5 of 36). These functions will not be directly callable after loading.\n"
          ]
        },
        {
          "name": "stdout",
          "output_type": "stream",
          "text": [
            "INFO:tensorflow:Assets written to: /home/haoming/Projects/python/brain-stroke-prediction/model/tt_model_exp_9_resampled/assets\n"
          ]
        },
        {
          "name": "stderr",
          "output_type": "stream",
          "text": [
            "INFO:tensorflow:Assets written to: /home/haoming/Projects/python/brain-stroke-prediction/model/tt_model_exp_9_resampled/assets\n"
          ]
        },
        {
          "name": "stdout",
          "output_type": "stream",
          "text": [
            "Validation accuracy: 98.33% AUC: 0.73811936378479\n"
          ]
        }
      ],
      "source": [
        "# train model\n",
        "\n",
        "tabtransformer_model = keras.models.load_model(TABTRANSFORMER_MODEL_PATH)\n",
        "\n",
        "for experiment in range(6, NUM_EXPERIMENTS):\n",
        "    seed = random.randint(0, 1000)\n",
        "\n",
        "    print(f\"Experiment {experiment}, seed {seed}\")\n",
        "\n",
        "\n",
        "    train_data, validation_data, test_data = prepare_data(\n",
        "        seed=seed, resample_training=False\n",
        "    )\n",
        "\n",
        "    run_experiment(\n",
        "        experiment=experiment,\n",
        "        tabtransformer_model=tabtransformer_model,\n",
        "        seed=seed,\n",
        "        train_data=train_data,\n",
        "        validation_data=validation_data,\n",
        "        test_data=test_data,\n",
        "        resampled=False,\n",
        "    )\n",
        "\n",
        "    train_data, validation_data, test_data = prepare_data(\n",
        "        seed=seed, resample_training=True\n",
        "    )\n",
        "\n",
        "    run_experiment(\n",
        "        experiment=experiment,\n",
        "        tabtransformer_model=tabtransformer_model,\n",
        "        seed=seed,\n",
        "        train_data=train_data,\n",
        "        validation_data=validation_data,\n",
        "        test_data=test_data,\n",
        "        resampled=True,\n",
        "    )\n"
      ]
    },
    {
      "cell_type": "code",
      "execution_count": 29,
      "metadata": {},
      "outputs": [],
      "source": [
        "def metrics_keras(model: keras.Model, test_data_file: str):\n",
        "    model.compile(\n",
        "        metrics=[\n",
        "            keras.metrics.AUC(\n",
        "                num_thresholds=200,\n",
        "                curve=\"ROC\",\n",
        "            ),\n",
        "            keras.metrics.BinaryAccuracy(),\n",
        "            keras.metrics.Precision(),\n",
        "            keras.metrics.Recall(),\n",
        "            keras.metrics.TrueNegatives(),\n",
        "            keras.metrics.FalseNegatives(),\n",
        "            keras.metrics.FalsePositives(),\n",
        "            keras.metrics.TruePositives(),\n",
        "        ]\n",
        "    )\n",
        "\n",
        "    _, auc, accuracy, precision, recall, tn, fn, fp, tp = model.evaluate(\n",
        "        get_dataset_from_csv(test_data_file)\n",
        "    )\n",
        "\n",
        "    # metrics\n",
        "    fscore = 2 * tp / (2 * tp + fp + fn)\n",
        "    miss_rate = fn / (tn + tp)\n",
        "    fall_out_rate = fp / (fp + tn)\n",
        "\n",
        "    # return\n",
        "    return [precision, recall, fscore, accuracy, auc, miss_rate, fall_out_rate]\n"
      ]
    },
    {
      "cell_type": "code",
      "execution_count": 30,
      "metadata": {},
      "outputs": [
        {
          "name": "stdout",
          "output_type": "stream",
          "text": [
            "51/51 [==============================] - 3s 15ms/step - loss: 0.0000e+00 - auc_21: 0.7967 - binary_accuracy: 0.9842 - precision_21: 0.6000 - recall_21: 0.0288 - true_negatives_42: 6404.0000 - false_negatives: 101.0000 - false_positives_21: 2.0000 - true_positives_21: 3.0000\n",
            "51/51 [==============================] - 2s 13ms/step - loss: 0.0000e+00 - auc_22: 0.7854 - binary_accuracy: 0.9816 - precision_22: 0.0000e+00 - recall_22: 0.0000e+00 - true_negatives_43: 6390.0000 - false_negatives_1: 120.0000 - false_positives_22: 0.0000e+00 - true_positives_22: 0.0000e+00\n",
            "51/51 [==============================] - 3s 16ms/step - loss: 0.0000e+00 - auc_23: 0.7891 - binary_accuracy: 0.9828 - precision_23: 0.0000e+00 - recall_23: 0.0000e+00 - true_negatives_44: 6398.0000 - false_negatives_2: 112.0000 - false_positives_23: 0.0000e+00 - true_positives_23: 0.0000e+00\n",
            "51/51 [==============================] - 3s 13ms/step - loss: 0.0000e+00 - auc_24: 0.8009 - binary_accuracy: 0.9826 - precision_24: 0.0000e+00 - recall_24: 0.0000e+00 - true_negatives_45: 6397.0000 - false_negatives_3: 112.0000 - false_positives_24: 1.0000 - true_positives_24: 0.0000e+00\n",
            "51/51 [==============================] - 2s 14ms/step - loss: 0.0000e+00 - auc_25: 0.7867 - binary_accuracy: 0.9846 - precision_25: 0.0000e+00 - recall_25: 0.0000e+00 - true_negatives_46: 6410.0000 - false_negatives_4: 98.0000 - false_positives_25: 2.0000 - true_positives_25: 0.0000e+00\n",
            "51/51 [==============================] - 3s 15ms/step - loss: 0.0000e+00 - auc_26: 0.7747 - binary_accuracy: 0.9849 - precision_26: 0.0000e+00 - recall_26: 0.0000e+00 - true_negatives_47: 6412.0000 - false_negatives_5: 98.0000 - false_positives_26: 0.0000e+00 - true_positives_26: 0.0000e+00\n",
            "51/51 [==============================] - 2s 19ms/step - loss: 0.0000e+00 - auc_27: 0.7732 - binary_accuracy: 0.9825 - precision_27: 0.0000e+00 - recall_27: 0.0000e+00 - true_negatives_48: 6396.0000 - false_negatives_6: 112.0000 - false_positives_27: 2.0000 - true_positives_27: 0.0000e+00\n",
            "51/51 [==============================] - 2s 17ms/step - loss: 0.0000e+00 - auc_28: 0.7797 - binary_accuracy: 0.9828 - precision_28: 0.0000e+00 - recall_28: 0.0000e+00 - true_negatives_49: 6398.0000 - false_negatives_7: 112.0000 - false_positives_28: 0.0000e+00 - true_positives_28: 0.0000e+00\n",
            "51/51 [==============================] - 2s 12ms/step - loss: 0.0000e+00 - auc_29: 0.7588 - binary_accuracy: 0.9822 - precision_29: 0.0000e+00 - recall_29: 0.0000e+00 - true_negatives_50: 6394.0000 - false_negatives_8: 114.0000 - false_positives_29: 2.0000 - true_positives_29: 0.0000e+00\n",
            "51/51 [==============================] - 2s 14ms/step - loss: 0.0000e+00 - auc_30: 0.7539 - binary_accuracy: 0.9825 - precision_30: 0.0000e+00 - recall_30: 0.0000e+00 - true_negatives_51: 6396.0000 - false_negatives_9: 114.0000 - false_positives_30: 0.0000e+00 - true_positives_30: 0.0000e+00\n",
            "51/51 [==============================] - 3s 15ms/step - loss: 0.0000e+00 - auc_31: 0.7703 - binary_accuracy: 0.9825 - precision_31: 0.0000e+00 - recall_31: 0.0000e+00 - true_negatives_52: 6396.0000 - false_negatives_10: 114.0000 - false_positives_31: 0.0000e+00 - true_positives_31: 0.0000e+00\n",
            "51/51 [==============================] - 2s 14ms/step - loss: 0.0000e+00 - auc_32: 0.7874 - binary_accuracy: 0.9825 - precision_32: 0.0000e+00 - recall_32: 0.0000e+00 - true_negatives_53: 6396.0000 - false_negatives_11: 114.0000 - false_positives_32: 0.0000e+00 - true_positives_32: 0.0000e+00\n",
            "51/51 [==============================] - 2s 12ms/step - loss: 0.0000e+00 - auc_33: 0.7741 - binary_accuracy: 0.9840 - precision_33: 0.0000e+00 - recall_33: 0.0000e+00 - true_negatives_54: 6406.0000 - false_negatives_12: 104.0000 - false_positives_33: 0.0000e+00 - true_positives_33: 0.0000e+00\n",
            "51/51 [==============================] - 3s 13ms/step - loss: 0.0000e+00 - auc_34: 0.7419 - binary_accuracy: 0.9840 - precision_34: 0.0000e+00 - recall_34: 0.0000e+00 - true_negatives_55: 6406.0000 - false_negatives_13: 104.0000 - false_positives_34: 0.0000e+00 - true_positives_34: 0.0000e+00\n",
            "51/51 [==============================] - 2s 14ms/step - loss: 0.0000e+00 - auc_35: 0.7427 - binary_accuracy: 0.9833 - precision_35: 0.0000e+00 - recall_35: 0.0000e+00 - true_negatives_56: 6401.0000 - false_negatives_14: 109.0000 - false_positives_35: 0.0000e+00 - true_positives_35: 0.0000e+00\n",
            "51/51 [==============================] - 2s 13ms/step - loss: 0.0000e+00 - auc_36: 0.7381 - binary_accuracy: 0.9833 - precision_36: 0.0000e+00 - recall_36: 0.0000e+00 - true_negatives_57: 6401.0000 - false_negatives_15: 109.0000 - false_positives_36: 0.0000e+00 - true_positives_36: 0.0000e+00\n",
            "51/51 [==============================] - 2s 12ms/step - loss: 0.0000e+00 - auc_37: 0.7962 - binary_accuracy: 0.9842 - precision_37: 0.6000 - recall_37: 0.0288 - true_negatives_58: 6404.0000 - false_negatives_16: 101.0000 - false_positives_37: 2.0000 - true_positives_37: 3.0000\n",
            "51/51 [==============================] - 2s 15ms/step - loss: 0.0000e+00 - auc_38: 0.7786 - binary_accuracy: 0.9816 - precision_38: 0.0000e+00 - recall_38: 0.0000e+00 - true_negatives_59: 6390.0000 - false_negatives_17: 120.0000 - false_positives_38: 0.0000e+00 - true_positives_38: 0.0000e+00\n",
            "51/51 [==============================] - 3s 15ms/step - loss: 0.0000e+00 - auc_39: 0.7583 - binary_accuracy: 0.9834 - precision_39: 0.0000e+00 - recall_39: 0.0000e+00 - true_negatives_60: 6402.0000 - false_negatives_18: 108.0000 - false_positives_39: 0.0000e+00 - true_positives_39: 0.0000e+00\n",
            "51/51 [==============================] - 2s 12ms/step - loss: 0.0000e+00 - auc_40: 0.7592 - binary_accuracy: 0.9834 - precision_40: 0.0000e+00 - recall_40: 0.0000e+00 - true_negatives_61: 6402.0000 - false_negatives_19: 108.0000 - false_positives_40: 0.0000e+00 - true_positives_40: 0.0000e+00\n"
          ]
        }
      ],
      "source": [
        "# evaluate unsampled\n",
        "results = {}\n",
        "results_resampling = {}\n",
        "\n",
        "test_data = {}\n",
        "\n",
        "\n",
        "for file in Path().resolve().joinpath(\"dataset/\").iterdir():\n",
        "    if str(file.name).startswith(\"test_data_tt_exp_\"):\n",
        "        exp_num = file.name.split(\"_\")[4][0]\n",
        "\n",
        "        test_data[exp_num] = str(file)\n",
        "\n",
        "for file in Path().resolve().joinpath(\"model/\").iterdir():\n",
        "    if str(file).endswith(\"_unsampled\") and str(file.name).startswith(\"tt_model_exp_\"):\n",
        "        exp_num = file.name.split(\"_\")[3]\n",
        "\n",
        "        model = tf.keras.models.load_model(file)\n",
        "\n",
        "        results[exp_num] = list(metrics_keras(model, test_data[exp_num]))\n",
        "\n",
        "    if str(file).endswith(\"_resampled\") and str(file.name).startswith(\"tt_model_exp_\"):\n",
        "        exp_num = file.name.split(\"_\")[3]\n",
        "\n",
        "        model = tf.keras.models.load_model(file)\n",
        "\n",
        "        results_resampling[exp_num] = list(metrics_keras(model, test_data[exp_num]))\n",
        "\n",
        "\n",
        "results = pd.DataFrame().from_dict(results, orient=\"index\", columns=RESULT_COLS)\n",
        "results_resampling = pd.DataFrame().from_dict(\n",
        "    results_resampling, orient=\"index\", columns=RESULT_COLS\n",
        ")\n",
        "\n",
        "results[\"classifier\"] = \"TabTransformer\"\n",
        "results_resampling[\"classifier\"] = \"TabTransformer\"\n",
        "\n",
        "results.to_csv(Path().resolve().joinpath(\"results/TabTransformer_eval.csv\"))\n",
        "results_resampling.to_csv(\n",
        "    Path().resolve().joinpath(\"results/TabTransformer_eval_resampled.csv\")\n",
        ")\n"
      ]
    }
  ],
  "metadata": {
    "kernelspec": {
      "display_name": "Python 3.10.4 ('tf')",
      "language": "python",
      "name": "python3"
    },
    "language_info": {
      "codemirror_mode": {
        "name": "ipython",
        "version": 3
      },
      "file_extension": ".py",
      "mimetype": "text/x-python",
      "name": "python",
      "nbconvert_exporter": "python",
      "pygments_lexer": "ipython3",
      "version": "3.10.4"
    },
    "orig_nbformat": 4,
    "vscode": {
      "interpreter": {
        "hash": "5d9c7b03d18c7708763fb0db9310b2d7254dfc13fc51ca537e4e50c45d8de958"
      }
    }
  },
  "nbformat": 4,
  "nbformat_minor": 2
}
