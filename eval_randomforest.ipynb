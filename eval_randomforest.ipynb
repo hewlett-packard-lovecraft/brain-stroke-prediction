{
  "cells": [
    {
      "cell_type": "code",
      "execution_count": 53,
      "metadata": {},
      "outputs": [],
      "source": [
        "import pandas as pd\n",
        "import random\n",
        "import sklearn\n",
        "\n",
        "from pathlib import Path\n",
        "from sklearn.metrics import confusion_matrix\n",
        "from sklearn.metrics import roc_auc_score\n",
        "\n",
        "from sklearn.preprocessing import OrdinalEncoder, StandardScaler\n",
        "from sklearn.ensemble import RandomForestClassifier\n",
        "from sklearn.model_selection import StratifiedShuffleSplit\n",
        "\n",
        "from imblearn.combine import SMOTEENN\n",
        "from imblearn.over_sampling import SMOTENC\n"
      ]
    },
    {
      "cell_type": "code",
      "execution_count": 54,
      "metadata": {},
      "outputs": [],
      "source": [
        "CATEGORICAL_FEATURE_NAMES = [\n",
        "    \"gender\",\n",
        "    \"hypertension\",\n",
        "    \"heart_disease\",\n",
        "    \"ever_married\",\n",
        "    \"work_type\",\n",
        "    \"residence_type\",\n",
        "    \"smoking_status\",\n",
        "]\n",
        "\n",
        "NUMERIC_FEATURE_NAMES = [\"age\", \"avg_glucose_level\", \"bmi\"]\n",
        "\n",
        "\n",
        "def encode_int(data: pd.DataFrame, categorical_features: list[str]):\n",
        "    return pd.get_dummies(data, columns=categorical_features, drop_first=True)\n",
        "\n",
        "\n",
        "def split_label(data: pd.DataFrame):\n",
        "    x = data.copy().drop(\"stroke\", axis=1)\n",
        "    y = data[\"stroke\"]  # labels\n",
        "\n",
        "    return x, y\n",
        "\n",
        "\n",
        "def resample(data: pd.DataFrame, seed: int, categorical_features: list[str]):\n",
        "    \"\"\"oversample positive cases with SMOTE and undersample negative with EEN\"\"\"\n",
        "    # encode categorical features first\n",
        "    enc = OrdinalEncoder()\n",
        "    data[categorical_features] = enc.fit_transform(data[categorical_features])\n",
        "\n",
        "    X = data.drop(columns=[\"stroke\"], axis=1)\n",
        "    Y = data[\"stroke\"]\n",
        "\n",
        "    cat_features_indices = [\n",
        "        data.columns.get_loc(label) for label in categorical_features\n",
        "    ]\n",
        "\n",
        "    smote_nc = SMOTENC(categorical_features=cat_features_indices, random_state=seed)\n",
        "    smote_een = SMOTEENN(smote=smote_nc, random_state=seed, sampling_strategy=\"auto\")\n",
        "\n",
        "    x_resampled, y_resampled = smote_een.fit_resample(X, Y)\n",
        "    x_resampled[\"stroke\"] = y_resampled\n",
        "\n",
        "    x_resampled[categorical_features] = enc.inverse_transform(\n",
        "        x_resampled[categorical_features]\n",
        "    )\n",
        "\n",
        "    return pd.DataFrame(x_resampled, columns=data.columns)\n",
        "\n",
        "\n",
        "def scale(df):\n",
        "    X_num = df[NUMERIC_FEATURE_NAMES]\n",
        "    X_cat = df[CATEGORICAL_FEATURE_NAMES]\n",
        "\n",
        "    scaler = StandardScaler()\n",
        "    scaler.fit(X_num)\n",
        "\n",
        "    X_scaled = scaler.transform(X_num)\n",
        "    X_scaled = pd.DataFrame(X_scaled, index=X_num.index, columns=X_num.columns)\n",
        "\n",
        "    df_scaled = pd.concat([X_scaled, X_cat, df[\"stroke\"]], axis=1)\n",
        "\n",
        "    return df_scaled\n",
        "\n",
        "\n",
        "def split_train_valid_test_stratified(data_df, seed: int, resample_training: bool):\n",
        "    sss = StratifiedShuffleSplit(n_splits=1, test_size=0.3, random_state=seed)\n",
        "    d_x, d_y = split_label(data_df)\n",
        "\n",
        "    train_index, valid_test_index = list(sss.split(d_x, d_y))[0]\n",
        "\n",
        "    sss = StratifiedShuffleSplit(n_splits=1, test_size=0.5, random_state=seed)\n",
        "\n",
        "    v_t_x, v_t_y = split_label(data_df.iloc[valid_test_index])\n",
        "\n",
        "    validation_index, test_index = list(sss.split(v_t_x, v_t_y))[0]\n",
        "\n",
        "    train_df = data_df.iloc[train_index.tolist()]\n",
        "    validation_df = data_df.iloc[validation_index.tolist()]\n",
        "    test_df = data_df.iloc[test_index.tolist()]\n",
        "\n",
        "    if resample_training:\n",
        "        train_set = resample(\n",
        "            train_df, seed, categorical_features=CATEGORICAL_FEATURE_NAMES\n",
        "        )\n",
        "\n",
        "    return train_df, validation_df, test_df\n",
        "\n",
        "\n",
        "def split_train_valid_test(data_df, seed: int, resample_training: bool):\n",
        "    data_df = data_df.sample(frac=1, random_state=seed)\n",
        "\n",
        "    test_set = data_df[round(len(data_df) * 0.85) :]\n",
        "    train_validation_data = data_df[: round(len(data_df) * 0.85)].sample(\n",
        "        frac=1, random_state=seed\n",
        "    )\n",
        "\n",
        "    train_set = train_validation_data[: round(len(data_df) * 0.70)]\n",
        "    validation_set = train_validation_data[round(len(data_df) * 0.70) :]\n",
        "\n",
        "    if resample_training:\n",
        "        train_set = resample(\n",
        "            train_set, seed, categorical_features=CATEGORICAL_FEATURE_NAMES\n",
        "        )\n",
        "\n",
        "    return train_set, validation_set, test_set\n",
        "\n",
        "\n",
        "def one_hot_encode(\n",
        "    data_df: pd.DataFrame,\n",
        "    train_df: pd.DataFrame,\n",
        "    validation_df: pd.DataFrame,\n",
        "    test_df: pd.DataFrame,\n",
        "):\n",
        "    # ensure train, validation, and test all have the same columns after ohe\n",
        "\n",
        "    ohe_columns = encode_int(data_df, CATEGORICAL_FEATURE_NAMES).columns\n",
        "\n",
        "    train_df_e, validation_df_e, test_df_e = [\n",
        "        pd.DataFrame(\n",
        "            encode_int(data=df, categorical_features=CATEGORICAL_FEATURE_NAMES),\n",
        "            columns=ohe_columns,\n",
        "        ).fillna(0)\n",
        "        for df in [train_df, validation_df, test_df]\n",
        "    ]\n",
        "\n",
        "    return train_df_e, validation_df_e, test_df_e\n",
        "\n",
        "\n",
        "def prepare_data(seed: int, resample_training: bool):\n",
        "    data_df = pd.read_csv(Path().resolve().joinpath(\"dataset/full_data_clean.csv\"))\n",
        "\n",
        "    train_df, validation_df, test_df = split_train_valid_test_stratified(\n",
        "        data_df, seed, resample_training\n",
        "    )\n",
        "\n",
        "    train_df, validation_df, test_df = [\n",
        "        scale(df) for df in [train_df, validation_df, test_df]\n",
        "    ]\n",
        "\n",
        "    return one_hot_encode(data_df, train_df, validation_df, test_df)\n"
      ]
    },
    {
      "cell_type": "code",
      "execution_count": 55,
      "metadata": {},
      "outputs": [],
      "source": [
        "RESULT_COLS = [\n",
        "    \"precision\",\n",
        "    \"recall\",\n",
        "    \"fscore\",\n",
        "    \"accuracy\",\n",
        "    \"auc\",\n",
        "    \"miss_rate\",\n",
        "    \"fall_out_rate\",\n",
        "]\n",
        "NUM_EXPERIMENTS = 10\n",
        "\n",
        "\n",
        "def metrics(y_pred, p_pred, y_true):\n",
        "    tn, fp, fn, tp = confusion_matrix(y_pred=y_pred, y_true=y_true).ravel()\n",
        "\n",
        "    # metrics\n",
        "    auc = roc_auc_score(y_true=y_true, y_score=p_pred)\n",
        "    precision = tp / (tp + fp)\n",
        "    recall = tp / (tp + fn)\n",
        "    fscore = 2 * tp / (2 * tp + fp + fn)\n",
        "    accuracy = (tp + tn) / (tp + tn + fp + fn)\n",
        "    miss_rate = fn / (tn + tp)\n",
        "    fall_out_rate = fp / (fp + tn)\n",
        "\n",
        "    # return\n",
        "    return [precision, recall, fscore, accuracy, auc, miss_rate, fall_out_rate]\n"
      ]
    },
    {
      "cell_type": "code",
      "execution_count": 56,
      "metadata": {},
      "outputs": [],
      "source": [
        "def run_experiment(\n",
        "    train_data: pd.DataFrame,\n",
        "    validation_data: pd.DataFrame,\n",
        "    test_data: pd.DataFrame,\n",
        "    seed: int,\n",
        "):\n",
        "    train_validation_data = pd.concat([train_data, validation_data]).sample(\n",
        "        frac=1, random_state=seed\n",
        "    )\n",
        "\n",
        "    # split labels\n",
        "    x, y = split_label(train_validation_data)\n",
        "    x_test, y_test = split_label(test_data)\n",
        "\n",
        "    # metrics\n",
        "    clf = RandomForestClassifier()\n",
        "    clf.fit(x, y)\n",
        "    y_pred = clf.predict(x_test)\n",
        "    p_pred = clf.predict_proba(x_test)[:, 1]\n",
        "\n",
        "    return y_pred, p_pred, y_test\n"
      ]
    },
    {
      "cell_type": "code",
      "execution_count": 57,
      "metadata": {},
      "outputs": [
        {
          "name": "stdout",
          "output_type": "stream",
          "text": [
            "[33539  1294 31167 ... 36997  5501  6884] [28511 39878  5908 ... 15999 14078 33378]\n",
            "[33539  1294 31167 ... 36997  5501  6884] [28511 39878  5908 ... 15999 14078 33378]\n"
          ]
        },
        {
          "name": "stderr",
          "output_type": "stream",
          "text": [
            "/tmp/ipykernel_12943/3126817711.py:29: SettingWithCopyWarning: \n",
            "A value is trying to be set on a copy of a slice from a DataFrame.\n",
            "Try using .loc[row_indexer,col_indexer] = value instead\n",
            "\n",
            "See the caveats in the documentation: https://pandas.pydata.org/pandas-docs/stable/user_guide/indexing.html#returning-a-view-versus-a-copy\n",
            "  data[categorical_features] = enc.fit_transform(data[categorical_features])\n"
          ]
        },
        {
          "name": "stdout",
          "output_type": "stream",
          "text": [
            "[33896  8181 25616 ... 23924 18837 14779] [18787 33480 17385 ...   312  7865 34771]\n",
            "[33896  8181 25616 ... 23924 18837 14779] [18787 33480 17385 ...   312  7865 34771]\n"
          ]
        },
        {
          "name": "stderr",
          "output_type": "stream",
          "text": [
            "/tmp/ipykernel_12943/3126817711.py:29: SettingWithCopyWarning: \n",
            "A value is trying to be set on a copy of a slice from a DataFrame.\n",
            "Try using .loc[row_indexer,col_indexer] = value instead\n",
            "\n",
            "See the caveats in the documentation: https://pandas.pydata.org/pandas-docs/stable/user_guide/indexing.html#returning-a-view-versus-a-copy\n",
            "  data[categorical_features] = enc.fit_transform(data[categorical_features])\n",
            "/tmp/ipykernel_12943/3972060242.py:18: RuntimeWarning: invalid value encountered in long_scalars\n",
            "  precision = tp / (tp + fp)\n"
          ]
        },
        {
          "name": "stdout",
          "output_type": "stream",
          "text": [
            "[ 4766 40449 33256 ...  2718 10070 15640] [ 5184 23196 15916 ... 32816  6643 32780]\n",
            "[ 4766 40449 33256 ...  2718 10070 15640] [ 5184 23196 15916 ... 32816  6643 32780]\n"
          ]
        },
        {
          "name": "stderr",
          "output_type": "stream",
          "text": [
            "/tmp/ipykernel_12943/3126817711.py:29: SettingWithCopyWarning: \n",
            "A value is trying to be set on a copy of a slice from a DataFrame.\n",
            "Try using .loc[row_indexer,col_indexer] = value instead\n",
            "\n",
            "See the caveats in the documentation: https://pandas.pydata.org/pandas-docs/stable/user_guide/indexing.html#returning-a-view-versus-a-copy\n",
            "  data[categorical_features] = enc.fit_transform(data[categorical_features])\n",
            "/tmp/ipykernel_12943/3972060242.py:18: RuntimeWarning: invalid value encountered in long_scalars\n",
            "  precision = tp / (tp + fp)\n"
          ]
        },
        {
          "name": "stdout",
          "output_type": "stream",
          "text": [
            "[30161 15092  2279 ...  6898  3219 13593] [ 6230 28826  5416 ... 32426 40044  7421]\n",
            "[30161 15092  2279 ...  6898  3219 13593] [ 6230 28826  5416 ... 32426 40044  7421]\n"
          ]
        },
        {
          "name": "stderr",
          "output_type": "stream",
          "text": [
            "/tmp/ipykernel_12943/3126817711.py:29: SettingWithCopyWarning: \n",
            "A value is trying to be set on a copy of a slice from a DataFrame.\n",
            "Try using .loc[row_indexer,col_indexer] = value instead\n",
            "\n",
            "See the caveats in the documentation: https://pandas.pydata.org/pandas-docs/stable/user_guide/indexing.html#returning-a-view-versus-a-copy\n",
            "  data[categorical_features] = enc.fit_transform(data[categorical_features])\n"
          ]
        },
        {
          "name": "stdout",
          "output_type": "stream",
          "text": [
            "[36287  3891 11565 ... 35838 22645 28039] [24229 34845 32285 ... 13143 35187  1507]\n",
            "[36287  3891 11565 ... 35838 22645 28039] [24229 34845 32285 ... 13143 35187  1507]\n"
          ]
        },
        {
          "name": "stderr",
          "output_type": "stream",
          "text": [
            "/tmp/ipykernel_12943/3126817711.py:29: SettingWithCopyWarning: \n",
            "A value is trying to be set on a copy of a slice from a DataFrame.\n",
            "Try using .loc[row_indexer,col_indexer] = value instead\n",
            "\n",
            "See the caveats in the documentation: https://pandas.pydata.org/pandas-docs/stable/user_guide/indexing.html#returning-a-view-versus-a-copy\n",
            "  data[categorical_features] = enc.fit_transform(data[categorical_features])\n",
            "/tmp/ipykernel_12943/3972060242.py:18: RuntimeWarning: invalid value encountered in long_scalars\n",
            "  precision = tp / (tp + fp)\n"
          ]
        },
        {
          "name": "stdout",
          "output_type": "stream",
          "text": [
            "[15896 26352 10947 ... 43014 12648 43247] [21772  9919  1989 ... 19998 11752 26622]\n",
            "[15896 26352 10947 ... 43014 12648 43247] [21772  9919  1989 ... 19998 11752 26622]\n"
          ]
        },
        {
          "name": "stderr",
          "output_type": "stream",
          "text": [
            "/tmp/ipykernel_12943/3126817711.py:29: SettingWithCopyWarning: \n",
            "A value is trying to be set on a copy of a slice from a DataFrame.\n",
            "Try using .loc[row_indexer,col_indexer] = value instead\n",
            "\n",
            "See the caveats in the documentation: https://pandas.pydata.org/pandas-docs/stable/user_guide/indexing.html#returning-a-view-versus-a-copy\n",
            "  data[categorical_features] = enc.fit_transform(data[categorical_features])\n"
          ]
        },
        {
          "name": "stdout",
          "output_type": "stream",
          "text": [
            "[ 1498  3997 33398 ... 18501    82 39511] [21407 11747  2033 ... 20516 17850  6239]\n",
            "[ 1498  3997 33398 ... 18501    82 39511] [21407 11747  2033 ... 20516 17850  6239]\n"
          ]
        },
        {
          "name": "stderr",
          "output_type": "stream",
          "text": [
            "/tmp/ipykernel_12943/3126817711.py:29: SettingWithCopyWarning: \n",
            "A value is trying to be set on a copy of a slice from a DataFrame.\n",
            "Try using .loc[row_indexer,col_indexer] = value instead\n",
            "\n",
            "See the caveats in the documentation: https://pandas.pydata.org/pandas-docs/stable/user_guide/indexing.html#returning-a-view-versus-a-copy\n",
            "  data[categorical_features] = enc.fit_transform(data[categorical_features])\n"
          ]
        },
        {
          "name": "stdout",
          "output_type": "stream",
          "text": [
            "[31418 19492 19407 ... 38294  3179  1630] [37333 15711 17613 ... 34451 14554 22575]\n",
            "[31418 19492 19407 ... 38294  3179  1630] [37333 15711 17613 ... 34451 14554 22575]\n"
          ]
        },
        {
          "name": "stderr",
          "output_type": "stream",
          "text": [
            "/tmp/ipykernel_12943/3126817711.py:29: SettingWithCopyWarning: \n",
            "A value is trying to be set on a copy of a slice from a DataFrame.\n",
            "Try using .loc[row_indexer,col_indexer] = value instead\n",
            "\n",
            "See the caveats in the documentation: https://pandas.pydata.org/pandas-docs/stable/user_guide/indexing.html#returning-a-view-versus-a-copy\n",
            "  data[categorical_features] = enc.fit_transform(data[categorical_features])\n",
            "/tmp/ipykernel_12943/3972060242.py:18: RuntimeWarning: invalid value encountered in long_scalars\n",
            "  precision = tp / (tp + fp)\n"
          ]
        },
        {
          "name": "stdout",
          "output_type": "stream",
          "text": [
            "[18696 22285 14074 ... 34089 38563 42659] [24788 34362 16766 ... 15832 29618  4805]\n",
            "[18696 22285 14074 ... 34089 38563 42659] [24788 34362 16766 ... 15832 29618  4805]\n"
          ]
        },
        {
          "name": "stderr",
          "output_type": "stream",
          "text": [
            "/tmp/ipykernel_12943/3126817711.py:29: SettingWithCopyWarning: \n",
            "A value is trying to be set on a copy of a slice from a DataFrame.\n",
            "Try using .loc[row_indexer,col_indexer] = value instead\n",
            "\n",
            "See the caveats in the documentation: https://pandas.pydata.org/pandas-docs/stable/user_guide/indexing.html#returning-a-view-versus-a-copy\n",
            "  data[categorical_features] = enc.fit_transform(data[categorical_features])\n"
          ]
        },
        {
          "name": "stdout",
          "output_type": "stream",
          "text": [
            "[ 9373 19657 17437 ... 13558  7460 12399] [37856 35636 43120 ... 26031  1614 26293]\n",
            "[ 9373 19657 17437 ... 13558  7460 12399] [37856 35636 43120 ... 26031  1614 26293]\n"
          ]
        },
        {
          "name": "stderr",
          "output_type": "stream",
          "text": [
            "/tmp/ipykernel_12943/3126817711.py:29: SettingWithCopyWarning: \n",
            "A value is trying to be set on a copy of a slice from a DataFrame.\n",
            "Try using .loc[row_indexer,col_indexer] = value instead\n",
            "\n",
            "See the caveats in the documentation: https://pandas.pydata.org/pandas-docs/stable/user_guide/indexing.html#returning-a-view-versus-a-copy\n",
            "  data[categorical_features] = enc.fit_transform(data[categorical_features])\n",
            "/tmp/ipykernel_12943/3972060242.py:18: RuntimeWarning: invalid value encountered in long_scalars\n",
            "  precision = tp / (tp + fp)\n"
          ]
        }
      ],
      "source": [
        "# evaluate RandomForest\n",
        "\n",
        "results = {}\n",
        "results_resample = {}\n",
        "\n",
        "for experiment in range(NUM_EXPERIMENTS):\n",
        "    seed = random.randint(0, 1000)\n",
        "\n",
        "    train_data, validation_data, test_data = prepare_data(\n",
        "        seed=seed, resample_training=False\n",
        "    )\n",
        "\n",
        "    y_pred, p_pred, y_test = run_experiment(\n",
        "        train_data, validation_data, test_data, seed\n",
        "    )\n",
        "\n",
        "    results[experiment] = list(metrics(y_pred, p_pred, y_test))\n",
        "\n",
        "    train_data, validation_data, test_data = prepare_data(\n",
        "        seed=seed, resample_training=True\n",
        "    )\n",
        "\n",
        "    y_pred, p_pred, y_test = run_experiment(\n",
        "        train_data, validation_data, test_data, seed\n",
        "    )\n",
        "\n",
        "    results_resample[experiment] = list(metrics(y_pred, p_pred, y_test))\n",
        "\n",
        "\n",
        "results = (\n",
        "    pd.DataFrame()\n",
        "    .from_dict(results, orient=\"index\", columns=RESULT_COLS)\n",
        "    .assign(classifier=\"RandomForest\")\n",
        ")\n",
        "results_resample = (\n",
        "    pd.DataFrame()\n",
        "    .from_dict(results_resample, orient=\"index\", columns=RESULT_COLS)\n",
        "    .assign(classifier=\"RandomForest\")\n",
        ")\n",
        "\n",
        "results.to_csv(Path().resolve().joinpath(\"results/RandomForest_eval.csv\"))\n",
        "results_resample.to_csv(\n",
        "    Path().resolve().joinpath(\"results/RandomForest_eval_resampled.csv\")\n",
        ")\n"
      ]
    }
  ],
  "metadata": {
    "kernelspec": {
      "display_name": "Python 3.10.4 ('tf')",
      "language": "python",
      "name": "python3"
    },
    "language_info": {
      "codemirror_mode": {
        "name": "ipython",
        "version": 3
      },
      "file_extension": ".py",
      "mimetype": "text/x-python",
      "name": "python",
      "nbconvert_exporter": "python",
      "pygments_lexer": "ipython3",
      "version": "3.10.4"
    },
    "orig_nbformat": 4,
    "vscode": {
      "interpreter": {
        "hash": "5d9c7b03d18c7708763fb0db9310b2d7254dfc13fc51ca537e4e50c45d8de958"
      }
    }
  },
  "nbformat": 4,
  "nbformat_minor": 2
}
