{
 "cells": [
  {
   "cell_type": "code",
   "execution_count": 14,
   "metadata": {},
   "outputs": [],
   "source": [
    "import pandas as pd\n",
    "import sklearn\n",
    "from pathlib import Path\n"
   ]
  },
  {
   "cell_type": "code",
   "execution_count": 15,
   "metadata": {},
   "outputs": [
    {
     "data": {
      "text/html": [
       "<div>\n",
       "<style scoped>\n",
       "    .dataframe tbody tr th:only-of-type {\n",
       "        vertical-align: middle;\n",
       "    }\n",
       "\n",
       "    .dataframe tbody tr th {\n",
       "        vertical-align: top;\n",
       "    }\n",
       "\n",
       "    .dataframe thead th {\n",
       "        text-align: right;\n",
       "    }\n",
       "</style>\n",
       "<table border=\"1\" class=\"dataframe\">\n",
       "  <thead>\n",
       "    <tr style=\"text-align: right;\">\n",
       "      <th></th>\n",
       "      <th>Mean Accuracy</th>\n",
       "      <th>Mean AUC</th>\n",
       "    </tr>\n",
       "  </thead>\n",
       "  <tbody>\n",
       "    <tr>\n",
       "      <th>XGBoost</th>\n",
       "      <td>0.982857</td>\n",
       "      <td>0.899631</td>\n",
       "    </tr>\n",
       "    <tr>\n",
       "      <th>RandomForest</th>\n",
       "      <td>0.989048</td>\n",
       "      <td>0.941285</td>\n",
       "    </tr>\n",
       "    <tr>\n",
       "      <th>DecisionTree</th>\n",
       "      <td>0.975929</td>\n",
       "      <td>0.690275</td>\n",
       "    </tr>\n",
       "    <tr>\n",
       "      <th>MLP</th>\n",
       "      <td>0.982581</td>\n",
       "      <td>0.848994</td>\n",
       "    </tr>\n",
       "    <tr>\n",
       "      <th>TabTransformer</th>\n",
       "      <td>0.982488</td>\n",
       "      <td>0.786921</td>\n",
       "    </tr>\n",
       "  </tbody>\n",
       "</table>\n",
       "</div>"
      ],
      "text/plain": [
       "                Mean Accuracy  Mean AUC\n",
       "XGBoost              0.982857  0.899631\n",
       "RandomForest         0.989048  0.941285\n",
       "DecisionTree         0.975929  0.690275\n",
       "MLP                  0.982581  0.848994\n",
       "TabTransformer       0.982488  0.786921"
      ]
     },
     "execution_count": 15,
     "metadata": {},
     "output_type": "execute_result"
    }
   ],
   "source": [
    "# Generate mean accuracy and mean AUC table\n",
    "\n",
    "mean_auc_table = {}\n",
    "\n",
    "for file in Path().resolve().joinpath(\"./results/\").iterdir():\n",
    "    if str(file).endswith('_eval.csv'):\n",
    "        eval_perf_table = pd.read_csv(file)\n",
    "\n",
    "        classifier = eval_perf_table['classifier'][0]\n",
    "        mean_acc = sum(eval_perf_table['accuracy']) / len(eval_perf_table['accuracy'])\n",
    "        mean_auc = sum(eval_perf_table['auc']) / len(eval_perf_table['auc'])\n",
    "\n",
    "        mean_auc_table[classifier] = {'Mean Accuracy': mean_acc, 'Mean AUC' : mean_auc}\n",
    "\n",
    "mean_auc_table = pd.DataFrame.from_dict(mean_auc_table, orient='index')\n",
    "\n",
    "mean_auc_table"
   ]
  },
  {
   "cell_type": "code",
   "execution_count": 16,
   "metadata": {},
   "outputs": [
    {
     "data": {
      "text/html": [
       "<div>\n",
       "<style scoped>\n",
       "    .dataframe tbody tr th:only-of-type {\n",
       "        vertical-align: middle;\n",
       "    }\n",
       "\n",
       "    .dataframe tbody tr th {\n",
       "        vertical-align: top;\n",
       "    }\n",
       "\n",
       "    .dataframe thead th {\n",
       "        text-align: right;\n",
       "    }\n",
       "</style>\n",
       "<table border=\"1\" class=\"dataframe\">\n",
       "  <thead>\n",
       "    <tr style=\"text-align: right;\">\n",
       "      <th></th>\n",
       "      <th>Mean Accuracy</th>\n",
       "      <th>Mean AUC</th>\n",
       "    </tr>\n",
       "  </thead>\n",
       "  <tbody>\n",
       "    <tr>\n",
       "      <th>XGBoost</th>\n",
       "      <td>0.982765</td>\n",
       "      <td>0.879396</td>\n",
       "    </tr>\n",
       "    <tr>\n",
       "      <th>RandomForest</th>\n",
       "      <td>0.982427</td>\n",
       "      <td>0.804178</td>\n",
       "    </tr>\n",
       "    <tr>\n",
       "      <th>DecisionTree</th>\n",
       "      <td>0.963917</td>\n",
       "      <td>0.597668</td>\n",
       "    </tr>\n",
       "    <tr>\n",
       "      <th>MLP</th>\n",
       "      <td>0.832811</td>\n",
       "      <td>0.628482</td>\n",
       "    </tr>\n",
       "    <tr>\n",
       "      <th>TabTransformer</th>\n",
       "      <td>0.394421</td>\n",
       "      <td>0.743604</td>\n",
       "    </tr>\n",
       "  </tbody>\n",
       "</table>\n",
       "</div>"
      ],
      "text/plain": [
       "                Mean Accuracy  Mean AUC\n",
       "XGBoost              0.982765  0.879396\n",
       "RandomForest         0.982427  0.804178\n",
       "DecisionTree         0.963917  0.597668\n",
       "MLP                  0.832811  0.628482\n",
       "TabTransformer       0.394421  0.743604"
      ]
     },
     "execution_count": 16,
     "metadata": {},
     "output_type": "execute_result"
    }
   ],
   "source": [
    "# Generate mean accuracy and mean AUC table (resampled)\n",
    "\n",
    "mean_auc_table = {}\n",
    "\n",
    "for file in Path().resolve().joinpath(\"./results/\").iterdir():\n",
    "    if str(file).endswith('_eval_resampled.csv'):\n",
    "        eval_perf_table = pd.read_csv(file)\n",
    "\n",
    "        classifier = eval_perf_table['classifier'][0]\n",
    "        mean_acc = sum(eval_perf_table['accuracy']) / len(eval_perf_table['accuracy'])\n",
    "        mean_auc = sum(eval_perf_table['auc']) / len(eval_perf_table['auc'])\n",
    "\n",
    "        mean_auc_table[classifier] = {'Mean Accuracy': mean_acc, 'Mean AUC' : mean_auc}\n",
    "\n",
    "mean_auc_table = pd.DataFrame.from_dict(mean_auc_table, orient='index')\n",
    "\n",
    "mean_auc_table"
   ]
  }
 ],
 "metadata": {
  "kernelspec": {
   "display_name": "Python 3.10.6 64-bit",
   "language": "python",
   "name": "python3"
  },
  "language_info": {
   "codemirror_mode": {
    "name": "ipython",
    "version": 3
   },
   "file_extension": ".py",
   "mimetype": "text/x-python",
   "name": "python",
   "nbconvert_exporter": "python",
   "pygments_lexer": "ipython3",
   "version": "3.10.6"
  },
  "orig_nbformat": 4,
  "vscode": {
   "interpreter": {
    "hash": "e7370f93d1d0cde622a1f8e1c04877d8463912d04d973331ad4851f04de6915a"
   }
  }
 },
 "nbformat": 4,
 "nbformat_minor": 2
}
