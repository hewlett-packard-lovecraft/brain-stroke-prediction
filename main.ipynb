{
 "cells": [
  {
   "cell_type": "code",
   "execution_count": 2,
   "metadata": {},
   "outputs": [],
   "source": [
    "import pandas as pd\n",
    "import sklearn\n",
    "from pathlib import Path\n"
   ]
  },
  {
   "cell_type": "code",
   "execution_count": 16,
   "metadata": {},
   "outputs": [
    {
     "data": {
      "text/html": [
       "<div>\n",
       "<style scoped>\n",
       "    .dataframe tbody tr th:only-of-type {\n",
       "        vertical-align: middle;\n",
       "    }\n",
       "\n",
       "    .dataframe tbody tr th {\n",
       "        vertical-align: top;\n",
       "    }\n",
       "\n",
       "    .dataframe thead th {\n",
       "        text-align: right;\n",
       "    }\n",
       "</style>\n",
       "<table border=\"1\" class=\"dataframe\">\n",
       "  <thead>\n",
       "    <tr style=\"text-align: right;\">\n",
       "      <th></th>\n",
       "      <th>Mean Accuracy</th>\n",
       "      <th>Mean AUC</th>\n",
       "    </tr>\n",
       "  </thead>\n",
       "  <tbody>\n",
       "    <tr>\n",
       "      <th>XGBoost</th>\n",
       "      <td>0.981905</td>\n",
       "      <td>0.841840</td>\n",
       "    </tr>\n",
       "    <tr>\n",
       "      <th>RandomForest</th>\n",
       "      <td>0.982104</td>\n",
       "      <td>0.759551</td>\n",
       "    </tr>\n",
       "    <tr>\n",
       "      <th>DecisionTree</th>\n",
       "      <td>0.962350</td>\n",
       "      <td>0.526168</td>\n",
       "    </tr>\n",
       "  </tbody>\n",
       "</table>\n",
       "</div>"
      ],
      "text/plain": [
       "              Mean Accuracy  Mean AUC\n",
       "XGBoost            0.981905  0.841840\n",
       "RandomForest       0.982104  0.759551\n",
       "DecisionTree       0.962350  0.526168"
      ]
     },
     "execution_count": 16,
     "metadata": {},
     "output_type": "execute_result"
    }
   ],
   "source": [
    "# Generate mean accuracy and mean AUC table\n",
    "\n",
    "mean_auc_table = {}\n",
    "\n",
    "for file in Path().resolve().joinpath(\"./results/\").iterdir():\n",
    "    if str(file).endswith('_eval.csv'):\n",
    "        eval_perf_table = pd.read_csv(file)\n",
    "\n",
    "        classifier = eval_perf_table['classifier'][0]\n",
    "        mean_acc = sum(eval_perf_table['accuracy']) / len(eval_perf_table['accuracy'])\n",
    "        mean_auc = sum(eval_perf_table['auc']) / len(eval_perf_table['auc'])\n",
    "\n",
    "        mean_auc_table[classifier] = {'Mean Accuracy': mean_acc, 'Mean AUC' : mean_auc}\n",
    "\n",
    "mean_auc_table = pd.DataFrame.from_dict(mean_auc_table, orient='index')\n",
    "\n",
    "mean_auc_table"
   ]
  },
  {
   "cell_type": "code",
   "execution_count": 18,
   "metadata": {},
   "outputs": [
    {
     "data": {
      "text/html": [
       "<div>\n",
       "<style scoped>\n",
       "    .dataframe tbody tr th:only-of-type {\n",
       "        vertical-align: middle;\n",
       "    }\n",
       "\n",
       "    .dataframe tbody tr th {\n",
       "        vertical-align: top;\n",
       "    }\n",
       "\n",
       "    .dataframe thead th {\n",
       "        text-align: right;\n",
       "    }\n",
       "</style>\n",
       "<table border=\"1\" class=\"dataframe\">\n",
       "  <thead>\n",
       "    <tr style=\"text-align: right;\">\n",
       "      <th></th>\n",
       "      <th>Mean Accuracy</th>\n",
       "      <th>Mean AUC</th>\n",
       "    </tr>\n",
       "  </thead>\n",
       "  <tbody>\n",
       "    <tr>\n",
       "      <th>XGBoost</th>\n",
       "      <td>0.731045</td>\n",
       "      <td>0.599793</td>\n",
       "    </tr>\n",
       "    <tr>\n",
       "      <th>RandomForest</th>\n",
       "      <td>0.910538</td>\n",
       "      <td>0.687911</td>\n",
       "    </tr>\n",
       "    <tr>\n",
       "      <th>DecisionTree</th>\n",
       "      <td>0.806959</td>\n",
       "      <td>0.531908</td>\n",
       "    </tr>\n",
       "  </tbody>\n",
       "</table>\n",
       "</div>"
      ],
      "text/plain": [
       "              Mean Accuracy  Mean AUC\n",
       "XGBoost            0.731045  0.599793\n",
       "RandomForest       0.910538  0.687911\n",
       "DecisionTree       0.806959  0.531908"
      ]
     },
     "execution_count": 18,
     "metadata": {},
     "output_type": "execute_result"
    }
   ],
   "source": [
    "# Generate mean accuracy and mean AUC table (resampled)\n",
    "\n",
    "mean_auc_table = {}\n",
    "\n",
    "for file in Path().resolve().joinpath(\"./results/\").iterdir():\n",
    "    if str(file).endswith('_eval_resampled.csv'):\n",
    "        eval_perf_table = pd.read_csv(file)\n",
    "\n",
    "        classifier = eval_perf_table['classifier'][0]\n",
    "        mean_acc = sum(eval_perf_table['accuracy']) / len(eval_perf_table['accuracy'])\n",
    "        mean_auc = sum(eval_perf_table['auc']) / len(eval_perf_table['auc'])\n",
    "\n",
    "        mean_auc_table[classifier] = {'Mean Accuracy': mean_acc, 'Mean AUC' : mean_auc}\n",
    "\n",
    "mean_auc_table = pd.DataFrame.from_dict(mean_auc_table, orient='index')\n",
    "\n",
    "mean_auc_table"
   ]
  }
 ],
 "metadata": {
  "kernelspec": {
   "display_name": "Python 3.10.6 ('base')",
   "language": "python",
   "name": "python3"
  },
  "language_info": {
   "codemirror_mode": {
    "name": "ipython",
    "version": 3
   },
   "file_extension": ".py",
   "mimetype": "text/x-python",
   "name": "python",
   "nbconvert_exporter": "python",
   "pygments_lexer": "ipython3",
   "version": "3.10.6"
  },
  "orig_nbformat": 4,
  "vscode": {
   "interpreter": {
    "hash": "767d51c1340bd893661ea55ea3124f6de3c7a262a8b4abca0554b478b1e2ff90"
   }
  }
 },
 "nbformat": 4,
 "nbformat_minor": 2
}
