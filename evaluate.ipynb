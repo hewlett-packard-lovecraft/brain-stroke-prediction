{
 "cells": [
  {
   "cell_type": "markdown",
   "metadata": {},
   "source": [
    "# evaluation\n",
    "\n",
    "Evaluate both baseline and TabTransformer models with test set"
   ]
  },
  {
   "cell_type": "code",
   "execution_count": 28,
   "metadata": {},
   "outputs": [],
   "source": [
    "import keras_preprocessing, keras\n",
    "import tensorflow as tf\n",
    "\n",
    "from pathlib import Path\n",
    "import pandas as pd"
   ]
  },
  {
   "cell_type": "code",
   "execution_count": 25,
   "metadata": {},
   "outputs": [],
   "source": [
    "def split_label(data: pd.DataFrame):\n",
    "    x = data.copy().drop('stroke', axis=1)\n",
    "    y = data[\"stroke\"]  # labels\n",
    "\n",
    "    return x, y\n"
   ]
  },
  {
   "cell_type": "code",
   "execution_count": 33,
   "metadata": {},
   "outputs": [],
   "source": [
    "CSV_HEADER = [\n",
    "    \"gender\",\n",
    "    \"age\",\n",
    "    \"hypertension\",\n",
    "    \"heart_disease\",\n",
    "    \"ever_married\",\n",
    "    \"work_type\",\n",
    "    \"Residence_type\",\n",
    "    \"avg_glucose_level\",\n",
    "    \"bmi\",\n",
    "    \"smoking_status\",\n",
    "    \"stroke\",\n",
    "]\n",
    "\n",
    "FEATURES = CSV_HEADER[:-1]\n",
    "TARGET = CSV_HEADER[-1]\n",
    "\n",
    "test_data_path = Path().resolve().joinpath(\"dataset/test_data.csv\")\n",
    "test_data_file = str(test_data_path.absolute())\n",
    "test_data = pd.read_csv(test_data_file, names=CSV_HEADER)\n",
    "\n",
    "x_test, y_test = split_label(test_data)"
   ]
  },
  {
   "cell_type": "code",
   "execution_count": 40,
   "metadata": {},
   "outputs": [],
   "source": [
    "LEARNING_RATE = 0.001\n",
    "WEIGHT_DECAY = 0.0001\n",
    "DROPOUT_RATE = 0.1\n",
    "BATCH_SIZE = 32\n",
    "NUM_EPOCHS = 100\n",
    "\n",
    "MLP_MODEL_PATH=str(Path().resolve().joinpath('model/mlp_model'))\n",
    "TABTRANSFORMER_MODEL_PATH=str(Path().resolve().joinpath('model/tabtransformer_model'))\n",
    "\n",
    "metrics = [\"auc\"]"
   ]
  },
  {
   "cell_type": "code",
   "execution_count": 18,
   "metadata": {},
   "outputs": [],
   "source": [
    "baseline_model = keras.models.load_model(MLP_MODEL_PATH).compile(metrics=metrics)\n",
    "tt_model = keras.models.load_model(TABTRANSFORMER_MODEL_PATH).compile(metrics=metrics)"
   ]
  },
  {
   "cell_type": "code",
   "execution_count": 39,
   "metadata": {},
   "outputs": [
    {
     "ename": "ValueError",
     "evalue": "Failed to convert a NumPy array to a Tensor (Unsupported object type float).",
     "output_type": "error",
     "traceback": [
      "\u001b[0;31m---------------------------------------------------------------------------\u001b[0m",
      "\u001b[0;31mValueError\u001b[0m                                Traceback (most recent call last)",
      "\u001b[1;32m/home/haoming/Projects/python/brain-stroke-prediction/evaluate.ipynb Cell 7\u001b[0m in \u001b[0;36m<cell line: 3>\u001b[0;34m()\u001b[0m\n\u001b[1;32m      <a href='vscode-notebook-cell:/home/haoming/Projects/python/brain-stroke-prediction/evaluate.ipynb#W6sZmlsZQ%3D%3D?line=0'>1</a>\u001b[0m \u001b[39m# baseline model metrics\u001b[39;00m\n\u001b[0;32m----> <a href='vscode-notebook-cell:/home/haoming/Projects/python/brain-stroke-prediction/evaluate.ipynb#W6sZmlsZQ%3D%3D?line=2'>3</a>\u001b[0m baseline_model\u001b[39m.\u001b[39mevaluate(\n\u001b[1;32m      <a href='vscode-notebook-cell:/home/haoming/Projects/python/brain-stroke-prediction/evaluate.ipynb#W6sZmlsZQ%3D%3D?line=3'>4</a>\u001b[0m     x\u001b[39m=\u001b[39mx_test,\n\u001b[1;32m      <a href='vscode-notebook-cell:/home/haoming/Projects/python/brain-stroke-prediction/evaluate.ipynb#W6sZmlsZQ%3D%3D?line=4'>5</a>\u001b[0m     y\u001b[39m=\u001b[39mpd\u001b[39m.\u001b[39mDataFrame(y_test),\n\u001b[1;32m      <a href='vscode-notebook-cell:/home/haoming/Projects/python/brain-stroke-prediction/evaluate.ipynb#W6sZmlsZQ%3D%3D?line=5'>6</a>\u001b[0m     batch_size\u001b[39m=\u001b[39mBATCH_SIZE,\n\u001b[1;32m      <a href='vscode-notebook-cell:/home/haoming/Projects/python/brain-stroke-prediction/evaluate.ipynb#W6sZmlsZQ%3D%3D?line=6'>7</a>\u001b[0m     verbose\u001b[39m=\u001b[39m\u001b[39m\"\u001b[39m\u001b[39mauto\u001b[39m\u001b[39m\"\u001b[39m,\n\u001b[1;32m      <a href='vscode-notebook-cell:/home/haoming/Projects/python/brain-stroke-prediction/evaluate.ipynb#W6sZmlsZQ%3D%3D?line=7'>8</a>\u001b[0m     steps\u001b[39m=\u001b[39m\u001b[39mNone\u001b[39;00m,\n\u001b[1;32m      <a href='vscode-notebook-cell:/home/haoming/Projects/python/brain-stroke-prediction/evaluate.ipynb#W6sZmlsZQ%3D%3D?line=8'>9</a>\u001b[0m     callbacks\u001b[39m=\u001b[39m\u001b[39mNone\u001b[39;00m,\n\u001b[1;32m     <a href='vscode-notebook-cell:/home/haoming/Projects/python/brain-stroke-prediction/evaluate.ipynb#W6sZmlsZQ%3D%3D?line=9'>10</a>\u001b[0m     max_queue_size\u001b[39m=\u001b[39m\u001b[39m10\u001b[39m,\n\u001b[1;32m     <a href='vscode-notebook-cell:/home/haoming/Projects/python/brain-stroke-prediction/evaluate.ipynb#W6sZmlsZQ%3D%3D?line=10'>11</a>\u001b[0m     workers\u001b[39m=\u001b[39m\u001b[39m1\u001b[39m,\n\u001b[1;32m     <a href='vscode-notebook-cell:/home/haoming/Projects/python/brain-stroke-prediction/evaluate.ipynb#W6sZmlsZQ%3D%3D?line=11'>12</a>\u001b[0m     use_multiprocessing\u001b[39m=\u001b[39m\u001b[39mFalse\u001b[39;00m,\n\u001b[1;32m     <a href='vscode-notebook-cell:/home/haoming/Projects/python/brain-stroke-prediction/evaluate.ipynb#W6sZmlsZQ%3D%3D?line=12'>13</a>\u001b[0m     return_dict\u001b[39m=\u001b[39m\u001b[39mFalse\u001b[39;00m,\n\u001b[1;32m     <a href='vscode-notebook-cell:/home/haoming/Projects/python/brain-stroke-prediction/evaluate.ipynb#W6sZmlsZQ%3D%3D?line=13'>14</a>\u001b[0m )\n",
      "File \u001b[0;32m~/.local/lib/python3.10/site-packages/keras/utils/traceback_utils.py:67\u001b[0m, in \u001b[0;36mfilter_traceback.<locals>.error_handler\u001b[0;34m(*args, **kwargs)\u001b[0m\n\u001b[1;32m     65\u001b[0m \u001b[39mexcept\u001b[39;00m \u001b[39mException\u001b[39;00m \u001b[39mas\u001b[39;00m e:  \u001b[39m# pylint: disable=broad-except\u001b[39;00m\n\u001b[1;32m     66\u001b[0m   filtered_tb \u001b[39m=\u001b[39m _process_traceback_frames(e\u001b[39m.\u001b[39m__traceback__)\n\u001b[0;32m---> 67\u001b[0m   \u001b[39mraise\u001b[39;00m e\u001b[39m.\u001b[39mwith_traceback(filtered_tb) \u001b[39mfrom\u001b[39;00m \u001b[39mNone\u001b[39m\n\u001b[1;32m     68\u001b[0m \u001b[39mfinally\u001b[39;00m:\n\u001b[1;32m     69\u001b[0m   \u001b[39mdel\u001b[39;00m filtered_tb\n",
      "File \u001b[0;32m~/.local/lib/python3.10/site-packages/tensorflow/python/framework/constant_op.py:102\u001b[0m, in \u001b[0;36mconvert_to_eager_tensor\u001b[0;34m(value, ctx, dtype)\u001b[0m\n\u001b[1;32m    100\u001b[0m     dtype \u001b[39m=\u001b[39m dtypes\u001b[39m.\u001b[39mas_dtype(dtype)\u001b[39m.\u001b[39mas_datatype_enum\n\u001b[1;32m    101\u001b[0m ctx\u001b[39m.\u001b[39mensure_initialized()\n\u001b[0;32m--> 102\u001b[0m \u001b[39mreturn\u001b[39;00m ops\u001b[39m.\u001b[39;49mEagerTensor(value, ctx\u001b[39m.\u001b[39;49mdevice_name, dtype)\n",
      "\u001b[0;31mValueError\u001b[0m: Failed to convert a NumPy array to a Tensor (Unsupported object type float)."
     ]
    }
   ],
   "source": [
    "# baseline model metrics\n",
    "\n",
    "baseline_model.evaluate(\n",
    "    x=x_test,\n",
    "    y=pd.DataFrame(y_test),\n",
    "    batch_size=BATCH_SIZE,\n",
    "    verbose=\"auto\",\n",
    "    steps=None,\n",
    "    callbacks=None,\n",
    "    max_queue_size=10,\n",
    "    workers=1,\n",
    "    use_multiprocessing=False,\n",
    "    return_dict=False,\n",
    ")\n"
   ]
  }
 ],
 "metadata": {
  "kernelspec": {
   "display_name": "Python 3.10.6 ('base')",
   "language": "python",
   "name": "python3"
  },
  "language_info": {
   "codemirror_mode": {
    "name": "ipython",
    "version": 3
   },
   "file_extension": ".py",
   "mimetype": "text/x-python",
   "name": "python",
   "nbconvert_exporter": "python",
   "pygments_lexer": "ipython3",
   "version": "3.10.6"
  },
  "orig_nbformat": 4,
  "vscode": {
   "interpreter": {
    "hash": "767d51c1340bd893661ea55ea3124f6de3c7a262a8b4abca0554b478b1e2ff90"
   }
  }
 },
 "nbformat": 4,
 "nbformat_minor": 2
}
